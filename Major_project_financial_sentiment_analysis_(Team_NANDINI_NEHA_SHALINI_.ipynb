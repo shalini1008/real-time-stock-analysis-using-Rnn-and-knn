{
  "nbformat": 4,
  "nbformat_minor": 0,
  "metadata": {
    "colab": {
      "provenance": [],
      "toc_visible": true,
      "include_colab_link": true
    },
    "kernelspec": {
      "name": "python3",
      "display_name": "Python 3"
    },
    "language_info": {
      "name": "python"
    }
  },
  "cells": [
    {
      "cell_type": "markdown",
      "metadata": {
        "id": "view-in-github",
        "colab_type": "text"
      },
      "source": [
        "<a href=\"https://colab.research.google.com/github/shalini1008/real-time-stock-analysis-using-Rnn-and-knn/blob/main/Major_project_financial_sentiment_analysis_(Team_NANDINI_NEHA_SHALINI_.ipynb\" target=\"_parent\"><img src=\"https://colab.research.google.com/assets/colab-badge.svg\" alt=\"Open In Colab\"/></a>"
      ]
    },
    {
      "cell_type": "markdown",
      "source": [
        "# **FINACIAL SENTIMENT ANALYSIS**\n"
      ],
      "metadata": {
        "id": "wg4YSFfOmX5w"
      }
    },
    {
      "cell_type": "markdown",
      "source": [
        "# DATA FETCHING FROM FINVIZ"
      ],
      "metadata": {
        "id": "Ec8BBLacmsn5"
      }
    },
    {
      "cell_type": "code",
      "execution_count": 4,
      "metadata": {
        "id": "4gKPCTGBEKHU"
      },
      "outputs": [],
      "source": [
        "from urllib.request import urlopen, Request\n",
        "from bs4 import BeautifulSoup\n",
        "\n",
        "finviz_url = 'https://finviz.com/quote.ashx?t='\n",
        "tickers = ['AMZN', 'GOOG', 'NFLX','AAPL']  # ticker is a unique series of letters assigned to a security for trading purposes\n",
        "\n",
        "news_tables = {}\n",
        "for ticker in tickers:\n",
        "    url = finviz_url + ticker\n",
        "\n",
        "    req = Request(url=url, headers={'user-agent': 'my-app'})\n",
        "\n",
        "    try:\n",
        "        response = urlopen(req)\n",
        "        html = BeautifulSoup(response, 'html')\n",
        "        news_table = html.find(id='news-table')\n",
        "        news_tables[ticker] = news_table\n",
        "    except Exception as e:\n",
        "        print(f\"Error fetching data for {ticker}: {e}\")\n",
        "\n",
        "\n"
      ]
    },
    {
      "cell_type": "markdown",
      "source": [
        "# DATA CLEANING"
      ],
      "metadata": {
        "id": "0sDN036LnGIN"
      }
    },
    {
      "cell_type": "code",
      "source": [
        "parsed_data = []\n",
        "\n",
        "for ticker, news_table in news_tables.items():\n",
        "    for row in news_table.findAll('tr'):\n",
        "        if row.a is not None:\n",
        "            title = row.a.get_text()\n",
        "            date_data = row.td.text.split(' ')\n",
        "            date_data = list(filter(lambda x: x.strip() != '', date_data))  # Remove empty strings\n",
        "            if len(date_data) == 1:\n",
        "                time = date_data[0].strip()\n",
        "            else:\n",
        "                date = date_data[0].strip()\n",
        "                time = date_data[1].strip()\n",
        "\n",
        "            parsed_data.append([ticker, date, time, title])\n",
        "        else:\n",
        "            title = \"Default value\"\n",
        "            parsed_data.append([ticker, \"\", \"\", title])\n",
        "\n",
        "print(parsed_data)\n"
      ],
      "metadata": {
        "colab": {
          "base_uri": "https://localhost:8080/"
        },
        "id": "2LfVOw3snEc3",
        "outputId": "f2f4b944-5bc4-44cc-8f53-7eed0f440ce4"
      },
      "execution_count": 5,
      "outputs": [
        {
          "output_type": "stream",
          "name": "stdout",
          "text": [
            "[['AMZN', 'Today', '04:10PM', \"Amazon's guidance gives a glimpse of what's to come\"], ['AMZN', 'Today', '04:08PM', \"Amazon's AWS hits the golden number\"], ['AMZN', 'Today', '04:03PM', \"Amazon's stock is zooming higher after a big revenue beat\"], ['AMZN', 'Today', '04:01PM', 'Stock market today: Nasdaq leads S&P 500, Dow lower as Meta sinks after earnings with Apple, Amazon on deck'], ['AMZN', 'Today', '04:01PM', 'Amazon.com Announces Third Quarter Results'], ['AMZN', 'Today', '03:55PM', \"Amazon's 'Project Rainier' is live. Could it be the catalyst AWS needs?\"], ['AMZN', 'Today', '03:46PM', 'Stock Market Today: Nasdaq Slammed As Meta Dives; Apple, Amazon To Report Next (Live Coverage)'], ['AMZN', 'Today', '03:30PM', \"The secret star of Amazon's earnings today could be its advertising business\"], ['AMZN', 'Today', '03:17PM', 'Stock market today: Dow, S&P 500, Nasdaq slide as Meta sinks after earnings with Apple, Amazon ahead'], ['AMZN', 'Today', '03:00PM', 'Prediction: 2 AI Stocks Will Be Worth More Than Apple Stock by Year-End in 2026'], ['AMZN', 'Today', '02:54PM', \"Amazon to round of big tech earnings. Here's what to know\"], ['AMZN', 'Today', '02:49PM', 'Apple, Amazon Earnings Follow Metas Tough Day: What to Watch'], ['AMZN', 'Today', '02:46PM', '2,000 drivers left UPS after taking buyouts, analyst says'], ['AMZN', 'Today', '02:45PM', \"Why this analyst doesn't own Amazon\"], ['AMZN', 'Today', '02:30PM', \"Is Amazon's stock a 'Magnificent 7' laggard or 'coiled spring'?\"], ['AMZN', 'Today', '01:53PM', '2 AI Value Stocks Thatll Have You Thinking Theres No Bubble'], ['AMZN', 'Today', '01:43PM', \"The Dow Is Losing Steam. Why It's Still Leading the S&P 500 and Nasdaq.\"], ['AMZN', 'Today', '01:41PM', 'Freight and manufacturing layoffs sweep across supply chain'], ['AMZN', 'Today', '01:30PM', \"Amazon's custom Trainium chips face a critical moment\"], ['AMZN', 'Today', '01:28PM', 'The Government Shutdown Has Killed IPOs. Navan Stock Tumbles on its Debut.'], ['AMZN', 'Today', '01:03PM', 'Stock market today: Dow rises, Nasdaq slides as Meta sinks after earnings with Apple, Amazon ahead'], ['AMZN', 'Today', '12:55PM', \"Amazon Is Set To Report Earnings Today. Here's What Investors Should Know\"], ['AMZN', 'Today', '12:52PM', \"What to expect from Amazon's earnings report as AWS faces pressure from rivals\"], ['AMZN', 'Today', '12:35PM', 'Amazon Earnings on Deck -- Traders Bet Billions on Biggest Post-Earnings Jump'], ['AMZN', 'Today', '12:30PM', 'Amazon is getting leaner in the wake of significant job cuts'], ['AMZN', 'Today', '12:30PM', 'Payroll Processors Continue to Slide. What the Charts of Paylocity Holding, Paycom Software Say.'], ['AMZN', 'Today', '12:16PM', 'Amazons Coming AI Cash Burn: Bullish Signal or Time to Sell?'], ['AMZN', 'Today', '12:00PM', 'Amazon Earnings Due Soon. Can AWS Match Microsoft, Google Cloud Beats?'], ['AMZN', 'Today', '11:51AM', \"Need better understanding of Apple's AI strategy, says Maxim Group's Forte\"], ['AMZN', 'Today', '11:42AM', \"Amazon earnings: Why this strategist is 'a little nervous'\"], ['AMZN', 'Today', '11:35AM', \"Roku Expected to Deliver 'Solid' Third Quarter, Buoyed By Advertising Growth\"], ['AMZN', 'Today', '11:30AM', \"Amazon's stock sentiment has been 'washed out' but there's still hope, says this analyst\"], ['AMZN', 'Today', '11:12AM', \"Analyst Says Amazon(AMZN) Among the Best Undervalued AI Stocks to Buy - Here's Why\"], ['AMZN', 'Today', '11:10AM', 'Earnings Data Deluge'], ['AMZN', 'Today', '11:00AM', 'Google, Microsoft, Meta earnings: Where does AI demand stand?'], ['AMZN', 'Today', '10:58AM', 'Amazon needs to deliver on 2 things in its Q3 earnings call'], ['AMZN', 'Today', '10:38AM', 'Microsoft, Alphabet, Meta: Magnificent Seven Earnings Roundup'], ['AMZN', 'Today', '10:38AM', 'Pre-markets Down on Questions: Fed, Jobs & Q3 Earnings'], ['AMZN', 'Today', '10:30AM', 'BofA double-upgrades Teradyne on multiple growth drivers from AI chips to robotics'], ['AMZN', 'Today', '10:30AM', 'Watch out for this big number when Amazon reports results'], ['AMZN', 'Today', '10:07AM', 'The Smartest Growth Stock to Buy With $1,000 Right Now'], ['AMZN', 'Today', '10:04AM', 'Magnificent Seven Stocks Fall After Latest Round of Earnings'], ['AMZN', 'Today', '09:55AM', 'Meta Platforms (NASDAQ: META) Stock Price Prediction for 2025: Where Will It Be in 1 Year (Oct 30)'], ['AMZN', 'Today', '09:53AM', 'Stock Market Today: Dow Falls After Trump-Xi Talks; Meta Plunges On Cost Worries (Live Coverage)'], ['AMZN', 'Today', '09:51AM', 'Meta, Microsoft, Alphabet go all in on AI spending: What to know'], ['AMZN', 'Today', '09:48AM', 'Here are Thursdays Top Wall Street Analyst Research Calls: Coinbase Global, Meta Platforms, Boeing, Cisco Systems, and More'], ['AMZN', 'Today', '09:35AM', 'Stock market today: Dow, S&P 500, Nasdaq slide after Trump-Xi truce with Big Tech earnings ahead'], ['AMZN', 'Today', '09:30AM', \"Amazon's outlook to offer a window into holiday demand\"], ['AMZN', 'Today', '09:26AM', \"What time is Amazon's earnings call? Here's how to tune in.\"], ['AMZN', 'Today', '09:21AM', \"Broadcom: The Hidden Winner in Google's Anthropic Chip Deal?\"], ['AMZN', 'Today', '09:19AM', 'Heres How Much the Magnificent Seven Matter to the Market'], ['AMZN', 'Today', '09:15AM', '5 Top Artificial Intelligence Stocks to Buy Right Now'], ['AMZN', 'Today', '09:08AM', 'US-China trade truce, Alphabet earnings, Fed rate cut: 3 Things'], ['AMZN', 'Today', '09:03AM', 'Satellite maker EnduroSat gets $104 million funding from Google Ventures, others'], ['AMZN', 'Today', '08:34AM', '5 Things to Know Before the Stock Market Opens'], ['AMZN', 'Today', '08:30AM', \"All eyes are on AWS as doubts swirl over Amazon's cloud competitiveness\"], ['AMZN', 'Today', '08:24AM', 'Alphabet vs. Meta, Boeing-Airbus, Chipotle: Trending Stocks'], ['AMZN', 'Today', '08:19AM', 'Earnings live: Meta stock tumbles, Microsoft slides, and Alphabet jumps as Big Tech earnings pour in'], ['AMZN', 'Today', '08:07AM', \"Snowflake Stock Is on Fire-It's Still Not Too Late to Buy\"], ['AMZN', 'Today', '08:01AM', 'Investors still face a wall of worry despite positive U.S. trade meetings'], ['AMZN', 'Today', '07:40AM', \"Everyone's asking the wrong question about an AI bubble. Here are the stocks to buy - and when.\"], ['AMZN', 'Today', '07:30AM', 'Amazon earnings: 2 reasons AWS could grow 20% in 2026'], ['AMZN', 'Today', '07:26AM', \"A look at Amazon's lagging stock performance this year\"], ['AMZN', 'Today', '07:05AM', 'Amazon earnings arrive in just a few hours - and at a pivotal moment for the stock'], ['AMZN', 'Today', '07:05AM', \"These are Wall Street's expectations for Amazon's headline metrics\"], ['AMZN', 'Today', '07:04AM', 'Option traders primed for sizable move in Amazon shares, Apple not so much'], ['AMZN', 'Today', '06:45AM', 'This Magnificent Stock Has Made Many Millionaires, and Could Make More'], ['AMZN', 'Today', '05:47AM', 'Amazon, Apple Earnings, ECB Rate Decision: Still to Come This Week'], ['AMZN', 'Today', '05:08AM', 'Apple and Amazon headline earnings slate'], ['AMZN', 'Today', '04:57AM', 'Zacks Investment Ideas feature highlights: Amazon.com, Alphabet and Tesla'], ['AMZN', 'Today', '04:38AM', 'Lakeland Industries and Grid Dynamics have been highlighted as Zacks Bull and Bear of the Day'], ['AMZN', 'Today', '04:29AM', 'Stock Market Today: Dow, S&P 500 and Nasdaq hover near record highs after U.S.-China trade deal, while Meta stock dives but Alphabet pops on earnings; Apple and Amazon results on tap; Treasury yields up on December rate-cut pushback.'], ['AMZN', 'Today', '03:52AM', 'Prediction: 2 AI Stocks Will Be Worth More Than Nvidia and Palantir Technologies Combined by 2030 (Hint: Not Apple)'], ['AMZN', 'Today', '02:45AM', 'Amazon Reports Today. The AWS Outlook Is the Big Question.'], ['AMZN', 'Oct-29-25', '11:31PM', 'Meet The New Chip Maker Aiming To Outrun TSMC And ASML'], ['AMZN', 'Oct-29-25', '09:06PM', 'Meta, Microsoft Test Investors Patience With AI Spending Spree'], ['AMZN', 'Oct-29-25', '07:00PM', 'Apple & Amazon earnings, Fed, mortgage rates: What to Watch'], ['AMZN', 'Oct-29-25', '06:56PM', 'Microsoft reports strong earnings even as Azure outage brings down Xbox and investor pages'], ['AMZN', 'Oct-29-25', '06:49PM', 'Stock market today: Dow, S&P 500, Nasdaq futures hit pause after Trump-Xi talks with Big Tech earnings ahead'], ['AMZN', 'Oct-29-25', '06:49PM', 'Stock market today: Dow, S&P 500, Nasdaq futures hit pause after Trump-Xi meeting, Big Tech earnings'], ['AMZN', 'Oct-29-25', '06:49PM', 'Stock market today: Dow, S&P 500, Nasdaq futures fall following Trump-Xi meeting, mixed Big Tech earning'], ['AMZN', 'Oct-29-25', '06:49PM', 'Stock market today: Dow, S&P 500, Nasdaq futures fall after mixed Big Tech earnings, Trump-Xi meeting'], ['AMZN', 'Oct-29-25', '06:49PM', 'Stock market today: Dow, S&P 500, Nasdaq futures drop after mixed Big Tech earnings with Trump-Xi meet ahead'], ['AMZN', 'Oct-29-25', '06:49PM', 'Stock market today: Dow, S&P 500, Nasdaq futures climb following Trump-Xi meeting, mixed Big Tech earning'], ['AMZN', 'Oct-29-25', '06:49PM', 'Stock market today: Dow, S&P 500, Nasdaq futures climb after mixed Big Tech earnings with Trump-Xi meet underway'], ['AMZN', 'Oct-29-25', '04:33PM', 'Earnings live: Meta stock tumbles, Microsoft slides, and Alphabet rises as Big Tech earnings pour in'], ['AMZN', 'Oct-29-25', '04:12PM', \"Meta's profit hit by about $16 billion one-time tax charge, shares fall\"], ['AMZN', 'Oct-29-25', '04:10PM', \"Meta stock sinks after tax hit weighs on earnings, company touts 'notably larger' AI investments in year ahead\"], ['AMZN', 'Oct-29-25', '04:10PM', 'Meta Q3 earnings miss on EPS, stock plummets more than 6%'], ['AMZN', 'Oct-29-25', '04:04PM', \"Microsoft's cloud surge lifts revenue above expectations\"], ['AMZN', 'Oct-29-25', '04:02PM', 'Stock market today: Nasdaq clinches record, Dow, S&P 500 dip as Fed cuts rates, Powell downplays December cut'], ['AMZN', 'Oct-29-25', '03:55PM', \"Fiserv's exec shakeup, Anthropic to use Amazon data center chips\"], ['AMZN', 'Oct-29-25', '03:53PM', \"Nvidia's Huang joins tech titans funding Trump's ballroom\"], ['AMZN', 'Oct-29-25', '03:49PM', 'Amazon Earnings Preview: On the Verge of a Breakout?'], ['AMZN', 'Oct-29-25', '03:44PM', 'Pre-Earnings Check-In with Amazon.com Stock'], ['AMZN', 'Oct-29-25', '03:24PM', \"Microsoft's Azure reports cloud outage a week after Amazon's AWS disruption\"], ['AMZN', 'Oct-29-25', '03:20PM', \"Stock market today: Dow, S&P 500, Nasdaq waver as Fed cuts rates, Powell says December cut is 'far from' certain\"], ['AMZN', 'Oct-29-25', '03:20PM', \"Stock market today: Dow, S&P 500, Nasdaq mixed as Fed cuts rates, Powell says December cut is 'far from' certain\"], ['AMZN', 'Oct-29-25', '03:18PM', 'Amazon Opens $11 Billion Rainier Data Center to Advance Anthropic Partnership'], ['AMZN', 'Oct-29-25', '03:05PM', 'Fed Cuts Key Rate; Powell Says December Move No Sure Thing; S&P 500 Falls (Live Coverage)'], ['GOOG', 'Today', '04:06PM', 'Alphabet Inc (GOOG) Q3 2025 Earnings Call Highlights: Record Revenue and AI-Driven Growth'], ['GOOG', 'Today', '04:01PM', 'Stock market today: Nasdaq leads S&P 500, Dow lower as Meta sinks after earnings with Apple, Amazon on deck'], ['GOOG', 'Today', '03:17PM', 'Stock market today: Dow, S&P 500, Nasdaq slide as Meta sinks after earnings with Apple, Amazon ahead'], ['GOOG', 'Today', '03:08PM', 'Surging AI Data Center Capex Seen Lifting These Stocks'], ['GOOG', 'Today', '03:07PM', \"The Dow Lost Steam. It's Hovering Near Breakeven.\"], ['GOOG', 'Today', '03:00PM', \"Could Apple's AI weakness actually turn into a winning strategy?\"], ['GOOG', 'Today', '03:00PM', 'Prediction: 2 AI Stocks Will Be Worth More Than Apple Stock by Year-End in 2026'], ['GOOG', 'Today', '02:54PM', \"Alphabet is an AI winner, says MoffettNathanson's Michael Nathanson\"], ['GOOG', 'Today', '02:49PM', 'Apple, Amazon Earnings Follow Metas Tough Day: What to Watch'], ['GOOG', 'Today', '02:17PM', \"Here's the real reason why Alphabet stock is soaring after earnings\"], ['GOOG', 'Today', '02:10PM', 'These Stocks Are Moving the Most Today: Meta, Microsoft, Alphabet, FMC, C.H. Robinson Worldwide, Roblox, Metsera, Chipotle, and More'], ['GOOG', 'Today', '02:06PM', 'A deep dive into quantum computing'], ['GOOG', 'Today', '01:43PM', \"The Dow Is Losing Steam. Why It's Still Leading the S&P 500 and Nasdaq.\"], ['GOOG', 'Today', '01:33PM', 'Why Alphabet Stock Cycled Higher Today'], ['GOOG', 'Today', '01:30PM', \"Amazon's custom Trainium chips face a critical moment\"], ['GOOG', 'Today', '01:30PM', \"Google knocked earnings 'out of the park', Microsoft was 'decent'\"], ['GOOG', 'Today', '01:08PM', 'Worried About an AI Bubble? Look to Surging International Stocks'], ['GOOG', 'Today', '01:03PM', 'Stock market today: Dow rises, Nasdaq slides as Meta sinks after earnings with Apple, Amazon ahead'], ['GOOG', 'Today', '12:55PM', \"Amazon Is Set To Report Earnings Today. Here's What Investors Should Know\"], ['GOOG', 'Today', '12:52PM', \"Looking to see if Meta AI can reach consumer scale, says Goldman Sachs' Sheridan\"], ['GOOG', 'Today', '12:52PM', 'Alphabet reports first $100B quarter as it turns its massive AI infrastructure bets into revenue'], ['GOOG', 'Today', '12:51PM', 'GOOGL: Alphabet Smashes $100 Billion Revenue Barrier for First Time Ever'], ['GOOG', 'Today', '12:45PM', 'Top Stock Movers Now: Chipotle, Meta, Alphabet, and More'], ['GOOG', 'Today', '12:35PM', 'Amazon Earnings on Deck -- Traders Bet Billions on Biggest Post-Earnings Jump'], ['GOOG', 'Today', '12:16PM', 'Amazons Coming AI Cash Burn: Bullish Signal or Time to Sell?'], ['GOOG', 'Today', '12:03PM', 'Alphabet Stock Hits Record High After Google Parent Reports Strong EarningsMonitor These Key Levels'], ['GOOG', 'Today', '12:00PM', 'Amazon Earnings Due Soon. Can AWS Match Microsoft, Google Cloud Beats?'], ['GOOG', 'Today', '11:50AM', 'Google stock rises, Meta stock plunges: A tale of 2 AI stories'], ['GOOG', 'Today', '11:42AM', \"Amazon earnings: Why this strategist is 'a little nervous'\"], ['GOOG', 'Today', '11:25AM', 'Wall Street Loves Carvana, Coinbase and META'], ['GOOG', 'Today', '11:24AM', 'Alphabet stock jumps, fueled by rapid AI mode user adoption'], ['GOOG', 'Today', '11:16AM', 'Reddit set to report Q3 earnings with user growth, AI deals in focus'], ['GOOG', 'Today', '11:00AM', 'Google, Microsoft, Meta earnings: Where does AI demand stand?'], ['GOOG', 'Today', '10:59AM', \"Why Alphabet's stock looks like a better play than Meta's in the AI race\"], ['GOOG', 'Today', '10:58AM', 'Amazon needs to deliver on 2 things in its Q3 earnings call'], ['GOOG', 'Today', '10:24AM', 'Alphabet Stock Jumps on Earnings Beat. How Google Turned from AI Loser to Winner.'], ['GOOG', 'Today', '10:17AM', \"Meta's stock slides toward its worst day in years as Wall Street pans 'runaway' AI spending\"], ['GOOG', 'Today', '10:08AM', 'AI boom drives trillion-dollar tech valuations and record bets on chipmakers'], ['GOOG', 'Today', '10:06AM', 'Google partners with Ambanis Reliance to offer free AI Pro access to millions of Jio users in India'], ['GOOG', 'Today', '10:05AM', 'Tesla Stock Is Down. Dont Blame Cybertruck Recalls.'], ['GOOG', 'Today', '10:04AM', 'Magnificent Seven Stocks Fall After Latest Round of Earnings'], ['GOOG', 'Today', '09:58AM', 'Alphabet Gains Investor Confidence as Strong Cash Flow Funds AI Push'], ['GOOG', 'Today', '09:52AM', 'AI Spending Spree Rattles Wall Street'], ['GOOG', 'Today', '09:51AM', 'Meta, Microsoft, Alphabet go all in on AI spending: What to know'], ['GOOG', 'Today', '09:49AM', 'Oppenheimer downgrades Meta on AI spending concerns'], ['GOOG', 'Today', '09:48AM', 'Here are Thursdays Top Wall Street Analyst Research Calls: Coinbase Global, Meta Platforms, Boeing, Cisco Systems, and More'], ['GOOG', 'Today', '09:46AM', 'Google Stock Soars To Record High On Q3 Earnings Beat, Cloud Outlook'], ['GOOG', 'Today', '09:45AM', 'Meta, Microsoft Test Investors With AI-Fueled Spending Surge'], ['GOOG', 'Today', '09:36AM', 'Big Tech tests investors patience with $80bn AI investment spree'], ['GOOG', 'Today', '09:35AM', 'Stock market today: Dow, S&P 500, Nasdaq slide after Trump-Xi truce with Big Tech earnings ahead'], ['GOOG', 'Today', '09:08AM', 'US-China trade truce, Alphabet earnings, Fed rate cut: 3 Things'], ['GOOG', 'Today', '08:34AM', '5 Things to Know Before the Stock Market Opens'], ['GOOG', 'Today', '08:31AM', 'Stocks to Watch Thursday: Eli Lilly, Metsera, Navan, Microsoft'], ['GOOG', 'Today', '08:25AM', \"Trump's 'amazing' meeting with Xi, Fed rate cuts and Open AI IPO\"], ['GOOG', 'Today', '08:24AM', 'Google vs. Meta, Boeing-Airbus, Chipotle: Trending Stocks'], ['GOOG', 'Today', '08:19AM', 'Earnings live: Meta stock tumbles, Microsoft slides, and Alphabet jumps as Big Tech earnings pour in'], ['GOOG', 'Today', '08:17AM', 'Stock Market Today: Dow Falls On Trump-Xi Talks; Meta Plunges On Earnings (Live Coverage)'], ['GOOG', 'Today', '08:10AM', 'This Analyst Was Right About Alphabet (GOOG) CapEx'], ['GOOG', 'Today', '07:51AM', \"Royal: It's been odd the Fed has been engaging in QT at the same time it's cutting rates\"], ['GOOG', 'Today', '07:51AM', 'No l: Uranium miners could benefit from the massive demand for power and AI'], ['GOOG', 'Today', '07:51AM', \"Kunst: Meta has a lot of capex that doesn't necessarily translate to a return on investment\"], ['GOOG', 'Today', '07:51AM', \"Evercore ISI's Mark Mahaney breaks down Meta, Alphabet Q3 results\"], ['GOOG', 'Today', '07:40AM', \"Everyone's asking the wrong question about an AI bubble. Here are the stocks to buy - and when.\"], ['GOOG', 'Today', '06:53AM', 'Markets Wanted a Boost From Earnings, Fed and China Talks. How Powell Disappointed.'], ['GOOG', 'Today', '05:18AM', 'Alphabet reports 33% increase in net income to $34.9bn in Q3 2025'], ['GOOG', 'Today', '04:20AM', '5 Tech Stocks You Can Buy and Hold for the Next Decade'], ['GOOG', 'Today', '04:05AM', 'Alphabet posts first-ever quarter with $100 billion in revenue'], ['GOOG', 'Today', '04:02AM', 'Tech leaders ramp up AI spending, but Alphabets cash flow wins investor favor'], ['GOOG', 'Today', '03:52AM', 'Prediction: 2 AI Stocks Will Be Worth More Than Nvidia and Palantir Technologies Combined by 2030 (Hint: Not Apple)'], ['GOOG', 'Today', '02:52AM', 'Big Tech: AI, cloud demand lifts Microsoft, Alphabet, Meta'], ['GOOG', 'Oct-29-25', '11:50PM', \"Alphabet's AI push pays off as search beats and Gemini tops 650 million users\"], ['GOOG', 'Oct-29-25', '11:31PM', 'Meet The New Chip Maker Aiming To Outrun TSMC And ASML'], ['GOOG', 'Oct-29-25', '11:22PM', 'Analyst Report: Alphabet Inc.'], ['GOOG', 'Oct-29-25', '10:18PM', 'NVIDIA (NVDA) Shares Surge 3% Today: Why One Picture Drove $400 Billion In Stock Gains'], ['GOOG', 'Oct-29-25', '09:40PM', 'Microsoft earnings offer a bullish read for power stocks'], ['GOOG', 'Oct-29-25', '09:32PM', \"Pichai outlines Alphabet's next act: scaling AI from cloud to cars\"], ['GOOG', 'Oct-29-25', '08:13PM', \"Microsoft's massive AI spending draws investor concerns as cloud business booms\"], ['GOOG', 'Oct-29-25', '07:28PM', 'YouTube announces voluntary exit program for US staff'], ['GOOG', 'Oct-29-25', '07:25PM', 'Alphabet Stock Jumps on Big Earnings Beat'], ['GOOG', 'Oct-29-25', '07:13PM', 'Google parent Alphabet posts first $100 bn quarter as AI fuels growth'], ['GOOG', 'Oct-29-25', '06:56PM', 'Microsoft reports strong earnings even as Azure outage brings down Xbox and investor pages'], ['GOOG', 'Oct-29-25', '06:51PM', 'Google Revenue Soars to Record as AI Boom Lifts Cloud Business'], ['GOOG', 'Oct-29-25', '06:50PM', \"Google sees 'substantial demand' for its custom chips\"], ['GOOG', 'Oct-29-25', '06:49PM', 'Stock market today: Dow, S&P 500, Nasdaq futures drop after mixed Big Tech earnings with Trump-Xi meet ahead'], ['GOOG', 'Oct-29-25', '06:36PM', \"Here's why Alphabet is doubling down on AI productivity\"], ['GOOG', 'Oct-29-25', '06:18PM', \"Alphabet's free cash flow sees a boost even as AI spending rises\"], ['GOOG', 'Oct-29-25', '06:16PM', 'Mixed share reaction to megacap earnings burst, Meta droops'], ['GOOG', 'Oct-29-25', '05:57PM', \"Here's how AI is supercharging YouTube monetization\"], ['GOOG', 'Oct-29-25', '05:49PM', \"Google catching up with Meta pulled on shares following earnings, says D.A. Davidson's Gil Luria\"], ['GOOG', 'Oct-29-25', '05:49PM', 'Alphabet lifts capex guidance to $93 billion as AI demand strains cloud infrastructure'], ['GOOG', 'Oct-29-25', '05:45PM', 'Podcast: Powell Casts Doubt on December Rate Cut'], ['GOOG', 'Oct-29-25', '05:41PM', \"Google's Search business is proving resilient in the AI era\"], ['GOOG', 'Oct-29-25', '05:18PM', 'Google parent Alphabet beats forecasts with first $100bn quarter'], ['GOOG', 'Oct-29-25', '05:15PM', \"Alphabet's earnings call is about to begin. Here's how to tune in.\"], ['GOOG', 'Oct-29-25', '05:15PM', 'Alphabet Inc. (GOOG) Beats Q3 Earnings and Revenue Estimates'], ['GOOG', 'Oct-29-25', '05:12PM', 'Google Search and YouTube fuel ad growth'], ['GOOG', 'Oct-29-25', '05:06PM', 'Google Earnings Beat As Search, Cloud, YouTube Revenue Top Views'], ['GOOG', 'Oct-29-25', '05:04PM', \"Alphabet stock pops as it's seen as a 'clear AI winner'\"], ['GOOG', 'Oct-29-25', '04:54PM', 'Alphabet quarterly revenue tops $100 billion for first time'], ['GOOG', 'Oct-29-25', '04:52PM', 'Kayak CEO on $457 Million Writedown: Google Squeezed the Travel Industry Again'], ['NFLX', 'Today', '10:28AM', 'Comcast keeps M&A bar very high but hints more deals could come after Versant spin'], ['NFLX', 'Today', '09:31AM', 'Is Netflix (NFLX) One of the Best NASDAQ Growth Stocks to Buy for the Next 5 Years?'], ['NFLX', 'Today', '08:07AM', \"Snowflake Stock Is on Fire-It's Still Not Too Late to Buy\"], ['NFLX', 'Today', '05:35AM', 'Prediction: This Will Be the Most Prominent Stock Split of 2026'], ['NFLX', 'Today', '04:23AM', \"Netflix Leans Into Success of 'KPop Demon Hunters' With New Hasbro and Mattel Partnerships. Is It Enough to Excite Investors?\"], ['NFLX', 'Oct-29-25', '03:22PM', 'This Mega-Cap Stock Has the Lowest RSI-and the Most Upside'], ['NFLX', 'Oct-29-25', '01:13PM', \"Can Upcoming Global Content Drive NFLX's Engagement in the Near Term?\"], ['NFLX', 'Oct-29-25', '11:18AM', \"Here's What the Wall Street Thinks About Netflix (NFLX), After its Q3 Earnings\"], ['NFLX', 'Oct-29-25', '07:51AM', \"2 Things Investors Need to Know About Netflix Stock's Recent Dive\"], ['NFLX', 'Oct-29-25', '03:15AM', 'My 2 Favorite Stocks to Buy Right Now'], ['NFLX', 'Oct-29-25', '12:03AM', \"3 Reasons We're Fans of Netflix (NFLX)\"], ['NFLX', 'Oct-28-25', '05:09PM', 'Analyst Report: Netflix, Inc.'], ['NFLX', 'Oct-28-25', '02:43PM', 'Final Trades: Netflix, Vistra, Paypal and the QQQ'], ['NFLX', 'Oct-28-25', '02:22PM', 'As Netflix Stock Loses Steam, Should You Buy the NFLX Dip?'], ['NFLX', 'Oct-28-25', '02:15PM', \"How Will Services, Mac and iPad Fare in Apple's Q4 Earnings?\"], ['NFLX', 'Oct-28-25', '01:33AM', \"The 5 Most Interesting Analyst Questions From Netflix's Q3 Earnings Call\"], ['NFLX', 'Oct-27-25', '01:55PM', 'Poor Earnings In Netflix Stock Set Up Option Trade For Weakness'], ['NFLX', 'Oct-27-25', '11:47AM', 'Netflix Plunges 12% Post Q3 Earnings: Buy, Sell or Hold the Stock?'], ['NFLX', 'Oct-27-25', '09:15AM', 'Unlocking Netflix (NFLX) International Revenues: Trends, Surprises, and Prospects'], ['NFLX', 'Oct-27-25', '09:00AM', 'Here is What to Know Beyond Why Netflix, Inc. (NFLX) is a Trending Stock'], ['NFLX', 'Oct-27-25', '07:00AM', \"Netflix's Move From Screen to Shelf Could Be a Genius Diversification Play\"], ['NFLX', 'Oct-27-25', '06:15AM', 'KPop Netflix Hunters: Can It Bounce Back This Week?'], ['NFLX', 'Oct-27-25', '05:58AM', 'The Zacks Analyst Blog Highlights Mastercard, Netflix, Citigroup, Oil-Dri and Perma-Pipe'], ['NFLX', 'Oct-27-25', '05:17AM', 'The Smartest Growth Stock to Buy With $2,000 Right Now'], ['NFLX', 'Oct-27-25', '04:15AM', 'Should Investors Buy the Netflix Dip?'], ['NFLX', 'Oct-26-25', '09:50PM', '1 Growth Stock Down 17% to Buy Right Now'], ['NFLX', 'Oct-26-25', '07:49PM', \"Netflix Investors Didn't Get a Stock Split in the Latest Quarterly Report. They Got Something Better.\"], ['NFLX', 'Oct-26-25', '08:30AM', 'Why it has been an amazing week for stocks'], ['NFLX', 'Oct-26-25', '08:30AM', 'Earnings season off to an impressive start'], ['NFLX', 'Oct-26-25', '06:27AM', 'My 3 Favorite Stocks to Buy Right Now'], ['NFLX', 'Oct-26-25', '04:50AM', 'Netflix Stock Took a Nosedive Last Week. A Buy on the Dip, or a Sign to Shut Off the Screen?'], ['NFLX', 'Oct-26-25', '04:27AM', 'Is Netflix Stock a Buy, Sell, or Hold Heading Into 2026?'], ['NFLX', 'Oct-25-25', '07:00AM', 'MarketBeat Week in Review - 10/20 - 10/24'], ['NFLX', 'Oct-25-25', '03:45AM', 'Got $5,000? 2 Tech Stocks to Buy and Hold for the Long Term'], ['NFLX', 'Oct-25-25', '12:44AM', 'Jim Cramer on Netflix: \"I Think This Sell-Off is an Overreaction\"'], ['NFLX', 'Oct-24-25', '05:07PM', 'The Score: Netflix, Amazon.com, Six Flags and More Stocks That Defined the Week'], ['NFLX', 'Oct-24-25', '05:07PM', 'Could Netflix Stock Join the Trillion-Dollar Club by 2030?'], ['NFLX', 'Oct-24-25', '03:43PM', 'Jim Cramer Takes Contrarian View For Netflix (NFLX) After Earnings'], ['NFLX', 'Oct-24-25', '03:40PM', 'Top Stock Reports for Mastercard, Netflix & Citigroup'], ['NFLX', 'Oct-24-25', '01:57PM', 'Cathie Wood Just Bought the Dip in Netflix Stock. Should You?'], ['NFLX', 'Oct-24-25', '01:26PM', \"The Stock Market Climbed to New Highs. Here's What Can Keep It There-or Knock It From Its Perch.\"], ['NFLX', 'Oct-24-25', '12:41PM', 'Better Growth Stock to Buy Now: Netflix vs. The Trade Desk'], ['NFLX', 'Oct-24-25', '12:35PM', 'Wall Street Resumes Winning Ways on CPI, Earnings Optimism'], ['NFLX', 'Oct-24-25', '12:07PM', 'Soft Inflation Data Drives Major Indexes to Record Highs'], ['NFLX', 'Oct-24-25', '11:40AM', 'FOXA vs. NFLX: Which Stock Should Value Investors Buy Now?'], ['NFLX', 'Oct-24-25', '11:13AM', 'Should You Buy Netflix Stock Right Now?'], ['NFLX', 'Oct-24-25', '10:37AM', 'Stock Market Hits New Highs, Shrugging Off Gold, AI Fears; Tesla, Netflix In Focus: Weekly Review'], ['NFLX', 'Oct-24-25', '09:00AM', 'Netflix Produces Strong FCF Q3 Margins - NFLX Looks 23% Too Cheap'], ['NFLX', 'Oct-24-25', '07:00AM', 'Is the market due for a correction despite strong earnings?'], ['NFLX', 'Oct-24-25', '03:51AM', 'Is Now the Time to Buy Netflix Stock?'], ['NFLX', 'Oct-23-25', '07:37PM', 'Veteran analyst takes surprising move on Netflix stock after earnings'], ['NFLX', 'Oct-23-25', '07:07PM', 'Warner Bros. Bidding War Potential: How High Could WBD Shares Go?'], ['NFLX', 'Oct-23-25', '06:47PM', 'Analysts Eye 30% Upside in Netflix After Q3 Earnings Crash'], ['NFLX', 'Oct-23-25', '04:34PM', 'Earnings live: Intel stock surges, Ford rises after-hours, Deckers drops'], ['NFLX', 'Oct-23-25', '02:40PM', 'Hasbro CEO talks Netflix partnership for KPop Demon Hunters toys'], ['NFLX', 'Oct-23-25', '02:25PM', 'Final Trades: Salesforce, IBM, Las Vegas Sands, Netflix'], ['NFLX', 'Oct-23-25', '01:25PM', 'Trade Tracker: Josh Brown buys more Netflix'], ['NFLX', 'Oct-23-25', '12:15PM', \"Hasbro's tariff battle could make playtime pricier\"], ['NFLX', 'Oct-23-25', '11:58AM', 'Tech Triggers Market Turnaround as Nasdaq Pops Triple Digits'], ['NFLX', 'Oct-23-25', '11:32AM', \"Here's How Netflix (NFLX) Rewarded Patient Investors\"], ['NFLX', 'Oct-23-25', '10:16AM', 'Hasbro tops Q3 estimates, CEO talks cheery outlook on toy sales'], ['NFLX', 'Oct-23-25', '09:27AM', 'Stock Market News for Oct 23, 2025'], ['NFLX', 'Oct-23-25', '09:19AM', 'Netflix Lags Q3 Earnings Yet Ups Free Cash Flow View: ETFs in Spotlight'], ['NFLX', 'Oct-23-25', '09:15AM', 'Cathie Wood Goes Shopping: 3 Stocks She Just Bought'], ['NFLX', 'Oct-23-25', '08:59AM', \"Josh Brown Says Netflix (NFLX) 'Sat Out AI Mania' But 'It's About to Change'\"], ['NFLX', 'Oct-23-25', '08:53AM', 'Meet the Monster Stock that Continues to Crush the Market'], ['NFLX', 'Oct-23-25', '08:44AM', 'Netflix Shares Drop 10% as Growth Outlook Disappoints'], ['NFLX', 'Oct-23-25', '08:09AM', 'Earnings live: Tesla stock falls after earnings miss, American Airlines climbs, IBM and Hasbro sink'], ['NFLX', 'Oct-23-25', '07:04AM', 'Netflix (NFLX) Ends 3-Day Run After $620-Million Tax Blow'], ['NFLX', 'Oct-23-25', '06:15AM', 'Netflix Stock Drops. Time to Sell?'], ['NFLX', 'Oct-23-25', '05:25AM', 'UBS Keeps Bullish Stance on Netflix (NFLX), Cites Strong Direct-to-Consumer Streaming Position and Content Lineup'], ['NFLX', 'Oct-22-25', '11:34PM', 'Netflixs stock price sent reeling after Q3 earnings'], ['NFLX', 'Oct-22-25', '06:59PM', 'Analyst Report: Netflix, Inc.'], ['NFLX', 'Oct-22-25', '06:33PM', \"Netflix cashes in as 'KPop Demon Hunters' aims to win holiday season\"], ['NFLX', 'Oct-22-25', '05:56PM', 'Buy the Dip in GE Aerospace or Netflix Stock After Q3 Earnings?'], ['NFLX', 'Oct-22-25', '05:29PM', 'Mattel & Hasbro: What investors need to know about toy stocks'], ['NFLX', 'Oct-22-25', '04:42PM', \"Toy stocks: Hasbro, Mattel partner on Netflix's KPop Demon Hunters\"], ['NFLX', 'Oct-22-25', '04:35PM', 'Earnings live: Tesla stock falls after earnings miss, IBM sinks'], ['NFLX', 'Oct-22-25', '04:26PM', 'U.S.-China Trade Drama Continues as Stocks Gap Lower'], ['NFLX', 'Oct-22-25', '04:22PM', 'These Stocks Moved the Most Today: Netflix, Tesla, Texas Instruments, AT&T, Intuitive Surgical, Winnebago, GE Vernova, and More'], ['NFLX', 'Oct-22-25', '04:10PM', 'Netflix stock falls after Q3 earnings miss estimates, operating profit takes a hit'], ['NFLX', 'Oct-22-25', '04:02PM', 'Nasdaq Drops on More Tech Fears'], ['NFLX', 'Oct-22-25', '04:00PM', 'Stock market today: Dow, S&P 500, Nasdaq fall as Netflix sinks, Tesla earnings loom'], ['NFLX', 'Oct-22-25', '03:41PM', \"Netflix Doesn't Rule Out Bidding For Warner Bros.\"], ['NFLX', 'Oct-22-25', '02:41PM', \"Netflix Has to Knock It Out of the Park: Wedbush's Reese\"], ['NFLX', 'Oct-22-25', '02:31PM', \"Netflix Q3 Earnings Preview: Will 'KPop Demon Hunters' Help Streamer Beat Estimates?\"], ['NFLX', 'Oct-22-25', '02:30PM', 'Netflix Earnings Hit by Brazil Tax Blow'], ['NFLX', 'Oct-22-25', '02:22PM', 'Squawk Pod: An NHL deal with Kalshi CEO & AI with Airbnb CEO - 10/22/25  Audio Only'], ['NFLX', 'Oct-22-25', '02:22PM', \"Netflix sinks on earnings: Here's what you need to know\"], ['NFLX', 'Oct-22-25', '02:19PM', 'These Stocks Are Moving the Most Today: Netflix, Tesla, Texas Instruments, AT&T, Intuitive Surgical, Winnebago, GE Vernova, and More'], ['NFLX', 'Oct-22-25', '01:09PM', \"Pricing & Ad Momentum Lift Netflix's Q4 View: Is Upside Sustainable?\"], ['NFLX', 'Oct-22-25', '01:08PM', 'Why Netflix Stock Was Slumping Today'], ['NFLX', 'Oct-22-25', '12:56PM', \"Netflix's Earnings Came With a Jump Scare. Why the Stock is the S&P 500's Biggest Loser.\"], ['NFLX', 'Oct-22-25', '12:30PM', 'Top Stock Movers Now: Netflix, Texas Instruments, Intuitive Surgical, and More'], ['NFLX', 'Oct-22-25', '12:30PM', \"How Netflix's revenue could double revenue by year's end\"], ['NFLX', 'Oct-22-25', '12:15PM', \"Is Netflix stock's post-earnings slump 'overdone'?\"], ['NFLX', 'Oct-22-25', '11:58AM', 'Risk appetite is fading on Wall Street as tech stocks, small caps and crypto are all under pressure'], ['NFLX', 'Oct-22-25', '11:52AM', 'Stocks Lower as Netflix Earnings Drag the Nasdaq'], ['NFLX', 'Oct-22-25', '11:51AM', 'Why Netflix (NFLX) Stock Is Falling Today'], ['NFLX', 'Oct-22-25', '11:42AM', 'NFLX Q3 Earnings Miss on Brazilian Tax Dispute, Posts Record Ad Sales'], ['AAPL', 'Today', '04:01PM', 'Stock market today: Nasdaq leads S&P 500, Dow lower as Meta sinks after earnings with Apple, Amazon on deck'], ['AAPL', 'Today', '04:00PM', \"Apple's key to growth lies in AI devices\"], ['AAPL', 'Today', '03:50PM', 'Globalstar draws SpaceX interest in sale process, Bloomberg News reports'], ['AAPL', 'Today', '03:46PM', 'Stock Market Today: Nasdaq Slammed As Meta Dives; Apple, Amazon To Report Next (Live Coverage)'], ['AAPL', 'Today', '03:37PM', 'Apple to report earnings as new iPhone lineup reignites worldwide demand'], ['AAPL', 'Today', '03:26PM', 'Globalstar shares climb 25% after report of potential SpaceX interest'], ['AAPL', 'Today', '03:25PM', 'Apple Closes In On An All-Time High'], ['AAPL', 'Today', '03:17PM', 'Stock market today: Dow, S&P 500, Nasdaq slide as Meta sinks after earnings with Apple, Amazon ahead'], ['AAPL', 'Today', '03:00PM', \"Could Apple's AI weakness actually turn into a winning strategy?\"], ['AAPL', 'Today', '02:54PM', \"Apple needs a pristine quarter to satisfy investors, says MoffettNathanson's Craig Moffett\"], ['AAPL', 'Today', '02:49PM', 'Apple, Amazon Earnings Follow Metas Tough Day: What to Watch'], ['AAPL', 'Today', '02:42PM', 'MVST vs. Arm Holdings: Which Tech Growth Stock is the Better Placed?'], ['AAPL', 'Today', '02:38PM', '1 Reason Apple Stock Just Hit All-Time Highs'], ['AAPL', 'Today', '02:10PM', 'These Stocks Are Moving the Most Today: Meta, Microsoft, Alphabet, FMC, C.H. Robinson Worldwide, Roblox, Metsera, Chipotle, and More'], ['AAPL', 'Today', '02:00PM', 'Apple has zigged where rivals have zagged on AI spending'], ['AAPL', 'Today', '01:43PM', \"Apple Is Set to Report Earnings Today. Here's What You Need to Know\"], ['AAPL', 'Today', '01:17PM', 'Apple CEOs iPhone 17 pitch has clear message for users'], ['AAPL', 'Today', '01:03PM', 'Stock market today: Dow rises, Nasdaq slides as Meta sinks after earnings with Apple, Amazon ahead'], ['AAPL', 'Today', '01:00PM', \"Apple's earnings report is shaping up to be a 'battleground'\"], ['AAPL', 'Today', '12:37PM', 'Apple Looks To Keep A String of Earnings Beats Going'], ['AAPL', 'Today', '12:27PM', 'My Apple 4Q25 Estimates, Above Avalon Expectation Meter (4Q25 Edition)'], ['AAPL', 'Today', '12:26PM', 'Apple Shares Are Rising Ahead of Earnings'], ['AAPL', 'Today', '12:19PM', \"Thoughts Heading Into Apple's 4Q25 Earnings, iPhone's Supply/Demand Imbalance, Apple Hits $4 Trillion Market Cap\"], ['AAPL', 'Today', '12:16PM', 'Amazons Coming AI Cash Burn: Bullish Signal or Time to Sell?'], ['AAPL', 'Today', '12:15PM', 'SCHD Isnt Your Only Option  2 Monthly ETFs With Better Long-Term Gains'], ['AAPL', 'Today', '12:00PM', \"Why this Apple bear isn't sold on the iPhone's recent strength\"], ['AAPL', 'Today', '11:51AM', \"Need better understanding of Apple's AI strategy, says Maxim Group's Forte\"], ['AAPL', 'Today', '11:50AM', 'Some smartphones will soon see lock screen ads'], ['AAPL', 'Today', '11:42AM', \"Amazon earnings: Why this strategist is 'a little nervous'\"], ['AAPL', 'Today', '11:10AM', 'Earnings Data Deluge'], ['AAPL', 'Today', '11:02AM', 'Apple Q4 Earnings Incoming -- Could an iPhone Surprise Shake Wall Street?'], ['AAPL', 'Today', '11:00AM', 'Early indications are for hot iPhone 17 demand. Can it last?'], ['AAPL', 'Today', '11:00AM', 'Google, Microsoft, Meta earnings: Where does AI demand stand?'], ['AAPL', 'Today', '10:41AM', 'Trump-Xi Trade Truce Leaves Questions; Rare Earth Stocks Fall'], ['AAPL', 'Today', '10:38AM', 'Microsoft, Alphabet, Meta: Magnificent Seven Earnings Roundup'], ['AAPL', 'Today', '10:38AM', 'Pre-markets Down on Questions: Fed, Jobs & Q3 Earnings'], ['AAPL', 'Today', '10:30AM', 'BofA double-upgrades Teradyne on multiple growth drivers from AI chips to robotics'], ['AAPL', 'Today', '10:13AM', 'Is OpenAI worth $1 trillion? Its possible IPO plans'], ['AAPL', 'Today', '10:08AM', 'AI boom drives trillion-dollar tech valuations and record bets on chipmakers'], ['AAPL', 'Today', '10:04AM', 'Magnificent Seven Stocks Fall After Latest Round of Earnings'], ['AAPL', 'Today', '10:00AM', \"Why this analyst sees upside potential for Apple's earnings report\"], ['AAPL', 'Today', '09:55AM', 'Meta Platforms (NASDAQ: META) Stock Price Prediction for 2025: Where Will It Be in 1 Year (Oct 30)'], ['AAPL', 'Today', '09:51AM', 'Meta, Microsoft, Alphabet go all in on AI spending: What to know'], ['AAPL', 'Today', '09:48AM', 'Here are Thursdays Top Wall Street Analyst Research Calls: Coinbase Global, Meta Platforms, Boeing, Cisco Systems, and More'], ['AAPL', 'Today', '09:37AM', 'Where Will Apple Stock Be in 1 Year?'], ['AAPL', 'Today', '09:35AM', 'Stock market today: Dow, S&P 500, Nasdaq slide after Trump-Xi truce with Big Tech earnings ahead'], ['AAPL', 'Today', '09:10AM', \"Analyst Explains Why He's Selling Apple (AAPL) Shares - 'Victim of Their Own Success'\"], ['AAPL', 'Today', '09:09AM', 'Analyst Says Apple (AAPL) iPhone 17 Will Not Result in Super Cycle, Thinks Stock Valuation Not Justified'], ['AAPL', 'Today', '09:08AM', 'US-China trade truce, Alphabet earnings, Fed rate cut: 3 Things'], ['AAPL', 'Today', '09:00AM', 'Apple Stock Rises in Premarket Trading'], ['AAPL', 'Today', '09:00AM', 'Apple has added a new line to its resume ahead of earnings'], ['AAPL', 'Today', '08:41AM', 'Stock Market Today: Dow Falls On Trump-Xi Talks; Meta Plunges On Earnings (Live Coverage)'], ['AAPL', 'Today', '08:34AM', '5 Things to Know Before the Stock Market Opens'], ['AAPL', 'Today', '08:24AM', 'Alphabet vs. Meta, Boeing-Airbus, Chipotle: Trending Stocks'], ['AAPL', 'Today', '08:19AM', 'Earnings live: Meta stock tumbles, Microsoft slides, and Alphabet jumps as Big Tech earnings pour in'], ['AAPL', 'Today', '08:01AM', 'Investors still face a wall of worry despite positive U.S. trade meetings'], ['AAPL', 'Today', '08:00AM', \"What time does Apple report earnings Thursday? Here's how to tune in.\"], ['AAPL', 'Today', '08:00AM', \"Was Apple's strong iPhone performance a fluke last time? We'll soon find out.\"], ['AAPL', 'Today', '07:29AM', 'Unresolved: Why Big Tech, the Fed, and Trade Talks Provide Wall Street With Little Clarity'], ['AAPL', 'Today', '07:06AM', \"Apple's earnings report is just hours away - and it all comes down to iPhone momentum\"], ['AAPL', 'Today', '07:06AM', 'The key numbers to watch when Apple reports earnings'], ['AAPL', 'Today', '07:04AM', 'Option traders primed for sizable move in Amazon shares, Apple not so much'], ['AAPL', 'Today', '06:30AM', 'Apple earnings on deck: iPhone 17 sales, China, & AI in focus'], ['AAPL', 'Today', '05:47AM', 'Amazon, Apple Earnings, ECB Rate Decision: Still to Come This Week'], ['AAPL', 'Today', '05:29AM', 'These Stocks Are Moving the Most Today: Microsoft, Alphabet, Meta, Nvidia, Chipotle, Carvana, FMC, and More'], ['AAPL', 'Today', '05:20AM', 'Stocks to Watch Thursday: Meta, Alphabet, Chipotle'], ['AAPL', 'Today', '05:08AM', 'Apple and Amazon headline earnings slate'], ['AAPL', 'Today', '04:54AM', 'Analysts Got A Lot People Out Of Apple (AAPL) Stock, Says Jim Cramer'], ['AAPL', 'Today', '04:52AM', 'Zacks Investment Ideas feature highlights: Apple, Robinhood, Coinbase, DraftKings and Flutter'], ['AAPL', 'Today', '04:32AM', \"My Top Value Stock to Buy for 2026 (and It's Not Even Close)\"], ['AAPL', 'Today', '04:29AM', 'Stock Market Today: Dow, S&P 500 and Nasdaq hover near record highs after U.S.-China trade deal, while Meta stock dives but Alphabet pops on earnings; Apple and Amazon results on tap; Treasury yields up on December rate-cut pushback.'], ['AAPL', 'Today', '02:48AM', 'Apple Earnings: iPhone Sales, AI, Tim Cook, and What More to Watch'], ['AAPL', 'Today', '02:41AM', \"Apple's Earnings Are Almost Here. They're a Key Test Ahead of the Holidays.\"], ['AAPL', 'Today', '02:30AM', 'Berkshire Likely Had a Stellar Quarter. Stock Buybacks Are a Wild Card.'], ['AAPL', 'Oct-29-25', '09:06PM', 'Meta, Microsoft Test Investors Patience With AI Spending Spree'], ['AAPL', 'Oct-29-25', '07:45PM', 'Dear Apple Stock Fans, Mark Your Calendars for October 30'], ['AAPL', 'Oct-29-25', '07:05PM', 'The CEOs of Apple, Airbnb, and PepsiCo agree on one thing: life as a business leader is incredibly lonely'], ['AAPL', 'Oct-29-25', '07:00PM', 'Apple & Amazon earnings, Fed, mortgage rates: What to Watch'], ['AAPL', 'Oct-29-25', '06:49PM', 'Stock market today: Dow, S&P 500, Nasdaq futures hit pause after Trump-Xi meeting, Big Tech earnings'], ['AAPL', 'Oct-29-25', '06:49PM', 'Stock market today: Dow, S&P 500, Nasdaq futures fall following Trump-Xi meeting, mixed Big Tech earning'], ['AAPL', 'Oct-29-25', '06:49PM', 'Stock market today: Dow, S&P 500, Nasdaq futures fall after mixed Big Tech earnings, Trump-Xi meeting'], ['AAPL', 'Oct-29-25', '06:49PM', 'Stock market today: Dow, S&P 500, Nasdaq futures drop after mixed Big Tech earnings with Trump-Xi meet ahead'], ['AAPL', 'Oct-29-25', '06:49PM', 'Stock market today: Dow, S&P 500, Nasdaq futures climb following Trump-Xi meeting, mixed Big Tech earning'], ['AAPL', 'Oct-29-25', '06:49PM', 'Stock market today: Dow, S&P 500, Nasdaq futures climb after mixed Big Tech earnings with Trump-Xi meet underway'], ['AAPL', 'Oct-29-25', '06:22PM', 'Skyworks CEO sees chance to save power in AI-driven phones with Qorvo deal'], ['AAPL', 'Oct-29-25', '05:10PM', 'Why the AI bull market is raising diversification red flags'], ['AAPL', 'Oct-29-25', '04:49PM', \"Apple CEO Tim Cook on iPhone 17 launch: It's the most important day of the year for us\"], ['AAPL', 'Oct-29-25', '04:33PM', 'Earnings live: Meta stock tumbles, Microsoft slides, and Alphabet rises as Big Tech earnings pour in'], ['AAPL', 'Oct-29-25', '04:21PM', \"Microsoft's quarterly sales and profit surge, beating Wall Street expectations\"], ['AAPL', 'Oct-29-25', '04:10PM', \"Meta stock sinks after tax hit weighs on earnings, company touts 'notably larger' AI investments in year ahead\"], ['AAPL', 'Oct-29-25', '04:10PM', 'Meta Q3 earnings miss on EPS, stock plummets more than 6%'], ['AAPL', 'Oct-29-25', '04:02PM', 'Stock market today: Nasdaq clinches record, Dow, S&P 500 dip as Fed cuts rates, Powell downplays December cut'], ['AAPL', 'Oct-29-25', '03:53PM', \"Nvidia's Huang joins tech titans funding Trump's ballroom\"], ['AAPL', 'Oct-29-25', '03:23PM', \"Nvidia Stock Is Still a Buy. Why $5 Trillion Isn't the Top.\"], ['AAPL', 'Oct-29-25', '03:20PM', \"Stock market today: Dow, S&P 500, Nasdaq waver as Fed cuts rates, Powell says December cut is 'far from' certain\"], ['AAPL', 'Oct-29-25', '03:20PM', \"Stock market today: Dow, S&P 500, Nasdaq mixed as Fed cuts rates, Powell says December cut is 'far from' certain\"], ['AAPL', 'Oct-29-25', '02:43PM', 'Stock market today: Dow, S&P 500, Nasdaq waver as Fed cuts rates for 2nd straight meeting, Nvidia surges'], ['AAPL', 'Oct-29-25', '02:14PM', 'Apple Q4 Preview: Can iPhone 17 and AI Keep the $4 Trillion Story Alive?'], ['AAPL', 'Oct-29-25', '02:10PM', 'The Rise of Integrated Financial Platforms'], ['AAPL', 'Oct-29-25', '02:05PM', 'Stock market today: Dow, S&P 500, Nasdaq rise as Fed cuts rates for 2nd straight meeting, Nvidia surges']]\n"
          ]
        },
        {
          "output_type": "stream",
          "name": "stderr",
          "text": [
            "/tmp/ipython-input-1387133712.py:4: DeprecationWarning: Call to deprecated method findAll. (Replaced by find_all) -- Deprecated since version 4.0.0.\n",
            "  for row in news_table.findAll('tr'):\n"
          ]
        }
      ]
    },
    {
      "cell_type": "markdown",
      "source": [
        "DATA CREATING"
      ],
      "metadata": {
        "id": "ONJF4ch7C_UE"
      }
    },
    {
      "cell_type": "code",
      "source": [
        "import pandas as pd\n",
        "df=pd.DataFrame(parsed_data,columns=['ticker','date','time','title'])\n",
        "print(df.head())"
      ],
      "metadata": {
        "id": "9ksN2c_GC-lO",
        "colab": {
          "base_uri": "https://localhost:8080/"
        },
        "outputId": "ef2c820b-32ab-4bf4-9c8c-24c13dcacc1e"
      },
      "execution_count": 6,
      "outputs": [
        {
          "output_type": "stream",
          "name": "stdout",
          "text": [
            "  ticker   date     time                                              title\n",
            "0   AMZN  Today  04:10PM  Amazon's guidance gives a glimpse of what's to...\n",
            "1   AMZN  Today  04:08PM                Amazon's AWS hits the golden number\n",
            "2   AMZN  Today  04:03PM  Amazon's stock is zooming higher after a big r...\n",
            "3   AMZN  Today  04:01PM  Stock market today: Nasdaq leads S&P 500, Dow ...\n",
            "4   AMZN  Today  04:01PM         Amazon.com Announces Third Quarter Results\n"
          ]
        }
      ]
    },
    {
      "cell_type": "markdown",
      "source": [
        "# USING LEMMATIZATION\n",
        "\n",
        "\n"
      ],
      "metadata": {
        "id": "Q1PAU6wE5E1y"
      }
    },
    {
      "cell_type": "code",
      "source": [
        "import re\n",
        "import nltk\n",
        "nltk.download('stopwords')\n",
        "nltk.download('wordnet')"
      ],
      "metadata": {
        "colab": {
          "base_uri": "https://localhost:8080/"
        },
        "id": "hc55Ch2FOgbR",
        "outputId": "e50d2e61-b88c-4930-dd57-6b5e3ef46a1f"
      },
      "execution_count": 7,
      "outputs": [
        {
          "output_type": "stream",
          "name": "stderr",
          "text": [
            "[nltk_data] Downloading package stopwords to /root/nltk_data...\n",
            "[nltk_data]   Unzipping corpora/stopwords.zip.\n",
            "[nltk_data] Downloading package wordnet to /root/nltk_data...\n"
          ]
        },
        {
          "output_type": "execute_result",
          "data": {
            "text/plain": [
              "True"
            ]
          },
          "metadata": {},
          "execution_count": 7
        }
      ]
    },
    {
      "cell_type": "code",
      "source": [
        "from nltk.corpus import stopwords\n",
        "from nltk.stem import WordNetLemmatizer\n",
        "lemmatizer = WordNetLemmatizer()"
      ],
      "metadata": {
        "id": "AEujOSWhPWlX"
      },
      "execution_count": 8,
      "outputs": []
    },
    {
      "cell_type": "code",
      "source": [
        "print(df['title'])\n",
        "corpus=[]"
      ],
      "metadata": {
        "colab": {
          "base_uri": "https://localhost:8080/"
        },
        "id": "LvJ_sMRGQuLh",
        "outputId": "d9ea28fa-9893-4825-cbc1-94791633caa3"
      },
      "execution_count": 9,
      "outputs": [
        {
          "output_type": "stream",
          "name": "stdout",
          "text": [
            "0      Amazon's guidance gives a glimpse of what's to...\n",
            "1                    Amazon's AWS hits the golden number\n",
            "2      Amazon's stock is zooming higher after a big r...\n",
            "3      Stock market today: Nasdaq leads S&P 500, Dow ...\n",
            "4             Amazon.com Announces Third Quarter Results\n",
            "                             ...                        \n",
            "395    Stock market today: Dow, S&P 500, Nasdaq mixed...\n",
            "396    Stock market today: Dow, S&P 500, Nasdaq waver...\n",
            "397    Apple Q4 Preview: Can iPhone 17 and AI Keep th...\n",
            "398           The Rise of Integrated Financial Platforms\n",
            "399    Stock market today: Dow, S&P 500, Nasdaq rise ...\n",
            "Name: title, Length: 400, dtype: object\n"
          ]
        }
      ]
    },
    {
      "cell_type": "code",
      "source": [
        "for i in range(0, len(df)):\n",
        "    review = re.sub('[^a-zA-Z]', ' ', df['title'][i])\n",
        "    review = review.lower()\n",
        "    review = review.split()\n",
        "\n",
        "    review = [lemmatizer.lemmatize(word) for word in review if not word in stopwords.words('english')]\n",
        "    review = ' '.join(review)\n",
        "    print(review)  # Add this line to see the preprocessed review\n",
        "    corpus.append(review)\n"
      ],
      "metadata": {
        "colab": {
          "base_uri": "https://localhost:8080/"
        },
        "id": "tTs3fEIgQC7i",
        "outputId": "b6187b1b-47db-49a3-ef05-31a8bf4e2a03"
      },
      "execution_count": 10,
      "outputs": [
        {
          "output_type": "stream",
          "name": "stdout",
          "text": [
            "amazon guidance give glimpse come\n",
            "amazon aws hit golden number\n",
            "amazon stock zooming higher big revenue beat\n",
            "stock market today nasdaq lead p dow lower meta sink earnings apple amazon deck\n",
            "amazon com announces third quarter result\n",
            "amazon project rainier live could catalyst aws need\n",
            "stock market today nasdaq slammed meta dive apple amazon report next live coverage\n",
            "secret star amazon earnings today could advertising business\n",
            "stock market today dow p nasdaq slide meta sink earnings apple amazon ahead\n",
            "prediction ai stock worth apple stock year end\n",
            "amazon round big tech earnings know\n",
            "apple amazon earnings follow metas tough day watch\n",
            "driver left ups taking buyout analyst say\n",
            "analyst amazon\n",
            "amazon stock magnificent laggard coiled spring\n",
            "ai value stock thatll thinking there bubble\n",
            "dow losing steam still leading p nasdaq\n",
            "freight manufacturing layoff sweep across supply chain\n",
            "amazon custom trainium chip face critical moment\n",
            "government shutdown killed ipo navan stock tumble debut\n",
            "stock market today dow rise nasdaq slide meta sink earnings apple amazon ahead\n",
            "amazon set report earnings today investor know\n",
            "expect amazon earnings report aws face pressure rival\n",
            "amazon earnings deck trader bet billion biggest post earnings jump\n",
            "amazon getting leaner wake significant job cut\n",
            "payroll processor continue slide chart paylocity holding paycom software say\n",
            "amazon coming ai cash burn bullish signal time sell\n",
            "amazon earnings due soon aws match microsoft google cloud beat\n",
            "need better understanding apple ai strategy say maxim group forte\n",
            "amazon earnings strategist little nervous\n",
            "roku expected deliver solid third quarter buoyed advertising growth\n",
            "amazon stock sentiment washed still hope say analyst\n",
            "analyst say amazon amzn among best undervalued ai stock buy\n",
            "earnings data deluge\n",
            "google microsoft meta earnings ai demand stand\n",
            "amazon need deliver thing q earnings call\n",
            "microsoft alphabet meta magnificent seven earnings roundup\n",
            "pre market question fed job q earnings\n",
            "bofa double upgrade teradyne multiple growth driver ai chip robotics\n",
            "watch big number amazon report result\n",
            "smartest growth stock buy right\n",
            "magnificent seven stock fall latest round earnings\n",
            "meta platform nasdaq meta stock price prediction year oct\n",
            "stock market today dow fall trump xi talk meta plunge cost worry live coverage\n",
            "meta microsoft alphabet go ai spending know\n",
            "thursday top wall street analyst research call coinbase global meta platform boeing cisco system\n",
            "stock market today dow p nasdaq slide trump xi truce big tech earnings ahead\n",
            "amazon outlook offer window holiday demand\n",
            "time amazon earnings call tune\n",
            "broadcom hidden winner google anthropic chip deal\n",
            "here much magnificent seven matter market\n",
            "top artificial intelligence stock buy right\n",
            "u china trade truce alphabet earnings fed rate cut thing\n",
            "satellite maker endurosat get million funding google venture others\n",
            "thing know stock market open\n",
            "eye aws doubt swirl amazon cloud competitiveness\n",
            "alphabet v meta boeing airbus chipotle trending stock\n",
            "earnings live meta stock tumble microsoft slide alphabet jump big tech earnings pour\n",
            "snowflake stock fire still late buy\n",
            "investor still face wall worry despite positive u trade meeting\n",
            "everyone asking wrong question ai bubble stock buy\n",
            "amazon earnings reason aws could grow\n",
            "look amazon lagging stock performance year\n",
            "amazon earnings arrive hour pivotal moment stock\n",
            "wall street expectation amazon headline metric\n",
            "option trader primed sizable move amazon share apple much\n",
            "magnificent stock made many millionaire could make\n",
            "amazon apple earnings ecb rate decision still come week\n",
            "apple amazon headline earnings slate\n",
            "zacks investment idea feature highlight amazon com alphabet tesla\n",
            "lakeland industry grid dynamic highlighted zacks bull bear day\n",
            "stock market today dow p nasdaq hover near record high u china trade deal meta stock dive alphabet pop earnings apple amazon result tap treasury yield december rate cut pushback\n",
            "prediction ai stock worth nvidia palantir technology combined hint apple\n",
            "amazon report today aws outlook big question\n",
            "meet new chip maker aiming outrun tsmc asml\n",
            "meta microsoft test investor patience ai spending spree\n",
            "apple amazon earnings fed mortgage rate watch\n",
            "microsoft report strong earnings even azure outage brings xbox investor page\n",
            "stock market today dow p nasdaq future hit pause trump xi talk big tech earnings ahead\n",
            "stock market today dow p nasdaq future hit pause trump xi meeting big tech earnings\n",
            "stock market today dow p nasdaq future fall following trump xi meeting mixed big tech earning\n",
            "stock market today dow p nasdaq future fall mixed big tech earnings trump xi meeting\n",
            "stock market today dow p nasdaq future drop mixed big tech earnings trump xi meet ahead\n",
            "stock market today dow p nasdaq future climb following trump xi meeting mixed big tech earning\n",
            "stock market today dow p nasdaq future climb mixed big tech earnings trump xi meet underway\n",
            "earnings live meta stock tumble microsoft slide alphabet rise big tech earnings pour\n",
            "meta profit hit billion one time tax charge share fall\n",
            "meta stock sink tax hit weighs earnings company tout notably larger ai investment year ahead\n",
            "meta q earnings miss eps stock plummet\n",
            "microsoft cloud surge lift revenue expectation\n",
            "stock market today nasdaq clinch record dow p dip fed cut rate powell downplays december cut\n",
            "fiserv exec shakeup anthropic use amazon data center chip\n",
            "nvidia huang join tech titan funding trump ballroom\n",
            "amazon earnings preview verge breakout\n",
            "pre earnings check amazon com stock\n",
            "microsoft azure report cloud outage week amazon aws disruption\n",
            "stock market today dow p nasdaq waver fed cut rate powell say december cut far certain\n",
            "stock market today dow p nasdaq mixed fed cut rate powell say december cut far certain\n",
            "amazon open billion rainier data center advance anthropic partnership\n",
            "fed cut key rate powell say december move sure thing p fall live coverage\n",
            "alphabet inc goog q earnings call highlight record revenue ai driven growth\n",
            "stock market today nasdaq lead p dow lower meta sink earnings apple amazon deck\n",
            "stock market today dow p nasdaq slide meta sink earnings apple amazon ahead\n",
            "surging ai data center capex seen lifting stock\n",
            "dow lost steam hovering near breakeven\n",
            "could apple ai weakness actually turn winning strategy\n",
            "prediction ai stock worth apple stock year end\n",
            "alphabet ai winner say moffettnathanson michael nathanson\n",
            "apple amazon earnings follow metas tough day watch\n",
            "real reason alphabet stock soaring earnings\n",
            "stock moving today meta microsoft alphabet fmc c h robinson worldwide roblox metsera chipotle\n",
            "deep dive quantum computing\n",
            "dow losing steam still leading p nasdaq\n",
            "alphabet stock cycled higher today\n",
            "amazon custom trainium chip face critical moment\n",
            "google knocked earnings park microsoft decent\n",
            "worried ai bubble look surging international stock\n",
            "stock market today dow rise nasdaq slide meta sink earnings apple amazon ahead\n",
            "amazon set report earnings today investor know\n",
            "looking see meta ai reach consumer scale say goldman sachs sheridan\n",
            "alphabet report first b quarter turn massive ai infrastructure bet revenue\n",
            "googl alphabet smash billion revenue barrier first time ever\n",
            "top stock mover chipotle meta alphabet\n",
            "amazon earnings deck trader bet billion biggest post earnings jump\n",
            "amazon coming ai cash burn bullish signal time sell\n",
            "alphabet stock hit record high google parent report strong earningsmonitor key level\n",
            "amazon earnings due soon aws match microsoft google cloud beat\n",
            "google stock rise meta stock plunge tale ai story\n",
            "amazon earnings strategist little nervous\n",
            "wall street love carvana coinbase meta\n",
            "alphabet stock jump fueled rapid ai mode user adoption\n",
            "reddit set report q earnings user growth ai deal focus\n",
            "google microsoft meta earnings ai demand stand\n",
            "alphabet stock look like better play meta ai race\n",
            "amazon need deliver thing q earnings call\n",
            "alphabet stock jump earnings beat google turned ai loser winner\n",
            "meta stock slide toward worst day year wall street pan runaway ai spending\n",
            "ai boom drive trillion dollar tech valuation record bet chipmakers\n",
            "google partner ambanis reliance offer free ai pro access million jio user india\n",
            "tesla stock dont blame cybertruck recall\n",
            "magnificent seven stock fall latest round earnings\n",
            "alphabet gain investor confidence strong cash flow fund ai push\n",
            "ai spending spree rattle wall street\n",
            "meta microsoft alphabet go ai spending know\n",
            "oppenheimer downgrade meta ai spending concern\n",
            "thursday top wall street analyst research call coinbase global meta platform boeing cisco system\n",
            "google stock soar record high q earnings beat cloud outlook\n",
            "meta microsoft test investor ai fueled spending surge\n",
            "big tech test investor patience bn ai investment spree\n",
            "stock market today dow p nasdaq slide trump xi truce big tech earnings ahead\n",
            "u china trade truce alphabet earnings fed rate cut thing\n",
            "thing know stock market open\n",
            "stock watch thursday eli lilly metsera navan microsoft\n",
            "trump amazing meeting xi fed rate cut open ai ipo\n",
            "google v meta boeing airbus chipotle trending stock\n",
            "earnings live meta stock tumble microsoft slide alphabet jump big tech earnings pour\n",
            "stock market today dow fall trump xi talk meta plunge earnings live coverage\n",
            "analyst right alphabet goog capex\n",
            "royal odd fed engaging qt time cutting rate\n",
            "l uranium miner could benefit massive demand power ai\n",
            "kunst meta lot capex necessarily translate return investment\n",
            "evercore isi mark mahaney break meta alphabet q result\n",
            "everyone asking wrong question ai bubble stock buy\n",
            "market wanted boost earnings fed china talk powell disappointed\n",
            "alphabet report increase net income bn q\n",
            "tech stock buy hold next decade\n",
            "alphabet post first ever quarter billion revenue\n",
            "tech leader ramp ai spending alphabet cash flow win investor favor\n",
            "prediction ai stock worth nvidia palantir technology combined hint apple\n",
            "big tech ai cloud demand lift microsoft alphabet meta\n",
            "alphabet ai push pay search beat gemini top million user\n",
            "meet new chip maker aiming outrun tsmc asml\n",
            "analyst report alphabet inc\n",
            "nvidia nvda share surge today one picture drove billion stock gain\n",
            "microsoft earnings offer bullish read power stock\n",
            "pichai outline alphabet next act scaling ai cloud car\n",
            "microsoft massive ai spending draw investor concern cloud business boom\n",
            "youtube announces voluntary exit program u staff\n",
            "alphabet stock jump big earnings beat\n",
            "google parent alphabet post first bn quarter ai fuel growth\n",
            "microsoft report strong earnings even azure outage brings xbox investor page\n",
            "google revenue soar record ai boom lift cloud business\n",
            "google see substantial demand custom chip\n",
            "stock market today dow p nasdaq future drop mixed big tech earnings trump xi meet ahead\n",
            "alphabet doubling ai productivity\n",
            "alphabet free cash flow see boost even ai spending rise\n",
            "mixed share reaction megacap earnings burst meta droop\n",
            "ai supercharging youtube monetization\n",
            "google catching meta pulled share following earnings say davidson gil luria\n",
            "alphabet lift capex guidance billion ai demand strain cloud infrastructure\n",
            "podcast powell cast doubt december rate cut\n",
            "google search business proving resilient ai era\n",
            "google parent alphabet beat forecast first bn quarter\n",
            "alphabet earnings call begin tune\n",
            "alphabet inc goog beat q earnings revenue estimate\n",
            "google search youtube fuel ad growth\n",
            "google earnings beat search cloud youtube revenue top view\n",
            "alphabet stock pop seen clear ai winner\n",
            "alphabet quarterly revenue top billion first time\n",
            "kayak ceo million writedown google squeezed travel industry\n",
            "comcast keep bar high hint deal could come versant spin\n",
            "netflix nflx one best nasdaq growth stock buy next year\n",
            "snowflake stock fire still late buy\n",
            "prediction prominent stock split\n",
            "netflix lean success kpop demon hunter new hasbro mattel partnership enough excite investor\n",
            "mega cap stock lowest rsi upside\n",
            "upcoming global content drive nflx engagement near term\n",
            "wall street think netflix nflx q earnings\n",
            "thing investor need know netflix stock recent dive\n",
            "favorite stock buy right\n",
            "reason fan netflix nflx\n",
            "analyst report netflix inc\n",
            "final trade netflix vistra paypal qqq\n",
            "netflix stock loses steam buy nflx dip\n",
            "service mac ipad fare apple q earnings\n",
            "interesting analyst question netflix q earnings call\n",
            "poor earnings netflix stock set option trade weakness\n",
            "netflix plunge post q earnings buy sell hold stock\n",
            "unlocking netflix nflx international revenue trend surprise prospect\n",
            "know beyond netflix inc nflx trending stock\n",
            "netflix move screen shelf could genius diversification play\n",
            "kpop netflix hunter bounce back week\n",
            "zacks analyst blog highlight mastercard netflix citigroup oil dri perma pipe\n",
            "smartest growth stock buy right\n",
            "investor buy netflix dip\n",
            "growth stock buy right\n",
            "netflix investor get stock split latest quarterly report got something better\n",
            "amazing week stock\n",
            "earnings season impressive start\n",
            "favorite stock buy right\n",
            "netflix stock took nosedive last week buy dip sign shut screen\n",
            "netflix stock buy sell hold heading\n",
            "marketbeat week review\n",
            "got tech stock buy hold long term\n",
            "jim cramer netflix think sell overreaction\n",
            "score netflix amazon com six flag stock defined week\n",
            "could netflix stock join trillion dollar club\n",
            "jim cramer take contrarian view netflix nflx earnings\n",
            "top stock report mastercard netflix citigroup\n",
            "cathie wood bought dip netflix stock\n",
            "stock market climbed new high keep knock perch\n",
            "better growth stock buy netflix v trade desk\n",
            "wall street resume winning way cpi earnings optimism\n",
            "soft inflation data drive major index record high\n",
            "foxa v nflx stock value investor buy\n",
            "buy netflix stock right\n",
            "stock market hit new high shrugging gold ai fear tesla netflix focus weekly review\n",
            "netflix produce strong fcf q margin nflx look cheap\n",
            "market due correction despite strong earnings\n",
            "time buy netflix stock\n",
            "veteran analyst take surprising move netflix stock earnings\n",
            "warner bros bidding war potential high could wbd share go\n",
            "analyst eye upside netflix q earnings crash\n",
            "earnings live intel stock surge ford rise hour decker drop\n",
            "hasbro ceo talk netflix partnership kpop demon hunter toy\n",
            "final trade salesforce ibm la vega sand netflix\n",
            "trade tracker josh brown buy netflix\n",
            "hasbro tariff battle could make playtime pricier\n",
            "tech trigger market turnaround nasdaq pop triple digit\n",
            "netflix nflx rewarded patient investor\n",
            "hasbro top q estimate ceo talk cheery outlook toy sale\n",
            "stock market news oct\n",
            "netflix lag q earnings yet ups free cash flow view etf spotlight\n",
            "cathie wood go shopping stock bought\n",
            "josh brown say netflix nflx sat ai mania change\n",
            "meet monster stock continues crush market\n",
            "netflix share drop growth outlook disappoints\n",
            "earnings live tesla stock fall earnings miss american airline climb ibm hasbro sink\n",
            "netflix nflx end day run million tax blow\n",
            "netflix stock drop time sell\n",
            "ubs keep bullish stance netflix nflx cite strong direct consumer streaming position content lineup\n",
            "netflixs stock price sent reeling q earnings\n",
            "analyst report netflix inc\n",
            "netflix cash kpop demon hunter aim win holiday season\n",
            "buy dip ge aerospace netflix stock q earnings\n",
            "mattel hasbro investor need know toy stock\n",
            "toy stock hasbro mattel partner netflix kpop demon hunter\n",
            "earnings live tesla stock fall earnings miss ibm sink\n",
            "u china trade drama continues stock gap lower\n",
            "stock moved today netflix tesla texas instrument intuitive surgical winnebago ge vernova\n",
            "netflix stock fall q earnings miss estimate operating profit take hit\n",
            "nasdaq drop tech fear\n",
            "stock market today dow p nasdaq fall netflix sink tesla earnings loom\n",
            "netflix rule bidding warner bros\n",
            "netflix knock park wedbush reese\n",
            "netflix q earnings preview kpop demon hunter help streamer beat estimate\n",
            "netflix earnings hit brazil tax blow\n",
            "squawk pod nhl deal kalshi ceo ai airbnb ceo audio\n",
            "netflix sink earnings need know\n",
            "stock moving today netflix tesla texas instrument intuitive surgical winnebago ge vernova\n",
            "pricing ad momentum lift netflix q view upside sustainable\n",
            "netflix stock slumping today\n",
            "netflix earnings came jump scare stock p biggest loser\n",
            "top stock mover netflix texas instrument intuitive surgical\n",
            "netflix revenue could double revenue year end\n",
            "netflix stock post earnings slump overdone\n",
            "risk appetite fading wall street tech stock small cap crypto pressure\n",
            "stock lower netflix earnings drag nasdaq\n",
            "netflix nflx stock falling today\n",
            "nflx q earnings miss brazilian tax dispute post record ad sale\n",
            "stock market today nasdaq lead p dow lower meta sink earnings apple amazon deck\n",
            "apple key growth lie ai device\n",
            "globalstar draw spacex interest sale process bloomberg news report\n",
            "stock market today nasdaq slammed meta dive apple amazon report next live coverage\n",
            "apple report earnings new iphone lineup reignites worldwide demand\n",
            "globalstar share climb report potential spacex interest\n",
            "apple close time high\n",
            "stock market today dow p nasdaq slide meta sink earnings apple amazon ahead\n",
            "could apple ai weakness actually turn winning strategy\n",
            "apple need pristine quarter satisfy investor say moffettnathanson craig moffett\n",
            "apple amazon earnings follow metas tough day watch\n",
            "mvst v arm holding tech growth stock better placed\n",
            "reason apple stock hit time high\n",
            "stock moving today meta microsoft alphabet fmc c h robinson worldwide roblox metsera chipotle\n",
            "apple zigged rival zagged ai spending\n",
            "apple set report earnings today need know\n",
            "apple ceo iphone pitch clear message user\n",
            "stock market today dow rise nasdaq slide meta sink earnings apple amazon ahead\n",
            "apple earnings report shaping battleground\n",
            "apple look keep string earnings beat going\n",
            "apple q estimate avalon expectation meter q edition\n",
            "apple share rising ahead earnings\n",
            "thought heading apple q earnings iphone supply demand imbalance apple hit trillion market cap\n",
            "amazon coming ai cash burn bullish signal time sell\n",
            "schd isnt option monthly etf better long term gain\n",
            "apple bear sold iphone recent strength\n",
            "need better understanding apple ai strategy say maxim group forte\n",
            "smartphones soon see lock screen ad\n",
            "amazon earnings strategist little nervous\n",
            "earnings data deluge\n",
            "apple q earnings incoming could iphone surprise shake wall street\n",
            "early indication hot iphone demand last\n",
            "google microsoft meta earnings ai demand stand\n",
            "trump xi trade truce leaf question rare earth stock fall\n",
            "microsoft alphabet meta magnificent seven earnings roundup\n",
            "pre market question fed job q earnings\n",
            "bofa double upgrade teradyne multiple growth driver ai chip robotics\n",
            "openai worth trillion possible ipo plan\n",
            "ai boom drive trillion dollar tech valuation record bet chipmakers\n",
            "magnificent seven stock fall latest round earnings\n",
            "analyst see upside potential apple earnings report\n",
            "meta platform nasdaq meta stock price prediction year oct\n",
            "meta microsoft alphabet go ai spending know\n",
            "thursday top wall street analyst research call coinbase global meta platform boeing cisco system\n",
            "apple stock year\n",
            "stock market today dow p nasdaq slide trump xi truce big tech earnings ahead\n",
            "analyst explains selling apple aapl share victim success\n",
            "analyst say apple aapl iphone result super cycle think stock valuation justified\n",
            "u china trade truce alphabet earnings fed rate cut thing\n",
            "apple stock rise premarket trading\n",
            "apple added new line resume ahead earnings\n",
            "stock market today dow fall trump xi talk meta plunge earnings live coverage\n",
            "thing know stock market open\n",
            "alphabet v meta boeing airbus chipotle trending stock\n",
            "earnings live meta stock tumble microsoft slide alphabet jump big tech earnings pour\n",
            "investor still face wall worry despite positive u trade meeting\n",
            "time apple report earnings thursday tune\n",
            "apple strong iphone performance fluke last time soon find\n",
            "unresolved big tech fed trade talk provide wall street little clarity\n",
            "apple earnings report hour away come iphone momentum\n",
            "key number watch apple report earnings\n",
            "option trader primed sizable move amazon share apple much\n",
            "apple earnings deck iphone sale china ai focus\n",
            "amazon apple earnings ecb rate decision still come week\n",
            "stock moving today microsoft alphabet meta nvidia chipotle carvana fmc\n",
            "stock watch thursday meta alphabet chipotle\n",
            "apple amazon headline earnings slate\n",
            "analyst got lot people apple aapl stock say jim cramer\n",
            "zacks investment idea feature highlight apple robinhood coinbase draftkings flutter\n",
            "top value stock buy even close\n",
            "stock market today dow p nasdaq hover near record high u china trade deal meta stock dive alphabet pop earnings apple amazon result tap treasury yield december rate cut pushback\n",
            "apple earnings iphone sale ai tim cook watch\n",
            "apple earnings almost key test ahead holiday\n",
            "berkshire likely stellar quarter stock buyback wild card\n",
            "meta microsoft test investor patience ai spending spree\n",
            "dear apple stock fan mark calendar october\n",
            "ceo apple airbnb pepsico agree one thing life business leader incredibly lonely\n",
            "apple amazon earnings fed mortgage rate watch\n",
            "stock market today dow p nasdaq future hit pause trump xi meeting big tech earnings\n",
            "stock market today dow p nasdaq future fall following trump xi meeting mixed big tech earning\n",
            "stock market today dow p nasdaq future fall mixed big tech earnings trump xi meeting\n",
            "stock market today dow p nasdaq future drop mixed big tech earnings trump xi meet ahead\n",
            "stock market today dow p nasdaq future climb following trump xi meeting mixed big tech earning\n",
            "stock market today dow p nasdaq future climb mixed big tech earnings trump xi meet underway\n",
            "skyworks ceo see chance save power ai driven phone qorvo deal\n",
            "ai bull market raising diversification red flag\n",
            "apple ceo tim cook iphone launch important day year u\n",
            "earnings live meta stock tumble microsoft slide alphabet rise big tech earnings pour\n",
            "microsoft quarterly sale profit surge beating wall street expectation\n",
            "meta stock sink tax hit weighs earnings company tout notably larger ai investment year ahead\n",
            "meta q earnings miss eps stock plummet\n",
            "stock market today nasdaq clinch record dow p dip fed cut rate powell downplays december cut\n",
            "nvidia huang join tech titan funding trump ballroom\n",
            "nvidia stock still buy trillion top\n",
            "stock market today dow p nasdaq waver fed cut rate powell say december cut far certain\n",
            "stock market today dow p nasdaq mixed fed cut rate powell say december cut far certain\n",
            "stock market today dow p nasdaq waver fed cut rate nd straight meeting nvidia surge\n",
            "apple q preview iphone ai keep trillion story alive\n",
            "rise integrated financial platform\n",
            "stock market today dow p nasdaq rise fed cut rate nd straight meeting nvidia surge\n"
          ]
        }
      ]
    },
    {
      "cell_type": "code",
      "source": [
        "print(corpus)"
      ],
      "metadata": {
        "colab": {
          "base_uri": "https://localhost:8080/"
        },
        "id": "6S_LjusSRtTg",
        "outputId": "c2762ece-dc76-4af1-ddf5-cfab394c6c0d"
      },
      "execution_count": 11,
      "outputs": [
        {
          "output_type": "stream",
          "name": "stdout",
          "text": [
            "['amazon guidance give glimpse come', 'amazon aws hit golden number', 'amazon stock zooming higher big revenue beat', 'stock market today nasdaq lead p dow lower meta sink earnings apple amazon deck', 'amazon com announces third quarter result', 'amazon project rainier live could catalyst aws need', 'stock market today nasdaq slammed meta dive apple amazon report next live coverage', 'secret star amazon earnings today could advertising business', 'stock market today dow p nasdaq slide meta sink earnings apple amazon ahead', 'prediction ai stock worth apple stock year end', 'amazon round big tech earnings know', 'apple amazon earnings follow metas tough day watch', 'driver left ups taking buyout analyst say', 'analyst amazon', 'amazon stock magnificent laggard coiled spring', 'ai value stock thatll thinking there bubble', 'dow losing steam still leading p nasdaq', 'freight manufacturing layoff sweep across supply chain', 'amazon custom trainium chip face critical moment', 'government shutdown killed ipo navan stock tumble debut', 'stock market today dow rise nasdaq slide meta sink earnings apple amazon ahead', 'amazon set report earnings today investor know', 'expect amazon earnings report aws face pressure rival', 'amazon earnings deck trader bet billion biggest post earnings jump', 'amazon getting leaner wake significant job cut', 'payroll processor continue slide chart paylocity holding paycom software say', 'amazon coming ai cash burn bullish signal time sell', 'amazon earnings due soon aws match microsoft google cloud beat', 'need better understanding apple ai strategy say maxim group forte', 'amazon earnings strategist little nervous', 'roku expected deliver solid third quarter buoyed advertising growth', 'amazon stock sentiment washed still hope say analyst', 'analyst say amazon amzn among best undervalued ai stock buy', 'earnings data deluge', 'google microsoft meta earnings ai demand stand', 'amazon need deliver thing q earnings call', 'microsoft alphabet meta magnificent seven earnings roundup', 'pre market question fed job q earnings', 'bofa double upgrade teradyne multiple growth driver ai chip robotics', 'watch big number amazon report result', 'smartest growth stock buy right', 'magnificent seven stock fall latest round earnings', 'meta platform nasdaq meta stock price prediction year oct', 'stock market today dow fall trump xi talk meta plunge cost worry live coverage', 'meta microsoft alphabet go ai spending know', 'thursday top wall street analyst research call coinbase global meta platform boeing cisco system', 'stock market today dow p nasdaq slide trump xi truce big tech earnings ahead', 'amazon outlook offer window holiday demand', 'time amazon earnings call tune', 'broadcom hidden winner google anthropic chip deal', 'here much magnificent seven matter market', 'top artificial intelligence stock buy right', 'u china trade truce alphabet earnings fed rate cut thing', 'satellite maker endurosat get million funding google venture others', 'thing know stock market open', 'eye aws doubt swirl amazon cloud competitiveness', 'alphabet v meta boeing airbus chipotle trending stock', 'earnings live meta stock tumble microsoft slide alphabet jump big tech earnings pour', 'snowflake stock fire still late buy', 'investor still face wall worry despite positive u trade meeting', 'everyone asking wrong question ai bubble stock buy', 'amazon earnings reason aws could grow', 'look amazon lagging stock performance year', 'amazon earnings arrive hour pivotal moment stock', 'wall street expectation amazon headline metric', 'option trader primed sizable move amazon share apple much', 'magnificent stock made many millionaire could make', 'amazon apple earnings ecb rate decision still come week', 'apple amazon headline earnings slate', 'zacks investment idea feature highlight amazon com alphabet tesla', 'lakeland industry grid dynamic highlighted zacks bull bear day', 'stock market today dow p nasdaq hover near record high u china trade deal meta stock dive alphabet pop earnings apple amazon result tap treasury yield december rate cut pushback', 'prediction ai stock worth nvidia palantir technology combined hint apple', 'amazon report today aws outlook big question', 'meet new chip maker aiming outrun tsmc asml', 'meta microsoft test investor patience ai spending spree', 'apple amazon earnings fed mortgage rate watch', 'microsoft report strong earnings even azure outage brings xbox investor page', 'stock market today dow p nasdaq future hit pause trump xi talk big tech earnings ahead', 'stock market today dow p nasdaq future hit pause trump xi meeting big tech earnings', 'stock market today dow p nasdaq future fall following trump xi meeting mixed big tech earning', 'stock market today dow p nasdaq future fall mixed big tech earnings trump xi meeting', 'stock market today dow p nasdaq future drop mixed big tech earnings trump xi meet ahead', 'stock market today dow p nasdaq future climb following trump xi meeting mixed big tech earning', 'stock market today dow p nasdaq future climb mixed big tech earnings trump xi meet underway', 'earnings live meta stock tumble microsoft slide alphabet rise big tech earnings pour', 'meta profit hit billion one time tax charge share fall', 'meta stock sink tax hit weighs earnings company tout notably larger ai investment year ahead', 'meta q earnings miss eps stock plummet', 'microsoft cloud surge lift revenue expectation', 'stock market today nasdaq clinch record dow p dip fed cut rate powell downplays december cut', 'fiserv exec shakeup anthropic use amazon data center chip', 'nvidia huang join tech titan funding trump ballroom', 'amazon earnings preview verge breakout', 'pre earnings check amazon com stock', 'microsoft azure report cloud outage week amazon aws disruption', 'stock market today dow p nasdaq waver fed cut rate powell say december cut far certain', 'stock market today dow p nasdaq mixed fed cut rate powell say december cut far certain', 'amazon open billion rainier data center advance anthropic partnership', 'fed cut key rate powell say december move sure thing p fall live coverage', 'alphabet inc goog q earnings call highlight record revenue ai driven growth', 'stock market today nasdaq lead p dow lower meta sink earnings apple amazon deck', 'stock market today dow p nasdaq slide meta sink earnings apple amazon ahead', 'surging ai data center capex seen lifting stock', 'dow lost steam hovering near breakeven', 'could apple ai weakness actually turn winning strategy', 'prediction ai stock worth apple stock year end', 'alphabet ai winner say moffettnathanson michael nathanson', 'apple amazon earnings follow metas tough day watch', 'real reason alphabet stock soaring earnings', 'stock moving today meta microsoft alphabet fmc c h robinson worldwide roblox metsera chipotle', 'deep dive quantum computing', 'dow losing steam still leading p nasdaq', 'alphabet stock cycled higher today', 'amazon custom trainium chip face critical moment', 'google knocked earnings park microsoft decent', 'worried ai bubble look surging international stock', 'stock market today dow rise nasdaq slide meta sink earnings apple amazon ahead', 'amazon set report earnings today investor know', 'looking see meta ai reach consumer scale say goldman sachs sheridan', 'alphabet report first b quarter turn massive ai infrastructure bet revenue', 'googl alphabet smash billion revenue barrier first time ever', 'top stock mover chipotle meta alphabet', 'amazon earnings deck trader bet billion biggest post earnings jump', 'amazon coming ai cash burn bullish signal time sell', 'alphabet stock hit record high google parent report strong earningsmonitor key level', 'amazon earnings due soon aws match microsoft google cloud beat', 'google stock rise meta stock plunge tale ai story', 'amazon earnings strategist little nervous', 'wall street love carvana coinbase meta', 'alphabet stock jump fueled rapid ai mode user adoption', 'reddit set report q earnings user growth ai deal focus', 'google microsoft meta earnings ai demand stand', 'alphabet stock look like better play meta ai race', 'amazon need deliver thing q earnings call', 'alphabet stock jump earnings beat google turned ai loser winner', 'meta stock slide toward worst day year wall street pan runaway ai spending', 'ai boom drive trillion dollar tech valuation record bet chipmakers', 'google partner ambanis reliance offer free ai pro access million jio user india', 'tesla stock dont blame cybertruck recall', 'magnificent seven stock fall latest round earnings', 'alphabet gain investor confidence strong cash flow fund ai push', 'ai spending spree rattle wall street', 'meta microsoft alphabet go ai spending know', 'oppenheimer downgrade meta ai spending concern', 'thursday top wall street analyst research call coinbase global meta platform boeing cisco system', 'google stock soar record high q earnings beat cloud outlook', 'meta microsoft test investor ai fueled spending surge', 'big tech test investor patience bn ai investment spree', 'stock market today dow p nasdaq slide trump xi truce big tech earnings ahead', 'u china trade truce alphabet earnings fed rate cut thing', 'thing know stock market open', 'stock watch thursday eli lilly metsera navan microsoft', 'trump amazing meeting xi fed rate cut open ai ipo', 'google v meta boeing airbus chipotle trending stock', 'earnings live meta stock tumble microsoft slide alphabet jump big tech earnings pour', 'stock market today dow fall trump xi talk meta plunge earnings live coverage', 'analyst right alphabet goog capex', 'royal odd fed engaging qt time cutting rate', 'l uranium miner could benefit massive demand power ai', 'kunst meta lot capex necessarily translate return investment', 'evercore isi mark mahaney break meta alphabet q result', 'everyone asking wrong question ai bubble stock buy', 'market wanted boost earnings fed china talk powell disappointed', 'alphabet report increase net income bn q', 'tech stock buy hold next decade', 'alphabet post first ever quarter billion revenue', 'tech leader ramp ai spending alphabet cash flow win investor favor', 'prediction ai stock worth nvidia palantir technology combined hint apple', 'big tech ai cloud demand lift microsoft alphabet meta', 'alphabet ai push pay search beat gemini top million user', 'meet new chip maker aiming outrun tsmc asml', 'analyst report alphabet inc', 'nvidia nvda share surge today one picture drove billion stock gain', 'microsoft earnings offer bullish read power stock', 'pichai outline alphabet next act scaling ai cloud car', 'microsoft massive ai spending draw investor concern cloud business boom', 'youtube announces voluntary exit program u staff', 'alphabet stock jump big earnings beat', 'google parent alphabet post first bn quarter ai fuel growth', 'microsoft report strong earnings even azure outage brings xbox investor page', 'google revenue soar record ai boom lift cloud business', 'google see substantial demand custom chip', 'stock market today dow p nasdaq future drop mixed big tech earnings trump xi meet ahead', 'alphabet doubling ai productivity', 'alphabet free cash flow see boost even ai spending rise', 'mixed share reaction megacap earnings burst meta droop', 'ai supercharging youtube monetization', 'google catching meta pulled share following earnings say davidson gil luria', 'alphabet lift capex guidance billion ai demand strain cloud infrastructure', 'podcast powell cast doubt december rate cut', 'google search business proving resilient ai era', 'google parent alphabet beat forecast first bn quarter', 'alphabet earnings call begin tune', 'alphabet inc goog beat q earnings revenue estimate', 'google search youtube fuel ad growth', 'google earnings beat search cloud youtube revenue top view', 'alphabet stock pop seen clear ai winner', 'alphabet quarterly revenue top billion first time', 'kayak ceo million writedown google squeezed travel industry', 'comcast keep bar high hint deal could come versant spin', 'netflix nflx one best nasdaq growth stock buy next year', 'snowflake stock fire still late buy', 'prediction prominent stock split', 'netflix lean success kpop demon hunter new hasbro mattel partnership enough excite investor', 'mega cap stock lowest rsi upside', 'upcoming global content drive nflx engagement near term', 'wall street think netflix nflx q earnings', 'thing investor need know netflix stock recent dive', 'favorite stock buy right', 'reason fan netflix nflx', 'analyst report netflix inc', 'final trade netflix vistra paypal qqq', 'netflix stock loses steam buy nflx dip', 'service mac ipad fare apple q earnings', 'interesting analyst question netflix q earnings call', 'poor earnings netflix stock set option trade weakness', 'netflix plunge post q earnings buy sell hold stock', 'unlocking netflix nflx international revenue trend surprise prospect', 'know beyond netflix inc nflx trending stock', 'netflix move screen shelf could genius diversification play', 'kpop netflix hunter bounce back week', 'zacks analyst blog highlight mastercard netflix citigroup oil dri perma pipe', 'smartest growth stock buy right', 'investor buy netflix dip', 'growth stock buy right', 'netflix investor get stock split latest quarterly report got something better', 'amazing week stock', 'earnings season impressive start', 'favorite stock buy right', 'netflix stock took nosedive last week buy dip sign shut screen', 'netflix stock buy sell hold heading', 'marketbeat week review', 'got tech stock buy hold long term', 'jim cramer netflix think sell overreaction', 'score netflix amazon com six flag stock defined week', 'could netflix stock join trillion dollar club', 'jim cramer take contrarian view netflix nflx earnings', 'top stock report mastercard netflix citigroup', 'cathie wood bought dip netflix stock', 'stock market climbed new high keep knock perch', 'better growth stock buy netflix v trade desk', 'wall street resume winning way cpi earnings optimism', 'soft inflation data drive major index record high', 'foxa v nflx stock value investor buy', 'buy netflix stock right', 'stock market hit new high shrugging gold ai fear tesla netflix focus weekly review', 'netflix produce strong fcf q margin nflx look cheap', 'market due correction despite strong earnings', 'time buy netflix stock', 'veteran analyst take surprising move netflix stock earnings', 'warner bros bidding war potential high could wbd share go', 'analyst eye upside netflix q earnings crash', 'earnings live intel stock surge ford rise hour decker drop', 'hasbro ceo talk netflix partnership kpop demon hunter toy', 'final trade salesforce ibm la vega sand netflix', 'trade tracker josh brown buy netflix', 'hasbro tariff battle could make playtime pricier', 'tech trigger market turnaround nasdaq pop triple digit', 'netflix nflx rewarded patient investor', 'hasbro top q estimate ceo talk cheery outlook toy sale', 'stock market news oct', 'netflix lag q earnings yet ups free cash flow view etf spotlight', 'cathie wood go shopping stock bought', 'josh brown say netflix nflx sat ai mania change', 'meet monster stock continues crush market', 'netflix share drop growth outlook disappoints', 'earnings live tesla stock fall earnings miss american airline climb ibm hasbro sink', 'netflix nflx end day run million tax blow', 'netflix stock drop time sell', 'ubs keep bullish stance netflix nflx cite strong direct consumer streaming position content lineup', 'netflixs stock price sent reeling q earnings', 'analyst report netflix inc', 'netflix cash kpop demon hunter aim win holiday season', 'buy dip ge aerospace netflix stock q earnings', 'mattel hasbro investor need know toy stock', 'toy stock hasbro mattel partner netflix kpop demon hunter', 'earnings live tesla stock fall earnings miss ibm sink', 'u china trade drama continues stock gap lower', 'stock moved today netflix tesla texas instrument intuitive surgical winnebago ge vernova', 'netflix stock fall q earnings miss estimate operating profit take hit', 'nasdaq drop tech fear', 'stock market today dow p nasdaq fall netflix sink tesla earnings loom', 'netflix rule bidding warner bros', 'netflix knock park wedbush reese', 'netflix q earnings preview kpop demon hunter help streamer beat estimate', 'netflix earnings hit brazil tax blow', 'squawk pod nhl deal kalshi ceo ai airbnb ceo audio', 'netflix sink earnings need know', 'stock moving today netflix tesla texas instrument intuitive surgical winnebago ge vernova', 'pricing ad momentum lift netflix q view upside sustainable', 'netflix stock slumping today', 'netflix earnings came jump scare stock p biggest loser', 'top stock mover netflix texas instrument intuitive surgical', 'netflix revenue could double revenue year end', 'netflix stock post earnings slump overdone', 'risk appetite fading wall street tech stock small cap crypto pressure', 'stock lower netflix earnings drag nasdaq', 'netflix nflx stock falling today', 'nflx q earnings miss brazilian tax dispute post record ad sale', 'stock market today nasdaq lead p dow lower meta sink earnings apple amazon deck', 'apple key growth lie ai device', 'globalstar draw spacex interest sale process bloomberg news report', 'stock market today nasdaq slammed meta dive apple amazon report next live coverage', 'apple report earnings new iphone lineup reignites worldwide demand', 'globalstar share climb report potential spacex interest', 'apple close time high', 'stock market today dow p nasdaq slide meta sink earnings apple amazon ahead', 'could apple ai weakness actually turn winning strategy', 'apple need pristine quarter satisfy investor say moffettnathanson craig moffett', 'apple amazon earnings follow metas tough day watch', 'mvst v arm holding tech growth stock better placed', 'reason apple stock hit time high', 'stock moving today meta microsoft alphabet fmc c h robinson worldwide roblox metsera chipotle', 'apple zigged rival zagged ai spending', 'apple set report earnings today need know', 'apple ceo iphone pitch clear message user', 'stock market today dow rise nasdaq slide meta sink earnings apple amazon ahead', 'apple earnings report shaping battleground', 'apple look keep string earnings beat going', 'apple q estimate avalon expectation meter q edition', 'apple share rising ahead earnings', 'thought heading apple q earnings iphone supply demand imbalance apple hit trillion market cap', 'amazon coming ai cash burn bullish signal time sell', 'schd isnt option monthly etf better long term gain', 'apple bear sold iphone recent strength', 'need better understanding apple ai strategy say maxim group forte', 'smartphones soon see lock screen ad', 'amazon earnings strategist little nervous', 'earnings data deluge', 'apple q earnings incoming could iphone surprise shake wall street', 'early indication hot iphone demand last', 'google microsoft meta earnings ai demand stand', 'trump xi trade truce leaf question rare earth stock fall', 'microsoft alphabet meta magnificent seven earnings roundup', 'pre market question fed job q earnings', 'bofa double upgrade teradyne multiple growth driver ai chip robotics', 'openai worth trillion possible ipo plan', 'ai boom drive trillion dollar tech valuation record bet chipmakers', 'magnificent seven stock fall latest round earnings', 'analyst see upside potential apple earnings report', 'meta platform nasdaq meta stock price prediction year oct', 'meta microsoft alphabet go ai spending know', 'thursday top wall street analyst research call coinbase global meta platform boeing cisco system', 'apple stock year', 'stock market today dow p nasdaq slide trump xi truce big tech earnings ahead', 'analyst explains selling apple aapl share victim success', 'analyst say apple aapl iphone result super cycle think stock valuation justified', 'u china trade truce alphabet earnings fed rate cut thing', 'apple stock rise premarket trading', 'apple added new line resume ahead earnings', 'stock market today dow fall trump xi talk meta plunge earnings live coverage', 'thing know stock market open', 'alphabet v meta boeing airbus chipotle trending stock', 'earnings live meta stock tumble microsoft slide alphabet jump big tech earnings pour', 'investor still face wall worry despite positive u trade meeting', 'time apple report earnings thursday tune', 'apple strong iphone performance fluke last time soon find', 'unresolved big tech fed trade talk provide wall street little clarity', 'apple earnings report hour away come iphone momentum', 'key number watch apple report earnings', 'option trader primed sizable move amazon share apple much', 'apple earnings deck iphone sale china ai focus', 'amazon apple earnings ecb rate decision still come week', 'stock moving today microsoft alphabet meta nvidia chipotle carvana fmc', 'stock watch thursday meta alphabet chipotle', 'apple amazon headline earnings slate', 'analyst got lot people apple aapl stock say jim cramer', 'zacks investment idea feature highlight apple robinhood coinbase draftkings flutter', 'top value stock buy even close', 'stock market today dow p nasdaq hover near record high u china trade deal meta stock dive alphabet pop earnings apple amazon result tap treasury yield december rate cut pushback', 'apple earnings iphone sale ai tim cook watch', 'apple earnings almost key test ahead holiday', 'berkshire likely stellar quarter stock buyback wild card', 'meta microsoft test investor patience ai spending spree', 'dear apple stock fan mark calendar october', 'ceo apple airbnb pepsico agree one thing life business leader incredibly lonely', 'apple amazon earnings fed mortgage rate watch', 'stock market today dow p nasdaq future hit pause trump xi meeting big tech earnings', 'stock market today dow p nasdaq future fall following trump xi meeting mixed big tech earning', 'stock market today dow p nasdaq future fall mixed big tech earnings trump xi meeting', 'stock market today dow p nasdaq future drop mixed big tech earnings trump xi meet ahead', 'stock market today dow p nasdaq future climb following trump xi meeting mixed big tech earning', 'stock market today dow p nasdaq future climb mixed big tech earnings trump xi meet underway', 'skyworks ceo see chance save power ai driven phone qorvo deal', 'ai bull market raising diversification red flag', 'apple ceo tim cook iphone launch important day year u', 'earnings live meta stock tumble microsoft slide alphabet rise big tech earnings pour', 'microsoft quarterly sale profit surge beating wall street expectation', 'meta stock sink tax hit weighs earnings company tout notably larger ai investment year ahead', 'meta q earnings miss eps stock plummet', 'stock market today nasdaq clinch record dow p dip fed cut rate powell downplays december cut', 'nvidia huang join tech titan funding trump ballroom', 'nvidia stock still buy trillion top', 'stock market today dow p nasdaq waver fed cut rate powell say december cut far certain', 'stock market today dow p nasdaq mixed fed cut rate powell say december cut far certain', 'stock market today dow p nasdaq waver fed cut rate nd straight meeting nvidia surge', 'apple q preview iphone ai keep trillion story alive', 'rise integrated financial platform', 'stock market today dow p nasdaq rise fed cut rate nd straight meeting nvidia surge']\n"
          ]
        }
      ]
    },
    {
      "cell_type": "markdown",
      "source": [
        " #  Creating the Bag of Words model\n"
      ],
      "metadata": {
        "id": "QnyL4gShYRM7"
      }
    },
    {
      "cell_type": "code",
      "source": [
        "from sklearn.feature_extraction.text import CountVectorizer\n",
        "\n",
        "cv = CountVectorizer(max_features=2500)\n",
        "X = cv.fit_transform(corpus).toarray()\n",
        "\n"
      ],
      "metadata": {
        "id": "ZctIEihqV8hQ"
      },
      "execution_count": 12,
      "outputs": []
    },
    {
      "cell_type": "code",
      "source": [
        "print(X)"
      ],
      "metadata": {
        "colab": {
          "base_uri": "https://localhost:8080/"
        },
        "id": "lQIyAv8FhDar",
        "outputId": "a8959302-fff2-437c-84d0-bb6e4a2dce98"
      },
      "execution_count": 13,
      "outputs": [
        {
          "output_type": "stream",
          "name": "stdout",
          "text": [
            "[[0 0 0 ... 0 0 0]\n",
            " [0 0 0 ... 0 0 0]\n",
            " [0 0 0 ... 0 0 1]\n",
            " ...\n",
            " [0 0 0 ... 0 0 0]\n",
            " [0 0 0 ... 0 0 0]\n",
            " [0 0 0 ... 0 0 0]]\n"
          ]
        }
      ]
    },
    {
      "cell_type": "code",
      "source": [
        "X.shape"
      ],
      "metadata": {
        "colab": {
          "base_uri": "https://localhost:8080/"
        },
        "id": "30FCHPKLTFkW",
        "outputId": "4f661ed0-27d4-423a-dd37-50226c491a51"
      },
      "execution_count": 14,
      "outputs": [
        {
          "output_type": "execute_result",
          "data": {
            "text/plain": [
              "(400, 868)"
            ]
          },
          "metadata": {},
          "execution_count": 14
        }
      ]
    },
    {
      "cell_type": "markdown",
      "source": [
        "# USING K-MEANS"
      ],
      "metadata": {
        "id": "tMnPTaMddj3i"
      }
    },
    {
      "cell_type": "code",
      "source": [
        "import pandas as pd\n",
        "from sklearn.feature_extraction.text import CountVectorizer\n",
        "from sklearn.cluster import KMeans\n",
        "\n",
        "\n",
        "\n",
        "\n",
        "# Perform K-Means clustering\n",
        "k = 3\n",
        "kmeans = KMeans(n_clusters=k)\n",
        "cluster_labels = kmeans.fit_predict(X)\n",
        "\n",
        "cluster_sentiment = {\n",
        "    0: \"positive\",\n",
        "    1: \"negative\",\n",
        "    2: \"neutral\"\n",
        "}\n",
        "\n",
        "# Print cluster labels\n",
        "print(cluster_labels)\n"
      ],
      "metadata": {
        "colab": {
          "base_uri": "https://localhost:8080/"
        },
        "id": "ploinuXWYZgH",
        "outputId": "1713ba26-57a7-4395-e14b-1fc85b888286"
      },
      "execution_count": 15,
      "outputs": [
        {
          "output_type": "stream",
          "name": "stdout",
          "text": [
            "[2 2 1 2 2 2 2 2 2 1 2 2 0 2 1 1 0 0 2 1 2 2 2 2 2 0 2 2 0 2 0 1 1 0 0 2 0\n",
            " 0 0 2 1 1 1 0 0 0 0 2 2 0 0 1 0 0 1 2 1 0 1 0 1 2 1 2 2 2 1 2 2 2 0 2 1 2\n",
            " 0 0 2 0 0 0 0 0 0 0 0 0 0 1 1 0 0 2 0 2 2 2 0 0 2 0 0 2 2 1 0 0 1 0 2 1 1\n",
            " 0 0 1 2 0 1 2 2 0 0 0 1 2 2 1 2 1 2 0 1 0 0 1 2 1 1 0 0 1 1 0 0 0 0 0 1 0\n",
            " 0 0 0 1 1 0 1 0 0 0 0 0 0 0 1 0 0 1 0 0 1 0 0 0 0 1 1 0 0 0 1 0 0 0 0 0 0\n",
            " 0 0 0 0 0 0 0 0 0 0 0 0 1 0 0 0 1 1 1 0 1 0 0 1 1 0 0 0 1 2 0 1 1 0 1 0 0\n",
            " 0 1 0 1 1 1 0 1 1 1 0 1 0 1 1 0 1 1 1 1 0 0 1 1 1 0 0 1 1 0 0 1 0 0 0 0 0\n",
            " 0 0 1 0 1 0 1 0 2 0 1 0 1 0 0 1 1 1 2 1 1 1 0 1 0 0 0 0 0 0 1 0 1 1 1 0 1\n",
            " 1 1 1 0 2 0 0 2 2 0 0 2 0 0 2 1 1 1 0 2 0 2 2 2 0 2 2 2 0 0 0 0 2 0 2 0 0\n",
            " 1 0 0 0 0 0 1 2 1 0 0 1 0 0 1 0 1 2 0 1 1 0 0 2 0 0 2 2 2 2 2 1 1 2 1 0 1\n",
            " 2 2 2 1 0 1 0 2 0 0 0 0 0 0 0 0 0 0 0 1 1 0 0 1 0 0 0 0 0 0]\n"
          ]
        }
      ]
    },
    {
      "cell_type": "code",
      "source": [
        "# Assign sentiments to sentences based on cluster labels\n",
        "sentiment_predictions = [cluster_sentiment[label] for label in cluster_labels]"
      ],
      "metadata": {
        "id": "NWZeECdkgbAM"
      },
      "execution_count": 16,
      "outputs": []
    },
    {
      "cell_type": "code",
      "source": [
        "# Display sentences and predicted sentiments\n",
        "for sentence, sentiment in zip(corpus, sentiment_predictions):\n",
        "    print(f\"Sentence: {sentence} - Predicted Sentiment from k-means: {sentiment}\")"
      ],
      "metadata": {
        "colab": {
          "base_uri": "https://localhost:8080/"
        },
        "id": "LpW5Mz2XWYcV",
        "outputId": "9aa3f87b-9477-402a-8b17-9e3346748534"
      },
      "execution_count": 17,
      "outputs": [
        {
          "output_type": "stream",
          "name": "stdout",
          "text": [
            "Sentence: amazon guidance give glimpse come - Predicted Sentiment from k-means: neutral\n",
            "Sentence: amazon aws hit golden number - Predicted Sentiment from k-means: neutral\n",
            "Sentence: amazon stock zooming higher big revenue beat - Predicted Sentiment from k-means: negative\n",
            "Sentence: stock market today nasdaq lead p dow lower meta sink earnings apple amazon deck - Predicted Sentiment from k-means: neutral\n",
            "Sentence: amazon com announces third quarter result - Predicted Sentiment from k-means: neutral\n",
            "Sentence: amazon project rainier live could catalyst aws need - Predicted Sentiment from k-means: neutral\n",
            "Sentence: stock market today nasdaq slammed meta dive apple amazon report next live coverage - Predicted Sentiment from k-means: neutral\n",
            "Sentence: secret star amazon earnings today could advertising business - Predicted Sentiment from k-means: neutral\n",
            "Sentence: stock market today dow p nasdaq slide meta sink earnings apple amazon ahead - Predicted Sentiment from k-means: neutral\n",
            "Sentence: prediction ai stock worth apple stock year end - Predicted Sentiment from k-means: negative\n",
            "Sentence: amazon round big tech earnings know - Predicted Sentiment from k-means: neutral\n",
            "Sentence: apple amazon earnings follow metas tough day watch - Predicted Sentiment from k-means: neutral\n",
            "Sentence: driver left ups taking buyout analyst say - Predicted Sentiment from k-means: positive\n",
            "Sentence: analyst amazon - Predicted Sentiment from k-means: neutral\n",
            "Sentence: amazon stock magnificent laggard coiled spring - Predicted Sentiment from k-means: negative\n",
            "Sentence: ai value stock thatll thinking there bubble - Predicted Sentiment from k-means: negative\n",
            "Sentence: dow losing steam still leading p nasdaq - Predicted Sentiment from k-means: positive\n",
            "Sentence: freight manufacturing layoff sweep across supply chain - Predicted Sentiment from k-means: positive\n",
            "Sentence: amazon custom trainium chip face critical moment - Predicted Sentiment from k-means: neutral\n",
            "Sentence: government shutdown killed ipo navan stock tumble debut - Predicted Sentiment from k-means: negative\n",
            "Sentence: stock market today dow rise nasdaq slide meta sink earnings apple amazon ahead - Predicted Sentiment from k-means: neutral\n",
            "Sentence: amazon set report earnings today investor know - Predicted Sentiment from k-means: neutral\n",
            "Sentence: expect amazon earnings report aws face pressure rival - Predicted Sentiment from k-means: neutral\n",
            "Sentence: amazon earnings deck trader bet billion biggest post earnings jump - Predicted Sentiment from k-means: neutral\n",
            "Sentence: amazon getting leaner wake significant job cut - Predicted Sentiment from k-means: neutral\n",
            "Sentence: payroll processor continue slide chart paylocity holding paycom software say - Predicted Sentiment from k-means: positive\n",
            "Sentence: amazon coming ai cash burn bullish signal time sell - Predicted Sentiment from k-means: neutral\n",
            "Sentence: amazon earnings due soon aws match microsoft google cloud beat - Predicted Sentiment from k-means: neutral\n",
            "Sentence: need better understanding apple ai strategy say maxim group forte - Predicted Sentiment from k-means: positive\n",
            "Sentence: amazon earnings strategist little nervous - Predicted Sentiment from k-means: neutral\n",
            "Sentence: roku expected deliver solid third quarter buoyed advertising growth - Predicted Sentiment from k-means: positive\n",
            "Sentence: amazon stock sentiment washed still hope say analyst - Predicted Sentiment from k-means: negative\n",
            "Sentence: analyst say amazon amzn among best undervalued ai stock buy - Predicted Sentiment from k-means: negative\n",
            "Sentence: earnings data deluge - Predicted Sentiment from k-means: positive\n",
            "Sentence: google microsoft meta earnings ai demand stand - Predicted Sentiment from k-means: positive\n",
            "Sentence: amazon need deliver thing q earnings call - Predicted Sentiment from k-means: neutral\n",
            "Sentence: microsoft alphabet meta magnificent seven earnings roundup - Predicted Sentiment from k-means: positive\n",
            "Sentence: pre market question fed job q earnings - Predicted Sentiment from k-means: positive\n",
            "Sentence: bofa double upgrade teradyne multiple growth driver ai chip robotics - Predicted Sentiment from k-means: positive\n",
            "Sentence: watch big number amazon report result - Predicted Sentiment from k-means: neutral\n",
            "Sentence: smartest growth stock buy right - Predicted Sentiment from k-means: negative\n",
            "Sentence: magnificent seven stock fall latest round earnings - Predicted Sentiment from k-means: negative\n",
            "Sentence: meta platform nasdaq meta stock price prediction year oct - Predicted Sentiment from k-means: negative\n",
            "Sentence: stock market today dow fall trump xi talk meta plunge cost worry live coverage - Predicted Sentiment from k-means: positive\n",
            "Sentence: meta microsoft alphabet go ai spending know - Predicted Sentiment from k-means: positive\n",
            "Sentence: thursday top wall street analyst research call coinbase global meta platform boeing cisco system - Predicted Sentiment from k-means: positive\n",
            "Sentence: stock market today dow p nasdaq slide trump xi truce big tech earnings ahead - Predicted Sentiment from k-means: positive\n",
            "Sentence: amazon outlook offer window holiday demand - Predicted Sentiment from k-means: neutral\n",
            "Sentence: time amazon earnings call tune - Predicted Sentiment from k-means: neutral\n",
            "Sentence: broadcom hidden winner google anthropic chip deal - Predicted Sentiment from k-means: positive\n",
            "Sentence: here much magnificent seven matter market - Predicted Sentiment from k-means: positive\n",
            "Sentence: top artificial intelligence stock buy right - Predicted Sentiment from k-means: negative\n",
            "Sentence: u china trade truce alphabet earnings fed rate cut thing - Predicted Sentiment from k-means: positive\n",
            "Sentence: satellite maker endurosat get million funding google venture others - Predicted Sentiment from k-means: positive\n",
            "Sentence: thing know stock market open - Predicted Sentiment from k-means: negative\n",
            "Sentence: eye aws doubt swirl amazon cloud competitiveness - Predicted Sentiment from k-means: neutral\n",
            "Sentence: alphabet v meta boeing airbus chipotle trending stock - Predicted Sentiment from k-means: negative\n",
            "Sentence: earnings live meta stock tumble microsoft slide alphabet jump big tech earnings pour - Predicted Sentiment from k-means: positive\n",
            "Sentence: snowflake stock fire still late buy - Predicted Sentiment from k-means: negative\n",
            "Sentence: investor still face wall worry despite positive u trade meeting - Predicted Sentiment from k-means: positive\n",
            "Sentence: everyone asking wrong question ai bubble stock buy - Predicted Sentiment from k-means: negative\n",
            "Sentence: amazon earnings reason aws could grow - Predicted Sentiment from k-means: neutral\n",
            "Sentence: look amazon lagging stock performance year - Predicted Sentiment from k-means: negative\n",
            "Sentence: amazon earnings arrive hour pivotal moment stock - Predicted Sentiment from k-means: neutral\n",
            "Sentence: wall street expectation amazon headline metric - Predicted Sentiment from k-means: neutral\n",
            "Sentence: option trader primed sizable move amazon share apple much - Predicted Sentiment from k-means: neutral\n",
            "Sentence: magnificent stock made many millionaire could make - Predicted Sentiment from k-means: negative\n",
            "Sentence: amazon apple earnings ecb rate decision still come week - Predicted Sentiment from k-means: neutral\n",
            "Sentence: apple amazon headline earnings slate - Predicted Sentiment from k-means: neutral\n",
            "Sentence: zacks investment idea feature highlight amazon com alphabet tesla - Predicted Sentiment from k-means: neutral\n",
            "Sentence: lakeland industry grid dynamic highlighted zacks bull bear day - Predicted Sentiment from k-means: positive\n",
            "Sentence: stock market today dow p nasdaq hover near record high u china trade deal meta stock dive alphabet pop earnings apple amazon result tap treasury yield december rate cut pushback - Predicted Sentiment from k-means: neutral\n",
            "Sentence: prediction ai stock worth nvidia palantir technology combined hint apple - Predicted Sentiment from k-means: negative\n",
            "Sentence: amazon report today aws outlook big question - Predicted Sentiment from k-means: neutral\n",
            "Sentence: meet new chip maker aiming outrun tsmc asml - Predicted Sentiment from k-means: positive\n",
            "Sentence: meta microsoft test investor patience ai spending spree - Predicted Sentiment from k-means: positive\n",
            "Sentence: apple amazon earnings fed mortgage rate watch - Predicted Sentiment from k-means: neutral\n",
            "Sentence: microsoft report strong earnings even azure outage brings xbox investor page - Predicted Sentiment from k-means: positive\n",
            "Sentence: stock market today dow p nasdaq future hit pause trump xi talk big tech earnings ahead - Predicted Sentiment from k-means: positive\n",
            "Sentence: stock market today dow p nasdaq future hit pause trump xi meeting big tech earnings - Predicted Sentiment from k-means: positive\n",
            "Sentence: stock market today dow p nasdaq future fall following trump xi meeting mixed big tech earning - Predicted Sentiment from k-means: positive\n",
            "Sentence: stock market today dow p nasdaq future fall mixed big tech earnings trump xi meeting - Predicted Sentiment from k-means: positive\n",
            "Sentence: stock market today dow p nasdaq future drop mixed big tech earnings trump xi meet ahead - Predicted Sentiment from k-means: positive\n",
            "Sentence: stock market today dow p nasdaq future climb following trump xi meeting mixed big tech earning - Predicted Sentiment from k-means: positive\n",
            "Sentence: stock market today dow p nasdaq future climb mixed big tech earnings trump xi meet underway - Predicted Sentiment from k-means: positive\n",
            "Sentence: earnings live meta stock tumble microsoft slide alphabet rise big tech earnings pour - Predicted Sentiment from k-means: positive\n",
            "Sentence: meta profit hit billion one time tax charge share fall - Predicted Sentiment from k-means: positive\n",
            "Sentence: meta stock sink tax hit weighs earnings company tout notably larger ai investment year ahead - Predicted Sentiment from k-means: negative\n",
            "Sentence: meta q earnings miss eps stock plummet - Predicted Sentiment from k-means: negative\n",
            "Sentence: microsoft cloud surge lift revenue expectation - Predicted Sentiment from k-means: positive\n",
            "Sentence: stock market today nasdaq clinch record dow p dip fed cut rate powell downplays december cut - Predicted Sentiment from k-means: positive\n",
            "Sentence: fiserv exec shakeup anthropic use amazon data center chip - Predicted Sentiment from k-means: neutral\n",
            "Sentence: nvidia huang join tech titan funding trump ballroom - Predicted Sentiment from k-means: positive\n",
            "Sentence: amazon earnings preview verge breakout - Predicted Sentiment from k-means: neutral\n",
            "Sentence: pre earnings check amazon com stock - Predicted Sentiment from k-means: neutral\n",
            "Sentence: microsoft azure report cloud outage week amazon aws disruption - Predicted Sentiment from k-means: neutral\n",
            "Sentence: stock market today dow p nasdaq waver fed cut rate powell say december cut far certain - Predicted Sentiment from k-means: positive\n",
            "Sentence: stock market today dow p nasdaq mixed fed cut rate powell say december cut far certain - Predicted Sentiment from k-means: positive\n",
            "Sentence: amazon open billion rainier data center advance anthropic partnership - Predicted Sentiment from k-means: neutral\n",
            "Sentence: fed cut key rate powell say december move sure thing p fall live coverage - Predicted Sentiment from k-means: positive\n",
            "Sentence: alphabet inc goog q earnings call highlight record revenue ai driven growth - Predicted Sentiment from k-means: positive\n",
            "Sentence: stock market today nasdaq lead p dow lower meta sink earnings apple amazon deck - Predicted Sentiment from k-means: neutral\n",
            "Sentence: stock market today dow p nasdaq slide meta sink earnings apple amazon ahead - Predicted Sentiment from k-means: neutral\n",
            "Sentence: surging ai data center capex seen lifting stock - Predicted Sentiment from k-means: negative\n",
            "Sentence: dow lost steam hovering near breakeven - Predicted Sentiment from k-means: positive\n",
            "Sentence: could apple ai weakness actually turn winning strategy - Predicted Sentiment from k-means: positive\n",
            "Sentence: prediction ai stock worth apple stock year end - Predicted Sentiment from k-means: negative\n",
            "Sentence: alphabet ai winner say moffettnathanson michael nathanson - Predicted Sentiment from k-means: positive\n",
            "Sentence: apple amazon earnings follow metas tough day watch - Predicted Sentiment from k-means: neutral\n",
            "Sentence: real reason alphabet stock soaring earnings - Predicted Sentiment from k-means: negative\n",
            "Sentence: stock moving today meta microsoft alphabet fmc c h robinson worldwide roblox metsera chipotle - Predicted Sentiment from k-means: negative\n",
            "Sentence: deep dive quantum computing - Predicted Sentiment from k-means: positive\n",
            "Sentence: dow losing steam still leading p nasdaq - Predicted Sentiment from k-means: positive\n",
            "Sentence: alphabet stock cycled higher today - Predicted Sentiment from k-means: negative\n",
            "Sentence: amazon custom trainium chip face critical moment - Predicted Sentiment from k-means: neutral\n",
            "Sentence: google knocked earnings park microsoft decent - Predicted Sentiment from k-means: positive\n",
            "Sentence: worried ai bubble look surging international stock - Predicted Sentiment from k-means: negative\n",
            "Sentence: stock market today dow rise nasdaq slide meta sink earnings apple amazon ahead - Predicted Sentiment from k-means: neutral\n",
            "Sentence: amazon set report earnings today investor know - Predicted Sentiment from k-means: neutral\n",
            "Sentence: looking see meta ai reach consumer scale say goldman sachs sheridan - Predicted Sentiment from k-means: positive\n",
            "Sentence: alphabet report first b quarter turn massive ai infrastructure bet revenue - Predicted Sentiment from k-means: positive\n",
            "Sentence: googl alphabet smash billion revenue barrier first time ever - Predicted Sentiment from k-means: positive\n",
            "Sentence: top stock mover chipotle meta alphabet - Predicted Sentiment from k-means: negative\n",
            "Sentence: amazon earnings deck trader bet billion biggest post earnings jump - Predicted Sentiment from k-means: neutral\n",
            "Sentence: amazon coming ai cash burn bullish signal time sell - Predicted Sentiment from k-means: neutral\n",
            "Sentence: alphabet stock hit record high google parent report strong earningsmonitor key level - Predicted Sentiment from k-means: negative\n",
            "Sentence: amazon earnings due soon aws match microsoft google cloud beat - Predicted Sentiment from k-means: neutral\n",
            "Sentence: google stock rise meta stock plunge tale ai story - Predicted Sentiment from k-means: negative\n",
            "Sentence: amazon earnings strategist little nervous - Predicted Sentiment from k-means: neutral\n",
            "Sentence: wall street love carvana coinbase meta - Predicted Sentiment from k-means: positive\n",
            "Sentence: alphabet stock jump fueled rapid ai mode user adoption - Predicted Sentiment from k-means: negative\n",
            "Sentence: reddit set report q earnings user growth ai deal focus - Predicted Sentiment from k-means: positive\n",
            "Sentence: google microsoft meta earnings ai demand stand - Predicted Sentiment from k-means: positive\n",
            "Sentence: alphabet stock look like better play meta ai race - Predicted Sentiment from k-means: negative\n",
            "Sentence: amazon need deliver thing q earnings call - Predicted Sentiment from k-means: neutral\n",
            "Sentence: alphabet stock jump earnings beat google turned ai loser winner - Predicted Sentiment from k-means: negative\n",
            "Sentence: meta stock slide toward worst day year wall street pan runaway ai spending - Predicted Sentiment from k-means: negative\n",
            "Sentence: ai boom drive trillion dollar tech valuation record bet chipmakers - Predicted Sentiment from k-means: positive\n",
            "Sentence: google partner ambanis reliance offer free ai pro access million jio user india - Predicted Sentiment from k-means: positive\n",
            "Sentence: tesla stock dont blame cybertruck recall - Predicted Sentiment from k-means: negative\n",
            "Sentence: magnificent seven stock fall latest round earnings - Predicted Sentiment from k-means: negative\n",
            "Sentence: alphabet gain investor confidence strong cash flow fund ai push - Predicted Sentiment from k-means: positive\n",
            "Sentence: ai spending spree rattle wall street - Predicted Sentiment from k-means: positive\n",
            "Sentence: meta microsoft alphabet go ai spending know - Predicted Sentiment from k-means: positive\n",
            "Sentence: oppenheimer downgrade meta ai spending concern - Predicted Sentiment from k-means: positive\n",
            "Sentence: thursday top wall street analyst research call coinbase global meta platform boeing cisco system - Predicted Sentiment from k-means: positive\n",
            "Sentence: google stock soar record high q earnings beat cloud outlook - Predicted Sentiment from k-means: negative\n",
            "Sentence: meta microsoft test investor ai fueled spending surge - Predicted Sentiment from k-means: positive\n",
            "Sentence: big tech test investor patience bn ai investment spree - Predicted Sentiment from k-means: positive\n",
            "Sentence: stock market today dow p nasdaq slide trump xi truce big tech earnings ahead - Predicted Sentiment from k-means: positive\n",
            "Sentence: u china trade truce alphabet earnings fed rate cut thing - Predicted Sentiment from k-means: positive\n",
            "Sentence: thing know stock market open - Predicted Sentiment from k-means: negative\n",
            "Sentence: stock watch thursday eli lilly metsera navan microsoft - Predicted Sentiment from k-means: negative\n",
            "Sentence: trump amazing meeting xi fed rate cut open ai ipo - Predicted Sentiment from k-means: positive\n",
            "Sentence: google v meta boeing airbus chipotle trending stock - Predicted Sentiment from k-means: negative\n",
            "Sentence: earnings live meta stock tumble microsoft slide alphabet jump big tech earnings pour - Predicted Sentiment from k-means: positive\n",
            "Sentence: stock market today dow fall trump xi talk meta plunge earnings live coverage - Predicted Sentiment from k-means: positive\n",
            "Sentence: analyst right alphabet goog capex - Predicted Sentiment from k-means: positive\n",
            "Sentence: royal odd fed engaging qt time cutting rate - Predicted Sentiment from k-means: positive\n",
            "Sentence: l uranium miner could benefit massive demand power ai - Predicted Sentiment from k-means: positive\n",
            "Sentence: kunst meta lot capex necessarily translate return investment - Predicted Sentiment from k-means: positive\n",
            "Sentence: evercore isi mark mahaney break meta alphabet q result - Predicted Sentiment from k-means: positive\n",
            "Sentence: everyone asking wrong question ai bubble stock buy - Predicted Sentiment from k-means: negative\n",
            "Sentence: market wanted boost earnings fed china talk powell disappointed - Predicted Sentiment from k-means: positive\n",
            "Sentence: alphabet report increase net income bn q - Predicted Sentiment from k-means: positive\n",
            "Sentence: tech stock buy hold next decade - Predicted Sentiment from k-means: negative\n",
            "Sentence: alphabet post first ever quarter billion revenue - Predicted Sentiment from k-means: positive\n",
            "Sentence: tech leader ramp ai spending alphabet cash flow win investor favor - Predicted Sentiment from k-means: positive\n",
            "Sentence: prediction ai stock worth nvidia palantir technology combined hint apple - Predicted Sentiment from k-means: negative\n",
            "Sentence: big tech ai cloud demand lift microsoft alphabet meta - Predicted Sentiment from k-means: positive\n",
            "Sentence: alphabet ai push pay search beat gemini top million user - Predicted Sentiment from k-means: positive\n",
            "Sentence: meet new chip maker aiming outrun tsmc asml - Predicted Sentiment from k-means: positive\n",
            "Sentence: analyst report alphabet inc - Predicted Sentiment from k-means: positive\n",
            "Sentence: nvidia nvda share surge today one picture drove billion stock gain - Predicted Sentiment from k-means: negative\n",
            "Sentence: microsoft earnings offer bullish read power stock - Predicted Sentiment from k-means: negative\n",
            "Sentence: pichai outline alphabet next act scaling ai cloud car - Predicted Sentiment from k-means: positive\n",
            "Sentence: microsoft massive ai spending draw investor concern cloud business boom - Predicted Sentiment from k-means: positive\n",
            "Sentence: youtube announces voluntary exit program u staff - Predicted Sentiment from k-means: positive\n",
            "Sentence: alphabet stock jump big earnings beat - Predicted Sentiment from k-means: negative\n",
            "Sentence: google parent alphabet post first bn quarter ai fuel growth - Predicted Sentiment from k-means: positive\n",
            "Sentence: microsoft report strong earnings even azure outage brings xbox investor page - Predicted Sentiment from k-means: positive\n",
            "Sentence: google revenue soar record ai boom lift cloud business - Predicted Sentiment from k-means: positive\n",
            "Sentence: google see substantial demand custom chip - Predicted Sentiment from k-means: positive\n",
            "Sentence: stock market today dow p nasdaq future drop mixed big tech earnings trump xi meet ahead - Predicted Sentiment from k-means: positive\n",
            "Sentence: alphabet doubling ai productivity - Predicted Sentiment from k-means: positive\n",
            "Sentence: alphabet free cash flow see boost even ai spending rise - Predicted Sentiment from k-means: positive\n",
            "Sentence: mixed share reaction megacap earnings burst meta droop - Predicted Sentiment from k-means: positive\n",
            "Sentence: ai supercharging youtube monetization - Predicted Sentiment from k-means: positive\n",
            "Sentence: google catching meta pulled share following earnings say davidson gil luria - Predicted Sentiment from k-means: positive\n",
            "Sentence: alphabet lift capex guidance billion ai demand strain cloud infrastructure - Predicted Sentiment from k-means: positive\n",
            "Sentence: podcast powell cast doubt december rate cut - Predicted Sentiment from k-means: positive\n",
            "Sentence: google search business proving resilient ai era - Predicted Sentiment from k-means: positive\n",
            "Sentence: google parent alphabet beat forecast first bn quarter - Predicted Sentiment from k-means: positive\n",
            "Sentence: alphabet earnings call begin tune - Predicted Sentiment from k-means: positive\n",
            "Sentence: alphabet inc goog beat q earnings revenue estimate - Predicted Sentiment from k-means: positive\n",
            "Sentence: google search youtube fuel ad growth - Predicted Sentiment from k-means: positive\n",
            "Sentence: google earnings beat search cloud youtube revenue top view - Predicted Sentiment from k-means: positive\n",
            "Sentence: alphabet stock pop seen clear ai winner - Predicted Sentiment from k-means: negative\n",
            "Sentence: alphabet quarterly revenue top billion first time - Predicted Sentiment from k-means: positive\n",
            "Sentence: kayak ceo million writedown google squeezed travel industry - Predicted Sentiment from k-means: positive\n",
            "Sentence: comcast keep bar high hint deal could come versant spin - Predicted Sentiment from k-means: positive\n",
            "Sentence: netflix nflx one best nasdaq growth stock buy next year - Predicted Sentiment from k-means: negative\n",
            "Sentence: snowflake stock fire still late buy - Predicted Sentiment from k-means: negative\n",
            "Sentence: prediction prominent stock split - Predicted Sentiment from k-means: negative\n",
            "Sentence: netflix lean success kpop demon hunter new hasbro mattel partnership enough excite investor - Predicted Sentiment from k-means: positive\n",
            "Sentence: mega cap stock lowest rsi upside - Predicted Sentiment from k-means: negative\n",
            "Sentence: upcoming global content drive nflx engagement near term - Predicted Sentiment from k-means: positive\n",
            "Sentence: wall street think netflix nflx q earnings - Predicted Sentiment from k-means: positive\n",
            "Sentence: thing investor need know netflix stock recent dive - Predicted Sentiment from k-means: negative\n",
            "Sentence: favorite stock buy right - Predicted Sentiment from k-means: negative\n",
            "Sentence: reason fan netflix nflx - Predicted Sentiment from k-means: positive\n",
            "Sentence: analyst report netflix inc - Predicted Sentiment from k-means: positive\n",
            "Sentence: final trade netflix vistra paypal qqq - Predicted Sentiment from k-means: positive\n",
            "Sentence: netflix stock loses steam buy nflx dip - Predicted Sentiment from k-means: negative\n",
            "Sentence: service mac ipad fare apple q earnings - Predicted Sentiment from k-means: neutral\n",
            "Sentence: interesting analyst question netflix q earnings call - Predicted Sentiment from k-means: positive\n",
            "Sentence: poor earnings netflix stock set option trade weakness - Predicted Sentiment from k-means: negative\n",
            "Sentence: netflix plunge post q earnings buy sell hold stock - Predicted Sentiment from k-means: negative\n",
            "Sentence: unlocking netflix nflx international revenue trend surprise prospect - Predicted Sentiment from k-means: positive\n",
            "Sentence: know beyond netflix inc nflx trending stock - Predicted Sentiment from k-means: negative\n",
            "Sentence: netflix move screen shelf could genius diversification play - Predicted Sentiment from k-means: positive\n",
            "Sentence: kpop netflix hunter bounce back week - Predicted Sentiment from k-means: positive\n",
            "Sentence: zacks analyst blog highlight mastercard netflix citigroup oil dri perma pipe - Predicted Sentiment from k-means: positive\n",
            "Sentence: smartest growth stock buy right - Predicted Sentiment from k-means: negative\n",
            "Sentence: investor buy netflix dip - Predicted Sentiment from k-means: positive\n",
            "Sentence: growth stock buy right - Predicted Sentiment from k-means: negative\n",
            "Sentence: netflix investor get stock split latest quarterly report got something better - Predicted Sentiment from k-means: negative\n",
            "Sentence: amazing week stock - Predicted Sentiment from k-means: negative\n",
            "Sentence: earnings season impressive start - Predicted Sentiment from k-means: positive\n",
            "Sentence: favorite stock buy right - Predicted Sentiment from k-means: negative\n",
            "Sentence: netflix stock took nosedive last week buy dip sign shut screen - Predicted Sentiment from k-means: negative\n",
            "Sentence: netflix stock buy sell hold heading - Predicted Sentiment from k-means: negative\n",
            "Sentence: marketbeat week review - Predicted Sentiment from k-means: positive\n",
            "Sentence: got tech stock buy hold long term - Predicted Sentiment from k-means: negative\n",
            "Sentence: jim cramer netflix think sell overreaction - Predicted Sentiment from k-means: positive\n",
            "Sentence: score netflix amazon com six flag stock defined week - Predicted Sentiment from k-means: negative\n",
            "Sentence: could netflix stock join trillion dollar club - Predicted Sentiment from k-means: negative\n",
            "Sentence: jim cramer take contrarian view netflix nflx earnings - Predicted Sentiment from k-means: positive\n",
            "Sentence: top stock report mastercard netflix citigroup - Predicted Sentiment from k-means: negative\n",
            "Sentence: cathie wood bought dip netflix stock - Predicted Sentiment from k-means: negative\n",
            "Sentence: stock market climbed new high keep knock perch - Predicted Sentiment from k-means: negative\n",
            "Sentence: better growth stock buy netflix v trade desk - Predicted Sentiment from k-means: negative\n",
            "Sentence: wall street resume winning way cpi earnings optimism - Predicted Sentiment from k-means: positive\n",
            "Sentence: soft inflation data drive major index record high - Predicted Sentiment from k-means: positive\n",
            "Sentence: foxa v nflx stock value investor buy - Predicted Sentiment from k-means: negative\n",
            "Sentence: buy netflix stock right - Predicted Sentiment from k-means: negative\n",
            "Sentence: stock market hit new high shrugging gold ai fear tesla netflix focus weekly review - Predicted Sentiment from k-means: negative\n",
            "Sentence: netflix produce strong fcf q margin nflx look cheap - Predicted Sentiment from k-means: positive\n",
            "Sentence: market due correction despite strong earnings - Predicted Sentiment from k-means: positive\n",
            "Sentence: time buy netflix stock - Predicted Sentiment from k-means: negative\n",
            "Sentence: veteran analyst take surprising move netflix stock earnings - Predicted Sentiment from k-means: negative\n",
            "Sentence: warner bros bidding war potential high could wbd share go - Predicted Sentiment from k-means: positive\n",
            "Sentence: analyst eye upside netflix q earnings crash - Predicted Sentiment from k-means: positive\n",
            "Sentence: earnings live intel stock surge ford rise hour decker drop - Predicted Sentiment from k-means: negative\n",
            "Sentence: hasbro ceo talk netflix partnership kpop demon hunter toy - Predicted Sentiment from k-means: positive\n",
            "Sentence: final trade salesforce ibm la vega sand netflix - Predicted Sentiment from k-means: positive\n",
            "Sentence: trade tracker josh brown buy netflix - Predicted Sentiment from k-means: positive\n",
            "Sentence: hasbro tariff battle could make playtime pricier - Predicted Sentiment from k-means: positive\n",
            "Sentence: tech trigger market turnaround nasdaq pop triple digit - Predicted Sentiment from k-means: positive\n",
            "Sentence: netflix nflx rewarded patient investor - Predicted Sentiment from k-means: positive\n",
            "Sentence: hasbro top q estimate ceo talk cheery outlook toy sale - Predicted Sentiment from k-means: positive\n",
            "Sentence: stock market news oct - Predicted Sentiment from k-means: negative\n",
            "Sentence: netflix lag q earnings yet ups free cash flow view etf spotlight - Predicted Sentiment from k-means: positive\n",
            "Sentence: cathie wood go shopping stock bought - Predicted Sentiment from k-means: negative\n",
            "Sentence: josh brown say netflix nflx sat ai mania change - Predicted Sentiment from k-means: positive\n",
            "Sentence: meet monster stock continues crush market - Predicted Sentiment from k-means: negative\n",
            "Sentence: netflix share drop growth outlook disappoints - Predicted Sentiment from k-means: positive\n",
            "Sentence: earnings live tesla stock fall earnings miss american airline climb ibm hasbro sink - Predicted Sentiment from k-means: neutral\n",
            "Sentence: netflix nflx end day run million tax blow - Predicted Sentiment from k-means: positive\n",
            "Sentence: netflix stock drop time sell - Predicted Sentiment from k-means: negative\n",
            "Sentence: ubs keep bullish stance netflix nflx cite strong direct consumer streaming position content lineup - Predicted Sentiment from k-means: positive\n",
            "Sentence: netflixs stock price sent reeling q earnings - Predicted Sentiment from k-means: negative\n",
            "Sentence: analyst report netflix inc - Predicted Sentiment from k-means: positive\n",
            "Sentence: netflix cash kpop demon hunter aim win holiday season - Predicted Sentiment from k-means: positive\n",
            "Sentence: buy dip ge aerospace netflix stock q earnings - Predicted Sentiment from k-means: negative\n",
            "Sentence: mattel hasbro investor need know toy stock - Predicted Sentiment from k-means: negative\n",
            "Sentence: toy stock hasbro mattel partner netflix kpop demon hunter - Predicted Sentiment from k-means: negative\n",
            "Sentence: earnings live tesla stock fall earnings miss ibm sink - Predicted Sentiment from k-means: neutral\n",
            "Sentence: u china trade drama continues stock gap lower - Predicted Sentiment from k-means: negative\n",
            "Sentence: stock moved today netflix tesla texas instrument intuitive surgical winnebago ge vernova - Predicted Sentiment from k-means: negative\n",
            "Sentence: netflix stock fall q earnings miss estimate operating profit take hit - Predicted Sentiment from k-means: negative\n",
            "Sentence: nasdaq drop tech fear - Predicted Sentiment from k-means: positive\n",
            "Sentence: stock market today dow p nasdaq fall netflix sink tesla earnings loom - Predicted Sentiment from k-means: negative\n",
            "Sentence: netflix rule bidding warner bros - Predicted Sentiment from k-means: positive\n",
            "Sentence: netflix knock park wedbush reese - Predicted Sentiment from k-means: positive\n",
            "Sentence: netflix q earnings preview kpop demon hunter help streamer beat estimate - Predicted Sentiment from k-means: positive\n",
            "Sentence: netflix earnings hit brazil tax blow - Predicted Sentiment from k-means: positive\n",
            "Sentence: squawk pod nhl deal kalshi ceo ai airbnb ceo audio - Predicted Sentiment from k-means: positive\n",
            "Sentence: netflix sink earnings need know - Predicted Sentiment from k-means: positive\n",
            "Sentence: stock moving today netflix tesla texas instrument intuitive surgical winnebago ge vernova - Predicted Sentiment from k-means: negative\n",
            "Sentence: pricing ad momentum lift netflix q view upside sustainable - Predicted Sentiment from k-means: positive\n",
            "Sentence: netflix stock slumping today - Predicted Sentiment from k-means: negative\n",
            "Sentence: netflix earnings came jump scare stock p biggest loser - Predicted Sentiment from k-means: negative\n",
            "Sentence: top stock mover netflix texas instrument intuitive surgical - Predicted Sentiment from k-means: negative\n",
            "Sentence: netflix revenue could double revenue year end - Predicted Sentiment from k-means: positive\n",
            "Sentence: netflix stock post earnings slump overdone - Predicted Sentiment from k-means: negative\n",
            "Sentence: risk appetite fading wall street tech stock small cap crypto pressure - Predicted Sentiment from k-means: negative\n",
            "Sentence: stock lower netflix earnings drag nasdaq - Predicted Sentiment from k-means: negative\n",
            "Sentence: netflix nflx stock falling today - Predicted Sentiment from k-means: negative\n",
            "Sentence: nflx q earnings miss brazilian tax dispute post record ad sale - Predicted Sentiment from k-means: positive\n",
            "Sentence: stock market today nasdaq lead p dow lower meta sink earnings apple amazon deck - Predicted Sentiment from k-means: neutral\n",
            "Sentence: apple key growth lie ai device - Predicted Sentiment from k-means: positive\n",
            "Sentence: globalstar draw spacex interest sale process bloomberg news report - Predicted Sentiment from k-means: positive\n",
            "Sentence: stock market today nasdaq slammed meta dive apple amazon report next live coverage - Predicted Sentiment from k-means: neutral\n",
            "Sentence: apple report earnings new iphone lineup reignites worldwide demand - Predicted Sentiment from k-means: neutral\n",
            "Sentence: globalstar share climb report potential spacex interest - Predicted Sentiment from k-means: positive\n",
            "Sentence: apple close time high - Predicted Sentiment from k-means: positive\n",
            "Sentence: stock market today dow p nasdaq slide meta sink earnings apple amazon ahead - Predicted Sentiment from k-means: neutral\n",
            "Sentence: could apple ai weakness actually turn winning strategy - Predicted Sentiment from k-means: positive\n",
            "Sentence: apple need pristine quarter satisfy investor say moffettnathanson craig moffett - Predicted Sentiment from k-means: positive\n",
            "Sentence: apple amazon earnings follow metas tough day watch - Predicted Sentiment from k-means: neutral\n",
            "Sentence: mvst v arm holding tech growth stock better placed - Predicted Sentiment from k-means: negative\n",
            "Sentence: reason apple stock hit time high - Predicted Sentiment from k-means: negative\n",
            "Sentence: stock moving today meta microsoft alphabet fmc c h robinson worldwide roblox metsera chipotle - Predicted Sentiment from k-means: negative\n",
            "Sentence: apple zigged rival zagged ai spending - Predicted Sentiment from k-means: positive\n",
            "Sentence: apple set report earnings today need know - Predicted Sentiment from k-means: neutral\n",
            "Sentence: apple ceo iphone pitch clear message user - Predicted Sentiment from k-means: positive\n",
            "Sentence: stock market today dow rise nasdaq slide meta sink earnings apple amazon ahead - Predicted Sentiment from k-means: neutral\n",
            "Sentence: apple earnings report shaping battleground - Predicted Sentiment from k-means: neutral\n",
            "Sentence: apple look keep string earnings beat going - Predicted Sentiment from k-means: neutral\n",
            "Sentence: apple q estimate avalon expectation meter q edition - Predicted Sentiment from k-means: positive\n",
            "Sentence: apple share rising ahead earnings - Predicted Sentiment from k-means: neutral\n",
            "Sentence: thought heading apple q earnings iphone supply demand imbalance apple hit trillion market cap - Predicted Sentiment from k-means: neutral\n",
            "Sentence: amazon coming ai cash burn bullish signal time sell - Predicted Sentiment from k-means: neutral\n",
            "Sentence: schd isnt option monthly etf better long term gain - Predicted Sentiment from k-means: positive\n",
            "Sentence: apple bear sold iphone recent strength - Predicted Sentiment from k-means: positive\n",
            "Sentence: need better understanding apple ai strategy say maxim group forte - Predicted Sentiment from k-means: positive\n",
            "Sentence: smartphones soon see lock screen ad - Predicted Sentiment from k-means: positive\n",
            "Sentence: amazon earnings strategist little nervous - Predicted Sentiment from k-means: neutral\n",
            "Sentence: earnings data deluge - Predicted Sentiment from k-means: positive\n",
            "Sentence: apple q earnings incoming could iphone surprise shake wall street - Predicted Sentiment from k-means: neutral\n",
            "Sentence: early indication hot iphone demand last - Predicted Sentiment from k-means: positive\n",
            "Sentence: google microsoft meta earnings ai demand stand - Predicted Sentiment from k-means: positive\n",
            "Sentence: trump xi trade truce leaf question rare earth stock fall - Predicted Sentiment from k-means: negative\n",
            "Sentence: microsoft alphabet meta magnificent seven earnings roundup - Predicted Sentiment from k-means: positive\n",
            "Sentence: pre market question fed job q earnings - Predicted Sentiment from k-means: positive\n",
            "Sentence: bofa double upgrade teradyne multiple growth driver ai chip robotics - Predicted Sentiment from k-means: positive\n",
            "Sentence: openai worth trillion possible ipo plan - Predicted Sentiment from k-means: positive\n",
            "Sentence: ai boom drive trillion dollar tech valuation record bet chipmakers - Predicted Sentiment from k-means: positive\n",
            "Sentence: magnificent seven stock fall latest round earnings - Predicted Sentiment from k-means: negative\n",
            "Sentence: analyst see upside potential apple earnings report - Predicted Sentiment from k-means: neutral\n",
            "Sentence: meta platform nasdaq meta stock price prediction year oct - Predicted Sentiment from k-means: negative\n",
            "Sentence: meta microsoft alphabet go ai spending know - Predicted Sentiment from k-means: positive\n",
            "Sentence: thursday top wall street analyst research call coinbase global meta platform boeing cisco system - Predicted Sentiment from k-means: positive\n",
            "Sentence: apple stock year - Predicted Sentiment from k-means: negative\n",
            "Sentence: stock market today dow p nasdaq slide trump xi truce big tech earnings ahead - Predicted Sentiment from k-means: positive\n",
            "Sentence: analyst explains selling apple aapl share victim success - Predicted Sentiment from k-means: positive\n",
            "Sentence: analyst say apple aapl iphone result super cycle think stock valuation justified - Predicted Sentiment from k-means: negative\n",
            "Sentence: u china trade truce alphabet earnings fed rate cut thing - Predicted Sentiment from k-means: positive\n",
            "Sentence: apple stock rise premarket trading - Predicted Sentiment from k-means: negative\n",
            "Sentence: apple added new line resume ahead earnings - Predicted Sentiment from k-means: neutral\n",
            "Sentence: stock market today dow fall trump xi talk meta plunge earnings live coverage - Predicted Sentiment from k-means: positive\n",
            "Sentence: thing know stock market open - Predicted Sentiment from k-means: negative\n",
            "Sentence: alphabet v meta boeing airbus chipotle trending stock - Predicted Sentiment from k-means: negative\n",
            "Sentence: earnings live meta stock tumble microsoft slide alphabet jump big tech earnings pour - Predicted Sentiment from k-means: positive\n",
            "Sentence: investor still face wall worry despite positive u trade meeting - Predicted Sentiment from k-means: positive\n",
            "Sentence: time apple report earnings thursday tune - Predicted Sentiment from k-means: neutral\n",
            "Sentence: apple strong iphone performance fluke last time soon find - Predicted Sentiment from k-means: positive\n",
            "Sentence: unresolved big tech fed trade talk provide wall street little clarity - Predicted Sentiment from k-means: positive\n",
            "Sentence: apple earnings report hour away come iphone momentum - Predicted Sentiment from k-means: neutral\n",
            "Sentence: key number watch apple report earnings - Predicted Sentiment from k-means: neutral\n",
            "Sentence: option trader primed sizable move amazon share apple much - Predicted Sentiment from k-means: neutral\n",
            "Sentence: apple earnings deck iphone sale china ai focus - Predicted Sentiment from k-means: neutral\n",
            "Sentence: amazon apple earnings ecb rate decision still come week - Predicted Sentiment from k-means: neutral\n",
            "Sentence: stock moving today microsoft alphabet meta nvidia chipotle carvana fmc - Predicted Sentiment from k-means: negative\n",
            "Sentence: stock watch thursday meta alphabet chipotle - Predicted Sentiment from k-means: negative\n",
            "Sentence: apple amazon headline earnings slate - Predicted Sentiment from k-means: neutral\n",
            "Sentence: analyst got lot people apple aapl stock say jim cramer - Predicted Sentiment from k-means: negative\n",
            "Sentence: zacks investment idea feature highlight apple robinhood coinbase draftkings flutter - Predicted Sentiment from k-means: positive\n",
            "Sentence: top value stock buy even close - Predicted Sentiment from k-means: negative\n",
            "Sentence: stock market today dow p nasdaq hover near record high u china trade deal meta stock dive alphabet pop earnings apple amazon result tap treasury yield december rate cut pushback - Predicted Sentiment from k-means: neutral\n",
            "Sentence: apple earnings iphone sale ai tim cook watch - Predicted Sentiment from k-means: neutral\n",
            "Sentence: apple earnings almost key test ahead holiday - Predicted Sentiment from k-means: neutral\n",
            "Sentence: berkshire likely stellar quarter stock buyback wild card - Predicted Sentiment from k-means: negative\n",
            "Sentence: meta microsoft test investor patience ai spending spree - Predicted Sentiment from k-means: positive\n",
            "Sentence: dear apple stock fan mark calendar october - Predicted Sentiment from k-means: negative\n",
            "Sentence: ceo apple airbnb pepsico agree one thing life business leader incredibly lonely - Predicted Sentiment from k-means: positive\n",
            "Sentence: apple amazon earnings fed mortgage rate watch - Predicted Sentiment from k-means: neutral\n",
            "Sentence: stock market today dow p nasdaq future hit pause trump xi meeting big tech earnings - Predicted Sentiment from k-means: positive\n",
            "Sentence: stock market today dow p nasdaq future fall following trump xi meeting mixed big tech earning - Predicted Sentiment from k-means: positive\n",
            "Sentence: stock market today dow p nasdaq future fall mixed big tech earnings trump xi meeting - Predicted Sentiment from k-means: positive\n",
            "Sentence: stock market today dow p nasdaq future drop mixed big tech earnings trump xi meet ahead - Predicted Sentiment from k-means: positive\n",
            "Sentence: stock market today dow p nasdaq future climb following trump xi meeting mixed big tech earning - Predicted Sentiment from k-means: positive\n",
            "Sentence: stock market today dow p nasdaq future climb mixed big tech earnings trump xi meet underway - Predicted Sentiment from k-means: positive\n",
            "Sentence: skyworks ceo see chance save power ai driven phone qorvo deal - Predicted Sentiment from k-means: positive\n",
            "Sentence: ai bull market raising diversification red flag - Predicted Sentiment from k-means: positive\n",
            "Sentence: apple ceo tim cook iphone launch important day year u - Predicted Sentiment from k-means: positive\n",
            "Sentence: earnings live meta stock tumble microsoft slide alphabet rise big tech earnings pour - Predicted Sentiment from k-means: positive\n",
            "Sentence: microsoft quarterly sale profit surge beating wall street expectation - Predicted Sentiment from k-means: positive\n",
            "Sentence: meta stock sink tax hit weighs earnings company tout notably larger ai investment year ahead - Predicted Sentiment from k-means: negative\n",
            "Sentence: meta q earnings miss eps stock plummet - Predicted Sentiment from k-means: negative\n",
            "Sentence: stock market today nasdaq clinch record dow p dip fed cut rate powell downplays december cut - Predicted Sentiment from k-means: positive\n",
            "Sentence: nvidia huang join tech titan funding trump ballroom - Predicted Sentiment from k-means: positive\n",
            "Sentence: nvidia stock still buy trillion top - Predicted Sentiment from k-means: negative\n",
            "Sentence: stock market today dow p nasdaq waver fed cut rate powell say december cut far certain - Predicted Sentiment from k-means: positive\n",
            "Sentence: stock market today dow p nasdaq mixed fed cut rate powell say december cut far certain - Predicted Sentiment from k-means: positive\n",
            "Sentence: stock market today dow p nasdaq waver fed cut rate nd straight meeting nvidia surge - Predicted Sentiment from k-means: positive\n",
            "Sentence: apple q preview iphone ai keep trillion story alive - Predicted Sentiment from k-means: positive\n",
            "Sentence: rise integrated financial platform - Predicted Sentiment from k-means: positive\n",
            "Sentence: stock market today dow p nasdaq rise fed cut rate nd straight meeting nvidia surge - Predicted Sentiment from k-means: positive\n"
          ]
        }
      ]
    },
    {
      "cell_type": "markdown",
      "source": [
        "# IMPLEMENTATION OF SENTIMENT ANALYSIS(using vader tool of NLTK)"
      ],
      "metadata": {
        "id": "hZyZZpW0nNOA"
      }
    },
    {
      "cell_type": "code",
      "source": [
        "!pip install nltk\n",
        "import nltk\n",
        "from nltk.sentiment.vader import SentimentIntensityAnalyzer\n",
        "import pandas as pd\n"
      ],
      "metadata": {
        "id": "8aYY6xf__ikS",
        "outputId": "6f7ef95e-bd50-4425-e5b8-e8605f196f6f",
        "colab": {
          "base_uri": "https://localhost:8080/"
        }
      },
      "execution_count": 18,
      "outputs": [
        {
          "output_type": "stream",
          "name": "stdout",
          "text": [
            "Requirement already satisfied: nltk in /usr/local/lib/python3.12/dist-packages (3.9.1)\n",
            "Requirement already satisfied: click in /usr/local/lib/python3.12/dist-packages (from nltk) (8.3.0)\n",
            "Requirement already satisfied: joblib in /usr/local/lib/python3.12/dist-packages (from nltk) (1.5.2)\n",
            "Requirement already satisfied: regex>=2021.8.3 in /usr/local/lib/python3.12/dist-packages (from nltk) (2024.11.6)\n",
            "Requirement already satisfied: tqdm in /usr/local/lib/python3.12/dist-packages (from nltk) (4.67.1)\n"
          ]
        }
      ]
    },
    {
      "cell_type": "code",
      "source": [
        "df=pd.DataFrame(parsed_data,columns=['ticker','date','time','title'])\n",
        "print(df.head())"
      ],
      "metadata": {
        "id": "rmjixUF2-dLT",
        "outputId": "e0dbe34d-d8dd-44e7-9f56-f980598d9fe9",
        "colab": {
          "base_uri": "https://localhost:8080/"
        }
      },
      "execution_count": 19,
      "outputs": [
        {
          "output_type": "stream",
          "name": "stdout",
          "text": [
            "  ticker   date     time                                              title\n",
            "0   AMZN  Today  04:10PM  Amazon's guidance gives a glimpse of what's to...\n",
            "1   AMZN  Today  04:08PM                Amazon's AWS hits the golden number\n",
            "2   AMZN  Today  04:03PM  Amazon's stock is zooming higher after a big r...\n",
            "3   AMZN  Today  04:01PM  Stock market today: Nasdaq leads S&P 500, Dow ...\n",
            "4   AMZN  Today  04:01PM         Amazon.com Announces Third Quarter Results\n"
          ]
        }
      ]
    },
    {
      "cell_type": "code",
      "source": [
        "nltk.download('vader_lexicon')\n",
        "vader = SentimentIntensityAnalyzer()\n",
        "print(df['title'])"
      ],
      "metadata": {
        "id": "gz_kI20vUf0x",
        "outputId": "9c5df5fc-6046-40f8-9aaa-b64b1eb826e4",
        "colab": {
          "base_uri": "https://localhost:8080/"
        }
      },
      "execution_count": 20,
      "outputs": [
        {
          "output_type": "stream",
          "name": "stdout",
          "text": [
            "0      Amazon's guidance gives a glimpse of what's to...\n",
            "1                    Amazon's AWS hits the golden number\n",
            "2      Amazon's stock is zooming higher after a big r...\n",
            "3      Stock market today: Nasdaq leads S&P 500, Dow ...\n",
            "4             Amazon.com Announces Third Quarter Results\n",
            "                             ...                        \n",
            "395    Stock market today: Dow, S&P 500, Nasdaq mixed...\n",
            "396    Stock market today: Dow, S&P 500, Nasdaq waver...\n",
            "397    Apple Q4 Preview: Can iPhone 17 and AI Keep th...\n",
            "398           The Rise of Integrated Financial Platforms\n",
            "399    Stock market today: Dow, S&P 500, Nasdaq rise ...\n",
            "Name: title, Length: 400, dtype: object\n"
          ]
        },
        {
          "output_type": "stream",
          "name": "stderr",
          "text": [
            "[nltk_data] Downloading package vader_lexicon to /root/nltk_data...\n"
          ]
        }
      ]
    },
    {
      "cell_type": "code",
      "source": [
        "f=lambda title: vader.polarity_scores(title)['compound']\n",
        "df['compound']=df['title'].apply(f)\n",
        "print(df.head())"
      ],
      "metadata": {
        "id": "07lRSktBWznO",
        "outputId": "00b27982-20e7-4ba6-e388-682fc02700ef",
        "colab": {
          "base_uri": "https://localhost:8080/"
        }
      },
      "execution_count": 21,
      "outputs": [
        {
          "output_type": "stream",
          "name": "stdout",
          "text": [
            "  ticker   date     time                                              title  \\\n",
            "0   AMZN  Today  04:10PM  Amazon's guidance gives a glimpse of what's to...   \n",
            "1   AMZN  Today  04:08PM                Amazon's AWS hits the golden number   \n",
            "2   AMZN  Today  04:03PM  Amazon's stock is zooming higher after a big r...   \n",
            "3   AMZN  Today  04:01PM  Stock market today: Nasdaq leads S&P 500, Dow ...   \n",
            "4   AMZN  Today  04:01PM         Amazon.com Announces Third Quarter Results   \n",
            "\n",
            "   compound  \n",
            "0    0.0000  \n",
            "1    0.0772  \n",
            "2    0.0000  \n",
            "3   -0.1280  \n",
            "4    0.0000  \n"
          ]
        }
      ]
    },
    {
      "cell_type": "markdown",
      "source": [
        "# Visualization Of Data"
      ],
      "metadata": {
        "id": "Vzk0cqBcnXt-"
      }
    },
    {
      "cell_type": "code",
      "source": [
        "import matplotlib.pyplot as plt\n",
        "plt.figure(figsize=(10,8))\n",
        "mean_df = df.groupby(['ticker', 'date']).mean(numeric_only=True)\n",
        "print(mean_df)"
      ],
      "metadata": {
        "id": "Wt0iSVSWc0rU",
        "colab": {
          "base_uri": "https://localhost:8080/",
          "height": 329
        },
        "outputId": "8117577d-63b1-425d-f34a-3a1e132419a3"
      },
      "execution_count": 22,
      "outputs": [
        {
          "output_type": "stream",
          "name": "stdout",
          "text": [
            "                  compound\n",
            "ticker date               \n",
            "AAPL   Oct-29-25 -0.004285\n",
            "       Today      0.117503\n",
            "AMZN   Oct-29-25 -0.019004\n",
            "       Today      0.105801\n",
            "GOOG   Oct-29-25  0.132027\n",
            "       Today      0.082341\n",
            "NFLX   Oct-22-25 -0.064962\n",
            "       Oct-23-25  0.038024\n",
            "       Oct-24-25  0.132007\n",
            "       Oct-25-25 -0.059300\n",
            "       Oct-26-25  0.339643\n",
            "       Oct-27-25  0.096900\n",
            "       Oct-28-25  0.027880\n",
            "       Oct-29-25  0.089300\n",
            "       Today      0.387400\n"
          ]
        },
        {
          "output_type": "display_data",
          "data": {
            "text/plain": [
              "<Figure size 1000x800 with 0 Axes>"
            ]
          },
          "metadata": {}
        }
      ]
    },
    {
      "cell_type": "code",
      "source": [
        "mean_df=mean_df.unstack()\n",
        "mean_df=mean_df.xs('compound',axis=\"columns\").transpose()\n",
        "mean_df.plot(kind='bar')\n",
        "plt.show()"
      ],
      "metadata": {
        "colab": {
          "base_uri": "https://localhost:8080/",
          "height": 504
        },
        "id": "q0V63I_7kbnd",
        "outputId": "f7ae90dd-f0df-4336-df96-93e2a51294e3"
      },
      "execution_count": 23,
      "outputs": [
        {
          "output_type": "display_data",
          "data": {
            "text/plain": [
              "<Figure size 640x480 with 1 Axes>"
            ],
            "image/png": "[encoded data removed]"
          },
          "metadata": {}
        }
      ]
    },
    {
      "cell_type": "code",
      "source": [
        "# Count the occurrences of each predicted sentiment\n",
        "sentiment_counts = pd.Series(sentiment_predictions).value_counts()\n",
        "\n",
        "# Create a pie chart\n",
        "plt.pie(sentiment_counts, labels=sentiment_counts.index, autopct='%1.1f%%')\n",
        "plt.title('Distribution of Predicted Sentiments')\n",
        "plt.show()\n"
      ],
      "metadata": {
        "colab": {
          "base_uri": "https://localhost:8080/",
          "height": 428
        },
        "id": "9SRTSeOCYqvS",
        "outputId": "33e48800-f8a5-4927-bdfb-382fbb1ed5da"
      },
      "execution_count": 24,
      "outputs": [
        {
          "output_type": "display_data",
          "data": {
            "text/plain": [
              "<Figure size 640x480 with 1 Axes>"
            ],
            "image/png": "[encoded data removed]"
          },
          "metadata": {}
        }
      ]
    },
    {
      "cell_type": "markdown",
      "source": [
        "# Word Embedding Techniques using Embedding Layer in Keras"
      ],
      "metadata": {
        "id": "aEDPRliFnwOP"
      }
    },
    {
      "cell_type": "code",
      "source": [
        "from tensorflow.keras.preprocessing.text import one_hot"
      ],
      "metadata": {
        "id": "PHGEgX1iYteW"
      },
      "execution_count": 25,
      "outputs": []
    },
    {
      "cell_type": "code",
      "source": [
        "#instance for title column if df\n",
        "sent=df['title']"
      ],
      "metadata": {
        "id": "KbyhQAOhxB0u"
      },
      "execution_count": 26,
      "outputs": []
    },
    {
      "cell_type": "code",
      "source": [
        "sent"
      ],
      "metadata": {
        "colab": {
          "base_uri": "https://localhost:8080/",
          "height": 458
        },
        "id": "gJ8dsHWczoeI",
        "outputId": "3a6d60a2-60c0-4c9c-9c68-bbcbdd59d136"
      },
      "execution_count": 27,
      "outputs": [
        {
          "output_type": "execute_result",
          "data": {
            "text/plain": [
              "0      Amazon's guidance gives a glimpse of what's to...\n",
              "1                    Amazon's AWS hits the golden number\n",
              "2      Amazon's stock is zooming higher after a big r...\n",
              "3      Stock market today: Nasdaq leads S&P 500, Dow ...\n",
              "4             Amazon.com Announces Third Quarter Results\n",
              "                             ...                        \n",
              "395    Stock market today: Dow, S&P 500, Nasdaq mixed...\n",
              "396    Stock market today: Dow, S&P 500, Nasdaq waver...\n",
              "397    Apple Q4 Preview: Can iPhone 17 and AI Keep th...\n",
              "398           The Rise of Integrated Financial Platforms\n",
              "399    Stock market today: Dow, S&P 500, Nasdaq rise ...\n",
              "Name: title, Length: 400, dtype: object"
            ],
            "text/html": [
              "<div>\n",
              "<style scoped>\n",
              "    .dataframe tbody tr th:only-of-type {\n",
              "        vertical-align: middle;\n",
              "    }\n",
              "\n",
              "    .dataframe tbody tr th {\n",
              "        vertical-align: top;\n",
              "    }\n",
              "\n",
              "    .dataframe thead th {\n",
              "        text-align: right;\n",
              "    }\n",
              "</style>\n",
              "<table border=\"1\" class=\"dataframe\">\n",
              "  <thead>\n",
              "    <tr style=\"text-align: right;\">\n",
              "      <th></th>\n",
              "      <th>title</th>\n",
              "    </tr>\n",
              "  </thead>\n",
              "  <tbody>\n",
              "    <tr>\n",
              "      <th>0</th>\n",
              "      <td>Amazon's guidance gives a glimpse of what's to...</td>\n",
              "    </tr>\n",
              "    <tr>\n",
              "      <th>1</th>\n",
              "      <td>Amazon's AWS hits the golden number</td>\n",
              "    </tr>\n",
              "    <tr>\n",
              "      <th>2</th>\n",
              "      <td>Amazon's stock is zooming higher after a big r...</td>\n",
              "    </tr>\n",
              "    <tr>\n",
              "      <th>3</th>\n",
              "      <td>Stock market today: Nasdaq leads S&amp;P 500, Dow ...</td>\n",
              "    </tr>\n",
              "    <tr>\n",
              "      <th>4</th>\n",
              "      <td>Amazon.com Announces Third Quarter Results</td>\n",
              "    </tr>\n",
              "    <tr>\n",
              "      <th>...</th>\n",
              "      <td>...</td>\n",
              "    </tr>\n",
              "    <tr>\n",
              "      <th>395</th>\n",
              "      <td>Stock market today: Dow, S&amp;P 500, Nasdaq mixed...</td>\n",
              "    </tr>\n",
              "    <tr>\n",
              "      <th>396</th>\n",
              "      <td>Stock market today: Dow, S&amp;P 500, Nasdaq waver...</td>\n",
              "    </tr>\n",
              "    <tr>\n",
              "      <th>397</th>\n",
              "      <td>Apple Q4 Preview: Can iPhone 17 and AI Keep th...</td>\n",
              "    </tr>\n",
              "    <tr>\n",
              "      <th>398</th>\n",
              "      <td>The Rise of Integrated Financial Platforms</td>\n",
              "    </tr>\n",
              "    <tr>\n",
              "      <th>399</th>\n",
              "      <td>Stock market today: Dow, S&amp;P 500, Nasdaq rise ...</td>\n",
              "    </tr>\n",
              "  </tbody>\n",
              "</table>\n",
              "<p>400 rows × 1 columns</p>\n",
              "</div><br><label><b>dtype:</b> object</label>"
            ]
          },
          "metadata": {},
          "execution_count": 27
        }
      ]
    },
    {
      "cell_type": "code",
      "source": [
        "## Vocabulary Size\n",
        "voc_size=10000"
      ],
      "metadata": {
        "id": "CoiEcQNSz50q"
      },
      "execution_count": 28,
      "outputs": []
    },
    {
      "cell_type": "markdown",
      "source": [
        "### One Hot Representation"
      ],
      "metadata": {
        "id": "lNDZ3eJ5aQez"
      }
    },
    {
      "cell_type": "code",
      "source": [
        "one_hot_repr=[one_hot(words,voc_size) for words in sent]\n",
        "print(one_hot_repr)"
      ],
      "metadata": {
        "id": "GBF2zU1pQVp-",
        "colab": {
          "base_uri": "https://localhost:8080/"
        },
        "outputId": "c37e344c-2de6-49b6-932d-4dd64818ed49"
      },
      "execution_count": 29,
      "outputs": [
        {
          "output_type": "stream",
          "name": "stdout",
          "text": [
            "[[8351, 3401, 9217, 7348, 182, 4244, 8594, 8443, 8978], [8351, 8401, 4867, 4519, 8717, 1054], [8351, 524, 5336, 2557, 7885, 5303, 7348, 1960, 6568, 6868], [524, 5798, 2970, 6311, 6466, 1969, 2585, 9122, 3887, 4874, 727, 359, 4604, 5303, 674, 9936, 3295, 9847, 9976, 5137], [9847, 3638, 8649, 6857, 1628, 1396], [8351, 8745, 3176, 5336, 5124, 9781, 2170, 8323, 4519, 8177, 8401, 4076], [524, 5798, 2970, 6311, 199, 727, 359, 1873, 3295, 9847, 8443, 5619, 6381, 5124, 1363], [4519, 9964, 9460, 4244, 8351, 674, 2970, 9781, 8323, 2635, 25, 1012], [524, 5798, 2970, 3887, 1969, 2585, 9122, 6311, 6250, 727, 359, 4604, 5303, 674, 9936, 3295, 9847, 9927], [4818, 2171, 816, 2868, 7958, 8323, 3224, 6477, 8329, 3295, 524, 4979, 5008, 4877, 8590, 8476], [9847, 8443, 5533, 4244, 1960, 7384, 674, 3052, 5058, 8443, 2430], [3295, 9847, 674, 1560, 2924, 8743, 5054, 5058, 8443, 6593], [2171, 3719, 863, 7379, 2195, 5303, 6759, 8773, 1090, 1577], [1820, 3875, 1090, 2919, 9800, 9847], [5336, 8351, 524, 7348, 8532, 2403, 7458, 3763, 1863, 901], [2171, 816, 8924, 2868, 2450, 8695, 2281, 2139, 7722, 4137, 3327], [4519, 3887, 5336, 9423, 5470, 1820, 2554, 2920, 3167, 4519, 1969, 2585, 9122, 3892, 6311], [8129, 3892, 7007, 6415, 7402, 5387, 7601, 3443], [8351, 4323, 6254, 1402, 9713, 7348, 2122, 2898], [4519, 1737, 4393, 5965, 6481, 708, 980, 524, 5940, 9976, 2635, 7472], [524, 5798, 2970, 3887, 5307, 6311, 1486, 727, 359, 4604, 5303, 674, 9936, 3295, 9847, 9927], [9847, 5336, 7497, 8443, 5619, 674, 2970, 3052, 5058, 4509, 7738, 2430], [5058, 8443, 4856, 8384, 8351, 674, 5619, 727, 8401, 8794, 8211, 8384, 2042], [9847, 674, 9976, 5137, 2199, 8202, 7009, 9976, 5709, 931, 674, 826], [9847, 5336, 3905, 1337, 8590, 4519, 4011, 4244, 1954, 1285, 3823], [7277, 7118, 7812, 8443, 6250, 5058, 4519, 9784, 4244, 2011, 8431, 6075, 2943, 2228], [238, 3408, 816, 1837, 9742, 2173, 88, 3763, 4210, 8443, 7989], [9847, 674, 2917, 2090, 6288, 8401, 5067, 4186, 7035, 1530, 1019], [3117, 7819, 4687, 4244, 2497, 816, 5168, 1577, 9277, 280, 5527], [9847, 674, 1820, 3875, 1459, 5336, 434, 4800, 3325], [4386, 6942, 8443, 8400, 6809, 6857, 1628, 7997, 4979, 25, 6130], [8351, 524, 2162, 5965, 8573, 5055, 6873, 5675, 2782, 2920, 3581, 1577, 3875, 1090], [1090, 1577, 9847, 4357, 1370, 4519, 2232, 7936, 816, 2868, 8443, 5611, 3052, 1820], [674, 1838, 3079], [7035, 4186, 359, 674, 8435, 6317, 816, 2955, 5006], [9847, 4076, 8443, 8400, 9976, 2171, 272, 8590, 2635, 2662, 674, 2857], [4186, 2096, 359, 998, 5852, 674, 4382], [9911, 5981, 7872, 9976, 88, 1843, 4836, 2662, 674], [4222, 4457, 9757, 6963, 9976, 8251, 6130, 863, 8384, 816, 1402, 8443, 1519], [6593, 6073, 462, 3875, 1960, 1054, 8943, 9847, 4816, 1396], [4519, 8373, 6130, 524, 8443, 5611, 9936, 1942, 3719, 1967, 8254], [998, 5852, 2868, 4394, 5303, 2928, 5533, 4244, 674], [359, 3294, 6311, 359, 524, 4117, 4818, 462, 189, 8435, 7958, 2170, 8323, 8590, 1942, 5008, 2562, 2546], [524, 5798, 2970, 3887, 8579, 5303, 5682, 3479, 3848, 359, 4768, 9976, 8226, 3759, 5124, 1363], [359, 4186, 2096, 5796, 9495, 8590, 9976, 816, 7982, 5058, 8443, 2430], [602, 5845, 2798, 8220, 8151, 880, 1090, 9949, 6000, 2946, 3215, 359, 3294, 3049, 8648, 2473, 3892, 6477], [524, 5798, 2970, 3887, 1969, 2585, 9122, 6311, 6250, 5303, 5682, 3479, 9159, 9936, 1960, 7384, 674, 9927], [8351, 227, 8443, 4954, 7348, 4027, 9510, 3586, 2955], [5058, 4210, 5336, 8351, 674, 2857, 3052, 8477, 8443, 2178, 8590], [8783, 4519, 5855, 5759, 8590, 3085, 838, 813, 1314], [9073, 8477, 509, 4519, 998, 5852, 4289, 8443, 4519, 5798], [7974, 8220, 4122, 9355, 2868, 8443, 5611, 1967, 8254], [1829, 911, 6274, 9159, 2096, 674, 1843, 6901, 8287, 8933, 272], [8436, 3585, 1164, 8506, 5918, 7610, 8748, 8384, 7035, 7333, 3151], [7974, 272, 8443, 2430, 5224, 4519, 524, 5798, 1140], [9495, 3312, 5845, 9976, 8401, 727, 5848, 1495, 641, 8351, 1530, 9159], [2096, 7504, 359, 3049, 6142, 6091, 3727, 2868], [674, 5124, 359, 524, 5940, 4186, 1486, 3892, 2096, 4838, 727, 1960, 7384, 674, 8755, 8590], [9498, 524, 5336, 9976, 9637, 2554, 2920, 9932, 6380, 1021, 8443, 5611], [4509, 2920, 9713, 7348, 8151, 4244, 6996, 5809, 9946, 5156, 1969, 6274, 5664], [8651, 861, 4519, 8182, 7960, 3383, 861, 816, 3327, 602, 5845, 4519, 2868, 8443, 5611, 3892, 8943], [9847, 674, 2171, 6691, 8401, 9781, 5153, 9964, 8590, 8476], [7348, 3400, 5527, 8351, 4145, 524, 2776, 3875, 5008], [9847, 674, 5015, 8590, 1983, 7348, 9046, 9220, 3892, 5527, 7348, 9089, 2898, 462, 4519, 524], [5968, 5845, 8151, 5213, 3133, 462, 8351, 2006, 3191], [6081, 2199, 2049, 462, 6992, 3012, 8590, 9847, 9280, 3295, 9932, 7742, 509], [3875, 998, 524, 5965, 8359, 2628, 640, 3892, 9781, 6444, 6477], [9847, 3295, 674, 3112, 6901, 9509, 2920, 8443, 8978, 3875, 4166], [3295, 3892, 9847, 2006, 674, 4656], [4869, 3849, 9701, 9420, 3191, 9847, 3638, 2096, 3892, 6187], [311, 8522, 3892, 1022, 1151, 8695, 8573, 864, 727, 4869, 9277, 3892, 8775, 4244, 4519, 5054], [524, 5798, 2970, 3887, 1969, 2585, 9122, 3892, 6311, 2119, 3617, 5606, 1215, 5303, 5156, 1969, 911, 6274, 1314, 5392, 359, 524, 1873, 5675, 2096, 9329, 9976, 674, 3295, 3892, 9847, 1396, 9976, 632, 8674, 1229, 8021, 9976, 2797, 6901, 8287, 6574], [4818, 2171, 816, 2868, 7958, 8323, 3224, 6477, 8329, 6350, 3892, 8101, 6526, 8179, 4979, 8235, 6582, 9932, 3295], [9847, 4816, 2970, 4519, 8401, 227, 5336, 4519, 1960, 7960], [4139, 4519, 1362, 813, 3585, 1681, 8443, 6194, 1472, 3892, 5545], [359, 4186, 7809, 4509, 8874, 9936, 816, 7982, 9520], [3295, 9847, 674, 1843, 3148, 7310, 5058, 8443, 6593], [4186, 4816, 2816, 674, 3540, 727, 1539, 2283, 3817, 7872, 5021, 3892, 6698, 734], [524, 5798, 2970, 3887, 1969, 2585, 9122, 6311, 6153, 2197, 487, 5303, 5682, 3479, 3848, 9936, 1960, 7384, 674, 9927], [524, 5798, 2970, 3887, 1969, 2585, 9122, 6311, 6153, 2197, 487, 5303, 5682, 3479, 8747, 1960, 7384, 674], [524, 5798, 2970, 3887, 1969, 2585, 9122, 6311, 6153, 4394, 5237, 5682, 3479, 8747, 1505, 1960, 7384, 2029], [524, 5798, 2970, 3887, 1969, 2585, 9122, 6311, 6153, 4394, 5303, 1505, 1960, 7384, 674, 5682, 3479, 8747], [524, 5798, 2970, 3887, 1969, 2585, 9122, 6311, 6153, 3048, 5303, 1505, 1960, 7384, 674, 9936, 5682, 3479, 4139, 9927], [524, 5798, 2970, 3887, 1969, 2585, 9122, 6311, 6153, 7422, 5237, 5682, 3479, 8747, 1505, 1960, 7384, 2029], [524, 5798, 2970, 3887, 1969, 2585, 9122, 6311, 6153, 7422, 5303, 1505, 1960, 7384, 674, 9936, 5682, 3479, 4139, 4407], [674, 5124, 359, 524, 5940, 4186, 1486, 3892, 2096, 5307, 727, 1960, 7384, 674, 8755, 8590], [8760, 4498, 2197, 4979, 3383, 1770, 4900, 6375, 4210, 7241, 9862, 9280, 4394], [359, 524, 4604, 5303, 7241, 2197, 6042, 9976, 674, 8458, 1653, 8067, 3744, 816, 6576, 8590, 5008, 9927], [359, 2662, 674, 1731, 9976, 9162, 524, 4731, 6477, 8329, 6251], [8946, 1530, 5259, 8785, 6568, 1584, 3133], [524, 5798, 2970, 6311, 7998, 5606, 3887, 1969, 2585, 9122, 6454, 727, 1843, 3823, 7310, 171, 9183, 2797, 8287], [5615, 5870, 6742, 838, 8443, 2184, 9847, 1838, 7206, 1402], [4008, 3074, 4873, 7384, 5739, 8748, 3935, 4715], [9847, 674, 8353, 9976, 4519, 3483, 4244, 7348, 8013], [9911, 674, 3399, 8590, 9936, 9847, 3638, 524], [8946, 1539, 4816, 1530, 2283, 7348, 4166, 5303, 8351, 8401, 4725], [524, 5798, 2970, 3887, 1969, 2585, 9122, 6311, 3853, 727, 1843, 3823, 7310, 171, 1577, 2797, 8287, 5336, 9371, 4493, 8259], [524, 5798, 2970, 3887, 1969, 2585, 9122, 6311, 1505, 727, 1843, 3823, 7310, 171, 1577, 2797, 8287, 5336, 9371, 4493, 8259], [9847, 1140, 5373, 4900, 9283, 1838, 7206, 8443, 1883, 838, 73], [1843, 3823, 5442, 6901, 171, 1577, 2797, 3012, 4137, 272, 7555, 1969, 2585, 9122, 8579, 5124, 1363], [2096, 1235, 3683, 2662, 189, 674, 2857, 3191, 5606, 6568, 3892, 816, 9387, 6130], [524, 5798, 2970, 6311, 6466, 1969, 2585, 9122, 3887, 4874, 727, 359, 4604, 5303, 674, 9936, 3295, 9847, 9976, 5137], [524, 5798, 2970, 3887, 1969, 2585, 9122, 6311, 6250, 727, 359, 4604, 5303, 674, 9936, 3295, 9847, 9927], [7236, 816, 1838, 7206, 8860, 4736, 9253, 5968, 2868], [4519, 3887, 2022, 5470, 2554, 3923, 3617, 3602], [9781, 2497, 816, 6962, 5153, 2409, 9510, 7348, 5251, 5168], [4818, 2171, 816, 2868, 7958, 8323, 3224, 6477, 8329, 3295, 524, 4979, 5008, 4877, 8590, 8476], [2096, 5336, 861, 816, 5759, 1577, 7715, 3861, 7050], [3295, 9847, 674, 1560, 2924, 8743, 5054, 5058, 8443, 6593], [3052, 4519, 3766, 4840, 1820, 2096, 524, 5336, 1086, 5303, 674], [5968, 2868, 5845, 5332, 4519, 2749, 2970, 359, 4186, 2096, 1247, 6905, 7379, 445, 6774, 3203, 5331, 6091, 3892, 6477], [7348, 4142, 5480, 9510, 3812, 3297], [4519, 3887, 5336, 9423, 5470, 1820, 2554, 2920, 3167, 4519, 1969, 2585, 9122, 3892, 6311], [1820, 2096, 524, 8185, 7885, 2970], [8351, 4323, 6254, 1402, 9713, 7348, 2122, 2898], [7035, 7624, 674, 5509, 4244, 4519, 575, 4186, 4976, 7718], [9955, 3383, 861, 816, 3327, 3400, 8443, 7236, 5268, 2868], [524, 5798, 2970, 3887, 5307, 6311, 1486, 727, 359, 4604, 5303, 674, 9936, 3295, 9847, 9927], [9847, 5336, 7497, 8443, 5619, 674, 2970, 3052, 5058, 4509, 7738, 2430], [3693, 8443, 6977, 2338, 359, 816, 6288, 2909, 7653, 4611, 1577, 2839, 2974, 7996], [2096, 4816, 7111, 4068, 1628, 727, 2170, 7042, 2635, 6444, 816, 7299, 1641, 9510, 6568], [3471, 2096, 1725, 2883, 4900, 6568, 9541, 462, 7111, 4210, 644], [8220, 524, 9518, 8254, 6091, 359, 2096, 3892, 6477], [9847, 674, 9976, 5137, 2199, 8202, 7009, 9976, 5709, 931, 674, 826], [238, 3408, 816, 1837, 9742, 2173, 88, 3763, 4210, 8443, 7989], [2096, 524, 4867, 5606, 1679, 5303, 7035, 5856, 4816, 2816, 977, 5968, 5442, 8393], [9847, 674, 2917, 2090, 6288, 8401, 5067, 4186, 7035, 1530, 1019], [7035, 524, 5307, 359, 524, 4768, 7348, 8231, 4244, 2171, 816, 8199], [9847, 674, 1820, 3875, 1459, 5336, 434, 4800, 3325], [8151, 880, 9320, 2935, 2946, 3892, 359], [2096, 524, 4838, 2153, 4979, 2990, 816, 3873, 8572, 2922], [117, 7497, 8443, 5619, 2662, 674, 9936, 8572, 6130, 816, 7304, 8590, 6826], [7035, 4186, 359, 674, 8435, 6317, 816, 2955, 5006], [1820, 4316, 524, 5277, 8518, 7348, 7819, 7831, 8329, 8760, 8590, 4519, 816, 9385], [9847, 4076, 8443, 8400, 9976, 2171, 272, 8590, 2635, 2662, 674, 2857], [2096, 524, 4838, 9976, 674, 6868, 8477, 7035, 523, 8384, 816, 5622, 8443, 5759], [8760, 524, 1486, 3965, 2635, 6146, 5054, 8590, 2854, 727, 8151, 880, 1307, 5392, 816, 7982], [816, 9090, 8630, 8539, 7346, 7384, 4018, 3892, 5606, 1641, 9976, 3761], [7035, 773, 9936, 45, 5603, 8443, 4954, 7311, 816, 2912, 6616, 8443, 5769, 4244, 1764, 9558, 8590, 1914], [6187, 524, 5336, 7872, 3968, 4746, 3571, 1479], [998, 5852, 2868, 4394, 5303, 2928, 5533, 4244, 674], [2096, 4217, 6698, 5646, 727, 2816, 1837, 909, 2155, 816, 275], [816, 7982, 9520, 3335, 8151, 880], [359, 4186, 2096, 5796, 9495, 8590, 9976, 816, 7982, 5058, 8443, 2430], [4871, 1878, 359, 9976, 816, 7982, 606], [602, 5845, 2798, 8220, 8151, 880, 1090, 9949, 6000, 2946, 3215, 359, 3294, 3049, 8648, 2473, 3892, 6477], [7035, 524, 1489, 8443, 5606, 1679, 9976, 2662, 674, 6868, 1530, 227], [359, 4186, 7809, 4509, 9936, 816, 2153, 7982, 5259], [1960, 7384, 4644, 4509, 8874, 9936, 740, 816, 3849, 9520], [524, 5798, 2970, 3887, 1969, 2585, 9122, 6311, 6250, 5303, 5682, 3479, 9159, 9936, 1960, 7384, 674, 9927], [1829, 911, 6274, 9159, 2096, 674, 1843, 6901, 8287, 8933, 272], [7974, 272, 8443, 2430, 5224, 4519, 524, 5798, 1140], [2868, 8443, 6593, 9624, 6712, 9521, 5331, 980, 4186], [3935, 9071, 8747, 9936, 3479, 1843, 6901, 3823, 3892, 2797, 816, 1492], [7035, 7504, 359, 3049, 6142, 6091, 3727, 2868], [674, 5124, 359, 524, 5940, 4186, 1486, 3892, 2096, 4838, 727, 1960, 7384, 674, 8755, 8590], [524, 5798, 2970, 3887, 8579, 9976, 5682, 3479, 3848, 359, 4768, 9976, 674, 5124, 1363], [3875, 1090, 4976, 1967, 3383, 2096, 3683, 8860], [7, 2554, 8573, 4559, 4519, 1843, 5965, 8573, 5134, 8590, 1228, 5527, 4519, 8197, 4210, 2554, 6170, 7310], [4137, 6216, 6470, 3148, 9781, 5797, 8384, 4519, 6444, 2955, 462, 3458, 3892, 816], [2306, 359, 5965, 7348, 850, 4244, 8860, 9256, 2919, 7822, 8145, 8443, 7348, 7369, 9976, 3849], [3801, 4518, 2517, 8370, 4644, 7872, 359, 2096, 2662, 1396], [8651, 861, 4519, 8182, 7960, 3383, 861, 816, 3327, 602, 5845, 4519, 2868, 8443, 5611, 3892, 8943], [5981, 7965, 7348, 6485, 8384, 674, 1843, 3892, 911, 3848, 8477, 171, 5657], [2096, 4816, 4140, 5616, 8590, 8360, 4903, 8443, 2161, 1422, 8590, 2662, 189], [7974, 7384, 2868, 2281, 6288, 5611, 3892, 8766, 462, 4519, 6381, 3492], [2096, 6103, 7111, 644, 1628, 9936, 2883, 4900, 8590, 6568], [7384, 9127, 7325, 8021, 816, 7982, 5675, 5417, 1837, 909, 8641, 6698, 8242], [4818, 2171, 816, 2868, 7958, 8323, 3224, 6477, 8329, 6350, 3892, 8101, 6526, 8179, 4979, 8235, 6582, 9932, 3295], [1960, 7384, 816, 1530, 2955, 8785, 4186, 2096, 359], [4316, 816, 275, 7233, 1858, 727, 8521, 1019, 3892, 5982, 2320, 435, 7610, 9558], [4139, 4519, 1362, 813, 3585, 1681, 8443, 6194, 1472, 3892, 5545], [1090, 5619, 2096, 1235], [6350, 2593, 9280, 5259, 8933, 2970, 1820, 6375, 4579, 1568, 3732, 4900, 8590, 524, 4217], [4186, 674, 4954, 7348, 2173, 5991, 462, 3458, 2868], [8014, 8880, 4316, 6381, 9525, 8306, 816, 8384, 1530, 8443, 6124], [8946, 6444, 816, 7982, 3795, 6698, 606, 727, 1530, 1012, 894], [2848, 8649, 9734, 5134, 9554, 462, 1829, 3729], [2096, 524, 4838, 9976, 1960, 674, 6868], [7035, 5856, 2096, 6103, 7111, 2883, 6050, 1628, 727, 816, 6518, 6130], [4186, 4816, 2816, 674, 3540, 727, 1539, 2283, 3817, 7872, 5021, 3892, 6698, 734], [7035, 6568, 1489, 8443, 5606, 727, 816, 9090, 8785, 1530, 1012], [7035, 6255, 3632, 9840, 462, 2635, 4323, 1402], [524, 5798, 2970, 3887, 1969, 2585, 9122, 6311, 6153, 3048, 5303, 1505, 1960, 7384, 674, 9936, 5682, 3479, 4139, 9927], [3052, 1820, 2096, 5336, 7250, 7872, 9976, 816, 4722], [4316, 7311, 1837, 909, 6255, 7348, 6485, 3540, 727, 816, 7982, 5307], [1505, 5260, 8245, 8443, 5603, 674, 7844, 359, 4277], [3052, 8477, 816, 5336, 1249, 2848, 1832], [7035, 7038, 8021, 9936, 359, 6272, 9976, 9280, 5237, 674, 1577, 4187, 7348, 3028, 9832, 6420], [2096, 8785, 8860, 3401, 8443, 1266, 4900, 727, 816, 2955, 5974, 1530, 7299], [4889, 171, 1146, 8353, 9976, 2797, 6901, 8287], [3085, 8521, 1012, 5336, 4839, 5895, 8590, 4519, 816, 4988], [7035, 5856, 2096, 1019, 7124, 9936, 7111, 5864, 1628], [4316, 674, 2857, 5336, 3383, 8443, 319, 3052, 8477, 8443, 2178, 8590], [2096, 1235, 3683, 1019, 2662, 674, 3892, 6568, 8386], [7035, 8521, 3892, 2848, 9912, 5755, 6130], [7035, 674, 6868, 727, 8521, 1530, 2848, 6568, 8220, 524], [2096, 524, 9329, 727, 2554, 4736, 727, 7348, 5818, 816, 1090], [2096, 9944, 6568, 2320, 2883, 4900, 462, 7111, 4210], [44, 1630, 9976, 9500, 7610, 7451, 7035, 1399, 4519, 1961, 3092, 758], [6445, 954, 5785, 7348, 9463, 5373, 1679, 5675, 7079, 6477, 7304, 9781, 8978, 5303, 6839, 8031], [5336, 3374, 6191, 6375, 4244, 4519, 2232, 6311, 6130, 2868, 8443, 5611, 462, 4519, 6381, 7974, 2854], [9498, 524, 5336, 9976, 9637, 2554, 2920, 9932, 6380, 1021, 8443, 5611], [4818, 3875, 7958, 8323, 4519, 2749, 7793, 524, 24, 4244, 8476], [3374, 2069, 9510, 9415, 4244, 5900, 6754, 1910, 9936, 1362, 305, 3892, 2132, 6172, 5336, 2170, 6544, 8443, 4202, 4509], [3875, 9121, 6247, 524, 5965, 4519, 7358, 4224, 3892, 4519, 2749, 7331], [6288, 6990, 3215, 1962, 7609, 8265, 6135, 8590, 4519, 3617, 5246], [3052, 5058, 4519, 8151, 880, 7636, 3383, 3374, 6191, 5303, 2635, 2662, 674], [2171, 272, 4509, 3117, 8443, 2430, 3383, 3374, 8521, 7159, 5480], [7735, 2171, 1521, 2868, 8443, 5611, 1967, 8254], [8933, 6691, 772, 3587, 4244, 3374, 6191], [1090, 5619, 3374, 1235], [9909, 9036, 3374, 8859, 7676, 3892, 4519, 4230], [727, 3374, 524, 774, 5470, 7738, 2281, 5611, 4519, 6191, 6454], [8477, 7958, 7799, 8561, 3892, 8203, 9424, 8590, 2497, 4492, 674], [4519, 7974, 2749, 5038, 1090, 88, 8384, 2907, 2662, 674, 2857], [9318, 674, 8590, 3374, 524, 7497, 8021, 6081, 6274, 462, 6962], [3374, 4768, 2830, 931, 2662, 674, 5611, 7989, 3763, 8766, 4519, 524], [4797, 3374, 6191, 5268, 189, 6070, 7128, 3892, 9564], [602, 5336, 5058, 8443, 2430, 7121, 1820, 3374, 1235, 6191, 5336, 7348, 3727, 524], [2907, 3012, 8384, 6971, 8443, 7959, 9781, 8323, 7348, 4122, 1810, 7831], [7492, 3374, 4838, 6288, 2170, 3382, 2321, 3875, 4166], [4519, 4869, 1090, 4148, 3191, 6795, 3374, 9415, 441, 4244, 3892, 9868, 6195], [4519, 8373, 6130, 524, 8443, 5611, 9936, 2171, 3719, 1967, 8254], [7738, 4509, 5611, 4519, 3374, 6454], [1942, 6130, 524, 7872, 9472, 8443, 5611, 1967, 8254], [3374, 4509, 2270, 1277, 7348, 524, 24, 8590, 4519, 2928, 9944, 5619, 912, 3599, 5172, 7819], [1820, 2170, 5965, 8573, 861, 5096, 4166, 462, 2868], [674, 6162, 1858, 8443, 861, 1988, 3995], [7735, 8933, 1521, 2868, 8443, 5611, 1967, 8254], [3374, 524, 935, 7348, 4975, 7006, 4166, 7348, 5611, 9976, 4519, 6454, 3763, 7348, 8714, 8443, 109, 1858, 4519, 6971], [5336, 3374, 524, 7348, 5611, 7989, 3763, 8766, 850, 9510, 8476], [8760, 4166, 8590, 5021, 5834, 9964, 5834, 3977], [3599, 7974, 3719, 2171, 7384, 2868, 8443, 5611, 3892, 8766, 462, 4519, 4181, 5246], [1751, 7591, 9976, 3374, 861, 8887, 3875, 7989, 1858, 5336, 861, 542], [4519, 7725, 3374, 9847, 3638, 8082, 1716, 3892, 6477, 2868, 9256, 7315, 4519, 4166], [9781, 3374, 524, 9447, 4519, 8539, 7346, 1292, 4979, 8235], [1751, 7591, 5765, 438, 6058, 462, 3374, 6191, 5303, 674], [8220, 524, 4816, 462, 6795, 3374, 9415], [8120, 4350, 1983, 1227, 4519, 6454, 8590, 3374, 524, 7738, 2281], [4519, 524, 5798, 1621, 8443, 1362, 1215, 3052, 5058, 6288, 1017, 2170, 3533, 3763, 5300, 2170, 8384, 2635, 2435], [7819, 6130, 524, 8443, 5611, 8254, 3374, 7504, 4519, 6274, 6739], [8151, 880, 1404, 5251, 8480, 9976, 3396, 674, 6849], [157, 1223, 1838, 8630, 5846, 1688, 8443, 5606, 1215], [2847, 7504, 6191, 2234, 524, 7738, 8924, 4509, 5611, 8254], [7738, 2281, 5611, 3374, 524, 1967, 8254], [524, 5798, 4867, 1362, 1215, 1167, 1858, 2367, 816, 4933, 6187, 3374, 8590, 6826, 7309, 5021], [3374, 6336, 2816, 179, 2662, 2621, 6191, 5277, 4994, 6380, 4968], [5336, 4519, 5798, 2917, 462, 7348, 2727, 5809, 2816, 674], [5336, 8254, 4519, 4210, 8443, 5611, 3374, 524], [4560, 1090, 5765, 8768, 3012, 9976, 3374, 524, 5303, 674], [8180, 9740, 5158, 3416, 9376, 8477, 1679, 9781, 9155, 9280, 5796], [9775, 5865, 2546, 7331, 8590, 3374, 5303, 2662, 674, 9842], [674, 5124, 1471, 524, 4811, 102, 5307, 5303, 9220, 7585, 6581], [305, 1630, 3848, 3374, 73, 462, 7492, 6754, 4838, 9649], [9909, 9036, 9019, 4283, 2682, 7419, 6753, 3374], [6274, 964, 8047, 3253, 3424, 6477, 3374], [4525, 6111, 8728, 9781, 6444, 9157, 1946], [7384, 5946, 5798, 9976, 727, 6311, 9329, 8095, 4417], [3052, 8477, 3374, 6191, 7548, 4257, 4509], [305, 2320, 2662, 8386, 1630, 3848, 1191, 227, 9976, 3802, 4743], [524, 5798, 3497, 462, 2562, 4994, 189], [3374, 9328, 2662, 674, 1271, 2195, 7311, 1837, 909, 6058, 2201, 8590, 1625], [8120, 4350, 6377, 3812, 8933, 2868, 5940, 1983, 1227], [8047, 3253, 1577, 3374, 6191, 1517, 6073, 816, 8276, 5675, 4889, 3383, 8443, 3828], [4139, 4519, 6474, 524, 9256, 1744, 8443, 3945, 4519, 5798], [3374, 9280, 3048, 5834, 727, 6130, 227, 3469], [674, 5124, 6187, 524, 8579, 5303, 674, 1731, 6150, 1650, 2175, 4283, 3892, 305, 8875], [3374, 6191, 6077, 8933, 5054, 4010, 5303, 6268, 7610, 7241, 6619], [3374, 524, 6581, 4210, 8443, 7989], [4962, 954, 2173, 1054, 9976, 3374, 6191, 9919, 2816, 6160, 8443, 7653, 5741, 8138, 3892, 1962, 3065], [8788, 524, 4117, 7951, 6388, 5303, 2662, 674], [1090, 5619, 3374, 1235], [3374, 9730, 8590, 727, 5900, 6754, 1910, 6901, 8443, 6352, 3586, 6162], [5611, 4519, 6454, 8590, 1983, 3033, 3763, 3374, 524, 5303, 2662, 674], [2132, 305, 5058, 4509, 3117, 8443, 2430, 3383, 3802, 2868], [3802, 2868, 305, 2132, 1769, 9976, 2907, 7492, 6754, 4838], [674, 5124, 6187, 524, 8579, 5303, 674, 1731, 4283, 4604], [5156, 1969, 911, 6274, 2556, 1744, 727, 2868, 2172, 4874], [5968, 2868, 1194, 4519, 2749, 2970, 3374, 6187, 312, 7707, 5527, 4852, 7906, 6697, 8613, 1983, 9658, 3892, 6477], [3374, 524, 8579, 5303, 2662, 674, 1731, 8386, 7697, 4498, 5765, 7348, 2197], [6311, 6581, 9976, 6477, 7384, 4933], [524, 5798, 2970, 3887, 1969, 2585, 9122, 6311, 4394, 727, 3374, 4604, 6187, 674, 4136], [3374, 2919, 7099, 6073, 5158, 462, 8180, 9740], [3374, 5965, 8443, 5300, 2170, 6073, 4244, 4519, 8613, 1651, 9140], [3374, 2662, 674, 8353, 7958, 5900, 6754, 1910, 8407, 7452, 6868, 8386], [3374, 674, 2197, 4979, 4911, 7241, 6619], [3067, 5190, 861, 773, 1314, 9936, 6938, 1630, 816, 9936, 6456, 1630, 5834, 8559, 3748, 316, 6570], [3374, 4604, 9976, 674, 3052, 5058, 2281, 3117, 8443, 2430], [5968, 2868, 5845, 5332, 4519, 2749, 2970, 3374, 6187, 312, 7707, 5527, 4852, 7906, 6697, 8613, 1983, 9658, 3892, 6477], [567, 5755, 1350, 7785, 2907, 4492, 6058, 5336, 7331, 9307], [1820, 3374, 524, 4976, 1945, 2970], [2907, 674, 8510, 9936, 7348, 826, 8487, 1820, 4519, 524, 5336, 4519, 1969, 2585, 3714, 5709, 5622], [8220, 524, 9518, 8254, 3374, 312, 7707, 7906, 6697, 3892, 6477], [8477, 2907, 6568, 9781, 4457, 6568, 4979, 8291, 4877], [5336, 3374, 8521, 931, 674, 3631, 245], [525, 2887, 5336, 3626, 9976, 8151, 880, 727, 7384, 2868, 202, 6395, 3892, 9474, 5845, 9495, 6418, 8211], [2868, 4874, 727, 3374, 674, 1100, 4519, 6311], [1820, 3374, 6191, 524, 5336, 3121, 2970], [6191, 2662, 674, 1731, 9976, 1724, 7241, 7902, 6103, 5606, 5755, 4743], [524, 5798, 2970, 6311, 6466, 1969, 2585, 9122, 3887, 4874, 727, 359, 4604, 5303, 674, 9936, 3295, 9847, 9976, 5137], [2497, 5442, 8443, 6130, 3315, 8590, 816, 757], [8806, 3795, 3350, 1346, 8590, 5324, 2104, 5533, 3497, 4816], [524, 5798, 2970, 6311, 199, 727, 359, 1873, 3295, 9847, 8443, 5619, 6381, 5124, 1363], [3295, 8443, 5619, 674, 727, 1362, 9182, 3065, 8781, 6774, 2955], [8806, 9280, 7422, 3748, 5303, 5619, 4244, 9376, 3350, 1346], [3295, 8475, 8590, 9976, 861, 9495, 4210, 1679], [524, 5798, 2970, 3887, 1969, 2585, 9122, 6311, 6250, 727, 359, 4604, 5303, 674, 9936, 3295, 9847, 9927], [9781, 2497, 816, 6962, 5153, 2409, 9510, 7348, 5251, 5168], [3295, 4076, 7348, 2409, 1628, 8443, 1681, 4509, 1577, 7715, 3953, 1830], [3295, 9847, 674, 1560, 2924, 8743, 5054, 5058, 8443, 6593], [9134, 7504, 7011, 9417, 2234, 7384, 6130, 524, 5336, 4519, 7819, 4768], [1942, 4840, 3295, 524, 1983, 2197, 9495, 4210, 1215], [5968, 2868, 5845, 5332, 4519, 2749, 2970, 359, 4186, 2096, 1247, 6905, 7379, 445, 6774, 3203, 5331, 6091, 3892, 6477], [3295, 5965, 3147, 8435, 2042, 8695, 3873, 9976, 816, 7982], [3295, 5336, 7497, 8443, 5619, 674, 2970, 3052, 5058, 2281, 3117, 8443, 2430], [3295, 9973, 9182, 9472, 1640, 5965, 9947, 8901, 462, 9558], [524, 5798, 2970, 3887, 5307, 6311, 1486, 727, 359, 4604, 5303, 674, 9936, 3295, 9847, 9927], [2497, 674, 5619, 5336, 1743, 8021, 8443, 8323, 7348, 6117], [3295, 5277, 8443, 1017, 7348, 4798, 4244, 674, 1019, 5106], [7735, 3295, 7401, 8386, 1584, 748, 4972, 5586, 7401, 2582], [3295, 9280, 5845, 7615, 9927, 4244, 674], [9911, 850, 9510, 2497, 7401, 674, 7166, 7601, 2955, 4338, 3295, 4867, 6215, 8539, 5798, 6247], [238, 3408, 816, 1837, 9742, 2173, 88, 3763, 4210, 8443, 7989], [9566, 4916, 2565, 6570, 6081, 2171, 1092, 2201, 9936, 7819, 4181, 5246, 4217], [1820, 3875, 3295, 8775, 8871, 2863, 9976, 4519, 7166, 7159, 4316], [3117, 7819, 4687, 4244, 2497, 816, 5168, 1577, 9277, 280, 5527], [5938, 624, 7958, 2090, 6977, 9873, 6971, 5428], [9847, 674, 1820, 3875, 1459, 5336, 434, 4800, 3325], [674, 1838, 3079], [3295, 4492, 674, 6318, 9781, 861, 9182, 2315, 6530, 8151, 880], [6038, 2741, 5845, 462, 7248, 9182, 9472, 2955, 6288, 2170, 7006], [7035, 4186, 359, 674, 8435, 6317, 816, 2955, 5006], [5682, 3479, 6274, 9159, 5963, 88, 9233, 7900, 2868, 4394], [4186, 2096, 359, 998, 5852, 674, 4382], [9911, 5981, 7872, 9976, 88, 1843, 4836, 2662, 674], [4222, 4457, 9757, 6963, 9976, 8251, 6130, 863, 8384, 816, 1402, 8443, 1519], [5336, 5331, 3224, 1942, 8539, 2635, 1803, 1492, 3461], [816, 9090, 8630, 8539, 7346, 7384, 4018, 3892, 5606, 1641, 9976, 3761], [998, 5852, 2868, 4394, 5303, 2928, 5533, 4244, 674], [1820, 3875, 1090, 6255, 7331, 9376, 462, 2497, 674, 5619], [359, 3294, 6311, 359, 524, 4117, 4818, 462, 189, 8435, 7958, 2170, 8323, 8590, 1942, 5008, 2562, 2546], [359, 4186, 2096, 5796, 9495, 8590, 9976, 816, 7982, 5058, 8443, 2430], [602, 5845, 2798, 8220, 8151, 880, 1090, 9949, 6000, 2946, 3215, 359, 3294, 3049, 8648, 2473, 3892, 6477], [8435, 7958, 3295, 524, 8323, 8590, 1942, 5008], [524, 5798, 2970, 3887, 1969, 2585, 9122, 6311, 6250, 5303, 5682, 3479, 9159, 9936, 1960, 7384, 674, 9927], [1090, 7913, 1820, 9688, 3676, 3295, 1926, 9280, 4138, 4244, 659, 9800, 2763], [1090, 1577, 3295, 1926, 9182, 9472, 7958, 9932, 3646, 8590, 2198, 7357, 7636, 524, 7208, 9932, 5577], [1829, 911, 6274, 9159, 2096, 674, 1843, 6901, 8287, 8933, 272], [3295, 524, 5307, 8590, 1806, 3052], [3295, 5965, 9574, 7348, 1362, 2513, 8443, 2635, 6017, 9927, 4244, 674], [524, 5798, 2970, 3887, 8579, 9976, 5682, 3479, 3848, 359, 4768, 9976, 674, 5124, 1363], [7974, 272, 8443, 2430, 5224, 4519, 524, 5798, 1140], [2096, 7504, 359, 3049, 6142, 6091, 3727, 2868], [674, 5124, 359, 524, 5940, 4186, 1486, 3892, 2096, 4838, 727, 1960, 7384, 674, 8755, 8590], [4509, 2920, 9713, 7348, 8151, 4244, 6996, 5809, 9946, 5156, 1969, 6274, 5664], [5058, 4210, 6317, 3295, 5619, 674, 9624, 3052, 8477, 8443, 2178, 8590], [4976, 2497, 2816, 9182, 2776, 7348, 457, 7006, 4210, 9644, 2090, 247, 6073], [5738, 1820, 1960, 7384, 4519, 1843, 3892, 6274, 3848, 9169, 8151, 880, 9936, 4800, 5655], [2497, 674, 5619, 5336, 1983, 9220, 491, 3892, 2170, 9495, 4758, 7872, 8443, 9182, 1350], [4519, 5442, 5605, 8443, 6593, 8943, 3295, 4816, 674], [6081, 2199, 2049, 462, 6992, 3012, 8590, 9847, 9280, 3295, 9932, 7742, 509], [3295, 674, 9976, 5137, 9182, 9472, 4743, 911, 816, 8590, 6826], [9847, 3295, 674, 3112, 6901, 9509, 2920, 8443, 8978, 3875, 4166], [5968, 2868, 5845, 5332, 4519, 2749, 2970, 4186, 2096, 359, 6350, 6091, 2935, 1247, 3892, 6477], [2868, 8443, 6593, 9624, 359, 2096, 6091], [3295, 3892, 9847, 2006, 674, 4656], [9775, 3599, 7348, 850, 901, 6073, 4244, 3295, 1926, 524, 1577, 1751, 7591], [4869, 3849, 9701, 9420, 3191, 3295, 7321, 2946, 2351, 3892, 6161], [7735, 8220, 8924, 524, 8443, 5611, 462, 8476, 3892, 2554, 9932, 3540, 5794], [524, 5798, 2970, 3887, 1969, 2585, 9122, 3892, 6311, 2119, 3617, 5606, 1215, 5303, 5156, 1969, 911, 6274, 1314, 5392, 359, 524, 1873, 5675, 2096, 9329, 9976, 674, 3295, 3892, 9847, 1396, 9976, 632, 8674, 1229, 8021, 9976, 2797, 6901, 8287, 6574], [3295, 674, 9182, 4743, 816, 503, 3442, 3892, 5058, 6477, 8443, 6593], [2497, 674, 5845, 5788, 602, 187, 7348, 5442, 7809, 9927, 4244, 4519, 7268], [967, 8077, 3408, 7348, 5353, 1628, 524, 4903, 5845, 7348, 8451, 1543], [359, 4186, 7809, 4509, 8874, 9936, 816, 7982, 9520], [8565, 3295, 524, 3587, 2517, 2565, 5006, 462, 4709, 2546], [4519, 9973, 4244, 3295, 6456, 3892, 1774, 9344, 9976, 6375, 7555, 9718, 727, 7348, 1012, 267, 5336, 6524, 1010], [3295, 9847, 674, 1843, 3148, 7310, 5058, 8443, 6593], [524, 5798, 2970, 3887, 1969, 2585, 9122, 6311, 6153, 2197, 487, 5303, 5682, 3479, 8747, 1960, 7384, 674], [524, 5798, 2970, 3887, 1969, 2585, 9122, 6311, 6153, 4394, 5237, 5682, 3479, 8747, 1505, 1960, 7384, 2029], [524, 5798, 2970, 3887, 1969, 2585, 9122, 6311, 6153, 4394, 5303, 1505, 1960, 7384, 674, 5682, 3479, 8747], [524, 5798, 2970, 3887, 1969, 2585, 9122, 6311, 6153, 3048, 5303, 1505, 1960, 7384, 674, 9936, 5682, 3479, 4139, 9927], [524, 5798, 2970, 3887, 1969, 2585, 9122, 6311, 6153, 7422, 5237, 5682, 3479, 8747, 1505, 1960, 7384, 2029], [524, 5798, 2970, 3887, 1969, 2585, 9122, 6311, 6153, 7422, 5303, 1505, 1960, 7384, 674, 9936, 5682, 3479, 4139, 4407], [2684, 1630, 6255, 8859, 8443, 3542, 3458, 8590, 816, 9387, 646, 9936, 9427, 1314], [1820, 4519, 816, 9277, 5798, 5336, 8926, 1810, 7892, 1716], [3295, 1630, 503, 3442, 9976, 9182, 9472, 7170, 2554, 4519, 2749, 9821, 5054, 4244, 4519, 5008, 462, 1829], [674, 5124, 359, 524, 5940, 4186, 1486, 3892, 2096, 5307, 727, 1960, 7384, 674, 8755, 8590], [8946, 9944, 4743, 3892, 4498, 5259, 9176, 8151, 880, 3133], [359, 524, 4604, 5303, 7241, 2197, 6042, 9976, 674, 8458, 1653, 8067, 3744, 816, 6576, 8590, 5008, 9927], [359, 2662, 674, 1731, 9976, 9162, 524, 4731, 6477, 8329, 6251], [524, 5798, 2970, 6311, 7998, 5606, 3887, 1969, 2585, 9122, 6454, 727, 1843, 3823, 7310, 171, 9183, 2797, 8287], [4008, 3074, 4873, 7384, 5739, 8748, 3935, 4715], [6350, 524, 5336, 2920, 7348, 5611, 1820, 7974, 8539, 8871, 4519, 8220], [524, 5798, 2970, 3887, 1969, 2585, 9122, 6311, 3853, 727, 1843, 3823, 7310, 171, 1577, 2797, 8287, 5336, 9371, 4493, 8259], [524, 5798, 2970, 3887, 1969, 2585, 9122, 6311, 1505, 727, 1843, 3823, 7310, 171, 1577, 2797, 8287, 5336, 9371, 4493, 8259], [524, 5798, 2970, 3887, 1969, 2585, 9122, 6311, 3853, 727, 1843, 3823, 7310, 462, 7678, 9145, 8747, 6350, 4811], [3295, 4492, 8353, 6288, 9182, 9472, 3892, 816, 1017, 4519, 6215, 8539, 6268, 4148], [4519, 5238, 4244, 4723, 1431, 3294], [524, 5798, 2970, 3887, 1969, 2585, 9122, 6311, 5238, 727, 1843, 3823, 7310, 462, 7678, 9145, 8747, 6350, 4811]]\n"
          ]
        }
      ]
    },
    {
      "cell_type": "markdown",
      "source": [
        "### Word Embedding Representation"
      ],
      "metadata": {
        "id": "uj1JgEVIbKE_"
      }
    },
    {
      "cell_type": "code",
      "source": [
        "from tensorflow.keras.layers import Embedding\n",
        "from tensorflow.keras.preprocessing.sequence import pad_sequences\n",
        "from tensorflow.keras.models import Sequential\n",
        "import numpy as np"
      ],
      "metadata": {
        "id": "MBHjgVV4QzAe"
      },
      "execution_count": 30,
      "outputs": []
    },
    {
      "cell_type": "code",
      "source": [
        "sent_length=20\n",
        "embedded_docs=pad_sequences(one_hot_repr,padding='pre',maxlen=sent_length)\n",
        "print(embedded_docs)"
      ],
      "metadata": {
        "id": "938ntxJzRXaZ",
        "colab": {
          "base_uri": "https://localhost:8080/"
        },
        "outputId": "c9bd42af-451b-4f59-c9ec-538a8b2c88fd"
      },
      "execution_count": 31,
      "outputs": [
        {
          "output_type": "stream",
          "name": "stdout",
          "text": [
            "[[   0    0    0 ... 8594 8443 8978]\n",
            " [   0    0    0 ... 4519 8717 1054]\n",
            " [   0    0    0 ... 1960 6568 6868]\n",
            " ...\n",
            " [   0    0    0 ... 8539 6268 4148]\n",
            " [   0    0    0 ... 4723 1431 3294]\n",
            " [   0  524 5798 ... 8747 6350 4811]]\n"
          ]
        }
      ]
    },
    {
      "cell_type": "code",
      "source": [
        "dim=10"
      ],
      "metadata": {
        "id": "hsVmX_rEc0kv"
      },
      "execution_count": 32,
      "outputs": []
    },
    {
      "cell_type": "code",
      "source": [
        "embedding_vector_features=40\n",
        "model=Sequential()\n",
        "model.add(Embedding(voc_size,embedding_vector_features,input_length=sent_length))"
      ],
      "metadata": {
        "id": "E5kntD3hdVQl",
        "colab": {
          "base_uri": "https://localhost:8080/"
        },
        "outputId": "f288b1f6-e79d-425a-a4f9-8d5c5cb5e91e"
      },
      "execution_count": 33,
      "outputs": [
        {
          "output_type": "stream",
          "name": "stderr",
          "text": [
            "/usr/local/lib/python3.12/dist-packages/keras/src/layers/core/embedding.py:97: UserWarning: Argument `input_length` is deprecated. Just remove it.\n",
            "  warnings.warn(\n"
          ]
        }
      ]
    },
    {
      "cell_type": "code",
      "source": [
        "model.summary()"
      ],
      "metadata": {
        "colab": {
          "base_uri": "https://localhost:8080/",
          "height": 170
        },
        "id": "tCZdgGuLd6lV",
        "outputId": "c5886f63-1844-4140-ff58-4763680cfe65"
      },
      "execution_count": 34,
      "outputs": [
        {
          "output_type": "display_data",
          "data": {
            "text/plain": [
              "\u001b[1mModel: \"sequential\"\u001b[0m\n"
            ],
            "text/html": [
              "<pre style=\"white-space:pre;overflow-x:auto;line-height:normal;font-family:Menlo,'DejaVu Sans Mono',consolas,'Courier New',monospace\"><span style=\"font-weight: bold\">Model: \"sequential\"</span>\n",
              "</pre>\n"
            ]
          },
          "metadata": {}
        },
        {
          "output_type": "display_data",
          "data": {
            "text/plain": [
              "┏━━━━━━━━━━━━━━━━━━━━━━━━━━━━━━━━━┳━━━━━━━━━━━━━━━━━━━━━━━━┳━━━━━━━━━━━━━━━┓\n",
              "┃\u001b[1m \u001b[0m\u001b[1mLayer (type)                   \u001b[0m\u001b[1m \u001b[0m┃\u001b[1m \u001b[0m\u001b[1mOutput Shape          \u001b[0m\u001b[1m \u001b[0m┃\u001b[1m \u001b[0m\u001b[1m      Param #\u001b[0m\u001b[1m \u001b[0m┃\n",
              "┡━━━━━━━━━━━━━━━━━━━━━━━━━━━━━━━━━╇━━━━━━━━━━━━━━━━━━━━━━━━╇━━━━━━━━━━━━━━━┩\n",
              "│ embedding (\u001b[38;5;33mEmbedding\u001b[0m)           │ ?                      │   \u001b[38;5;34m0\u001b[0m (unbuilt) │\n",
              "└─────────────────────────────────┴────────────────────────┴───────────────┘\n"
            ],
            "text/html": [
              "<pre style=\"white-space:pre;overflow-x:auto;line-height:normal;font-family:Menlo,'DejaVu Sans Mono',consolas,'Courier New',monospace\">┏━━━━━━━━━━━━━━━━━━━━━━━━━━━━━━━━━┳━━━━━━━━━━━━━━━━━━━━━━━━┳━━━━━━━━━━━━━━━┓\n",
              "┃<span style=\"font-weight: bold\"> Layer (type)                    </span>┃<span style=\"font-weight: bold\"> Output Shape           </span>┃<span style=\"font-weight: bold\">       Param # </span>┃\n",
              "┡━━━━━━━━━━━━━━━━━━━━━━━━━━━━━━━━━╇━━━━━━━━━━━━━━━━━━━━━━━━╇━━━━━━━━━━━━━━━┩\n",
              "│ embedding (<span style=\"color: #0087ff; text-decoration-color: #0087ff\">Embedding</span>)           │ ?                      │   <span style=\"color: #00af00; text-decoration-color: #00af00\">0</span> (unbuilt) │\n",
              "└─────────────────────────────────┴────────────────────────┴───────────────┘\n",
              "</pre>\n"
            ]
          },
          "metadata": {}
        },
        {
          "output_type": "display_data",
          "data": {
            "text/plain": [
              "\u001b[1m Total params: \u001b[0m\u001b[38;5;34m0\u001b[0m (0.00 B)\n"
            ],
            "text/html": [
              "<pre style=\"white-space:pre;overflow-x:auto;line-height:normal;font-family:Menlo,'DejaVu Sans Mono',consolas,'Courier New',monospace\"><span style=\"font-weight: bold\"> Total params: </span><span style=\"color: #00af00; text-decoration-color: #00af00\">0</span> (0.00 B)\n",
              "</pre>\n"
            ]
          },
          "metadata": {}
        },
        {
          "output_type": "display_data",
          "data": {
            "text/plain": [
              "\u001b[1m Trainable params: \u001b[0m\u001b[38;5;34m0\u001b[0m (0.00 B)\n"
            ],
            "text/html": [
              "<pre style=\"white-space:pre;overflow-x:auto;line-height:normal;font-family:Menlo,'DejaVu Sans Mono',consolas,'Courier New',monospace\"><span style=\"font-weight: bold\"> Trainable params: </span><span style=\"color: #00af00; text-decoration-color: #00af00\">0</span> (0.00 B)\n",
              "</pre>\n"
            ]
          },
          "metadata": {}
        },
        {
          "output_type": "display_data",
          "data": {
            "text/plain": [
              "\u001b[1m Non-trainable params: \u001b[0m\u001b[38;5;34m0\u001b[0m (0.00 B)\n"
            ],
            "text/html": [
              "<pre style=\"white-space:pre;overflow-x:auto;line-height:normal;font-family:Menlo,'DejaVu Sans Mono',consolas,'Courier New',monospace\"><span style=\"font-weight: bold\"> Non-trainable params: </span><span style=\"color: #00af00; text-decoration-color: #00af00\">0</span> (0.00 B)\n",
              "</pre>\n"
            ]
          },
          "metadata": {}
        }
      ]
    },
    {
      "cell_type": "code",
      "source": [
        "print(model.predict(embedded_docs))"
      ],
      "metadata": {
        "colab": {
          "base_uri": "https://localhost:8080/"
        },
        "id": "hwMbGGuDd9RH",
        "outputId": "066f568f-769a-4e1e-cc8d-772268eb1293"
      },
      "execution_count": 35,
      "outputs": [
        {
          "output_type": "stream",
          "name": "stdout",
          "text": [
            "\u001b[1m13/13\u001b[0m \u001b[32m━━━━━━━━━━━━━━━━━━━━\u001b[0m\u001b[37m\u001b[0m \u001b[1m0s\u001b[0m 4ms/step  \n",
            "[[[-0.00901704  0.00935541 -0.03776122 ...  0.02763135 -0.04253864\n",
            "    0.02968514]\n",
            "  [-0.00901704  0.00935541 -0.03776122 ...  0.02763135 -0.04253864\n",
            "    0.02968514]\n",
            "  [-0.00901704  0.00935541 -0.03776122 ...  0.02763135 -0.04253864\n",
            "    0.02968514]\n",
            "  ...\n",
            "  [ 0.00507049  0.01286519  0.01568869 ... -0.00247429  0.048001\n",
            "    0.003996  ]\n",
            "  [ 0.01767199 -0.0004717  -0.0034394  ... -0.01818539 -0.02308518\n",
            "   -0.0222276 ]\n",
            "  [-0.00630689  0.0433997  -0.04898065 ... -0.02773459  0.02227013\n",
            "    0.030256  ]]\n",
            "\n",
            " [[-0.00901704  0.00935541 -0.03776122 ...  0.02763135 -0.04253864\n",
            "    0.02968514]\n",
            "  [-0.00901704  0.00935541 -0.03776122 ...  0.02763135 -0.04253864\n",
            "    0.02968514]\n",
            "  [-0.00901704  0.00935541 -0.03776122 ...  0.02763135 -0.04253864\n",
            "    0.02968514]\n",
            "  ...\n",
            "  [-0.03899221  0.04735691  0.04771994 ...  0.00059575  0.03725523\n",
            "    0.04758574]\n",
            "  [-0.03156777  0.00610108  0.04684183 ...  0.02379933  0.01938012\n",
            "    0.02688608]\n",
            "  [ 0.03368426  0.00148059 -0.00633501 ... -0.00889556 -0.03392797\n",
            "    0.04378786]]\n",
            "\n",
            " [[-0.00901704  0.00935541 -0.03776122 ...  0.02763135 -0.04253864\n",
            "    0.02968514]\n",
            "  [-0.00901704  0.00935541 -0.03776122 ...  0.02763135 -0.04253864\n",
            "    0.02968514]\n",
            "  [-0.00901704  0.00935541 -0.03776122 ...  0.02763135 -0.04253864\n",
            "    0.02968514]\n",
            "  ...\n",
            "  [-0.02685834  0.00270026 -0.02490336 ... -0.04193718  0.00027687\n",
            "   -0.01738305]\n",
            "  [-0.02901673 -0.01777837  0.00353277 ...  0.01435036 -0.03577894\n",
            "   -0.01589055]\n",
            "  [ 0.03073484  0.02010462  0.00291444 ...  0.03331455 -0.01349993\n",
            "    0.03588959]]\n",
            "\n",
            " ...\n",
            "\n",
            " [[-0.00901704  0.00935541 -0.03776122 ...  0.02763135 -0.04253864\n",
            "    0.02968514]\n",
            "  [-0.00901704  0.00935541 -0.03776122 ...  0.02763135 -0.04253864\n",
            "    0.02968514]\n",
            "  [-0.00901704  0.00935541 -0.03776122 ...  0.02763135 -0.04253864\n",
            "    0.02968514]\n",
            "  ...\n",
            "  [-0.03058332  0.03110397  0.02018735 ...  0.00483764  0.01188684\n",
            "    0.04553683]\n",
            "  [-0.03689092 -0.04346227  0.04584933 ...  0.02041947 -0.04279909\n",
            "    0.04403434]\n",
            "  [-0.01050974  0.04474895  0.03358309 ... -0.00814352 -0.0369118\n",
            "    0.04561797]]\n",
            "\n",
            " [[-0.00901704  0.00935541 -0.03776122 ...  0.02763135 -0.04253864\n",
            "    0.02968514]\n",
            "  [-0.00901704  0.00935541 -0.03776122 ...  0.02763135 -0.04253864\n",
            "    0.02968514]\n",
            "  [-0.00901704  0.00935541 -0.03776122 ...  0.02763135 -0.04253864\n",
            "    0.02968514]\n",
            "  ...\n",
            "  [-0.01272682  0.02907271 -0.01476847 ... -0.03807246 -0.01146577\n",
            "   -0.04855038]\n",
            "  [ 0.00207267 -0.047224    0.00902738 ...  0.0036955   0.00344242\n",
            "    0.01830171]\n",
            "  [-0.0322536  -0.03113164 -0.02165581 ... -0.046056    0.04014914\n",
            "   -0.01017499]]\n",
            "\n",
            " [[-0.00901704  0.00935541 -0.03776122 ...  0.02763135 -0.04253864\n",
            "    0.02968514]\n",
            "  [-0.04115843 -0.04629181  0.01073943 ...  0.02340868 -0.02979161\n",
            "   -0.02821661]\n",
            "  [-0.03787088 -0.04978144 -0.02359439 ...  0.02175839 -0.02176018\n",
            "    0.03936571]\n",
            "  ...\n",
            "  [ 0.04425577 -0.03745322 -0.01127682 ...  0.023803    0.02129615\n",
            "    0.03553382]\n",
            "  [-0.03845089 -0.04862499 -0.0398748  ... -0.04985385  0.02126041\n",
            "   -0.03466669]\n",
            "  [-0.04839778 -0.0080628  -0.02583758 ...  0.02728547 -0.01988504\n",
            "    0.04035157]]]\n"
          ]
        }
      ]
    },
    {
      "cell_type": "code",
      "source": [
        "embedded_docs[0]"
      ],
      "metadata": {
        "colab": {
          "base_uri": "https://localhost:8080/"
        },
        "id": "5TXIWWVNeSER",
        "outputId": "2b4587d9-d27f-4bbf-a664-2afefa375a66"
      },
      "execution_count": 36,
      "outputs": [
        {
          "output_type": "execute_result",
          "data": {
            "text/plain": [
              "array([   0,    0,    0,    0,    0,    0,    0,    0,    0,    0,    0,\n",
              "       8351, 3401, 9217, 7348,  182, 4244, 8594, 8443, 8978], dtype=int32)"
            ]
          },
          "metadata": {},
          "execution_count": 36
        }
      ]
    },
    {
      "cell_type": "code",
      "source": [
        "print(model.predict(embedded_docs)[0])"
      ],
      "metadata": {
        "colab": {
          "base_uri": "https://localhost:8080/"
        },
        "id": "bvLOyvcmeWEe",
        "outputId": "1791063c-bdb6-484e-ff17-b93351504b26"
      },
      "execution_count": 37,
      "outputs": [
        {
          "output_type": "stream",
          "name": "stdout",
          "text": [
            "\u001b[1m13/13\u001b[0m \u001b[32m━━━━━━━━━━━━━━━━━━━━\u001b[0m\u001b[37m\u001b[0m \u001b[1m0s\u001b[0m 3ms/step \n",
            "[[-9.01703909e-03  9.35541466e-03 -3.77612226e-02 -1.52677782e-02\n",
            "  -4.21538576e-02  3.96030024e-03 -2.05558296e-02  2.88009159e-02\n",
            "  -1.21199861e-02  3.86000015e-02 -2.70003323e-02  1.25897266e-02\n",
            "   1.60177462e-02 -2.07542535e-02 -1.97921395e-02  4.16080467e-02\n",
            "  -1.06239542e-02 -4.56788391e-03 -1.81375854e-02  2.82850005e-02\n",
            "  -4.95803840e-02 -4.01698835e-02  1.71893500e-02  3.24860103e-02\n",
            "   7.40587711e-04 -4.67639938e-02 -4.13164012e-02 -2.04270240e-02\n",
            "   2.99226753e-02 -4.85105403e-02  3.44295017e-02  6.34954125e-03\n",
            "   4.35925163e-02  2.02006586e-02  4.44307663e-02 -1.54516101e-02\n",
            "  -3.36480141e-03  2.76313461e-02 -4.25386429e-02  2.96851434e-02]\n",
            " [-9.01703909e-03  9.35541466e-03 -3.77612226e-02 -1.52677782e-02\n",
            "  -4.21538576e-02  3.96030024e-03 -2.05558296e-02  2.88009159e-02\n",
            "  -1.21199861e-02  3.86000015e-02 -2.70003323e-02  1.25897266e-02\n",
            "   1.60177462e-02 -2.07542535e-02 -1.97921395e-02  4.16080467e-02\n",
            "  -1.06239542e-02 -4.56788391e-03 -1.81375854e-02  2.82850005e-02\n",
            "  -4.95803840e-02 -4.01698835e-02  1.71893500e-02  3.24860103e-02\n",
            "   7.40587711e-04 -4.67639938e-02 -4.13164012e-02 -2.04270240e-02\n",
            "   2.99226753e-02 -4.85105403e-02  3.44295017e-02  6.34954125e-03\n",
            "   4.35925163e-02  2.02006586e-02  4.44307663e-02 -1.54516101e-02\n",
            "  -3.36480141e-03  2.76313461e-02 -4.25386429e-02  2.96851434e-02]\n",
            " [-9.01703909e-03  9.35541466e-03 -3.77612226e-02 -1.52677782e-02\n",
            "  -4.21538576e-02  3.96030024e-03 -2.05558296e-02  2.88009159e-02\n",
            "  -1.21199861e-02  3.86000015e-02 -2.70003323e-02  1.25897266e-02\n",
            "   1.60177462e-02 -2.07542535e-02 -1.97921395e-02  4.16080467e-02\n",
            "  -1.06239542e-02 -4.56788391e-03 -1.81375854e-02  2.82850005e-02\n",
            "  -4.95803840e-02 -4.01698835e-02  1.71893500e-02  3.24860103e-02\n",
            "   7.40587711e-04 -4.67639938e-02 -4.13164012e-02 -2.04270240e-02\n",
            "   2.99226753e-02 -4.85105403e-02  3.44295017e-02  6.34954125e-03\n",
            "   4.35925163e-02  2.02006586e-02  4.44307663e-02 -1.54516101e-02\n",
            "  -3.36480141e-03  2.76313461e-02 -4.25386429e-02  2.96851434e-02]\n",
            " [-9.01703909e-03  9.35541466e-03 -3.77612226e-02 -1.52677782e-02\n",
            "  -4.21538576e-02  3.96030024e-03 -2.05558296e-02  2.88009159e-02\n",
            "  -1.21199861e-02  3.86000015e-02 -2.70003323e-02  1.25897266e-02\n",
            "   1.60177462e-02 -2.07542535e-02 -1.97921395e-02  4.16080467e-02\n",
            "  -1.06239542e-02 -4.56788391e-03 -1.81375854e-02  2.82850005e-02\n",
            "  -4.95803840e-02 -4.01698835e-02  1.71893500e-02  3.24860103e-02\n",
            "   7.40587711e-04 -4.67639938e-02 -4.13164012e-02 -2.04270240e-02\n",
            "   2.99226753e-02 -4.85105403e-02  3.44295017e-02  6.34954125e-03\n",
            "   4.35925163e-02  2.02006586e-02  4.44307663e-02 -1.54516101e-02\n",
            "  -3.36480141e-03  2.76313461e-02 -4.25386429e-02  2.96851434e-02]\n",
            " [-9.01703909e-03  9.35541466e-03 -3.77612226e-02 -1.52677782e-02\n",
            "  -4.21538576e-02  3.96030024e-03 -2.05558296e-02  2.88009159e-02\n",
            "  -1.21199861e-02  3.86000015e-02 -2.70003323e-02  1.25897266e-02\n",
            "   1.60177462e-02 -2.07542535e-02 -1.97921395e-02  4.16080467e-02\n",
            "  -1.06239542e-02 -4.56788391e-03 -1.81375854e-02  2.82850005e-02\n",
            "  -4.95803840e-02 -4.01698835e-02  1.71893500e-02  3.24860103e-02\n",
            "   7.40587711e-04 -4.67639938e-02 -4.13164012e-02 -2.04270240e-02\n",
            "   2.99226753e-02 -4.85105403e-02  3.44295017e-02  6.34954125e-03\n",
            "   4.35925163e-02  2.02006586e-02  4.44307663e-02 -1.54516101e-02\n",
            "  -3.36480141e-03  2.76313461e-02 -4.25386429e-02  2.96851434e-02]\n",
            " [-9.01703909e-03  9.35541466e-03 -3.77612226e-02 -1.52677782e-02\n",
            "  -4.21538576e-02  3.96030024e-03 -2.05558296e-02  2.88009159e-02\n",
            "  -1.21199861e-02  3.86000015e-02 -2.70003323e-02  1.25897266e-02\n",
            "   1.60177462e-02 -2.07542535e-02 -1.97921395e-02  4.16080467e-02\n",
            "  -1.06239542e-02 -4.56788391e-03 -1.81375854e-02  2.82850005e-02\n",
            "  -4.95803840e-02 -4.01698835e-02  1.71893500e-02  3.24860103e-02\n",
            "   7.40587711e-04 -4.67639938e-02 -4.13164012e-02 -2.04270240e-02\n",
            "   2.99226753e-02 -4.85105403e-02  3.44295017e-02  6.34954125e-03\n",
            "   4.35925163e-02  2.02006586e-02  4.44307663e-02 -1.54516101e-02\n",
            "  -3.36480141e-03  2.76313461e-02 -4.25386429e-02  2.96851434e-02]\n",
            " [-9.01703909e-03  9.35541466e-03 -3.77612226e-02 -1.52677782e-02\n",
            "  -4.21538576e-02  3.96030024e-03 -2.05558296e-02  2.88009159e-02\n",
            "  -1.21199861e-02  3.86000015e-02 -2.70003323e-02  1.25897266e-02\n",
            "   1.60177462e-02 -2.07542535e-02 -1.97921395e-02  4.16080467e-02\n",
            "  -1.06239542e-02 -4.56788391e-03 -1.81375854e-02  2.82850005e-02\n",
            "  -4.95803840e-02 -4.01698835e-02  1.71893500e-02  3.24860103e-02\n",
            "   7.40587711e-04 -4.67639938e-02 -4.13164012e-02 -2.04270240e-02\n",
            "   2.99226753e-02 -4.85105403e-02  3.44295017e-02  6.34954125e-03\n",
            "   4.35925163e-02  2.02006586e-02  4.44307663e-02 -1.54516101e-02\n",
            "  -3.36480141e-03  2.76313461e-02 -4.25386429e-02  2.96851434e-02]\n",
            " [-9.01703909e-03  9.35541466e-03 -3.77612226e-02 -1.52677782e-02\n",
            "  -4.21538576e-02  3.96030024e-03 -2.05558296e-02  2.88009159e-02\n",
            "  -1.21199861e-02  3.86000015e-02 -2.70003323e-02  1.25897266e-02\n",
            "   1.60177462e-02 -2.07542535e-02 -1.97921395e-02  4.16080467e-02\n",
            "  -1.06239542e-02 -4.56788391e-03 -1.81375854e-02  2.82850005e-02\n",
            "  -4.95803840e-02 -4.01698835e-02  1.71893500e-02  3.24860103e-02\n",
            "   7.40587711e-04 -4.67639938e-02 -4.13164012e-02 -2.04270240e-02\n",
            "   2.99226753e-02 -4.85105403e-02  3.44295017e-02  6.34954125e-03\n",
            "   4.35925163e-02  2.02006586e-02  4.44307663e-02 -1.54516101e-02\n",
            "  -3.36480141e-03  2.76313461e-02 -4.25386429e-02  2.96851434e-02]\n",
            " [-9.01703909e-03  9.35541466e-03 -3.77612226e-02 -1.52677782e-02\n",
            "  -4.21538576e-02  3.96030024e-03 -2.05558296e-02  2.88009159e-02\n",
            "  -1.21199861e-02  3.86000015e-02 -2.70003323e-02  1.25897266e-02\n",
            "   1.60177462e-02 -2.07542535e-02 -1.97921395e-02  4.16080467e-02\n",
            "  -1.06239542e-02 -4.56788391e-03 -1.81375854e-02  2.82850005e-02\n",
            "  -4.95803840e-02 -4.01698835e-02  1.71893500e-02  3.24860103e-02\n",
            "   7.40587711e-04 -4.67639938e-02 -4.13164012e-02 -2.04270240e-02\n",
            "   2.99226753e-02 -4.85105403e-02  3.44295017e-02  6.34954125e-03\n",
            "   4.35925163e-02  2.02006586e-02  4.44307663e-02 -1.54516101e-02\n",
            "  -3.36480141e-03  2.76313461e-02 -4.25386429e-02  2.96851434e-02]\n",
            " [-9.01703909e-03  9.35541466e-03 -3.77612226e-02 -1.52677782e-02\n",
            "  -4.21538576e-02  3.96030024e-03 -2.05558296e-02  2.88009159e-02\n",
            "  -1.21199861e-02  3.86000015e-02 -2.70003323e-02  1.25897266e-02\n",
            "   1.60177462e-02 -2.07542535e-02 -1.97921395e-02  4.16080467e-02\n",
            "  -1.06239542e-02 -4.56788391e-03 -1.81375854e-02  2.82850005e-02\n",
            "  -4.95803840e-02 -4.01698835e-02  1.71893500e-02  3.24860103e-02\n",
            "   7.40587711e-04 -4.67639938e-02 -4.13164012e-02 -2.04270240e-02\n",
            "   2.99226753e-02 -4.85105403e-02  3.44295017e-02  6.34954125e-03\n",
            "   4.35925163e-02  2.02006586e-02  4.44307663e-02 -1.54516101e-02\n",
            "  -3.36480141e-03  2.76313461e-02 -4.25386429e-02  2.96851434e-02]\n",
            " [-9.01703909e-03  9.35541466e-03 -3.77612226e-02 -1.52677782e-02\n",
            "  -4.21538576e-02  3.96030024e-03 -2.05558296e-02  2.88009159e-02\n",
            "  -1.21199861e-02  3.86000015e-02 -2.70003323e-02  1.25897266e-02\n",
            "   1.60177462e-02 -2.07542535e-02 -1.97921395e-02  4.16080467e-02\n",
            "  -1.06239542e-02 -4.56788391e-03 -1.81375854e-02  2.82850005e-02\n",
            "  -4.95803840e-02 -4.01698835e-02  1.71893500e-02  3.24860103e-02\n",
            "   7.40587711e-04 -4.67639938e-02 -4.13164012e-02 -2.04270240e-02\n",
            "   2.99226753e-02 -4.85105403e-02  3.44295017e-02  6.34954125e-03\n",
            "   4.35925163e-02  2.02006586e-02  4.44307663e-02 -1.54516101e-02\n",
            "  -3.36480141e-03  2.76313461e-02 -4.25386429e-02  2.96851434e-02]\n",
            " [ 4.77977879e-02  1.64696239e-02  2.24165954e-02 -1.90554261e-02\n",
            "  -3.47608924e-02 -1.93082932e-02 -2.66592391e-02 -1.61005147e-02\n",
            "  -4.95842211e-02  4.10325788e-02  4.90394942e-02 -2.29741260e-03\n",
            "   2.95389928e-02 -3.84098403e-02  2.89216153e-02  1.30747631e-03\n",
            "  -2.89186835e-02 -4.22528870e-02 -3.29684764e-02 -2.66606100e-02\n",
            "   1.82093717e-02 -3.91987674e-02 -1.98873766e-02  3.70806195e-02\n",
            "   1.51011012e-02 -2.11826209e-02  2.46857293e-02  5.00162691e-03\n",
            "   2.47713663e-02 -2.20491178e-02  3.18742506e-02  1.26153342e-02\n",
            "  -9.94107872e-03  2.50547789e-02 -3.04039009e-02 -3.80386934e-02\n",
            "   1.29603185e-02 -2.31334325e-02 -1.02753565e-03 -3.65603082e-02]\n",
            " [ 3.77597697e-02  3.77984308e-02  1.53765194e-02 -3.80543619e-03\n",
            "  -3.02562602e-02 -2.47561466e-02  4.69432734e-02 -1.04287155e-02\n",
            "  -4.30362001e-02 -4.77801226e-02  4.34636585e-02  4.74028327e-02\n",
            "  -2.33474616e-02  4.33411114e-02 -4.31420580e-02  3.49410810e-02\n",
            "  -3.85128148e-02  4.06035818e-02  1.55395269e-03  4.96549495e-02\n",
            "   4.78991754e-02 -3.45155820e-02  6.21519983e-04 -4.86270301e-02\n",
            "  -4.13627736e-02 -3.50408927e-02  5.01982868e-05 -3.92749086e-02\n",
            "  -4.31534760e-02  4.51127924e-02  3.29345129e-02 -2.37341765e-02\n",
            "  -2.21402403e-02 -7.13113695e-03 -1.61975995e-02 -3.24956328e-02\n",
            "  -6.65236637e-03 -4.96667735e-02 -1.03211626e-02 -4.93907593e-02]\n",
            " [ 1.60818212e-02 -4.55842502e-02  3.92074101e-02 -1.02247708e-02\n",
            "   1.49834193e-02  1.13585591e-02 -4.87509258e-02 -3.98810282e-02\n",
            "   1.26813389e-02  7.97925144e-03 -2.46815216e-02 -2.60838997e-02\n",
            "  -2.07910296e-02 -4.88050096e-02  3.03137936e-02 -1.05398782e-02\n",
            "  -3.39268334e-02  1.56549849e-02 -4.80194204e-02  3.77640240e-02\n",
            "   3.81863751e-02  3.08012478e-02 -9.67601687e-03 -8.15261155e-04\n",
            "   1.15504153e-02 -2.29984876e-02  2.95475870e-03  3.26362364e-02\n",
            "   2.21228041e-02 -3.36314216e-02  4.93584387e-02 -4.91379984e-02\n",
            "   1.89317353e-02  1.75565481e-03  2.28905715e-02 -1.61558874e-02\n",
            "  -4.67370413e-02 -4.04207930e-02 -1.37556680e-02  3.96845490e-03]\n",
            " [-3.05276513e-02 -1.38290301e-02 -2.70382315e-03 -4.66051586e-02\n",
            "  -2.01013442e-02  7.11374357e-03 -3.34464200e-02  9.21176746e-03\n",
            "   4.76731174e-02  3.67819183e-02 -3.26231718e-02  3.87494899e-02\n",
            "  -2.47628819e-02 -6.64810091e-03 -3.69187705e-02 -5.07898256e-03\n",
            "   4.95230891e-02 -3.69190201e-02 -4.39271443e-02  2.49367468e-02\n",
            "  -1.70756355e-02 -4.79538217e-02  1.21923201e-02  3.57287861e-02\n",
            "  -4.56268303e-02 -1.44448280e-02 -3.75821367e-02  4.04066481e-02\n",
            "   3.15796472e-02  3.32539566e-02  1.18372217e-02  2.52161883e-02\n",
            "  -2.33183503e-02  4.19665463e-02  3.83067764e-02  3.76309864e-02\n",
            "   2.06452608e-03 -2.04237588e-02  1.42139234e-02 -2.15157028e-02]\n",
            " [ 4.24045436e-02 -4.06540632e-02 -1.04209408e-02  4.19522040e-02\n",
            "  -1.28394477e-02  2.63555311e-02 -4.06403057e-02 -2.07546838e-02\n",
            "   2.29506157e-02  1.89937018e-02 -3.00105568e-02 -3.84397022e-02\n",
            "   4.53892387e-02 -1.59041062e-02 -4.19962518e-02  4.19883803e-03\n",
            "   1.49644054e-02  1.52255334e-02 -5.45956939e-03  1.80192105e-02\n",
            "  -3.92952189e-02 -4.56742048e-02 -1.55509822e-02  7.25888088e-03\n",
            "   2.52505206e-02 -5.72545454e-03  4.50865664e-02  1.69179551e-02\n",
            "   2.12991945e-02 -4.02544141e-02 -3.35067660e-02  5.64525276e-03\n",
            "   5.72689623e-03  4.82035801e-03  4.11201753e-02 -6.17021322e-03\n",
            "   9.40335914e-03  2.58964039e-02  5.79841062e-03 -4.16579023e-02]\n",
            " [-3.28700617e-03  2.80917995e-02  2.61892565e-02 -5.07001951e-03\n",
            "  -7.98798725e-03 -4.59008589e-02 -5.35611063e-03 -1.38471946e-02\n",
            "  -4.93567064e-03 -4.16350588e-02  1.67857446e-02  3.17581929e-02\n",
            "   3.03082727e-02 -3.12915333e-02 -4.73636389e-02 -2.61593461e-02\n",
            "  -3.73502970e-02  7.46542215e-03 -1.60673745e-02  2.59992220e-02\n",
            "   2.43223347e-02 -3.69492769e-02  2.20286958e-02  3.17156650e-02\n",
            "   2.69867480e-04  2.02710070e-02  3.96401398e-02  4.31914255e-03\n",
            "  -3.74772437e-02  4.44677509e-02  2.75385864e-02  3.17155011e-02\n",
            "  -2.35725641e-02  4.41934578e-02  1.40725859e-02 -6.98836893e-03\n",
            "   3.59224938e-02  4.83942665e-02 -6.58941269e-03  4.75898646e-02]\n",
            " [ 5.07048517e-03  1.28651895e-02  1.56886913e-02 -1.94765572e-02\n",
            "   1.45863183e-02  4.26387787e-03  4.25128601e-02  3.31130512e-02\n",
            "  -3.44865695e-02 -2.85925716e-03 -3.04432996e-02 -2.88856272e-02\n",
            "   1.88012235e-02 -3.15135717e-02 -5.49398735e-03  2.37724818e-02\n",
            "   1.86326243e-02 -4.87226844e-02  3.93390916e-02 -2.82912385e-02\n",
            "   5.97544760e-03  2.85102017e-02 -1.72246322e-02 -1.77504420e-02\n",
            "   1.63151734e-02 -2.86889914e-02  4.03577089e-03  1.74508207e-02\n",
            "  -1.05092674e-03  4.19646241e-02  1.59782283e-02  2.60243081e-02\n",
            "  -3.42971087e-02 -2.26828810e-02  2.29350589e-02 -4.38667797e-02\n",
            "  -7.71441311e-03 -2.47428566e-03  4.80010025e-02  3.99600342e-03]\n",
            " [ 1.76719911e-02 -4.71699983e-04 -3.43940407e-03  4.75258119e-02\n",
            "   9.18017700e-03  3.16780545e-02 -1.53917558e-02  2.27562301e-02\n",
            "   7.71863386e-03  2.69998573e-02  3.67117263e-02  1.13210790e-02\n",
            "   3.19859497e-02  3.72685231e-02  3.32547091e-02 -2.63842475e-02\n",
            "   1.11663565e-02  2.99474336e-02 -3.21665630e-02 -1.42725110e-02\n",
            "  -1.25754848e-02  4.65081967e-02 -4.39473391e-02 -6.24054670e-03\n",
            "  -3.65105756e-02 -6.15699217e-03 -1.46267042e-02 -2.91449185e-02\n",
            "   3.71538289e-02  4.25807722e-02 -4.17368412e-02 -4.62121144e-02\n",
            "   4.44571711e-02 -9.45255905e-03  3.53106372e-02 -9.37804580e-05\n",
            "  -2.32754704e-02 -1.81853883e-02 -2.30851769e-02 -2.22275984e-02]\n",
            " [-6.30688667e-03  4.33997028e-02 -4.89806533e-02 -2.70713698e-02\n",
            "   3.34465168e-02 -2.68404242e-02 -4.32440899e-02 -3.88315208e-02\n",
            "  -3.64020690e-02 -2.12822109e-03  4.79188599e-02  1.23936757e-02\n",
            "  -1.93248522e-02 -2.83820387e-02  3.90065424e-02 -8.79570097e-03\n",
            "  -4.10425775e-02 -3.04463860e-02 -3.95190492e-02  7.83636421e-03\n",
            "  -4.73908558e-02  1.88143142e-02 -2.60019545e-02  2.46167183e-04\n",
            "   5.93662262e-04 -4.68394160e-02  5.26251644e-03 -4.06883135e-02\n",
            "   2.76443847e-02  3.71279158e-02 -1.20934732e-02 -1.38981268e-03\n",
            "  -1.19642168e-03  2.47336291e-02  4.14443277e-02 -2.74946820e-02\n",
            "   1.51305906e-02 -2.77345907e-02  2.22701319e-02  3.02559994e-02]]\n"
          ]
        }
      ]
    },
    {
      "cell_type": "markdown",
      "source": [
        "# Recurrent Neural Network (RNN)"
      ],
      "metadata": {
        "id": "YmsR_c-2ibL1"
      }
    },
    {
      "cell_type": "code",
      "source": [
        "import tensorflow as tf\n",
        "from tensorflow.keras.layers import LSTM, Dense\n",
        "from sklearn.model_selection import train_test_split\n",
        "from keras.utils import to_categorical"
      ],
      "metadata": {
        "id": "MG7h112tWHEc"
      },
      "execution_count": 38,
      "outputs": []
    },
    {
      "cell_type": "code",
      "source": [
        "# Define the LSTM model\n",
        "model = Sequential()\n",
        "model.add(Embedding(input_dim=voc_size, output_dim=embedding_vector_features, input_length=sent_length))\n",
        "model.add(LSTM(64, return_sequences=True))\n",
        "model.add(LSTM(64))\n",
        "model.add(Dense(3, activation='softmax'))  # 3 classes for positive, negative, and neutral\n",
        "model.compile(loss='categorical_crossentropy', optimizer='adam', metrics=['accuracy'])\n",
        "one_hot_labels = to_categorical(cluster_labels, num_classes=3)\n",
        "y = one_hot_labels\n",
        "model.summary()"
      ],
      "metadata": {
        "id": "gL0kAIjvir2j",
        "colab": {
          "base_uri": "https://localhost:8080/",
          "height": 272
        },
        "outputId": "26e6952a-8d33-485c-9dfb-d1a767a27368"
      },
      "execution_count": 39,
      "outputs": [
        {
          "output_type": "display_data",
          "data": {
            "text/plain": [
              "\u001b[1mModel: \"sequential_1\"\u001b[0m\n"
            ],
            "text/html": [
              "<pre style=\"white-space:pre;overflow-x:auto;line-height:normal;font-family:Menlo,'DejaVu Sans Mono',consolas,'Courier New',monospace\"><span style=\"font-weight: bold\">Model: \"sequential_1\"</span>\n",
              "</pre>\n"
            ]
          },
          "metadata": {}
        },
        {
          "output_type": "display_data",
          "data": {
            "text/plain": [
              "┏━━━━━━━━━━━━━━━━━━━━━━━━━━━━━━━━━┳━━━━━━━━━━━━━━━━━━━━━━━━┳━━━━━━━━━━━━━━━┓\n",
              "┃\u001b[1m \u001b[0m\u001b[1mLayer (type)                   \u001b[0m\u001b[1m \u001b[0m┃\u001b[1m \u001b[0m\u001b[1mOutput Shape          \u001b[0m\u001b[1m \u001b[0m┃\u001b[1m \u001b[0m\u001b[1m      Param #\u001b[0m\u001b[1m \u001b[0m┃\n",
              "┡━━━━━━━━━━━━━━━━━━━━━━━━━━━━━━━━━╇━━━━━━━━━━━━━━━━━━━━━━━━╇━━━━━━━━━━━━━━━┩\n",
              "│ embedding_1 (\u001b[38;5;33mEmbedding\u001b[0m)         │ ?                      │   \u001b[38;5;34m0\u001b[0m (unbuilt) │\n",
              "├─────────────────────────────────┼────────────────────────┼───────────────┤\n",
              "│ lstm (\u001b[38;5;33mLSTM\u001b[0m)                     │ ?                      │   \u001b[38;5;34m0\u001b[0m (unbuilt) │\n",
              "├─────────────────────────────────┼────────────────────────┼───────────────┤\n",
              "│ lstm_1 (\u001b[38;5;33mLSTM\u001b[0m)                   │ ?                      │   \u001b[38;5;34m0\u001b[0m (unbuilt) │\n",
              "├─────────────────────────────────┼────────────────────────┼───────────────┤\n",
              "│ dense (\u001b[38;5;33mDense\u001b[0m)                   │ ?                      │   \u001b[38;5;34m0\u001b[0m (unbuilt) │\n",
              "└─────────────────────────────────┴────────────────────────┴───────────────┘\n"
            ],
            "text/html": [
              "<pre style=\"white-space:pre;overflow-x:auto;line-height:normal;font-family:Menlo,'DejaVu Sans Mono',consolas,'Courier New',monospace\">┏━━━━━━━━━━━━━━━━━━━━━━━━━━━━━━━━━┳━━━━━━━━━━━━━━━━━━━━━━━━┳━━━━━━━━━━━━━━━┓\n",
              "┃<span style=\"font-weight: bold\"> Layer (type)                    </span>┃<span style=\"font-weight: bold\"> Output Shape           </span>┃<span style=\"font-weight: bold\">       Param # </span>┃\n",
              "┡━━━━━━━━━━━━━━━━━━━━━━━━━━━━━━━━━╇━━━━━━━━━━━━━━━━━━━━━━━━╇━━━━━━━━━━━━━━━┩\n",
              "│ embedding_1 (<span style=\"color: #0087ff; text-decoration-color: #0087ff\">Embedding</span>)         │ ?                      │   <span style=\"color: #00af00; text-decoration-color: #00af00\">0</span> (unbuilt) │\n",
              "├─────────────────────────────────┼────────────────────────┼───────────────┤\n",
              "│ lstm (<span style=\"color: #0087ff; text-decoration-color: #0087ff\">LSTM</span>)                     │ ?                      │   <span style=\"color: #00af00; text-decoration-color: #00af00\">0</span> (unbuilt) │\n",
              "├─────────────────────────────────┼────────────────────────┼───────────────┤\n",
              "│ lstm_1 (<span style=\"color: #0087ff; text-decoration-color: #0087ff\">LSTM</span>)                   │ ?                      │   <span style=\"color: #00af00; text-decoration-color: #00af00\">0</span> (unbuilt) │\n",
              "├─────────────────────────────────┼────────────────────────┼───────────────┤\n",
              "│ dense (<span style=\"color: #0087ff; text-decoration-color: #0087ff\">Dense</span>)                   │ ?                      │   <span style=\"color: #00af00; text-decoration-color: #00af00\">0</span> (unbuilt) │\n",
              "└─────────────────────────────────┴────────────────────────┴───────────────┘\n",
              "</pre>\n"
            ]
          },
          "metadata": {}
        },
        {
          "output_type": "display_data",
          "data": {
            "text/plain": [
              "\u001b[1m Total params: \u001b[0m\u001b[38;5;34m0\u001b[0m (0.00 B)\n"
            ],
            "text/html": [
              "<pre style=\"white-space:pre;overflow-x:auto;line-height:normal;font-family:Menlo,'DejaVu Sans Mono',consolas,'Courier New',monospace\"><span style=\"font-weight: bold\"> Total params: </span><span style=\"color: #00af00; text-decoration-color: #00af00\">0</span> (0.00 B)\n",
              "</pre>\n"
            ]
          },
          "metadata": {}
        },
        {
          "output_type": "display_data",
          "data": {
            "text/plain": [
              "\u001b[1m Trainable params: \u001b[0m\u001b[38;5;34m0\u001b[0m (0.00 B)\n"
            ],
            "text/html": [
              "<pre style=\"white-space:pre;overflow-x:auto;line-height:normal;font-family:Menlo,'DejaVu Sans Mono',consolas,'Courier New',monospace\"><span style=\"font-weight: bold\"> Trainable params: </span><span style=\"color: #00af00; text-decoration-color: #00af00\">0</span> (0.00 B)\n",
              "</pre>\n"
            ]
          },
          "metadata": {}
        },
        {
          "output_type": "display_data",
          "data": {
            "text/plain": [
              "\u001b[1m Non-trainable params: \u001b[0m\u001b[38;5;34m0\u001b[0m (0.00 B)\n"
            ],
            "text/html": [
              "<pre style=\"white-space:pre;overflow-x:auto;line-height:normal;font-family:Menlo,'DejaVu Sans Mono',consolas,'Courier New',monospace\"><span style=\"font-weight: bold\"> Non-trainable params: </span><span style=\"color: #00af00; text-decoration-color: #00af00\">0</span> (0.00 B)\n",
              "</pre>\n"
            ]
          },
          "metadata": {}
        }
      ]
    },
    {
      "cell_type": "code",
      "source": [
        "len(embedded_docs),y.shape\n",
        "X_final=np.array(embedded_docs)\n",
        "Y_final=np.array(y)\n",
        "X_final.shape,Y_final.shape\n",
        "X_train, X_test, y_train, y_test = train_test_split(X_final, y, test_size=0.33, random_state=42)\n",
        "model.fit(X_train, y_train, validation_data=(X_test, y_test), epochs=10, batch_size=64)"
      ],
      "metadata": {
        "colab": {
          "base_uri": "https://localhost:8080/"
        },
        "id": "6o55YI3JGUXm",
        "outputId": "70917e3d-7427-4890-db5a-8af60fbfc470"
      },
      "execution_count": 40,
      "outputs": [
        {
          "output_type": "stream",
          "name": "stdout",
          "text": [
            "Epoch 1/10\n",
            "\u001b[1m5/5\u001b[0m \u001b[32m━━━━━━━━━━━━━━━━━━━━\u001b[0m\u001b[37m\u001b[0m \u001b[1m9s\u001b[0m 423ms/step - accuracy: 0.4587 - loss: 1.0895 - val_accuracy: 0.5227 - val_loss: 1.0490\n",
            "Epoch 2/10\n",
            "\u001b[1m5/5\u001b[0m \u001b[32m━━━━━━━━━━━━━━━━━━━━\u001b[0m\u001b[37m\u001b[0m \u001b[1m0s\u001b[0m 82ms/step - accuracy: 0.4998 - loss: 1.0414 - val_accuracy: 0.5227 - val_loss: 1.0280\n",
            "Epoch 3/10\n",
            "\u001b[1m5/5\u001b[0m \u001b[32m━━━━━━━━━━━━━━━━━━━━\u001b[0m\u001b[37m\u001b[0m \u001b[1m0s\u001b[0m 93ms/step - accuracy: 0.4759 - loss: 1.0497 - val_accuracy: 0.5227 - val_loss: 1.0002\n",
            "Epoch 4/10\n",
            "\u001b[1m5/5\u001b[0m \u001b[32m━━━━━━━━━━━━━━━━━━━━\u001b[0m\u001b[37m\u001b[0m \u001b[1m0s\u001b[0m 99ms/step - accuracy: 0.4770 - loss: 1.0095 - val_accuracy: 0.5227 - val_loss: 0.9819\n",
            "Epoch 5/10\n",
            "\u001b[1m5/5\u001b[0m \u001b[32m━━━━━━━━━━━━━━━━━━━━\u001b[0m\u001b[37m\u001b[0m \u001b[1m1s\u001b[0m 112ms/step - accuracy: 0.4863 - loss: 0.9695 - val_accuracy: 0.5227 - val_loss: 0.9456\n",
            "Epoch 6/10\n",
            "\u001b[1m5/5\u001b[0m \u001b[32m━━━━━━━━━━━━━━━━━━━━\u001b[0m\u001b[37m\u001b[0m \u001b[1m1s\u001b[0m 101ms/step - accuracy: 0.5009 - loss: 0.9184 - val_accuracy: 0.5303 - val_loss: 0.8785\n",
            "Epoch 7/10\n",
            "\u001b[1m5/5\u001b[0m \u001b[32m━━━━━━━━━━━━━━━━━━━━\u001b[0m\u001b[37m\u001b[0m \u001b[1m1s\u001b[0m 112ms/step - accuracy: 0.5775 - loss: 0.7990 - val_accuracy: 0.6439 - val_loss: 0.7574\n",
            "Epoch 8/10\n",
            "\u001b[1m5/5\u001b[0m \u001b[32m━━━━━━━━━━━━━━━━━━━━\u001b[0m\u001b[37m\u001b[0m \u001b[1m1s\u001b[0m 149ms/step - accuracy: 0.7138 - loss: 0.6480 - val_accuracy: 0.6742 - val_loss: 0.6684\n",
            "Epoch 9/10\n",
            "\u001b[1m5/5\u001b[0m \u001b[32m━━━━━━━━━━━━━━━━━━━━\u001b[0m\u001b[37m\u001b[0m \u001b[1m1s\u001b[0m 118ms/step - accuracy: 0.7102 - loss: 0.5670 - val_accuracy: 0.6818 - val_loss: 0.6401\n",
            "Epoch 10/10\n",
            "\u001b[1m5/5\u001b[0m \u001b[32m━━━━━━━━━━━━━━━━━━━━\u001b[0m\u001b[37m\u001b[0m \u001b[1m1s\u001b[0m 205ms/step - accuracy: 0.7729 - loss: 0.4689 - val_accuracy: 0.7273 - val_loss: 0.5917\n"
          ]
        },
        {
          "output_type": "execute_result",
          "data": {
            "text/plain": [
              "<keras.src.callbacks.history.History at 0x7e840c302060>"
            ]
          },
          "metadata": {},
          "execution_count": 40
        }
      ]
    },
    {
      "cell_type": "code",
      "source": [
        "predicted_sentiments = []\n",
        "for sentence in sent:\n",
        "    sentence_encoded = [one_hot(sentence, voc_size)]\n",
        "    sentence_padded = pad_sequences(sentence_encoded, maxlen=sent_length, padding='pre')\n",
        "\n",
        "    # Using trained model to predict sentiment\n",
        "    predicted_probabilities = model.predict(sentence_padded)\n",
        "\n",
        "    # Converting the predicted probabilities to a sentiment label\n",
        "    predicted_sentiment_label = np.argmax(predicted_probabilities)\n",
        "\n",
        "    # Maping the numeric sentiment label to its corresponding sentiment class\n",
        "    sentiment_classes = ['positive', 'negative', 'neutral']\n",
        "    predicted_sentiment = sentiment_classes[predicted_sentiment_label]\n",
        "\n",
        "    # Append the predicted sentiment to the list\n",
        "    predicted_sentiments.append(predicted_sentiment)\n"
      ],
      "metadata": {
        "colab": {
          "base_uri": "https://localhost:8080/"
        },
        "id": "p53kxh37S30_",
        "outputId": "6bfff59c-4516-4737-ddc0-8dfbc1ff98fa"
      },
      "execution_count": 41,
      "outputs": [
        {
          "output_type": "stream",
          "name": "stdout",
          "text": [
            "\u001b[1m1/1\u001b[0m \u001b[32m━━━━━━━━━━━━━━━━━━━━\u001b[0m\u001b[37m\u001b[0m \u001b[1m2s\u001b[0m 2s/step\n",
            "\u001b[1m1/1\u001b[0m \u001b[32m━━━━━━━━━━━━━━━━━━━━\u001b[0m\u001b[37m\u001b[0m \u001b[1m0s\u001b[0m 56ms/step\n",
            "\u001b[1m1/1\u001b[0m \u001b[32m━━━━━━━━━━━━━━━━━━━━\u001b[0m\u001b[37m\u001b[0m \u001b[1m0s\u001b[0m 57ms/step\n",
            "\u001b[1m1/1\u001b[0m \u001b[32m━━━━━━━━━━━━━━━━━━━━\u001b[0m\u001b[37m\u001b[0m \u001b[1m0s\u001b[0m 60ms/step\n",
            "\u001b[1m1/1\u001b[0m \u001b[32m━━━━━━━━━━━━━━━━━━━━\u001b[0m\u001b[37m\u001b[0m \u001b[1m0s\u001b[0m 55ms/step\n",
            "\u001b[1m1/1\u001b[0m \u001b[32m━━━━━━━━━━━━━━━━━━━━\u001b[0m\u001b[37m\u001b[0m \u001b[1m0s\u001b[0m 94ms/step\n",
            "\u001b[1m1/1\u001b[0m \u001b[32m━━━━━━━━━━━━━━━━━━━━\u001b[0m\u001b[37m\u001b[0m \u001b[1m0s\u001b[0m 82ms/step\n",
            "\u001b[1m1/1\u001b[0m \u001b[32m━━━━━━━━━━━━━━━━━━━━\u001b[0m\u001b[37m\u001b[0m \u001b[1m0s\u001b[0m 73ms/step\n",
            "\u001b[1m1/1\u001b[0m \u001b[32m━━━━━━━━━━━━━━━━━━━━\u001b[0m\u001b[37m\u001b[0m \u001b[1m0s\u001b[0m 74ms/step\n",
            "\u001b[1m1/1\u001b[0m \u001b[32m━━━━━━━━━━━━━━━━━━━━\u001b[0m\u001b[37m\u001b[0m \u001b[1m0s\u001b[0m 70ms/step\n",
            "\u001b[1m1/1\u001b[0m \u001b[32m━━━━━━━━━━━━━━━━━━━━\u001b[0m\u001b[37m\u001b[0m \u001b[1m0s\u001b[0m 73ms/step\n",
            "\u001b[1m1/1\u001b[0m \u001b[32m━━━━━━━━━━━━━━━━━━━━\u001b[0m\u001b[37m\u001b[0m \u001b[1m0s\u001b[0m 167ms/step\n",
            "\u001b[1m1/1\u001b[0m \u001b[32m━━━━━━━━━━━━━━━━━━━━\u001b[0m\u001b[37m\u001b[0m \u001b[1m0s\u001b[0m 101ms/step\n",
            "\u001b[1m1/1\u001b[0m \u001b[32m━━━━━━━━━━━━━━━━━━━━\u001b[0m\u001b[37m\u001b[0m \u001b[1m0s\u001b[0m 179ms/step\n",
            "\u001b[1m1/1\u001b[0m \u001b[32m━━━━━━━━━━━━━━━━━━━━\u001b[0m\u001b[37m\u001b[0m \u001b[1m0s\u001b[0m 175ms/step\n",
            "\u001b[1m1/1\u001b[0m \u001b[32m━━━━━━━━━━━━━━━━━━━━\u001b[0m\u001b[37m\u001b[0m \u001b[1m0s\u001b[0m 37ms/step\n",
            "\u001b[1m1/1\u001b[0m \u001b[32m━━━━━━━━━━━━━━━━━━━━\u001b[0m\u001b[37m\u001b[0m \u001b[1m0s\u001b[0m 40ms/step\n",
            "\u001b[1m1/1\u001b[0m \u001b[32m━━━━━━━━━━━━━━━━━━━━\u001b[0m\u001b[37m\u001b[0m \u001b[1m0s\u001b[0m 38ms/step\n",
            "\u001b[1m1/1\u001b[0m \u001b[32m━━━━━━━━━━━━━━━━━━━━\u001b[0m\u001b[37m\u001b[0m \u001b[1m0s\u001b[0m 38ms/step\n",
            "\u001b[1m1/1\u001b[0m \u001b[32m━━━━━━━━━━━━━━━━━━━━\u001b[0m\u001b[37m\u001b[0m \u001b[1m0s\u001b[0m 39ms/step\n",
            "\u001b[1m1/1\u001b[0m \u001b[32m━━━━━━━━━━━━━━━━━━━━\u001b[0m\u001b[37m\u001b[0m \u001b[1m0s\u001b[0m 37ms/step\n",
            "\u001b[1m1/1\u001b[0m \u001b[32m━━━━━━━━━━━━━━━━━━━━\u001b[0m\u001b[37m\u001b[0m \u001b[1m0s\u001b[0m 37ms/step\n",
            "\u001b[1m1/1\u001b[0m \u001b[32m━━━━━━━━━━━━━━━━━━━━\u001b[0m\u001b[37m\u001b[0m \u001b[1m0s\u001b[0m 37ms/step\n",
            "\u001b[1m1/1\u001b[0m \u001b[32m━━━━━━━━━━━━━━━━━━━━\u001b[0m\u001b[37m\u001b[0m \u001b[1m0s\u001b[0m 42ms/step\n",
            "\u001b[1m1/1\u001b[0m \u001b[32m━━━━━━━━━━━━━━━━━━━━\u001b[0m\u001b[37m\u001b[0m \u001b[1m0s\u001b[0m 39ms/step\n",
            "\u001b[1m1/1\u001b[0m \u001b[32m━━━━━━━━━━━━━━━━━━━━\u001b[0m\u001b[37m\u001b[0m \u001b[1m0s\u001b[0m 39ms/step\n",
            "\u001b[1m1/1\u001b[0m \u001b[32m━━━━━━━━━━━━━━━━━━━━\u001b[0m\u001b[37m\u001b[0m \u001b[1m0s\u001b[0m 43ms/step\n",
            "\u001b[1m1/1\u001b[0m \u001b[32m━━━━━━━━━━━━━━━━━━━━\u001b[0m\u001b[37m\u001b[0m \u001b[1m0s\u001b[0m 37ms/step\n",
            "\u001b[1m1/1\u001b[0m \u001b[32m━━━━━━━━━━━━━━━━━━━━\u001b[0m\u001b[37m\u001b[0m \u001b[1m0s\u001b[0m 38ms/step\n",
            "\u001b[1m1/1\u001b[0m \u001b[32m━━━━━━━━━━━━━━━━━━━━\u001b[0m\u001b[37m\u001b[0m \u001b[1m0s\u001b[0m 40ms/step\n",
            "\u001b[1m1/1\u001b[0m \u001b[32m━━━━━━━━━━━━━━━━━━━━\u001b[0m\u001b[37m\u001b[0m \u001b[1m0s\u001b[0m 37ms/step\n",
            "\u001b[1m1/1\u001b[0m \u001b[32m━━━━━━━━━━━━━━━━━━━━\u001b[0m\u001b[37m\u001b[0m \u001b[1m0s\u001b[0m 39ms/step\n",
            "\u001b[1m1/1\u001b[0m \u001b[32m━━━━━━━━━━━━━━━━━━━━\u001b[0m\u001b[37m\u001b[0m \u001b[1m0s\u001b[0m 36ms/step\n",
            "\u001b[1m1/1\u001b[0m \u001b[32m━━━━━━━━━━━━━━━━━━━━\u001b[0m\u001b[37m\u001b[0m \u001b[1m0s\u001b[0m 40ms/step\n",
            "\u001b[1m1/1\u001b[0m \u001b[32m━━━━━━━━━━━━━━━━━━━━\u001b[0m\u001b[37m\u001b[0m \u001b[1m0s\u001b[0m 36ms/step\n",
            "\u001b[1m1/1\u001b[0m \u001b[32m━━━━━━━━━━━━━━━━━━━━\u001b[0m\u001b[37m\u001b[0m \u001b[1m0s\u001b[0m 39ms/step\n",
            "\u001b[1m1/1\u001b[0m \u001b[32m━━━━━━━━━━━━━━━━━━━━\u001b[0m\u001b[37m\u001b[0m \u001b[1m0s\u001b[0m 52ms/step\n",
            "\u001b[1m1/1\u001b[0m \u001b[32m━━━━━━━━━━━━━━━━━━━━\u001b[0m\u001b[37m\u001b[0m \u001b[1m0s\u001b[0m 40ms/step\n",
            "\u001b[1m1/1\u001b[0m \u001b[32m━━━━━━━━━━━━━━━━━━━━\u001b[0m\u001b[37m\u001b[0m \u001b[1m0s\u001b[0m 39ms/step\n",
            "\u001b[1m1/1\u001b[0m \u001b[32m━━━━━━━━━━━━━━━━━━━━\u001b[0m\u001b[37m\u001b[0m \u001b[1m0s\u001b[0m 38ms/step\n",
            "\u001b[1m1/1\u001b[0m \u001b[32m━━━━━━━━━━━━━━━━━━━━\u001b[0m\u001b[37m\u001b[0m \u001b[1m0s\u001b[0m 39ms/step\n",
            "\u001b[1m1/1\u001b[0m \u001b[32m━━━━━━━━━━━━━━━━━━━━\u001b[0m\u001b[37m\u001b[0m \u001b[1m0s\u001b[0m 39ms/step\n",
            "\u001b[1m1/1\u001b[0m \u001b[32m━━━━━━━━━━━━━━━━━━━━\u001b[0m\u001b[37m\u001b[0m \u001b[1m0s\u001b[0m 38ms/step\n",
            "\u001b[1m1/1\u001b[0m \u001b[32m━━━━━━━━━━━━━━━━━━━━\u001b[0m\u001b[37m\u001b[0m \u001b[1m0s\u001b[0m 38ms/step\n",
            "\u001b[1m1/1\u001b[0m \u001b[32m━━━━━━━━━━━━━━━━━━━━\u001b[0m\u001b[37m\u001b[0m \u001b[1m0s\u001b[0m 37ms/step\n",
            "\u001b[1m1/1\u001b[0m \u001b[32m━━━━━━━━━━━━━━━━━━━━\u001b[0m\u001b[37m\u001b[0m \u001b[1m0s\u001b[0m 37ms/step\n",
            "\u001b[1m1/1\u001b[0m \u001b[32m━━━━━━━━━━━━━━━━━━━━\u001b[0m\u001b[37m\u001b[0m \u001b[1m0s\u001b[0m 39ms/step\n",
            "\u001b[1m1/1\u001b[0m \u001b[32m━━━━━━━━━━━━━━━━━━━━\u001b[0m\u001b[37m\u001b[0m \u001b[1m0s\u001b[0m 38ms/step\n",
            "\u001b[1m1/1\u001b[0m \u001b[32m━━━━━━━━━━━━━━━━━━━━\u001b[0m\u001b[37m\u001b[0m \u001b[1m0s\u001b[0m 42ms/step\n",
            "\u001b[1m1/1\u001b[0m \u001b[32m━━━━━━━━━━━━━━━━━━━━\u001b[0m\u001b[37m\u001b[0m \u001b[1m0s\u001b[0m 43ms/step\n",
            "\u001b[1m1/1\u001b[0m \u001b[32m━━━━━━━━━━━━━━━━━━━━\u001b[0m\u001b[37m\u001b[0m \u001b[1m0s\u001b[0m 40ms/step\n",
            "\u001b[1m1/1\u001b[0m \u001b[32m━━━━━━━━━━━━━━━━━━━━\u001b[0m\u001b[37m\u001b[0m \u001b[1m0s\u001b[0m 39ms/step\n",
            "\u001b[1m1/1\u001b[0m \u001b[32m━━━━━━━━━━━━━━━━━━━━\u001b[0m\u001b[37m\u001b[0m \u001b[1m0s\u001b[0m 38ms/step\n",
            "\u001b[1m1/1\u001b[0m \u001b[32m━━━━━━━━━━━━━━━━━━━━\u001b[0m\u001b[37m\u001b[0m \u001b[1m0s\u001b[0m 41ms/step\n",
            "\u001b[1m1/1\u001b[0m \u001b[32m━━━━━━━━━━━━━━━━━━━━\u001b[0m\u001b[37m\u001b[0m \u001b[1m0s\u001b[0m 39ms/step\n",
            "\u001b[1m1/1\u001b[0m \u001b[32m━━━━━━━━━━━━━━━━━━━━\u001b[0m\u001b[37m\u001b[0m \u001b[1m0s\u001b[0m 39ms/step\n",
            "\u001b[1m1/1\u001b[0m \u001b[32m━━━━━━━━━━━━━━━━━━━━\u001b[0m\u001b[37m\u001b[0m \u001b[1m0s\u001b[0m 37ms/step\n",
            "\u001b[1m1/1\u001b[0m \u001b[32m━━━━━━━━━━━━━━━━━━━━\u001b[0m\u001b[37m\u001b[0m \u001b[1m0s\u001b[0m 36ms/step\n",
            "\u001b[1m1/1\u001b[0m \u001b[32m━━━━━━━━━━━━━━━━━━━━\u001b[0m\u001b[37m\u001b[0m \u001b[1m0s\u001b[0m 37ms/step\n",
            "\u001b[1m1/1\u001b[0m \u001b[32m━━━━━━━━━━━━━━━━━━━━\u001b[0m\u001b[37m\u001b[0m \u001b[1m0s\u001b[0m 38ms/step\n",
            "\u001b[1m1/1\u001b[0m \u001b[32m━━━━━━━━━━━━━━━━━━━━\u001b[0m\u001b[37m\u001b[0m \u001b[1m0s\u001b[0m 38ms/step\n",
            "\u001b[1m1/1\u001b[0m \u001b[32m━━━━━━━━━━━━━━━━━━━━\u001b[0m\u001b[37m\u001b[0m \u001b[1m0s\u001b[0m 47ms/step\n",
            "\u001b[1m1/1\u001b[0m \u001b[32m━━━━━━━━━━━━━━━━━━━━\u001b[0m\u001b[37m\u001b[0m \u001b[1m0s\u001b[0m 39ms/step\n",
            "\u001b[1m1/1\u001b[0m \u001b[32m━━━━━━━━━━━━━━━━━━━━\u001b[0m\u001b[37m\u001b[0m \u001b[1m0s\u001b[0m 36ms/step\n",
            "\u001b[1m1/1\u001b[0m \u001b[32m━━━━━━━━━━━━━━━━━━━━\u001b[0m\u001b[37m\u001b[0m \u001b[1m0s\u001b[0m 38ms/step\n",
            "\u001b[1m1/1\u001b[0m \u001b[32m━━━━━━━━━━━━━━━━━━━━\u001b[0m\u001b[37m\u001b[0m \u001b[1m0s\u001b[0m 39ms/step\n",
            "\u001b[1m1/1\u001b[0m \u001b[32m━━━━━━━━━━━━━━━━━━━━\u001b[0m\u001b[37m\u001b[0m \u001b[1m0s\u001b[0m 37ms/step\n",
            "\u001b[1m1/1\u001b[0m \u001b[32m━━━━━━━━━━━━━━━━━━━━\u001b[0m\u001b[37m\u001b[0m \u001b[1m0s\u001b[0m 38ms/step\n",
            "\u001b[1m1/1\u001b[0m \u001b[32m━━━━━━━━━━━━━━━━━━━━\u001b[0m\u001b[37m\u001b[0m \u001b[1m0s\u001b[0m 37ms/step\n",
            "\u001b[1m1/1\u001b[0m \u001b[32m━━━━━━━━━━━━━━━━━━━━\u001b[0m\u001b[37m\u001b[0m \u001b[1m0s\u001b[0m 42ms/step\n",
            "\u001b[1m1/1\u001b[0m \u001b[32m━━━━━━━━━━━━━━━━━━━━\u001b[0m\u001b[37m\u001b[0m \u001b[1m0s\u001b[0m 37ms/step\n",
            "\u001b[1m1/1\u001b[0m \u001b[32m━━━━━━━━━━━━━━━━━━━━\u001b[0m\u001b[37m\u001b[0m \u001b[1m0s\u001b[0m 37ms/step\n",
            "\u001b[1m1/1\u001b[0m \u001b[32m━━━━━━━━━━━━━━━━━━━━\u001b[0m\u001b[37m\u001b[0m \u001b[1m0s\u001b[0m 38ms/step\n",
            "\u001b[1m1/1\u001b[0m \u001b[32m━━━━━━━━━━━━━━━━━━━━\u001b[0m\u001b[37m\u001b[0m \u001b[1m0s\u001b[0m 40ms/step\n",
            "\u001b[1m1/1\u001b[0m \u001b[32m━━━━━━━━━━━━━━━━━━━━\u001b[0m\u001b[37m\u001b[0m \u001b[1m0s\u001b[0m 36ms/step\n",
            "\u001b[1m1/1\u001b[0m \u001b[32m━━━━━━━━━━━━━━━━━━━━\u001b[0m\u001b[37m\u001b[0m \u001b[1m0s\u001b[0m 37ms/step\n",
            "\u001b[1m1/1\u001b[0m \u001b[32m━━━━━━━━━━━━━━━━━━━━\u001b[0m\u001b[37m\u001b[0m \u001b[1m0s\u001b[0m 40ms/step\n",
            "\u001b[1m1/1\u001b[0m \u001b[32m━━━━━━━━━━━━━━━━━━━━\u001b[0m\u001b[37m\u001b[0m \u001b[1m0s\u001b[0m 40ms/step\n",
            "\u001b[1m1/1\u001b[0m \u001b[32m━━━━━━━━━━━━━━━━━━━━\u001b[0m\u001b[37m\u001b[0m \u001b[1m0s\u001b[0m 38ms/step\n",
            "\u001b[1m1/1\u001b[0m \u001b[32m━━━━━━━━━━━━━━━━━━━━\u001b[0m\u001b[37m\u001b[0m \u001b[1m0s\u001b[0m 37ms/step\n",
            "\u001b[1m1/1\u001b[0m \u001b[32m━━━━━━━━━━━━━━━━━━━━\u001b[0m\u001b[37m\u001b[0m \u001b[1m0s\u001b[0m 38ms/step\n",
            "\u001b[1m1/1\u001b[0m \u001b[32m━━━━━━━━━━━━━━━━━━━━\u001b[0m\u001b[37m\u001b[0m \u001b[1m0s\u001b[0m 38ms/step\n",
            "\u001b[1m1/1\u001b[0m \u001b[32m━━━━━━━━━━━━━━━━━━━━\u001b[0m\u001b[37m\u001b[0m \u001b[1m0s\u001b[0m 38ms/step\n",
            "\u001b[1m1/1\u001b[0m \u001b[32m━━━━━━━━━━━━━━━━━━━━\u001b[0m\u001b[37m\u001b[0m \u001b[1m0s\u001b[0m 38ms/step\n",
            "\u001b[1m1/1\u001b[0m \u001b[32m━━━━━━━━━━━━━━━━━━━━\u001b[0m\u001b[37m\u001b[0m \u001b[1m0s\u001b[0m 37ms/step\n",
            "\u001b[1m1/1\u001b[0m \u001b[32m━━━━━━━━━━━━━━━━━━━━\u001b[0m\u001b[37m\u001b[0m \u001b[1m0s\u001b[0m 39ms/step\n",
            "\u001b[1m1/1\u001b[0m \u001b[32m━━━━━━━━━━━━━━━━━━━━\u001b[0m\u001b[37m\u001b[0m \u001b[1m0s\u001b[0m 50ms/step\n",
            "\u001b[1m1/1\u001b[0m \u001b[32m━━━━━━━━━━━━━━━━━━━━\u001b[0m\u001b[37m\u001b[0m \u001b[1m0s\u001b[0m 39ms/step\n",
            "\u001b[1m1/1\u001b[0m \u001b[32m━━━━━━━━━━━━━━━━━━━━\u001b[0m\u001b[37m\u001b[0m \u001b[1m0s\u001b[0m 57ms/step\n",
            "\u001b[1m1/1\u001b[0m \u001b[32m━━━━━━━━━━━━━━━━━━━━\u001b[0m\u001b[37m\u001b[0m \u001b[1m0s\u001b[0m 62ms/step\n",
            "\u001b[1m1/1\u001b[0m \u001b[32m━━━━━━━━━━━━━━━━━━━━\u001b[0m\u001b[37m\u001b[0m \u001b[1m0s\u001b[0m 54ms/step\n",
            "\u001b[1m1/1\u001b[0m \u001b[32m━━━━━━━━━━━━━━━━━━━━\u001b[0m\u001b[37m\u001b[0m \u001b[1m0s\u001b[0m 58ms/step\n",
            "\u001b[1m1/1\u001b[0m \u001b[32m━━━━━━━━━━━━━━━━━━━━\u001b[0m\u001b[37m\u001b[0m \u001b[1m0s\u001b[0m 50ms/step\n",
            "\u001b[1m1/1\u001b[0m \u001b[32m━━━━━━━━━━━━━━━━━━━━\u001b[0m\u001b[37m\u001b[0m \u001b[1m0s\u001b[0m 50ms/step\n",
            "\u001b[1m1/1\u001b[0m \u001b[32m━━━━━━━━━━━━━━━━━━━━\u001b[0m\u001b[37m\u001b[0m \u001b[1m0s\u001b[0m 60ms/step\n",
            "\u001b[1m1/1\u001b[0m \u001b[32m━━━━━━━━━━━━━━━━━━━━\u001b[0m\u001b[37m\u001b[0m \u001b[1m0s\u001b[0m 52ms/step\n",
            "\u001b[1m1/1\u001b[0m \u001b[32m━━━━━━━━━━━━━━━━━━━━\u001b[0m\u001b[37m\u001b[0m \u001b[1m0s\u001b[0m 52ms/step\n",
            "\u001b[1m1/1\u001b[0m \u001b[32m━━━━━━━━━━━━━━━━━━━━\u001b[0m\u001b[37m\u001b[0m \u001b[1m0s\u001b[0m 55ms/step\n",
            "\u001b[1m1/1\u001b[0m \u001b[32m━━━━━━━━━━━━━━━━━━━━\u001b[0m\u001b[37m\u001b[0m \u001b[1m0s\u001b[0m 50ms/step\n",
            "\u001b[1m1/1\u001b[0m \u001b[32m━━━━━━━━━━━━━━━━━━━━\u001b[0m\u001b[37m\u001b[0m \u001b[1m0s\u001b[0m 55ms/step\n",
            "\u001b[1m1/1\u001b[0m \u001b[32m━━━━━━━━━━━━━━━━━━━━\u001b[0m\u001b[37m\u001b[0m \u001b[1m0s\u001b[0m 61ms/step\n",
            "\u001b[1m1/1\u001b[0m \u001b[32m━━━━━━━━━━━━━━━━━━━━\u001b[0m\u001b[37m\u001b[0m \u001b[1m0s\u001b[0m 66ms/step\n",
            "\u001b[1m1/1\u001b[0m \u001b[32m━━━━━━━━━━━━━━━━━━━━\u001b[0m\u001b[37m\u001b[0m \u001b[1m0s\u001b[0m 55ms/step\n",
            "\u001b[1m1/1\u001b[0m \u001b[32m━━━━━━━━━━━━━━━━━━━━\u001b[0m\u001b[37m\u001b[0m \u001b[1m0s\u001b[0m 73ms/step\n",
            "\u001b[1m1/1\u001b[0m \u001b[32m━━━━━━━━━━━━━━━━━━━━\u001b[0m\u001b[37m\u001b[0m \u001b[1m0s\u001b[0m 62ms/step\n",
            "\u001b[1m1/1\u001b[0m \u001b[32m━━━━━━━━━━━━━━━━━━━━\u001b[0m\u001b[37m\u001b[0m \u001b[1m0s\u001b[0m 61ms/step\n",
            "\u001b[1m1/1\u001b[0m \u001b[32m━━━━━━━━━━━━━━━━━━━━\u001b[0m\u001b[37m\u001b[0m \u001b[1m0s\u001b[0m 55ms/step\n",
            "\u001b[1m1/1\u001b[0m \u001b[32m━━━━━━━━━━━━━━━━━━━━\u001b[0m\u001b[37m\u001b[0m \u001b[1m0s\u001b[0m 37ms/step\n",
            "\u001b[1m1/1\u001b[0m \u001b[32m━━━━━━━━━━━━━━━━━━━━\u001b[0m\u001b[37m\u001b[0m \u001b[1m0s\u001b[0m 38ms/step\n",
            "\u001b[1m1/1\u001b[0m \u001b[32m━━━━━━━━━━━━━━━━━━━━\u001b[0m\u001b[37m\u001b[0m \u001b[1m0s\u001b[0m 38ms/step\n",
            "\u001b[1m1/1\u001b[0m \u001b[32m━━━━━━━━━━━━━━━━━━━━\u001b[0m\u001b[37m\u001b[0m \u001b[1m0s\u001b[0m 38ms/step\n",
            "\u001b[1m1/1\u001b[0m \u001b[32m━━━━━━━━━━━━━━━━━━━━\u001b[0m\u001b[37m\u001b[0m \u001b[1m0s\u001b[0m 39ms/step\n",
            "\u001b[1m1/1\u001b[0m \u001b[32m━━━━━━━━━━━━━━━━━━━━\u001b[0m\u001b[37m\u001b[0m \u001b[1m0s\u001b[0m 37ms/step\n",
            "\u001b[1m1/1\u001b[0m \u001b[32m━━━━━━━━━━━━━━━━━━━━\u001b[0m\u001b[37m\u001b[0m \u001b[1m0s\u001b[0m 46ms/step\n",
            "\u001b[1m1/1\u001b[0m \u001b[32m━━━━━━━━━━━━━━━━━━━━\u001b[0m\u001b[37m\u001b[0m \u001b[1m0s\u001b[0m 38ms/step\n",
            "\u001b[1m1/1\u001b[0m \u001b[32m━━━━━━━━━━━━━━━━━━━━\u001b[0m\u001b[37m\u001b[0m \u001b[1m0s\u001b[0m 38ms/step\n",
            "\u001b[1m1/1\u001b[0m \u001b[32m━━━━━━━━━━━━━━━━━━━━\u001b[0m\u001b[37m\u001b[0m \u001b[1m0s\u001b[0m 38ms/step\n",
            "\u001b[1m1/1\u001b[0m \u001b[32m━━━━━━━━━━━━━━━━━━━━\u001b[0m\u001b[37m\u001b[0m \u001b[1m0s\u001b[0m 39ms/step\n",
            "\u001b[1m1/1\u001b[0m \u001b[32m━━━━━━━━━━━━━━━━━━━━\u001b[0m\u001b[37m\u001b[0m \u001b[1m0s\u001b[0m 40ms/step\n",
            "\u001b[1m1/1\u001b[0m \u001b[32m━━━━━━━━━━━━━━━━━━━━\u001b[0m\u001b[37m\u001b[0m \u001b[1m0s\u001b[0m 39ms/step\n",
            "\u001b[1m1/1\u001b[0m \u001b[32m━━━━━━━━━━━━━━━━━━━━\u001b[0m\u001b[37m\u001b[0m \u001b[1m0s\u001b[0m 38ms/step\n",
            "\u001b[1m1/1\u001b[0m \u001b[32m━━━━━━━━━━━━━━━━━━━━\u001b[0m\u001b[37m\u001b[0m \u001b[1m0s\u001b[0m 36ms/step\n",
            "\u001b[1m1/1\u001b[0m \u001b[32m━━━━━━━━━━━━━━━━━━━━\u001b[0m\u001b[37m\u001b[0m \u001b[1m0s\u001b[0m 39ms/step\n",
            "\u001b[1m1/1\u001b[0m \u001b[32m━━━━━━━━━━━━━━━━━━━━\u001b[0m\u001b[37m\u001b[0m \u001b[1m0s\u001b[0m 39ms/step\n",
            "\u001b[1m1/1\u001b[0m \u001b[32m━━━━━━━━━━━━━━━━━━━━\u001b[0m\u001b[37m\u001b[0m \u001b[1m0s\u001b[0m 39ms/step\n",
            "\u001b[1m1/1\u001b[0m \u001b[32m━━━━━━━━━━━━━━━━━━━━\u001b[0m\u001b[37m\u001b[0m \u001b[1m0s\u001b[0m 43ms/step\n",
            "\u001b[1m1/1\u001b[0m \u001b[32m━━━━━━━━━━━━━━━━━━━━\u001b[0m\u001b[37m\u001b[0m \u001b[1m0s\u001b[0m 43ms/step\n",
            "\u001b[1m1/1\u001b[0m \u001b[32m━━━━━━━━━━━━━━━━━━━━\u001b[0m\u001b[37m\u001b[0m \u001b[1m0s\u001b[0m 40ms/step\n",
            "\u001b[1m1/1\u001b[0m \u001b[32m━━━━━━━━━━━━━━━━━━━━\u001b[0m\u001b[37m\u001b[0m \u001b[1m0s\u001b[0m 40ms/step\n",
            "\u001b[1m1/1\u001b[0m \u001b[32m━━━━━━━━━━━━━━━━━━━━\u001b[0m\u001b[37m\u001b[0m \u001b[1m0s\u001b[0m 39ms/step\n",
            "\u001b[1m1/1\u001b[0m \u001b[32m━━━━━━━━━━━━━━━━━━━━\u001b[0m\u001b[37m\u001b[0m \u001b[1m0s\u001b[0m 40ms/step\n",
            "\u001b[1m1/1\u001b[0m \u001b[32m━━━━━━━━━━━━━━━━━━━━\u001b[0m\u001b[37m\u001b[0m \u001b[1m0s\u001b[0m 38ms/step\n",
            "\u001b[1m1/1\u001b[0m \u001b[32m━━━━━━━━━━━━━━━━━━━━\u001b[0m\u001b[37m\u001b[0m \u001b[1m0s\u001b[0m 38ms/step\n",
            "\u001b[1m1/1\u001b[0m \u001b[32m━━━━━━━━━━━━━━━━━━━━\u001b[0m\u001b[37m\u001b[0m \u001b[1m0s\u001b[0m 39ms/step\n",
            "\u001b[1m1/1\u001b[0m \u001b[32m━━━━━━━━━━━━━━━━━━━━\u001b[0m\u001b[37m\u001b[0m \u001b[1m0s\u001b[0m 37ms/step\n",
            "\u001b[1m1/1\u001b[0m \u001b[32m━━━━━━━━━━━━━━━━━━━━\u001b[0m\u001b[37m\u001b[0m \u001b[1m0s\u001b[0m 41ms/step\n",
            "\u001b[1m1/1\u001b[0m \u001b[32m━━━━━━━━━━━━━━━━━━━━\u001b[0m\u001b[37m\u001b[0m \u001b[1m0s\u001b[0m 40ms/step\n",
            "\u001b[1m1/1\u001b[0m \u001b[32m━━━━━━━━━━━━━━━━━━━━\u001b[0m\u001b[37m\u001b[0m \u001b[1m0s\u001b[0m 45ms/step\n",
            "\u001b[1m1/1\u001b[0m \u001b[32m━━━━━━━━━━━━━━━━━━━━\u001b[0m\u001b[37m\u001b[0m \u001b[1m0s\u001b[0m 53ms/step\n",
            "\u001b[1m1/1\u001b[0m \u001b[32m━━━━━━━━━━━━━━━━━━━━\u001b[0m\u001b[37m\u001b[0m \u001b[1m0s\u001b[0m 40ms/step\n",
            "\u001b[1m1/1\u001b[0m \u001b[32m━━━━━━━━━━━━━━━━━━━━\u001b[0m\u001b[37m\u001b[0m \u001b[1m0s\u001b[0m 40ms/step\n",
            "\u001b[1m1/1\u001b[0m \u001b[32m━━━━━━━━━━━━━━━━━━━━\u001b[0m\u001b[37m\u001b[0m \u001b[1m0s\u001b[0m 40ms/step\n",
            "\u001b[1m1/1\u001b[0m \u001b[32m━━━━━━━━━━━━━━━━━━━━\u001b[0m\u001b[37m\u001b[0m \u001b[1m0s\u001b[0m 40ms/step\n",
            "\u001b[1m1/1\u001b[0m \u001b[32m━━━━━━━━━━━━━━━━━━━━\u001b[0m\u001b[37m\u001b[0m \u001b[1m0s\u001b[0m 38ms/step\n",
            "\u001b[1m1/1\u001b[0m \u001b[32m━━━━━━━━━━━━━━━━━━━━\u001b[0m\u001b[37m\u001b[0m \u001b[1m0s\u001b[0m 40ms/step\n",
            "\u001b[1m1/1\u001b[0m \u001b[32m━━━━━━━━━━━━━━━━━━━━\u001b[0m\u001b[37m\u001b[0m \u001b[1m0s\u001b[0m 38ms/step\n",
            "\u001b[1m1/1\u001b[0m \u001b[32m━━━━━━━━━━━━━━━━━━━━\u001b[0m\u001b[37m\u001b[0m \u001b[1m0s\u001b[0m 37ms/step\n",
            "\u001b[1m1/1\u001b[0m \u001b[32m━━━━━━━━━━━━━━━━━━━━\u001b[0m\u001b[37m\u001b[0m \u001b[1m0s\u001b[0m 44ms/step\n",
            "\u001b[1m1/1\u001b[0m \u001b[32m━━━━━━━━━━━━━━━━━━━━\u001b[0m\u001b[37m\u001b[0m \u001b[1m0s\u001b[0m 41ms/step\n",
            "\u001b[1m1/1\u001b[0m \u001b[32m━━━━━━━━━━━━━━━━━━━━\u001b[0m\u001b[37m\u001b[0m \u001b[1m0s\u001b[0m 40ms/step\n",
            "\u001b[1m1/1\u001b[0m \u001b[32m━━━━━━━━━━━━━━━━━━━━\u001b[0m\u001b[37m\u001b[0m \u001b[1m0s\u001b[0m 56ms/step\n",
            "\u001b[1m1/1\u001b[0m \u001b[32m━━━━━━━━━━━━━━━━━━━━\u001b[0m\u001b[37m\u001b[0m \u001b[1m0s\u001b[0m 40ms/step\n",
            "\u001b[1m1/1\u001b[0m \u001b[32m━━━━━━━━━━━━━━━━━━━━\u001b[0m\u001b[37m\u001b[0m \u001b[1m0s\u001b[0m 39ms/step\n",
            "\u001b[1m1/1\u001b[0m \u001b[32m━━━━━━━━━━━━━━━━━━━━\u001b[0m\u001b[37m\u001b[0m \u001b[1m0s\u001b[0m 42ms/step\n",
            "\u001b[1m1/1\u001b[0m \u001b[32m━━━━━━━━━━━━━━━━━━━━\u001b[0m\u001b[37m\u001b[0m \u001b[1m0s\u001b[0m 42ms/step\n",
            "\u001b[1m1/1\u001b[0m \u001b[32m━━━━━━━━━━━━━━━━━━━━\u001b[0m\u001b[37m\u001b[0m \u001b[1m0s\u001b[0m 41ms/step\n",
            "\u001b[1m1/1\u001b[0m \u001b[32m━━━━━━━━━━━━━━━━━━━━\u001b[0m\u001b[37m\u001b[0m \u001b[1m0s\u001b[0m 40ms/step\n",
            "\u001b[1m1/1\u001b[0m \u001b[32m━━━━━━━━━━━━━━━━━━━━\u001b[0m\u001b[37m\u001b[0m \u001b[1m0s\u001b[0m 39ms/step\n",
            "\u001b[1m1/1\u001b[0m \u001b[32m━━━━━━━━━━━━━━━━━━━━\u001b[0m\u001b[37m\u001b[0m \u001b[1m0s\u001b[0m 39ms/step\n",
            "\u001b[1m1/1\u001b[0m \u001b[32m━━━━━━━━━━━━━━━━━━━━\u001b[0m\u001b[37m\u001b[0m \u001b[1m0s\u001b[0m 36ms/step\n",
            "\u001b[1m1/1\u001b[0m \u001b[32m━━━━━━━━━━━━━━━━━━━━\u001b[0m\u001b[37m\u001b[0m \u001b[1m0s\u001b[0m 44ms/step\n",
            "\u001b[1m1/1\u001b[0m \u001b[32m━━━━━━━━━━━━━━━━━━━━\u001b[0m\u001b[37m\u001b[0m \u001b[1m0s\u001b[0m 38ms/step\n",
            "\u001b[1m1/1\u001b[0m \u001b[32m━━━━━━━━━━━━━━━━━━━━\u001b[0m\u001b[37m\u001b[0m \u001b[1m0s\u001b[0m 54ms/step\n",
            "\u001b[1m1/1\u001b[0m \u001b[32m━━━━━━━━━━━━━━━━━━━━\u001b[0m\u001b[37m\u001b[0m \u001b[1m0s\u001b[0m 40ms/step\n",
            "\u001b[1m1/1\u001b[0m \u001b[32m━━━━━━━━━━━━━━━━━━━━\u001b[0m\u001b[37m\u001b[0m \u001b[1m0s\u001b[0m 41ms/step\n",
            "\u001b[1m1/1\u001b[0m \u001b[32m━━━━━━━━━━━━━━━━━━━━\u001b[0m\u001b[37m\u001b[0m \u001b[1m0s\u001b[0m 40ms/step\n",
            "\u001b[1m1/1\u001b[0m \u001b[32m━━━━━━━━━━━━━━━━━━━━\u001b[0m\u001b[37m\u001b[0m \u001b[1m0s\u001b[0m 41ms/step\n",
            "\u001b[1m1/1\u001b[0m \u001b[32m━━━━━━━━━━━━━━━━━━━━\u001b[0m\u001b[37m\u001b[0m \u001b[1m0s\u001b[0m 38ms/step\n",
            "\u001b[1m1/1\u001b[0m \u001b[32m━━━━━━━━━━━━━━━━━━━━\u001b[0m\u001b[37m\u001b[0m \u001b[1m0s\u001b[0m 40ms/step\n",
            "\u001b[1m1/1\u001b[0m \u001b[32m━━━━━━━━━━━━━━━━━━━━\u001b[0m\u001b[37m\u001b[0m \u001b[1m0s\u001b[0m 39ms/step\n",
            "\u001b[1m1/1\u001b[0m \u001b[32m━━━━━━━━━━━━━━━━━━━━\u001b[0m\u001b[37m\u001b[0m \u001b[1m0s\u001b[0m 39ms/step\n",
            "\u001b[1m1/1\u001b[0m \u001b[32m━━━━━━━━━━━━━━━━━━━━\u001b[0m\u001b[37m\u001b[0m \u001b[1m0s\u001b[0m 38ms/step\n",
            "\u001b[1m1/1\u001b[0m \u001b[32m━━━━━━━━━━━━━━━━━━━━\u001b[0m\u001b[37m\u001b[0m \u001b[1m0s\u001b[0m 44ms/step\n",
            "\u001b[1m1/1\u001b[0m \u001b[32m━━━━━━━━━━━━━━━━━━━━\u001b[0m\u001b[37m\u001b[0m \u001b[1m0s\u001b[0m 42ms/step\n",
            "\u001b[1m1/1\u001b[0m \u001b[32m━━━━━━━━━━━━━━━━━━━━\u001b[0m\u001b[37m\u001b[0m \u001b[1m0s\u001b[0m 49ms/step\n",
            "\u001b[1m1/1\u001b[0m \u001b[32m━━━━━━━━━━━━━━━━━━━━\u001b[0m\u001b[37m\u001b[0m \u001b[1m0s\u001b[0m 41ms/step\n",
            "\u001b[1m1/1\u001b[0m \u001b[32m━━━━━━━━━━━━━━━━━━━━\u001b[0m\u001b[37m\u001b[0m \u001b[1m0s\u001b[0m 42ms/step\n",
            "\u001b[1m1/1\u001b[0m \u001b[32m━━━━━━━━━━━━━━━━━━━━\u001b[0m\u001b[37m\u001b[0m \u001b[1m0s\u001b[0m 41ms/step\n",
            "\u001b[1m1/1\u001b[0m \u001b[32m━━━━━━━━━━━━━━━━━━━━\u001b[0m\u001b[37m\u001b[0m \u001b[1m0s\u001b[0m 45ms/step\n",
            "\u001b[1m1/1\u001b[0m \u001b[32m━━━━━━━━━━━━━━━━━━━━\u001b[0m\u001b[37m\u001b[0m \u001b[1m0s\u001b[0m 40ms/step\n",
            "\u001b[1m1/1\u001b[0m \u001b[32m━━━━━━━━━━━━━━━━━━━━\u001b[0m\u001b[37m\u001b[0m \u001b[1m0s\u001b[0m 40ms/step\n",
            "\u001b[1m1/1\u001b[0m \u001b[32m━━━━━━━━━━━━━━━━━━━━\u001b[0m\u001b[37m\u001b[0m \u001b[1m0s\u001b[0m 39ms/step\n",
            "\u001b[1m1/1\u001b[0m \u001b[32m━━━━━━━━━━━━━━━━━━━━\u001b[0m\u001b[37m\u001b[0m \u001b[1m0s\u001b[0m 36ms/step\n",
            "\u001b[1m1/1\u001b[0m \u001b[32m━━━━━━━━━━━━━━━━━━━━\u001b[0m\u001b[37m\u001b[0m \u001b[1m0s\u001b[0m 38ms/step\n",
            "\u001b[1m1/1\u001b[0m \u001b[32m━━━━━━━━━━━━━━━━━━━━\u001b[0m\u001b[37m\u001b[0m \u001b[1m0s\u001b[0m 43ms/step\n",
            "\u001b[1m1/1\u001b[0m \u001b[32m━━━━━━━━━━━━━━━━━━━━\u001b[0m\u001b[37m\u001b[0m \u001b[1m0s\u001b[0m 41ms/step\n",
            "\u001b[1m1/1\u001b[0m \u001b[32m━━━━━━━━━━━━━━━━━━━━\u001b[0m\u001b[37m\u001b[0m \u001b[1m0s\u001b[0m 46ms/step\n",
            "\u001b[1m1/1\u001b[0m \u001b[32m━━━━━━━━━━━━━━━━━━━━\u001b[0m\u001b[37m\u001b[0m \u001b[1m0s\u001b[0m 40ms/step\n",
            "\u001b[1m1/1\u001b[0m \u001b[32m━━━━━━━━━━━━━━━━━━━━\u001b[0m\u001b[37m\u001b[0m \u001b[1m0s\u001b[0m 40ms/step\n",
            "\u001b[1m1/1\u001b[0m \u001b[32m━━━━━━━━━━━━━━━━━━━━\u001b[0m\u001b[37m\u001b[0m \u001b[1m0s\u001b[0m 43ms/step\n",
            "\u001b[1m1/1\u001b[0m \u001b[32m━━━━━━━━━━━━━━━━━━━━\u001b[0m\u001b[37m\u001b[0m \u001b[1m0s\u001b[0m 39ms/step\n",
            "\u001b[1m1/1\u001b[0m \u001b[32m━━━━━━━━━━━━━━━━━━━━\u001b[0m\u001b[37m\u001b[0m \u001b[1m0s\u001b[0m 39ms/step\n",
            "\u001b[1m1/1\u001b[0m \u001b[32m━━━━━━━━━━━━━━━━━━━━\u001b[0m\u001b[37m\u001b[0m \u001b[1m0s\u001b[0m 39ms/step\n",
            "\u001b[1m1/1\u001b[0m \u001b[32m━━━━━━━━━━━━━━━━━━━━\u001b[0m\u001b[37m\u001b[0m \u001b[1m0s\u001b[0m 38ms/step\n",
            "\u001b[1m1/1\u001b[0m \u001b[32m━━━━━━━━━━━━━━━━━━━━\u001b[0m\u001b[37m\u001b[0m \u001b[1m0s\u001b[0m 38ms/step\n",
            "\u001b[1m1/1\u001b[0m \u001b[32m━━━━━━━━━━━━━━━━━━━━\u001b[0m\u001b[37m\u001b[0m \u001b[1m0s\u001b[0m 42ms/step\n",
            "\u001b[1m1/1\u001b[0m \u001b[32m━━━━━━━━━━━━━━━━━━━━\u001b[0m\u001b[37m\u001b[0m \u001b[1m0s\u001b[0m 42ms/step\n",
            "\u001b[1m1/1\u001b[0m \u001b[32m━━━━━━━━━━━━━━━━━━━━\u001b[0m\u001b[37m\u001b[0m \u001b[1m0s\u001b[0m 42ms/step\n",
            "\u001b[1m1/1\u001b[0m \u001b[32m━━━━━━━━━━━━━━━━━━━━\u001b[0m\u001b[37m\u001b[0m \u001b[1m0s\u001b[0m 44ms/step\n",
            "\u001b[1m1/1\u001b[0m \u001b[32m━━━━━━━━━━━━━━━━━━━━\u001b[0m\u001b[37m\u001b[0m \u001b[1m0s\u001b[0m 40ms/step\n",
            "\u001b[1m1/1\u001b[0m \u001b[32m━━━━━━━━━━━━━━━━━━━━\u001b[0m\u001b[37m\u001b[0m \u001b[1m0s\u001b[0m 40ms/step\n",
            "\u001b[1m1/1\u001b[0m \u001b[32m━━━━━━━━━━━━━━━━━━━━\u001b[0m\u001b[37m\u001b[0m \u001b[1m0s\u001b[0m 43ms/step\n",
            "\u001b[1m1/1\u001b[0m \u001b[32m━━━━━━━━━━━━━━━━━━━━\u001b[0m\u001b[37m\u001b[0m \u001b[1m0s\u001b[0m 41ms/step\n",
            "\u001b[1m1/1\u001b[0m \u001b[32m━━━━━━━━━━━━━━━━━━━━\u001b[0m\u001b[37m\u001b[0m \u001b[1m0s\u001b[0m 41ms/step\n",
            "\u001b[1m1/1\u001b[0m \u001b[32m━━━━━━━━━━━━━━━━━━━━\u001b[0m\u001b[37m\u001b[0m \u001b[1m0s\u001b[0m 44ms/step\n",
            "\u001b[1m1/1\u001b[0m \u001b[32m━━━━━━━━━━━━━━━━━━━━\u001b[0m\u001b[37m\u001b[0m \u001b[1m0s\u001b[0m 39ms/step\n",
            "\u001b[1m1/1\u001b[0m \u001b[32m━━━━━━━━━━━━━━━━━━━━\u001b[0m\u001b[37m\u001b[0m \u001b[1m0s\u001b[0m 42ms/step\n",
            "\u001b[1m1/1\u001b[0m \u001b[32m━━━━━━━━━━━━━━━━━━━━\u001b[0m\u001b[37m\u001b[0m \u001b[1m0s\u001b[0m 40ms/step\n",
            "\u001b[1m1/1\u001b[0m \u001b[32m━━━━━━━━━━━━━━━━━━━━\u001b[0m\u001b[37m\u001b[0m \u001b[1m0s\u001b[0m 47ms/step\n",
            "\u001b[1m1/1\u001b[0m \u001b[32m━━━━━━━━━━━━━━━━━━━━\u001b[0m\u001b[37m\u001b[0m \u001b[1m0s\u001b[0m 50ms/step\n",
            "\u001b[1m1/1\u001b[0m \u001b[32m━━━━━━━━━━━━━━━━━━━━\u001b[0m\u001b[37m\u001b[0m \u001b[1m0s\u001b[0m 42ms/step\n",
            "\u001b[1m1/1\u001b[0m \u001b[32m━━━━━━━━━━━━━━━━━━━━\u001b[0m\u001b[37m\u001b[0m \u001b[1m0s\u001b[0m 43ms/step\n",
            "\u001b[1m1/1\u001b[0m \u001b[32m━━━━━━━━━━━━━━━━━━━━\u001b[0m\u001b[37m\u001b[0m \u001b[1m0s\u001b[0m 41ms/step\n",
            "\u001b[1m1/1\u001b[0m \u001b[32m━━━━━━━━━━━━━━━━━━━━\u001b[0m\u001b[37m\u001b[0m \u001b[1m0s\u001b[0m 40ms/step\n",
            "\u001b[1m1/1\u001b[0m \u001b[32m━━━━━━━━━━━━━━━━━━━━\u001b[0m\u001b[37m\u001b[0m \u001b[1m0s\u001b[0m 38ms/step\n",
            "\u001b[1m1/1\u001b[0m \u001b[32m━━━━━━━━━━━━━━━━━━━━\u001b[0m\u001b[37m\u001b[0m \u001b[1m0s\u001b[0m 41ms/step\n",
            "\u001b[1m1/1\u001b[0m \u001b[32m━━━━━━━━━━━━━━━━━━━━\u001b[0m\u001b[37m\u001b[0m \u001b[1m0s\u001b[0m 38ms/step\n",
            "\u001b[1m1/1\u001b[0m \u001b[32m━━━━━━━━━━━━━━━━━━━━\u001b[0m\u001b[37m\u001b[0m \u001b[1m0s\u001b[0m 39ms/step\n",
            "\u001b[1m1/1\u001b[0m \u001b[32m━━━━━━━━━━━━━━━━━━━━\u001b[0m\u001b[37m\u001b[0m \u001b[1m0s\u001b[0m 36ms/step\n",
            "\u001b[1m1/1\u001b[0m \u001b[32m━━━━━━━━━━━━━━━━━━━━\u001b[0m\u001b[37m\u001b[0m \u001b[1m0s\u001b[0m 37ms/step\n",
            "\u001b[1m1/1\u001b[0m \u001b[32m━━━━━━━━━━━━━━━━━━━━\u001b[0m\u001b[37m\u001b[0m \u001b[1m0s\u001b[0m 42ms/step\n",
            "\u001b[1m1/1\u001b[0m \u001b[32m━━━━━━━━━━━━━━━━━━━━\u001b[0m\u001b[37m\u001b[0m \u001b[1m0s\u001b[0m 56ms/step\n",
            "\u001b[1m1/1\u001b[0m \u001b[32m━━━━━━━━━━━━━━━━━━━━\u001b[0m\u001b[37m\u001b[0m \u001b[1m0s\u001b[0m 71ms/step\n",
            "\u001b[1m1/1\u001b[0m \u001b[32m━━━━━━━━━━━━━━━━━━━━\u001b[0m\u001b[37m\u001b[0m \u001b[1m0s\u001b[0m 62ms/step\n",
            "\u001b[1m1/1\u001b[0m \u001b[32m━━━━━━━━━━━━━━━━━━━━\u001b[0m\u001b[37m\u001b[0m \u001b[1m0s\u001b[0m 62ms/step\n",
            "\u001b[1m1/1\u001b[0m \u001b[32m━━━━━━━━━━━━━━━━━━━━\u001b[0m\u001b[37m\u001b[0m \u001b[1m0s\u001b[0m 65ms/step\n",
            "\u001b[1m1/1\u001b[0m \u001b[32m━━━━━━━━━━━━━━━━━━━━\u001b[0m\u001b[37m\u001b[0m \u001b[1m0s\u001b[0m 57ms/step\n",
            "\u001b[1m1/1\u001b[0m \u001b[32m━━━━━━━━━━━━━━━━━━━━\u001b[0m\u001b[37m\u001b[0m \u001b[1m0s\u001b[0m 57ms/step\n",
            "\u001b[1m1/1\u001b[0m \u001b[32m━━━━━━━━━━━━━━━━━━━━\u001b[0m\u001b[37m\u001b[0m \u001b[1m0s\u001b[0m 52ms/step\n",
            "\u001b[1m1/1\u001b[0m \u001b[32m━━━━━━━━━━━━━━━━━━━━\u001b[0m\u001b[37m\u001b[0m \u001b[1m0s\u001b[0m 75ms/step\n",
            "\u001b[1m1/1\u001b[0m \u001b[32m━━━━━━━━━━━━━━━━━━━━\u001b[0m\u001b[37m\u001b[0m \u001b[1m0s\u001b[0m 56ms/step\n",
            "\u001b[1m1/1\u001b[0m \u001b[32m━━━━━━━━━━━━━━━━━━━━\u001b[0m\u001b[37m\u001b[0m \u001b[1m0s\u001b[0m 53ms/step\n",
            "\u001b[1m1/1\u001b[0m \u001b[32m━━━━━━━━━━━━━━━━━━━━\u001b[0m\u001b[37m\u001b[0m \u001b[1m0s\u001b[0m 62ms/step\n",
            "\u001b[1m1/1\u001b[0m \u001b[32m━━━━━━━━━━━━━━━━━━━━\u001b[0m\u001b[37m\u001b[0m \u001b[1m0s\u001b[0m 55ms/step\n",
            "\u001b[1m1/1\u001b[0m \u001b[32m━━━━━━━━━━━━━━━━━━━━\u001b[0m\u001b[37m\u001b[0m \u001b[1m0s\u001b[0m 64ms/step\n",
            "\u001b[1m1/1\u001b[0m \u001b[32m━━━━━━━━━━━━━━━━━━━━\u001b[0m\u001b[37m\u001b[0m \u001b[1m0s\u001b[0m 68ms/step\n",
            "\u001b[1m1/1\u001b[0m \u001b[32m━━━━━━━━━━━━━━━━━━━━\u001b[0m\u001b[37m\u001b[0m \u001b[1m0s\u001b[0m 68ms/step\n",
            "\u001b[1m1/1\u001b[0m \u001b[32m━━━━━━━━━━━━━━━━━━━━\u001b[0m\u001b[37m\u001b[0m \u001b[1m0s\u001b[0m 57ms/step\n",
            "\u001b[1m1/1\u001b[0m \u001b[32m━━━━━━━━━━━━━━━━━━━━\u001b[0m\u001b[37m\u001b[0m \u001b[1m0s\u001b[0m 71ms/step\n",
            "\u001b[1m1/1\u001b[0m \u001b[32m━━━━━━━━━━━━━━━━━━━━\u001b[0m\u001b[37m\u001b[0m \u001b[1m0s\u001b[0m 64ms/step\n",
            "\u001b[1m1/1\u001b[0m \u001b[32m━━━━━━━━━━━━━━━━━━━━\u001b[0m\u001b[37m\u001b[0m \u001b[1m0s\u001b[0m 39ms/step\n",
            "\u001b[1m1/1\u001b[0m \u001b[32m━━━━━━━━━━━━━━━━━━━━\u001b[0m\u001b[37m\u001b[0m \u001b[1m0s\u001b[0m 42ms/step\n",
            "\u001b[1m1/1\u001b[0m \u001b[32m━━━━━━━━━━━━━━━━━━━━\u001b[0m\u001b[37m\u001b[0m \u001b[1m0s\u001b[0m 40ms/step\n",
            "\u001b[1m1/1\u001b[0m \u001b[32m━━━━━━━━━━━━━━━━━━━━\u001b[0m\u001b[37m\u001b[0m \u001b[1m0s\u001b[0m 38ms/step\n",
            "\u001b[1m1/1\u001b[0m \u001b[32m━━━━━━━━━━━━━━━━━━━━\u001b[0m\u001b[37m\u001b[0m \u001b[1m0s\u001b[0m 42ms/step\n",
            "\u001b[1m1/1\u001b[0m \u001b[32m━━━━━━━━━━━━━━━━━━━━\u001b[0m\u001b[37m\u001b[0m \u001b[1m0s\u001b[0m 46ms/step\n",
            "\u001b[1m1/1\u001b[0m \u001b[32m━━━━━━━━━━━━━━━━━━━━\u001b[0m\u001b[37m\u001b[0m \u001b[1m0s\u001b[0m 42ms/step\n",
            "\u001b[1m1/1\u001b[0m \u001b[32m━━━━━━━━━━━━━━━━━━━━\u001b[0m\u001b[37m\u001b[0m \u001b[1m0s\u001b[0m 44ms/step\n",
            "\u001b[1m1/1\u001b[0m \u001b[32m━━━━━━━━━━━━━━━━━━━━\u001b[0m\u001b[37m\u001b[0m \u001b[1m0s\u001b[0m 44ms/step\n",
            "\u001b[1m1/1\u001b[0m \u001b[32m━━━━━━━━━━━━━━━━━━━━\u001b[0m\u001b[37m\u001b[0m \u001b[1m0s\u001b[0m 40ms/step\n",
            "\u001b[1m1/1\u001b[0m \u001b[32m━━━━━━━━━━━━━━━━━━━━\u001b[0m\u001b[37m\u001b[0m \u001b[1m0s\u001b[0m 41ms/step\n",
            "\u001b[1m1/1\u001b[0m \u001b[32m━━━━━━━━━━━━━━━━━━━━\u001b[0m\u001b[37m\u001b[0m \u001b[1m0s\u001b[0m 41ms/step\n",
            "\u001b[1m1/1\u001b[0m \u001b[32m━━━━━━━━━━━━━━━━━━━━\u001b[0m\u001b[37m\u001b[0m \u001b[1m0s\u001b[0m 44ms/step\n",
            "\u001b[1m1/1\u001b[0m \u001b[32m━━━━━━━━━━━━━━━━━━━━\u001b[0m\u001b[37m\u001b[0m \u001b[1m0s\u001b[0m 40ms/step\n",
            "\u001b[1m1/1\u001b[0m \u001b[32m━━━━━━━━━━━━━━━━━━━━\u001b[0m\u001b[37m\u001b[0m \u001b[1m0s\u001b[0m 39ms/step\n",
            "\u001b[1m1/1\u001b[0m \u001b[32m━━━━━━━━━━━━━━━━━━━━\u001b[0m\u001b[37m\u001b[0m \u001b[1m0s\u001b[0m 36ms/step\n",
            "\u001b[1m1/1\u001b[0m \u001b[32m━━━━━━━━━━━━━━━━━━━━\u001b[0m\u001b[37m\u001b[0m \u001b[1m0s\u001b[0m 42ms/step\n",
            "\u001b[1m1/1\u001b[0m \u001b[32m━━━━━━━━━━━━━━━━━━━━\u001b[0m\u001b[37m\u001b[0m \u001b[1m0s\u001b[0m 45ms/step\n",
            "\u001b[1m1/1\u001b[0m \u001b[32m━━━━━━━━━━━━━━━━━━━━\u001b[0m\u001b[37m\u001b[0m \u001b[1m0s\u001b[0m 55ms/step\n",
            "\u001b[1m1/1\u001b[0m \u001b[32m━━━━━━━━━━━━━━━━━━━━\u001b[0m\u001b[37m\u001b[0m \u001b[1m0s\u001b[0m 41ms/step\n",
            "\u001b[1m1/1\u001b[0m \u001b[32m━━━━━━━━━━━━━━━━━━━━\u001b[0m\u001b[37m\u001b[0m \u001b[1m0s\u001b[0m 45ms/step\n",
            "\u001b[1m1/1\u001b[0m \u001b[32m━━━━━━━━━━━━━━━━━━━━\u001b[0m\u001b[37m\u001b[0m \u001b[1m0s\u001b[0m 44ms/step\n",
            "\u001b[1m1/1\u001b[0m \u001b[32m━━━━━━━━━━━━━━━━━━━━\u001b[0m\u001b[37m\u001b[0m \u001b[1m0s\u001b[0m 40ms/step\n",
            "\u001b[1m1/1\u001b[0m \u001b[32m━━━━━━━━━━━━━━━━━━━━\u001b[0m\u001b[37m\u001b[0m \u001b[1m0s\u001b[0m 43ms/step\n",
            "\u001b[1m1/1\u001b[0m \u001b[32m━━━━━━━━━━━━━━━━━━━━\u001b[0m\u001b[37m\u001b[0m \u001b[1m0s\u001b[0m 37ms/step\n",
            "\u001b[1m1/1\u001b[0m \u001b[32m━━━━━━━━━━━━━━━━━━━━\u001b[0m\u001b[37m\u001b[0m \u001b[1m0s\u001b[0m 37ms/step\n",
            "\u001b[1m1/1\u001b[0m \u001b[32m━━━━━━━━━━━━━━━━━━━━\u001b[0m\u001b[37m\u001b[0m \u001b[1m0s\u001b[0m 38ms/step\n",
            "\u001b[1m1/1\u001b[0m \u001b[32m━━━━━━━━━━━━━━━━━━━━\u001b[0m\u001b[37m\u001b[0m \u001b[1m0s\u001b[0m 37ms/step\n",
            "\u001b[1m1/1\u001b[0m \u001b[32m━━━━━━━━━━━━━━━━━━━━\u001b[0m\u001b[37m\u001b[0m \u001b[1m0s\u001b[0m 41ms/step\n",
            "\u001b[1m1/1\u001b[0m \u001b[32m━━━━━━━━━━━━━━━━━━━━\u001b[0m\u001b[37m\u001b[0m \u001b[1m0s\u001b[0m 43ms/step\n",
            "\u001b[1m1/1\u001b[0m \u001b[32m━━━━━━━━━━━━━━━━━━━━\u001b[0m\u001b[37m\u001b[0m \u001b[1m0s\u001b[0m 50ms/step\n",
            "\u001b[1m1/1\u001b[0m \u001b[32m━━━━━━━━━━━━━━━━━━━━\u001b[0m\u001b[37m\u001b[0m \u001b[1m0s\u001b[0m 41ms/step\n",
            "\u001b[1m1/1\u001b[0m \u001b[32m━━━━━━━━━━━━━━━━━━━━\u001b[0m\u001b[37m\u001b[0m \u001b[1m0s\u001b[0m 40ms/step\n",
            "\u001b[1m1/1\u001b[0m \u001b[32m━━━━━━━━━━━━━━━━━━━━\u001b[0m\u001b[37m\u001b[0m \u001b[1m0s\u001b[0m 41ms/step\n",
            "\u001b[1m1/1\u001b[0m \u001b[32m━━━━━━━━━━━━━━━━━━━━\u001b[0m\u001b[37m\u001b[0m \u001b[1m0s\u001b[0m 39ms/step\n",
            "\u001b[1m1/1\u001b[0m \u001b[32m━━━━━━━━━━━━━━━━━━━━\u001b[0m\u001b[37m\u001b[0m \u001b[1m0s\u001b[0m 40ms/step\n",
            "\u001b[1m1/1\u001b[0m \u001b[32m━━━━━━━━━━━━━━━━━━━━\u001b[0m\u001b[37m\u001b[0m \u001b[1m0s\u001b[0m 41ms/step\n",
            "\u001b[1m1/1\u001b[0m \u001b[32m━━━━━━━━━━━━━━━━━━━━\u001b[0m\u001b[37m\u001b[0m \u001b[1m0s\u001b[0m 39ms/step\n",
            "\u001b[1m1/1\u001b[0m \u001b[32m━━━━━━━━━━━━━━━━━━━━\u001b[0m\u001b[37m\u001b[0m \u001b[1m0s\u001b[0m 39ms/step\n",
            "\u001b[1m1/1\u001b[0m \u001b[32m━━━━━━━━━━━━━━━━━━━━\u001b[0m\u001b[37m\u001b[0m \u001b[1m0s\u001b[0m 38ms/step\n",
            "\u001b[1m1/1\u001b[0m \u001b[32m━━━━━━━━━━━━━━━━━━━━\u001b[0m\u001b[37m\u001b[0m \u001b[1m0s\u001b[0m 44ms/step\n",
            "\u001b[1m1/1\u001b[0m \u001b[32m━━━━━━━━━━━━━━━━━━━━\u001b[0m\u001b[37m\u001b[0m \u001b[1m0s\u001b[0m 41ms/step\n",
            "\u001b[1m1/1\u001b[0m \u001b[32m━━━━━━━━━━━━━━━━━━━━\u001b[0m\u001b[37m\u001b[0m \u001b[1m0s\u001b[0m 43ms/step\n",
            "\u001b[1m1/1\u001b[0m \u001b[32m━━━━━━━━━━━━━━━━━━━━\u001b[0m\u001b[37m\u001b[0m \u001b[1m0s\u001b[0m 40ms/step\n",
            "\u001b[1m1/1\u001b[0m \u001b[32m━━━━━━━━━━━━━━━━━━━━\u001b[0m\u001b[37m\u001b[0m \u001b[1m0s\u001b[0m 45ms/step\n",
            "\u001b[1m1/1\u001b[0m \u001b[32m━━━━━━━━━━━━━━━━━━━━\u001b[0m\u001b[37m\u001b[0m \u001b[1m0s\u001b[0m 40ms/step\n",
            "\u001b[1m1/1\u001b[0m \u001b[32m━━━━━━━━━━━━━━━━━━━━\u001b[0m\u001b[37m\u001b[0m \u001b[1m0s\u001b[0m 41ms/step\n",
            "\u001b[1m1/1\u001b[0m \u001b[32m━━━━━━━━━━━━━━━━━━━━\u001b[0m\u001b[37m\u001b[0m \u001b[1m0s\u001b[0m 43ms/step\n",
            "\u001b[1m1/1\u001b[0m \u001b[32m━━━━━━━━━━━━━━━━━━━━\u001b[0m\u001b[37m\u001b[0m \u001b[1m0s\u001b[0m 37ms/step\n",
            "\u001b[1m1/1\u001b[0m \u001b[32m━━━━━━━━━━━━━━━━━━━━\u001b[0m\u001b[37m\u001b[0m \u001b[1m0s\u001b[0m 39ms/step\n",
            "\u001b[1m1/1\u001b[0m \u001b[32m━━━━━━━━━━━━━━━━━━━━\u001b[0m\u001b[37m\u001b[0m \u001b[1m0s\u001b[0m 40ms/step\n",
            "\u001b[1m1/1\u001b[0m \u001b[32m━━━━━━━━━━━━━━━━━━━━\u001b[0m\u001b[37m\u001b[0m \u001b[1m0s\u001b[0m 38ms/step\n",
            "\u001b[1m1/1\u001b[0m \u001b[32m━━━━━━━━━━━━━━━━━━━━\u001b[0m\u001b[37m\u001b[0m \u001b[1m0s\u001b[0m 42ms/step\n",
            "\u001b[1m1/1\u001b[0m \u001b[32m━━━━━━━━━━━━━━━━━━━━\u001b[0m\u001b[37m\u001b[0m \u001b[1m0s\u001b[0m 54ms/step\n",
            "\u001b[1m1/1\u001b[0m \u001b[32m━━━━━━━━━━━━━━━━━━━━\u001b[0m\u001b[37m\u001b[0m \u001b[1m0s\u001b[0m 41ms/step\n",
            "\u001b[1m1/1\u001b[0m \u001b[32m━━━━━━━━━━━━━━━━━━━━\u001b[0m\u001b[37m\u001b[0m \u001b[1m0s\u001b[0m 42ms/step\n",
            "\u001b[1m1/1\u001b[0m \u001b[32m━━━━━━━━━━━━━━━━━━━━\u001b[0m\u001b[37m\u001b[0m \u001b[1m0s\u001b[0m 44ms/step\n",
            "\u001b[1m1/1\u001b[0m \u001b[32m━━━━━━━━━━━━━━━━━━━━\u001b[0m\u001b[37m\u001b[0m \u001b[1m0s\u001b[0m 44ms/step\n",
            "\u001b[1m1/1\u001b[0m \u001b[32m━━━━━━━━━━━━━━━━━━━━\u001b[0m\u001b[37m\u001b[0m \u001b[1m0s\u001b[0m 40ms/step\n",
            "\u001b[1m1/1\u001b[0m \u001b[32m━━━━━━━━━━━━━━━━━━━━\u001b[0m\u001b[37m\u001b[0m \u001b[1m0s\u001b[0m 46ms/step\n",
            "\u001b[1m1/1\u001b[0m \u001b[32m━━━━━━━━━━━━━━━━━━━━\u001b[0m\u001b[37m\u001b[0m \u001b[1m0s\u001b[0m 41ms/step\n",
            "\u001b[1m1/1\u001b[0m \u001b[32m━━━━━━━━━━━━━━━━━━━━\u001b[0m\u001b[37m\u001b[0m \u001b[1m0s\u001b[0m 42ms/step\n",
            "\u001b[1m1/1\u001b[0m \u001b[32m━━━━━━━━━━━━━━━━━━━━\u001b[0m\u001b[37m\u001b[0m \u001b[1m0s\u001b[0m 40ms/step\n",
            "\u001b[1m1/1\u001b[0m \u001b[32m━━━━━━━━━━━━━━━━━━━━\u001b[0m\u001b[37m\u001b[0m \u001b[1m0s\u001b[0m 39ms/step\n",
            "\u001b[1m1/1\u001b[0m \u001b[32m━━━━━━━━━━━━━━━━━━━━\u001b[0m\u001b[37m\u001b[0m \u001b[1m0s\u001b[0m 50ms/step\n",
            "\u001b[1m1/1\u001b[0m \u001b[32m━━━━━━━━━━━━━━━━━━━━\u001b[0m\u001b[37m\u001b[0m \u001b[1m0s\u001b[0m 43ms/step\n",
            "\u001b[1m1/1\u001b[0m \u001b[32m━━━━━━━━━━━━━━━━━━━━\u001b[0m\u001b[37m\u001b[0m \u001b[1m0s\u001b[0m 43ms/step\n",
            "\u001b[1m1/1\u001b[0m \u001b[32m━━━━━━━━━━━━━━━━━━━━\u001b[0m\u001b[37m\u001b[0m \u001b[1m0s\u001b[0m 43ms/step\n",
            "\u001b[1m1/1\u001b[0m \u001b[32m━━━━━━━━━━━━━━━━━━━━\u001b[0m\u001b[37m\u001b[0m \u001b[1m0s\u001b[0m 46ms/step\n",
            "\u001b[1m1/1\u001b[0m \u001b[32m━━━━━━━━━━━━━━━━━━━━\u001b[0m\u001b[37m\u001b[0m \u001b[1m0s\u001b[0m 40ms/step\n",
            "\u001b[1m1/1\u001b[0m \u001b[32m━━━━━━━━━━━━━━━━━━━━\u001b[0m\u001b[37m\u001b[0m \u001b[1m0s\u001b[0m 41ms/step\n",
            "\u001b[1m1/1\u001b[0m \u001b[32m━━━━━━━━━━━━━━━━━━━━\u001b[0m\u001b[37m\u001b[0m \u001b[1m0s\u001b[0m 41ms/step\n",
            "\u001b[1m1/1\u001b[0m \u001b[32m━━━━━━━━━━━━━━━━━━━━\u001b[0m\u001b[37m\u001b[0m \u001b[1m0s\u001b[0m 38ms/step\n",
            "\u001b[1m1/1\u001b[0m \u001b[32m━━━━━━━━━━━━━━━━━━━━\u001b[0m\u001b[37m\u001b[0m \u001b[1m0s\u001b[0m 40ms/step\n",
            "\u001b[1m1/1\u001b[0m \u001b[32m━━━━━━━━━━━━━━━━━━━━\u001b[0m\u001b[37m\u001b[0m \u001b[1m0s\u001b[0m 38ms/step\n",
            "\u001b[1m1/1\u001b[0m \u001b[32m━━━━━━━━━━━━━━━━━━━━\u001b[0m\u001b[37m\u001b[0m \u001b[1m0s\u001b[0m 38ms/step\n",
            "\u001b[1m1/1\u001b[0m \u001b[32m━━━━━━━━━━━━━━━━━━━━\u001b[0m\u001b[37m\u001b[0m \u001b[1m0s\u001b[0m 52ms/step\n",
            "\u001b[1m1/1\u001b[0m \u001b[32m━━━━━━━━━━━━━━━━━━━━\u001b[0m\u001b[37m\u001b[0m \u001b[1m0s\u001b[0m 44ms/step\n",
            "\u001b[1m1/1\u001b[0m \u001b[32m━━━━━━━━━━━━━━━━━━━━\u001b[0m\u001b[37m\u001b[0m \u001b[1m0s\u001b[0m 47ms/step\n",
            "\u001b[1m1/1\u001b[0m \u001b[32m━━━━━━━━━━━━━━━━━━━━\u001b[0m\u001b[37m\u001b[0m \u001b[1m0s\u001b[0m 46ms/step\n",
            "\u001b[1m1/1\u001b[0m \u001b[32m━━━━━━━━━━━━━━━━━━━━\u001b[0m\u001b[37m\u001b[0m \u001b[1m0s\u001b[0m 46ms/step\n",
            "\u001b[1m1/1\u001b[0m \u001b[32m━━━━━━━━━━━━━━━━━━━━\u001b[0m\u001b[37m\u001b[0m \u001b[1m0s\u001b[0m 40ms/step\n",
            "\u001b[1m1/1\u001b[0m \u001b[32m━━━━━━━━━━━━━━━━━━━━\u001b[0m\u001b[37m\u001b[0m \u001b[1m0s\u001b[0m 39ms/step\n",
            "\u001b[1m1/1\u001b[0m \u001b[32m━━━━━━━━━━━━━━━━━━━━\u001b[0m\u001b[37m\u001b[0m \u001b[1m0s\u001b[0m 41ms/step\n",
            "\u001b[1m1/1\u001b[0m \u001b[32m━━━━━━━━━━━━━━━━━━━━\u001b[0m\u001b[37m\u001b[0m \u001b[1m0s\u001b[0m 39ms/step\n",
            "\u001b[1m1/1\u001b[0m \u001b[32m━━━━━━━━━━━━━━━━━━━━\u001b[0m\u001b[37m\u001b[0m \u001b[1m0s\u001b[0m 40ms/step\n",
            "\u001b[1m1/1\u001b[0m \u001b[32m━━━━━━━━━━━━━━━━━━━━\u001b[0m\u001b[37m\u001b[0m \u001b[1m0s\u001b[0m 40ms/step\n",
            "\u001b[1m1/1\u001b[0m \u001b[32m━━━━━━━━━━━━━━━━━━━━\u001b[0m\u001b[37m\u001b[0m \u001b[1m0s\u001b[0m 40ms/step\n",
            "\u001b[1m1/1\u001b[0m \u001b[32m━━━━━━━━━━━━━━━━━━━━\u001b[0m\u001b[37m\u001b[0m \u001b[1m0s\u001b[0m 48ms/step\n",
            "\u001b[1m1/1\u001b[0m \u001b[32m━━━━━━━━━━━━━━━━━━━━\u001b[0m\u001b[37m\u001b[0m \u001b[1m0s\u001b[0m 47ms/step\n",
            "\u001b[1m1/1\u001b[0m \u001b[32m━━━━━━━━━━━━━━━━━━━━\u001b[0m\u001b[37m\u001b[0m \u001b[1m0s\u001b[0m 44ms/step\n",
            "\u001b[1m1/1\u001b[0m \u001b[32m━━━━━━━━━━━━━━━━━━━━\u001b[0m\u001b[37m\u001b[0m \u001b[1m0s\u001b[0m 44ms/step\n",
            "\u001b[1m1/1\u001b[0m \u001b[32m━━━━━━━━━━━━━━━━━━━━\u001b[0m\u001b[37m\u001b[0m \u001b[1m0s\u001b[0m 45ms/step\n",
            "\u001b[1m1/1\u001b[0m \u001b[32m━━━━━━━━━━━━━━━━━━━━\u001b[0m\u001b[37m\u001b[0m \u001b[1m0s\u001b[0m 42ms/step\n",
            "\u001b[1m1/1\u001b[0m \u001b[32m━━━━━━━━━━━━━━━━━━━━\u001b[0m\u001b[37m\u001b[0m \u001b[1m0s\u001b[0m 43ms/step\n",
            "\u001b[1m1/1\u001b[0m \u001b[32m━━━━━━━━━━━━━━━━━━━━\u001b[0m\u001b[37m\u001b[0m \u001b[1m0s\u001b[0m 42ms/step\n",
            "\u001b[1m1/1\u001b[0m \u001b[32m━━━━━━━━━━━━━━━━━━━━\u001b[0m\u001b[37m\u001b[0m \u001b[1m0s\u001b[0m 41ms/step\n",
            "\u001b[1m1/1\u001b[0m \u001b[32m━━━━━━━━━━━━━━━━━━━━\u001b[0m\u001b[37m\u001b[0m \u001b[1m0s\u001b[0m 40ms/step\n",
            "\u001b[1m1/1\u001b[0m \u001b[32m━━━━━━━━━━━━━━━━━━━━\u001b[0m\u001b[37m\u001b[0m \u001b[1m0s\u001b[0m 40ms/step\n",
            "\u001b[1m1/1\u001b[0m \u001b[32m━━━━━━━━━━━━━━━━━━━━\u001b[0m\u001b[37m\u001b[0m \u001b[1m0s\u001b[0m 47ms/step\n",
            "\u001b[1m1/1\u001b[0m \u001b[32m━━━━━━━━━━━━━━━━━━━━\u001b[0m\u001b[37m\u001b[0m \u001b[1m0s\u001b[0m 43ms/step\n",
            "\u001b[1m1/1\u001b[0m \u001b[32m━━━━━━━━━━━━━━━━━━━━\u001b[0m\u001b[37m\u001b[0m \u001b[1m0s\u001b[0m 46ms/step\n",
            "\u001b[1m1/1\u001b[0m \u001b[32m━━━━━━━━━━━━━━━━━━━━\u001b[0m\u001b[37m\u001b[0m \u001b[1m0s\u001b[0m 45ms/step\n",
            "\u001b[1m1/1\u001b[0m \u001b[32m━━━━━━━━━━━━━━━━━━━━\u001b[0m\u001b[37m\u001b[0m \u001b[1m0s\u001b[0m 42ms/step\n",
            "\u001b[1m1/1\u001b[0m \u001b[32m━━━━━━━━━━━━━━━━━━━━\u001b[0m\u001b[37m\u001b[0m \u001b[1m0s\u001b[0m 48ms/step\n",
            "\u001b[1m1/1\u001b[0m \u001b[32m━━━━━━━━━━━━━━━━━━━━\u001b[0m\u001b[37m\u001b[0m \u001b[1m0s\u001b[0m 42ms/step\n",
            "\u001b[1m1/1\u001b[0m \u001b[32m━━━━━━━━━━━━━━━━━━━━\u001b[0m\u001b[37m\u001b[0m \u001b[1m0s\u001b[0m 40ms/step\n",
            "\u001b[1m1/1\u001b[0m \u001b[32m━━━━━━━━━━━━━━━━━━━━\u001b[0m\u001b[37m\u001b[0m \u001b[1m0s\u001b[0m 42ms/step\n",
            "\u001b[1m1/1\u001b[0m \u001b[32m━━━━━━━━━━━━━━━━━━━━\u001b[0m\u001b[37m\u001b[0m \u001b[1m0s\u001b[0m 41ms/step\n",
            "\u001b[1m1/1\u001b[0m \u001b[32m━━━━━━━━━━━━━━━━━━━━\u001b[0m\u001b[37m\u001b[0m \u001b[1m0s\u001b[0m 39ms/step\n",
            "\u001b[1m1/1\u001b[0m \u001b[32m━━━━━━━━━━━━━━━━━━━━\u001b[0m\u001b[37m\u001b[0m \u001b[1m0s\u001b[0m 43ms/step\n",
            "\u001b[1m1/1\u001b[0m \u001b[32m━━━━━━━━━━━━━━━━━━━━\u001b[0m\u001b[37m\u001b[0m \u001b[1m0s\u001b[0m 63ms/step\n",
            "\u001b[1m1/1\u001b[0m \u001b[32m━━━━━━━━━━━━━━━━━━━━\u001b[0m\u001b[37m\u001b[0m \u001b[1m0s\u001b[0m 68ms/step\n",
            "\u001b[1m1/1\u001b[0m \u001b[32m━━━━━━━━━━━━━━━━━━━━\u001b[0m\u001b[37m\u001b[0m \u001b[1m0s\u001b[0m 66ms/step\n",
            "\u001b[1m1/1\u001b[0m \u001b[32m━━━━━━━━━━━━━━━━━━━━\u001b[0m\u001b[37m\u001b[0m \u001b[1m0s\u001b[0m 63ms/step\n",
            "\u001b[1m1/1\u001b[0m \u001b[32m━━━━━━━━━━━━━━━━━━━━\u001b[0m\u001b[37m\u001b[0m \u001b[1m0s\u001b[0m 62ms/step\n",
            "\u001b[1m1/1\u001b[0m \u001b[32m━━━━━━━━━━━━━━━━━━━━\u001b[0m\u001b[37m\u001b[0m \u001b[1m0s\u001b[0m 59ms/step\n",
            "\u001b[1m1/1\u001b[0m \u001b[32m━━━━━━━━━━━━━━━━━━━━\u001b[0m\u001b[37m\u001b[0m \u001b[1m0s\u001b[0m 57ms/step\n",
            "\u001b[1m1/1\u001b[0m \u001b[32m━━━━━━━━━━━━━━━━━━━━\u001b[0m\u001b[37m\u001b[0m \u001b[1m0s\u001b[0m 67ms/step\n",
            "\u001b[1m1/1\u001b[0m \u001b[32m━━━━━━━━━━━━━━━━━━━━\u001b[0m\u001b[37m\u001b[0m \u001b[1m0s\u001b[0m 58ms/step\n",
            "\u001b[1m1/1\u001b[0m \u001b[32m━━━━━━━━━━━━━━━━━━━━\u001b[0m\u001b[37m\u001b[0m \u001b[1m0s\u001b[0m 67ms/step\n",
            "\u001b[1m1/1\u001b[0m \u001b[32m━━━━━━━━━━━━━━━━━━━━\u001b[0m\u001b[37m\u001b[0m \u001b[1m0s\u001b[0m 52ms/step\n",
            "\u001b[1m1/1\u001b[0m \u001b[32m━━━━━━━━━━━━━━━━━━━━\u001b[0m\u001b[37m\u001b[0m \u001b[1m0s\u001b[0m 55ms/step\n",
            "\u001b[1m1/1\u001b[0m \u001b[32m━━━━━━━━━━━━━━━━━━━━\u001b[0m\u001b[37m\u001b[0m \u001b[1m0s\u001b[0m 69ms/step\n",
            "\u001b[1m1/1\u001b[0m \u001b[32m━━━━━━━━━━━━━━━━━━━━\u001b[0m\u001b[37m\u001b[0m \u001b[1m0s\u001b[0m 64ms/step\n",
            "\u001b[1m1/1\u001b[0m \u001b[32m━━━━━━━━━━━━━━━━━━━━\u001b[0m\u001b[37m\u001b[0m \u001b[1m0s\u001b[0m 67ms/step\n",
            "\u001b[1m1/1\u001b[0m \u001b[32m━━━━━━━━━━━━━━━━━━━━\u001b[0m\u001b[37m\u001b[0m \u001b[1m0s\u001b[0m 79ms/step\n",
            "\u001b[1m1/1\u001b[0m \u001b[32m━━━━━━━━━━━━━━━━━━━━\u001b[0m\u001b[37m\u001b[0m \u001b[1m0s\u001b[0m 76ms/step\n",
            "\u001b[1m1/1\u001b[0m \u001b[32m━━━━━━━━━━━━━━━━━━━━\u001b[0m\u001b[37m\u001b[0m \u001b[1m0s\u001b[0m 73ms/step\n",
            "\u001b[1m1/1\u001b[0m \u001b[32m━━━━━━━━━━━━━━━━━━━━\u001b[0m\u001b[37m\u001b[0m \u001b[1m0s\u001b[0m 40ms/step\n",
            "\u001b[1m1/1\u001b[0m \u001b[32m━━━━━━━━━━━━━━━━━━━━\u001b[0m\u001b[37m\u001b[0m \u001b[1m0s\u001b[0m 44ms/step\n",
            "\u001b[1m1/1\u001b[0m \u001b[32m━━━━━━━━━━━━━━━━━━━━\u001b[0m\u001b[37m\u001b[0m \u001b[1m0s\u001b[0m 39ms/step\n",
            "\u001b[1m1/1\u001b[0m \u001b[32m━━━━━━━━━━━━━━━━━━━━\u001b[0m\u001b[37m\u001b[0m \u001b[1m0s\u001b[0m 40ms/step\n",
            "\u001b[1m1/1\u001b[0m \u001b[32m━━━━━━━━━━━━━━━━━━━━\u001b[0m\u001b[37m\u001b[0m \u001b[1m0s\u001b[0m 38ms/step\n",
            "\u001b[1m1/1\u001b[0m \u001b[32m━━━━━━━━━━━━━━━━━━━━\u001b[0m\u001b[37m\u001b[0m \u001b[1m0s\u001b[0m 43ms/step\n",
            "\u001b[1m1/1\u001b[0m \u001b[32m━━━━━━━━━━━━━━━━━━━━\u001b[0m\u001b[37m\u001b[0m \u001b[1m0s\u001b[0m 38ms/step\n",
            "\u001b[1m1/1\u001b[0m \u001b[32m━━━━━━━━━━━━━━━━━━━━\u001b[0m\u001b[37m\u001b[0m \u001b[1m0s\u001b[0m 46ms/step\n",
            "\u001b[1m1/1\u001b[0m \u001b[32m━━━━━━━━━━━━━━━━━━━━\u001b[0m\u001b[37m\u001b[0m \u001b[1m0s\u001b[0m 48ms/step\n",
            "\u001b[1m1/1\u001b[0m \u001b[32m━━━━━━━━━━━━━━━━━━━━\u001b[0m\u001b[37m\u001b[0m \u001b[1m0s\u001b[0m 40ms/step\n",
            "\u001b[1m1/1\u001b[0m \u001b[32m━━━━━━━━━━━━━━━━━━━━\u001b[0m\u001b[37m\u001b[0m \u001b[1m0s\u001b[0m 41ms/step\n",
            "\u001b[1m1/1\u001b[0m \u001b[32m━━━━━━━━━━━━━━━━━━━━\u001b[0m\u001b[37m\u001b[0m \u001b[1m0s\u001b[0m 42ms/step\n",
            "\u001b[1m1/1\u001b[0m \u001b[32m━━━━━━━━━━━━━━━━━━━━\u001b[0m\u001b[37m\u001b[0m \u001b[1m0s\u001b[0m 40ms/step\n",
            "\u001b[1m1/1\u001b[0m \u001b[32m━━━━━━━━━━━━━━━━━━━━\u001b[0m\u001b[37m\u001b[0m \u001b[1m0s\u001b[0m 41ms/step\n",
            "\u001b[1m1/1\u001b[0m \u001b[32m━━━━━━━━━━━━━━━━━━━━\u001b[0m\u001b[37m\u001b[0m \u001b[1m0s\u001b[0m 41ms/step\n",
            "\u001b[1m1/1\u001b[0m \u001b[32m━━━━━━━━━━━━━━━━━━━━\u001b[0m\u001b[37m\u001b[0m \u001b[1m0s\u001b[0m 40ms/step\n",
            "\u001b[1m1/1\u001b[0m \u001b[32m━━━━━━━━━━━━━━━━━━━━\u001b[0m\u001b[37m\u001b[0m \u001b[1m0s\u001b[0m 37ms/step\n",
            "\u001b[1m1/1\u001b[0m \u001b[32m━━━━━━━━━━━━━━━━━━━━\u001b[0m\u001b[37m\u001b[0m \u001b[1m0s\u001b[0m 39ms/step\n",
            "\u001b[1m1/1\u001b[0m \u001b[32m━━━━━━━━━━━━━━━━━━━━\u001b[0m\u001b[37m\u001b[0m \u001b[1m0s\u001b[0m 37ms/step\n",
            "\u001b[1m1/1\u001b[0m \u001b[32m━━━━━━━━━━━━━━━━━━━━\u001b[0m\u001b[37m\u001b[0m \u001b[1m0s\u001b[0m 52ms/step\n",
            "\u001b[1m1/1\u001b[0m \u001b[32m━━━━━━━━━━━━━━━━━━━━\u001b[0m\u001b[37m\u001b[0m \u001b[1m0s\u001b[0m 45ms/step\n",
            "\u001b[1m1/1\u001b[0m \u001b[32m━━━━━━━━━━━━━━━━━━━━\u001b[0m\u001b[37m\u001b[0m \u001b[1m0s\u001b[0m 45ms/step\n",
            "\u001b[1m1/1\u001b[0m \u001b[32m━━━━━━━━━━━━━━━━━━━━\u001b[0m\u001b[37m\u001b[0m \u001b[1m0s\u001b[0m 42ms/step\n",
            "\u001b[1m1/1\u001b[0m \u001b[32m━━━━━━━━━━━━━━━━━━━━\u001b[0m\u001b[37m\u001b[0m \u001b[1m0s\u001b[0m 46ms/step\n",
            "\u001b[1m1/1\u001b[0m \u001b[32m━━━━━━━━━━━━━━━━━━━━\u001b[0m\u001b[37m\u001b[0m \u001b[1m0s\u001b[0m 41ms/step\n",
            "\u001b[1m1/1\u001b[0m \u001b[32m━━━━━━━━━━━━━━━━━━━━\u001b[0m\u001b[37m\u001b[0m \u001b[1m0s\u001b[0m 43ms/step\n",
            "\u001b[1m1/1\u001b[0m \u001b[32m━━━━━━━━━━━━━━━━━━━━\u001b[0m\u001b[37m\u001b[0m \u001b[1m0s\u001b[0m 41ms/step\n",
            "\u001b[1m1/1\u001b[0m \u001b[32m━━━━━━━━━━━━━━━━━━━━\u001b[0m\u001b[37m\u001b[0m \u001b[1m0s\u001b[0m 39ms/step\n",
            "\u001b[1m1/1\u001b[0m \u001b[32m━━━━━━━━━━━━━━━━━━━━\u001b[0m\u001b[37m\u001b[0m \u001b[1m0s\u001b[0m 38ms/step\n",
            "\u001b[1m1/1\u001b[0m \u001b[32m━━━━━━━━━━━━━━━━━━━━\u001b[0m\u001b[37m\u001b[0m \u001b[1m0s\u001b[0m 38ms/step\n",
            "\u001b[1m1/1\u001b[0m \u001b[32m━━━━━━━━━━━━━━━━━━━━\u001b[0m\u001b[37m\u001b[0m \u001b[1m0s\u001b[0m 40ms/step\n"
          ]
        }
      ]
    },
    {
      "cell_type": "code",
      "source": [
        "# Print the predicted sentiments for all sentences\n",
        "for sentence, sentiment in zip(sent, predicted_sentiments):\n",
        "    print(f\"Sentence: {sentence} - Predicted Sentiment from RNN: {sentiment}\")"
      ],
      "metadata": {
        "colab": {
          "base_uri": "https://localhost:8080/"
        },
        "id": "_9YvivCMNQ3i",
        "outputId": "c6faa484-5ce3-4e4d-ac69-e880c673e20d"
      },
      "execution_count": 42,
      "outputs": [
        {
          "output_type": "stream",
          "name": "stdout",
          "text": [
            "Sentence: Amazon's guidance gives a glimpse of what's to come - Predicted Sentiment from RNN: positive\n",
            "Sentence: Amazon's AWS hits the golden number - Predicted Sentiment from RNN: negative\n",
            "Sentence: Amazon's stock is zooming higher after a big revenue beat - Predicted Sentiment from RNN: neutral\n",
            "Sentence: Stock market today: Nasdaq leads S&P 500, Dow lower as Meta sinks after earnings with Apple, Amazon on deck - Predicted Sentiment from RNN: neutral\n",
            "Sentence: Amazon.com Announces Third Quarter Results - Predicted Sentiment from RNN: negative\n",
            "Sentence: Amazon's 'Project Rainier' is live. Could it be the catalyst AWS needs? - Predicted Sentiment from RNN: negative\n",
            "Sentence: Stock Market Today: Nasdaq Slammed As Meta Dives; Apple, Amazon To Report Next (Live Coverage) - Predicted Sentiment from RNN: neutral\n",
            "Sentence: The secret star of Amazon's earnings today could be its advertising business - Predicted Sentiment from RNN: negative\n",
            "Sentence: Stock market today: Dow, S&P 500, Nasdaq slide as Meta sinks after earnings with Apple, Amazon ahead - Predicted Sentiment from RNN: neutral\n",
            "Sentence: Prediction: 2 AI Stocks Will Be Worth More Than Apple Stock by Year-End in 2026 - Predicted Sentiment from RNN: neutral\n",
            "Sentence: Amazon to round of big tech earnings. Here's what to know - Predicted Sentiment from RNN: neutral\n",
            "Sentence: Apple, Amazon Earnings Follow Metas Tough Day: What to Watch - Predicted Sentiment from RNN: neutral\n",
            "Sentence: 2,000 drivers left UPS after taking buyouts, analyst says - Predicted Sentiment from RNN: positive\n",
            "Sentence: Why this analyst doesn't own Amazon - Predicted Sentiment from RNN: positive\n",
            "Sentence: Is Amazon's stock a 'Magnificent 7' laggard or 'coiled spring'? - Predicted Sentiment from RNN: neutral\n",
            "Sentence: 2 AI Value Stocks Thatll Have You Thinking Theres No Bubble - Predicted Sentiment from RNN: negative\n",
            "Sentence: The Dow Is Losing Steam. Why It's Still Leading the S&P 500 and Nasdaq. - Predicted Sentiment from RNN: positive\n",
            "Sentence: Freight and manufacturing layoffs sweep across supply chain - Predicted Sentiment from RNN: positive\n",
            "Sentence: Amazon's custom Trainium chips face a critical moment - Predicted Sentiment from RNN: positive\n",
            "Sentence: The Government Shutdown Has Killed IPOs. Navan Stock Tumbles on its Debut. - Predicted Sentiment from RNN: positive\n",
            "Sentence: Stock market today: Dow rises, Nasdaq slides as Meta sinks after earnings with Apple, Amazon ahead - Predicted Sentiment from RNN: neutral\n",
            "Sentence: Amazon Is Set To Report Earnings Today. Here's What Investors Should Know - Predicted Sentiment from RNN: neutral\n",
            "Sentence: What to expect from Amazon's earnings report as AWS faces pressure from rivals - Predicted Sentiment from RNN: neutral\n",
            "Sentence: Amazon Earnings on Deck -- Traders Bet Billions on Biggest Post-Earnings Jump - Predicted Sentiment from RNN: neutral\n",
            "Sentence: Amazon is getting leaner in the wake of significant job cuts - Predicted Sentiment from RNN: neutral\n",
            "Sentence: Payroll Processors Continue to Slide. What the Charts of Paylocity Holding, Paycom Software Say. - Predicted Sentiment from RNN: positive\n",
            "Sentence: Amazons Coming AI Cash Burn: Bullish Signal or Time to Sell? - Predicted Sentiment from RNN: neutral\n",
            "Sentence: Amazon Earnings Due Soon. Can AWS Match Microsoft, Google Cloud Beats? - Predicted Sentiment from RNN: neutral\n",
            "Sentence: Need better understanding of Apple's AI strategy, says Maxim Group's Forte - Predicted Sentiment from RNN: positive\n",
            "Sentence: Amazon earnings: Why this strategist is 'a little nervous' - Predicted Sentiment from RNN: neutral\n",
            "Sentence: Roku Expected to Deliver 'Solid' Third Quarter, Buoyed By Advertising Growth - Predicted Sentiment from RNN: positive\n",
            "Sentence: Amazon's stock sentiment has been 'washed out' but there's still hope, says this analyst - Predicted Sentiment from RNN: positive\n",
            "Sentence: Analyst Says Amazon(AMZN) Among the Best Undervalued AI Stocks to Buy - Here's Why - Predicted Sentiment from RNN: neutral\n",
            "Sentence: Earnings Data Deluge - Predicted Sentiment from RNN: positive\n",
            "Sentence: Google, Microsoft, Meta earnings: Where does AI demand stand? - Predicted Sentiment from RNN: positive\n",
            "Sentence: Amazon needs to deliver on 2 things in its Q3 earnings call - Predicted Sentiment from RNN: neutral\n",
            "Sentence: Microsoft, Alphabet, Meta: Magnificent Seven Earnings Roundup - Predicted Sentiment from RNN: positive\n",
            "Sentence: Pre-markets Down on Questions: Fed, Jobs & Q3 Earnings - Predicted Sentiment from RNN: positive\n",
            "Sentence: BofA double-upgrades Teradyne on multiple growth drivers from AI chips to robotics - Predicted Sentiment from RNN: positive\n",
            "Sentence: Watch out for this big number when Amazon reports results - Predicted Sentiment from RNN: negative\n",
            "Sentence: The Smartest Growth Stock to Buy With $1,000 Right Now - Predicted Sentiment from RNN: negative\n",
            "Sentence: Magnificent Seven Stocks Fall After Latest Round of Earnings - Predicted Sentiment from RNN: negative\n",
            "Sentence: Meta Platforms (NASDAQ: META) Stock Price Prediction for 2025: Where Will It Be in 1 Year (Oct 30) - Predicted Sentiment from RNN: negative\n",
            "Sentence: Stock Market Today: Dow Falls After Trump-Xi Talks; Meta Plunges On Cost Worries (Live Coverage) - Predicted Sentiment from RNN: positive\n",
            "Sentence: Meta, Microsoft, Alphabet go all in on AI spending: What to know - Predicted Sentiment from RNN: positive\n",
            "Sentence: Here are Thursdays Top Wall Street Analyst Research Calls: Coinbase Global, Meta Platforms, Boeing, Cisco Systems, and More - Predicted Sentiment from RNN: positive\n",
            "Sentence: Stock market today: Dow, S&P 500, Nasdaq slide after Trump-Xi truce with Big Tech earnings ahead - Predicted Sentiment from RNN: positive\n",
            "Sentence: Amazon's outlook to offer a window into holiday demand - Predicted Sentiment from RNN: neutral\n",
            "Sentence: What time is Amazon's earnings call? Here's how to tune in. - Predicted Sentiment from RNN: neutral\n",
            "Sentence: Broadcom: The Hidden Winner in Google's Anthropic Chip Deal? - Predicted Sentiment from RNN: positive\n",
            "Sentence: Heres How Much the Magnificent Seven Matter to the Market - Predicted Sentiment from RNN: positive\n",
            "Sentence: 5 Top Artificial Intelligence Stocks to Buy Right Now - Predicted Sentiment from RNN: negative\n",
            "Sentence: US-China trade truce, Alphabet earnings, Fed rate cut: 3 Things - Predicted Sentiment from RNN: positive\n",
            "Sentence: Satellite maker EnduroSat gets $104 million funding from Google Ventures, others - Predicted Sentiment from RNN: positive\n",
            "Sentence: 5 Things to Know Before the Stock Market Opens - Predicted Sentiment from RNN: negative\n",
            "Sentence: All eyes are on AWS as doubts swirl over Amazon's cloud competitiveness - Predicted Sentiment from RNN: negative\n",
            "Sentence: Alphabet vs. Meta, Boeing-Airbus, Chipotle: Trending Stocks - Predicted Sentiment from RNN: positive\n",
            "Sentence: Earnings live: Meta stock tumbles, Microsoft slides, and Alphabet jumps as Big Tech earnings pour in - Predicted Sentiment from RNN: positive\n",
            "Sentence: Snowflake Stock Is on Fire-It's Still Not Too Late to Buy - Predicted Sentiment from RNN: neutral\n",
            "Sentence: Investors still face a wall of worry despite positive U.S. trade meetings - Predicted Sentiment from RNN: positive\n",
            "Sentence: Everyone's asking the wrong question about an AI bubble. Here are the stocks to buy - and when. - Predicted Sentiment from RNN: negative\n",
            "Sentence: Amazon earnings: 2 reasons AWS could grow 20% in 2026 - Predicted Sentiment from RNN: neutral\n",
            "Sentence: A look at Amazon's lagging stock performance this year - Predicted Sentiment from RNN: negative\n",
            "Sentence: Amazon earnings arrive in just a few hours - and at a pivotal moment for the stock - Predicted Sentiment from RNN: neutral\n",
            "Sentence: These are Wall Street's expectations for Amazon's headline metrics - Predicted Sentiment from RNN: negative\n",
            "Sentence: Option traders primed for sizable move in Amazon shares, Apple not so much - Predicted Sentiment from RNN: neutral\n",
            "Sentence: This Magnificent Stock Has Made Many Millionaires, and Could Make More - Predicted Sentiment from RNN: negative\n",
            "Sentence: Amazon, Apple Earnings, ECB Rate Decision: Still to Come This Week - Predicted Sentiment from RNN: neutral\n",
            "Sentence: Apple and Amazon headline earnings slate - Predicted Sentiment from RNN: negative\n",
            "Sentence: Zacks Investment Ideas feature highlights: Amazon.com, Alphabet and Tesla - Predicted Sentiment from RNN: negative\n",
            "Sentence: Lakeland Industries and Grid Dynamics have been highlighted as Zacks Bull and Bear of the Day - Predicted Sentiment from RNN: positive\n",
            "Sentence: Stock Market Today: Dow, S&P 500 and Nasdaq hover near record highs after U.S.-China trade deal, while Meta stock dives but Alphabet pops on earnings; Apple and Amazon results on tap; Treasury yields up on December rate-cut pushback. - Predicted Sentiment from RNN: neutral\n",
            "Sentence: Prediction: 2 AI Stocks Will Be Worth More Than Nvidia and Palantir Technologies Combined by 2030 (Hint: Not Apple) - Predicted Sentiment from RNN: neutral\n",
            "Sentence: Amazon Reports Today. The AWS Outlook Is the Big Question. - Predicted Sentiment from RNN: neutral\n",
            "Sentence: Meet The New Chip Maker Aiming To Outrun TSMC And ASML - Predicted Sentiment from RNN: positive\n",
            "Sentence: Meta, Microsoft Test Investors Patience With AI Spending Spree - Predicted Sentiment from RNN: positive\n",
            "Sentence: Apple & Amazon earnings, Fed, mortgage rates: What to Watch - Predicted Sentiment from RNN: neutral\n",
            "Sentence: Microsoft reports strong earnings even as Azure outage brings down Xbox and investor pages - Predicted Sentiment from RNN: positive\n",
            "Sentence: Stock market today: Dow, S&P 500, Nasdaq futures hit pause after Trump-Xi talks with Big Tech earnings ahead - Predicted Sentiment from RNN: positive\n",
            "Sentence: Stock market today: Dow, S&P 500, Nasdaq futures hit pause after Trump-Xi meeting, Big Tech earnings - Predicted Sentiment from RNN: positive\n",
            "Sentence: Stock market today: Dow, S&P 500, Nasdaq futures fall following Trump-Xi meeting, mixed Big Tech earning - Predicted Sentiment from RNN: positive\n",
            "Sentence: Stock market today: Dow, S&P 500, Nasdaq futures fall after mixed Big Tech earnings, Trump-Xi meeting - Predicted Sentiment from RNN: positive\n",
            "Sentence: Stock market today: Dow, S&P 500, Nasdaq futures drop after mixed Big Tech earnings with Trump-Xi meet ahead - Predicted Sentiment from RNN: positive\n",
            "Sentence: Stock market today: Dow, S&P 500, Nasdaq futures climb following Trump-Xi meeting, mixed Big Tech earning - Predicted Sentiment from RNN: positive\n",
            "Sentence: Stock market today: Dow, S&P 500, Nasdaq futures climb after mixed Big Tech earnings with Trump-Xi meet underway - Predicted Sentiment from RNN: positive\n",
            "Sentence: Earnings live: Meta stock tumbles, Microsoft slides, and Alphabet rises as Big Tech earnings pour in - Predicted Sentiment from RNN: positive\n",
            "Sentence: Meta's profit hit by about $16 billion one-time tax charge, shares fall - Predicted Sentiment from RNN: positive\n",
            "Sentence: Meta stock sinks after tax hit weighs on earnings, company touts 'notably larger' AI investments in year ahead - Predicted Sentiment from RNN: neutral\n",
            "Sentence: Meta Q3 earnings miss on EPS, stock plummets more than 6% - Predicted Sentiment from RNN: negative\n",
            "Sentence: Microsoft's cloud surge lifts revenue above expectations - Predicted Sentiment from RNN: positive\n",
            "Sentence: Stock market today: Nasdaq clinches record, Dow, S&P 500 dip as Fed cuts rates, Powell downplays December cut - Predicted Sentiment from RNN: positive\n",
            "Sentence: Fiserv's exec shakeup, Anthropic to use Amazon data center chips - Predicted Sentiment from RNN: neutral\n",
            "Sentence: Nvidia's Huang joins tech titans funding Trump's ballroom - Predicted Sentiment from RNN: positive\n",
            "Sentence: Amazon Earnings Preview: On the Verge of a Breakout? - Predicted Sentiment from RNN: neutral\n",
            "Sentence: Pre-Earnings Check-In with Amazon.com Stock - Predicted Sentiment from RNN: negative\n",
            "Sentence: Microsoft's Azure reports cloud outage a week after Amazon's AWS disruption - Predicted Sentiment from RNN: negative\n",
            "Sentence: Stock market today: Dow, S&P 500, Nasdaq waver as Fed cuts rates, Powell says December cut is 'far from' certain - Predicted Sentiment from RNN: positive\n",
            "Sentence: Stock market today: Dow, S&P 500, Nasdaq mixed as Fed cuts rates, Powell says December cut is 'far from' certain - Predicted Sentiment from RNN: positive\n",
            "Sentence: Amazon Opens $11 Billion Rainier Data Center to Advance Anthropic Partnership - Predicted Sentiment from RNN: neutral\n",
            "Sentence: Fed Cuts Key Rate; Powell Says December Move No Sure Thing; S&P 500 Falls (Live Coverage) - Predicted Sentiment from RNN: positive\n",
            "Sentence: Alphabet Inc (GOOG) Q3 2025 Earnings Call Highlights: Record Revenue and AI-Driven Growth - Predicted Sentiment from RNN: positive\n",
            "Sentence: Stock market today: Nasdaq leads S&P 500, Dow lower as Meta sinks after earnings with Apple, Amazon on deck - Predicted Sentiment from RNN: neutral\n",
            "Sentence: Stock market today: Dow, S&P 500, Nasdaq slide as Meta sinks after earnings with Apple, Amazon ahead - Predicted Sentiment from RNN: neutral\n",
            "Sentence: Surging AI Data Center Capex Seen Lifting These Stocks - Predicted Sentiment from RNN: negative\n",
            "Sentence: The Dow Lost Steam. It's Hovering Near Breakeven. - Predicted Sentiment from RNN: positive\n",
            "Sentence: Could Apple's AI weakness actually turn into a winning strategy? - Predicted Sentiment from RNN: positive\n",
            "Sentence: Prediction: 2 AI Stocks Will Be Worth More Than Apple Stock by Year-End in 2026 - Predicted Sentiment from RNN: neutral\n",
            "Sentence: Alphabet is an AI winner, says MoffettNathanson's Michael Nathanson - Predicted Sentiment from RNN: positive\n",
            "Sentence: Apple, Amazon Earnings Follow Metas Tough Day: What to Watch - Predicted Sentiment from RNN: neutral\n",
            "Sentence: Here's the real reason why Alphabet stock is soaring after earnings - Predicted Sentiment from RNN: negative\n",
            "Sentence: These Stocks Are Moving the Most Today: Meta, Microsoft, Alphabet, FMC, C.H. Robinson Worldwide, Roblox, Metsera, Chipotle, and More - Predicted Sentiment from RNN: neutral\n",
            "Sentence: A deep dive into quantum computing - Predicted Sentiment from RNN: positive\n",
            "Sentence: The Dow Is Losing Steam. Why It's Still Leading the S&P 500 and Nasdaq. - Predicted Sentiment from RNN: positive\n",
            "Sentence: Why Alphabet Stock Cycled Higher Today - Predicted Sentiment from RNN: positive\n",
            "Sentence: Amazon's custom Trainium chips face a critical moment - Predicted Sentiment from RNN: positive\n",
            "Sentence: Google knocked earnings 'out of the park', Microsoft was 'decent' - Predicted Sentiment from RNN: positive\n",
            "Sentence: Worried About an AI Bubble? Look to Surging International Stocks - Predicted Sentiment from RNN: positive\n",
            "Sentence: Stock market today: Dow rises, Nasdaq slides as Meta sinks after earnings with Apple, Amazon ahead - Predicted Sentiment from RNN: neutral\n",
            "Sentence: Amazon Is Set To Report Earnings Today. Here's What Investors Should Know - Predicted Sentiment from RNN: neutral\n",
            "Sentence: Looking to see if Meta AI can reach consumer scale, says Goldman Sachs' Sheridan - Predicted Sentiment from RNN: positive\n",
            "Sentence: Alphabet reports first $100B quarter as it turns its massive AI infrastructure bets into revenue - Predicted Sentiment from RNN: positive\n",
            "Sentence: GOOGL: Alphabet Smashes $100 Billion Revenue Barrier for First Time Ever - Predicted Sentiment from RNN: positive\n",
            "Sentence: Top Stock Movers Now: Chipotle, Meta, Alphabet, and More - Predicted Sentiment from RNN: neutral\n",
            "Sentence: Amazon Earnings on Deck -- Traders Bet Billions on Biggest Post-Earnings Jump - Predicted Sentiment from RNN: neutral\n",
            "Sentence: Amazons Coming AI Cash Burn: Bullish Signal or Time to Sell? - Predicted Sentiment from RNN: neutral\n",
            "Sentence: Alphabet Stock Hits Record High After Google Parent Reports Strong EarningsMonitor These Key Levels - Predicted Sentiment from RNN: negative\n",
            "Sentence: Amazon Earnings Due Soon. Can AWS Match Microsoft, Google Cloud Beats? - Predicted Sentiment from RNN: neutral\n",
            "Sentence: Google stock rises, Meta stock plunges: A tale of 2 AI stories - Predicted Sentiment from RNN: neutral\n",
            "Sentence: Amazon earnings: Why this strategist is 'a little nervous' - Predicted Sentiment from RNN: neutral\n",
            "Sentence: Wall Street Loves Carvana, Coinbase and META - Predicted Sentiment from RNN: positive\n",
            "Sentence: Alphabet stock jumps, fueled by rapid AI mode user adoption - Predicted Sentiment from RNN: negative\n",
            "Sentence: Reddit set to report Q3 earnings with user growth, AI deals in focus - Predicted Sentiment from RNN: neutral\n",
            "Sentence: Google, Microsoft, Meta earnings: Where does AI demand stand? - Predicted Sentiment from RNN: positive\n",
            "Sentence: Why Alphabet's stock looks like a better play than Meta's in the AI race - Predicted Sentiment from RNN: neutral\n",
            "Sentence: Amazon needs to deliver on 2 things in its Q3 earnings call - Predicted Sentiment from RNN: neutral\n",
            "Sentence: Alphabet Stock Jumps on Earnings Beat. How Google Turned from AI Loser to Winner. - Predicted Sentiment from RNN: negative\n",
            "Sentence: Meta's stock slides toward its worst day in years as Wall Street pans 'runaway' AI spending - Predicted Sentiment from RNN: neutral\n",
            "Sentence: AI boom drives trillion-dollar tech valuations and record bets on chipmakers - Predicted Sentiment from RNN: positive\n",
            "Sentence: Google partners with Ambanis Reliance to offer free AI Pro access to millions of Jio users in India - Predicted Sentiment from RNN: positive\n",
            "Sentence: Tesla Stock Is Down. Dont Blame Cybertruck Recalls. - Predicted Sentiment from RNN: negative\n",
            "Sentence: Magnificent Seven Stocks Fall After Latest Round of Earnings - Predicted Sentiment from RNN: negative\n",
            "Sentence: Alphabet Gains Investor Confidence as Strong Cash Flow Funds AI Push - Predicted Sentiment from RNN: positive\n",
            "Sentence: AI Spending Spree Rattles Wall Street - Predicted Sentiment from RNN: positive\n",
            "Sentence: Meta, Microsoft, Alphabet go all in on AI spending: What to know - Predicted Sentiment from RNN: positive\n",
            "Sentence: Oppenheimer downgrades Meta on AI spending concerns - Predicted Sentiment from RNN: positive\n",
            "Sentence: Here are Thursdays Top Wall Street Analyst Research Calls: Coinbase Global, Meta Platforms, Boeing, Cisco Systems, and More - Predicted Sentiment from RNN: positive\n",
            "Sentence: Google Stock Soars To Record High On Q3 Earnings Beat, Cloud Outlook - Predicted Sentiment from RNN: neutral\n",
            "Sentence: Meta, Microsoft Test Investors With AI-Fueled Spending Surge - Predicted Sentiment from RNN: positive\n",
            "Sentence: Big Tech tests investors patience with $80bn AI investment spree - Predicted Sentiment from RNN: positive\n",
            "Sentence: Stock market today: Dow, S&P 500, Nasdaq slide after Trump-Xi truce with Big Tech earnings ahead - Predicted Sentiment from RNN: positive\n",
            "Sentence: US-China trade truce, Alphabet earnings, Fed rate cut: 3 Things - Predicted Sentiment from RNN: positive\n",
            "Sentence: 5 Things to Know Before the Stock Market Opens - Predicted Sentiment from RNN: negative\n",
            "Sentence: Stocks to Watch Thursday: Eli Lilly, Metsera, Navan, Microsoft - Predicted Sentiment from RNN: neutral\n",
            "Sentence: Trump's 'amazing' meeting with Xi, Fed rate cuts and Open AI IPO - Predicted Sentiment from RNN: positive\n",
            "Sentence: Google vs. Meta, Boeing-Airbus, Chipotle: Trending Stocks - Predicted Sentiment from RNN: positive\n",
            "Sentence: Earnings live: Meta stock tumbles, Microsoft slides, and Alphabet jumps as Big Tech earnings pour in - Predicted Sentiment from RNN: positive\n",
            "Sentence: Stock Market Today: Dow Falls On Trump-Xi Talks; Meta Plunges On Earnings (Live Coverage) - Predicted Sentiment from RNN: positive\n",
            "Sentence: This Analyst Was Right About Alphabet (GOOG) CapEx - Predicted Sentiment from RNN: positive\n",
            "Sentence: Royal: It's been odd the Fed has been engaging in QT at the same time it's cutting rates - Predicted Sentiment from RNN: positive\n",
            "Sentence: No l: Uranium miners could benefit from the massive demand for power and AI - Predicted Sentiment from RNN: positive\n",
            "Sentence: Kunst: Meta has a lot of capex that doesn't necessarily translate to a return on investment - Predicted Sentiment from RNN: positive\n",
            "Sentence: Evercore ISI's Mark Mahaney breaks down Meta, Alphabet Q3 results - Predicted Sentiment from RNN: positive\n",
            "Sentence: Everyone's asking the wrong question about an AI bubble. Here are the stocks to buy - and when. - Predicted Sentiment from RNN: negative\n",
            "Sentence: Markets Wanted a Boost From Earnings, Fed and China Talks. How Powell Disappointed. - Predicted Sentiment from RNN: positive\n",
            "Sentence: Alphabet reports 33% increase in net income to $34.9bn in Q3 2025 - Predicted Sentiment from RNN: positive\n",
            "Sentence: 5 Tech Stocks You Can Buy and Hold for the Next Decade - Predicted Sentiment from RNN: negative\n",
            "Sentence: Alphabet posts first-ever quarter with $100 billion in revenue - Predicted Sentiment from RNN: positive\n",
            "Sentence: Tech leaders ramp up AI spending, but Alphabets cash flow wins investor favor - Predicted Sentiment from RNN: positive\n",
            "Sentence: Prediction: 2 AI Stocks Will Be Worth More Than Nvidia and Palantir Technologies Combined by 2030 (Hint: Not Apple) - Predicted Sentiment from RNN: neutral\n",
            "Sentence: Big Tech: AI, cloud demand lifts Microsoft, Alphabet, Meta - Predicted Sentiment from RNN: positive\n",
            "Sentence: Alphabet's AI push pays off as search beats and Gemini tops 650 million users - Predicted Sentiment from RNN: positive\n",
            "Sentence: Meet The New Chip Maker Aiming To Outrun TSMC And ASML - Predicted Sentiment from RNN: positive\n",
            "Sentence: Analyst Report: Alphabet Inc. - Predicted Sentiment from RNN: positive\n",
            "Sentence: NVIDIA (NVDA) Shares Surge 3% Today: Why One Picture Drove $400 Billion In Stock Gains - Predicted Sentiment from RNN: positive\n",
            "Sentence: Microsoft earnings offer a bullish read for power stocks - Predicted Sentiment from RNN: negative\n",
            "Sentence: Pichai outlines Alphabet's next act: scaling AI from cloud to cars - Predicted Sentiment from RNN: positive\n",
            "Sentence: Microsoft's massive AI spending draws investor concerns as cloud business booms - Predicted Sentiment from RNN: positive\n",
            "Sentence: YouTube announces voluntary exit program for US staff - Predicted Sentiment from RNN: positive\n",
            "Sentence: Alphabet Stock Jumps on Big Earnings Beat - Predicted Sentiment from RNN: positive\n",
            "Sentence: Google parent Alphabet posts first $100 bn quarter as AI fuels growth - Predicted Sentiment from RNN: positive\n",
            "Sentence: Microsoft reports strong earnings even as Azure outage brings down Xbox and investor pages - Predicted Sentiment from RNN: positive\n",
            "Sentence: Google Revenue Soars to Record as AI Boom Lifts Cloud Business - Predicted Sentiment from RNN: positive\n",
            "Sentence: Google sees 'substantial demand' for its custom chips - Predicted Sentiment from RNN: positive\n",
            "Sentence: Stock market today: Dow, S&P 500, Nasdaq futures drop after mixed Big Tech earnings with Trump-Xi meet ahead - Predicted Sentiment from RNN: positive\n",
            "Sentence: Here's why Alphabet is doubling down on AI productivity - Predicted Sentiment from RNN: positive\n",
            "Sentence: Alphabet's free cash flow sees a boost even as AI spending rises - Predicted Sentiment from RNN: positive\n",
            "Sentence: Mixed share reaction to megacap earnings burst, Meta droops - Predicted Sentiment from RNN: positive\n",
            "Sentence: Here's how AI is supercharging YouTube monetization - Predicted Sentiment from RNN: positive\n",
            "Sentence: Google catching up with Meta pulled on shares following earnings, says D.A. Davidson's Gil Luria - Predicted Sentiment from RNN: positive\n",
            "Sentence: Alphabet lifts capex guidance to $93 billion as AI demand strains cloud infrastructure - Predicted Sentiment from RNN: positive\n",
            "Sentence: Podcast: Powell Casts Doubt on December Rate Cut - Predicted Sentiment from RNN: positive\n",
            "Sentence: Google's Search business is proving resilient in the AI era - Predicted Sentiment from RNN: positive\n",
            "Sentence: Google parent Alphabet beats forecasts with first $100bn quarter - Predicted Sentiment from RNN: positive\n",
            "Sentence: Alphabet's earnings call is about to begin. Here's how to tune in. - Predicted Sentiment from RNN: negative\n",
            "Sentence: Alphabet Inc. (GOOG) Beats Q3 Earnings and Revenue Estimates - Predicted Sentiment from RNN: positive\n",
            "Sentence: Google Search and YouTube fuel ad growth - Predicted Sentiment from RNN: positive\n",
            "Sentence: Google Earnings Beat As Search, Cloud, YouTube Revenue Top Views - Predicted Sentiment from RNN: positive\n",
            "Sentence: Alphabet stock pops as it's seen as a 'clear AI winner' - Predicted Sentiment from RNN: negative\n",
            "Sentence: Alphabet quarterly revenue tops $100 billion for first time - Predicted Sentiment from RNN: positive\n",
            "Sentence: Kayak CEO on $457 Million Writedown: Google Squeezed the Travel Industry Again - Predicted Sentiment from RNN: positive\n",
            "Sentence: Comcast keeps M&A bar very high but hints more deals could come after Versant spin - Predicted Sentiment from RNN: positive\n",
            "Sentence: Is Netflix (NFLX) One of the Best NASDAQ Growth Stocks to Buy for the Next 5 Years? - Predicted Sentiment from RNN: negative\n",
            "Sentence: Snowflake Stock Is on Fire-It's Still Not Too Late to Buy - Predicted Sentiment from RNN: neutral\n",
            "Sentence: Prediction: This Will Be the Most Prominent Stock Split of 2026 - Predicted Sentiment from RNN: neutral\n",
            "Sentence: Netflix Leans Into Success of 'KPop Demon Hunters' With New Hasbro and Mattel Partnerships. Is It Enough to Excite Investors? - Predicted Sentiment from RNN: positive\n",
            "Sentence: This Mega-Cap Stock Has the Lowest RSI-and the Most Upside - Predicted Sentiment from RNN: neutral\n",
            "Sentence: Can Upcoming Global Content Drive NFLX's Engagement in the Near Term? - Predicted Sentiment from RNN: positive\n",
            "Sentence: Here's What the Wall Street Thinks About Netflix (NFLX), After its Q3 Earnings - Predicted Sentiment from RNN: positive\n",
            "Sentence: 2 Things Investors Need to Know About Netflix Stock's Recent Dive - Predicted Sentiment from RNN: negative\n",
            "Sentence: My 2 Favorite Stocks to Buy Right Now - Predicted Sentiment from RNN: negative\n",
            "Sentence: 3 Reasons We're Fans of Netflix (NFLX) - Predicted Sentiment from RNN: positive\n",
            "Sentence: Analyst Report: Netflix, Inc. - Predicted Sentiment from RNN: positive\n",
            "Sentence: Final Trades: Netflix, Vistra, Paypal and the QQQ - Predicted Sentiment from RNN: positive\n",
            "Sentence: As Netflix Stock Loses Steam, Should You Buy the NFLX Dip? - Predicted Sentiment from RNN: negative\n",
            "Sentence: How Will Services, Mac and iPad Fare in Apple's Q4 Earnings? - Predicted Sentiment from RNN: neutral\n",
            "Sentence: The 5 Most Interesting Analyst Questions From Netflix's Q3 Earnings Call - Predicted Sentiment from RNN: positive\n",
            "Sentence: Poor Earnings In Netflix Stock Set Up Option Trade For Weakness - Predicted Sentiment from RNN: neutral\n",
            "Sentence: Netflix Plunges 12% Post Q3 Earnings: Buy, Sell or Hold the Stock? - Predicted Sentiment from RNN: negative\n",
            "Sentence: Unlocking Netflix (NFLX) International Revenues: Trends, Surprises, and Prospects - Predicted Sentiment from RNN: positive\n",
            "Sentence: Here is What to Know Beyond Why Netflix, Inc. (NFLX) is a Trending Stock - Predicted Sentiment from RNN: neutral\n",
            "Sentence: Netflix's Move From Screen to Shelf Could Be a Genius Diversification Play - Predicted Sentiment from RNN: positive\n",
            "Sentence: KPop Netflix Hunters: Can It Bounce Back This Week? - Predicted Sentiment from RNN: positive\n",
            "Sentence: The Zacks Analyst Blog Highlights Mastercard, Netflix, Citigroup, Oil-Dri and Perma-Pipe - Predicted Sentiment from RNN: positive\n",
            "Sentence: The Smartest Growth Stock to Buy With $2,000 Right Now - Predicted Sentiment from RNN: negative\n",
            "Sentence: Should Investors Buy the Netflix Dip? - Predicted Sentiment from RNN: positive\n",
            "Sentence: 1 Growth Stock Down 17% to Buy Right Now - Predicted Sentiment from RNN: negative\n",
            "Sentence: Netflix Investors Didn't Get a Stock Split in the Latest Quarterly Report. They Got Something Better. - Predicted Sentiment from RNN: neutral\n",
            "Sentence: Why it has been an amazing week for stocks - Predicted Sentiment from RNN: positive\n",
            "Sentence: Earnings season off to an impressive start - Predicted Sentiment from RNN: positive\n",
            "Sentence: My 3 Favorite Stocks to Buy Right Now - Predicted Sentiment from RNN: negative\n",
            "Sentence: Netflix Stock Took a Nosedive Last Week. A Buy on the Dip, or a Sign to Shut Off the Screen? - Predicted Sentiment from RNN: neutral\n",
            "Sentence: Is Netflix Stock a Buy, Sell, or Hold Heading Into 2026? - Predicted Sentiment from RNN: neutral\n",
            "Sentence: MarketBeat Week in Review - 10/20 - 10/24 - Predicted Sentiment from RNN: positive\n",
            "Sentence: Got $5,000? 2 Tech Stocks to Buy and Hold for the Long Term - Predicted Sentiment from RNN: neutral\n",
            "Sentence: Jim Cramer on Netflix: \"I Think This Sell-Off is an Overreaction\" - Predicted Sentiment from RNN: positive\n",
            "Sentence: The Score: Netflix, Amazon.com, Six Flags and More Stocks That Defined the Week - Predicted Sentiment from RNN: neutral\n",
            "Sentence: Could Netflix Stock Join the Trillion-Dollar Club by 2030? - Predicted Sentiment from RNN: negative\n",
            "Sentence: Jim Cramer Takes Contrarian View For Netflix (NFLX) After Earnings - Predicted Sentiment from RNN: positive\n",
            "Sentence: Top Stock Reports for Mastercard, Netflix & Citigroup - Predicted Sentiment from RNN: negative\n",
            "Sentence: Cathie Wood Just Bought the Dip in Netflix Stock. Should You? - Predicted Sentiment from RNN: negative\n",
            "Sentence: The Stock Market Climbed to New Highs. Here's What Can Keep It There-or Knock It From Its Perch. - Predicted Sentiment from RNN: neutral\n",
            "Sentence: Better Growth Stock to Buy Now: Netflix vs. The Trade Desk - Predicted Sentiment from RNN: negative\n",
            "Sentence: Wall Street Resumes Winning Ways on CPI, Earnings Optimism - Predicted Sentiment from RNN: positive\n",
            "Sentence: Soft Inflation Data Drives Major Indexes to Record Highs - Predicted Sentiment from RNN: positive\n",
            "Sentence: FOXA vs. NFLX: Which Stock Should Value Investors Buy Now? - Predicted Sentiment from RNN: negative\n",
            "Sentence: Should You Buy Netflix Stock Right Now? - Predicted Sentiment from RNN: negative\n",
            "Sentence: Stock Market Hits New Highs, Shrugging Off Gold, AI Fears; Tesla, Netflix In Focus: Weekly Review - Predicted Sentiment from RNN: neutral\n",
            "Sentence: Netflix Produces Strong FCF Q3 Margins - NFLX Looks 23% Too Cheap - Predicted Sentiment from RNN: positive\n",
            "Sentence: Is the market due for a correction despite strong earnings? - Predicted Sentiment from RNN: positive\n",
            "Sentence: Is Now the Time to Buy Netflix Stock? - Predicted Sentiment from RNN: negative\n",
            "Sentence: Veteran analyst takes surprising move on Netflix stock after earnings - Predicted Sentiment from RNN: positive\n",
            "Sentence: Warner Bros. Bidding War Potential: How High Could WBD Shares Go? - Predicted Sentiment from RNN: positive\n",
            "Sentence: Analysts Eye 30% Upside in Netflix After Q3 Earnings Crash - Predicted Sentiment from RNN: positive\n",
            "Sentence: Earnings live: Intel stock surges, Ford rises after-hours, Deckers drops - Predicted Sentiment from RNN: neutral\n",
            "Sentence: Hasbro CEO talks Netflix partnership for KPop Demon Hunters toys - Predicted Sentiment from RNN: positive\n",
            "Sentence: Final Trades: Salesforce, IBM, Las Vegas Sands, Netflix - Predicted Sentiment from RNN: positive\n",
            "Sentence: Trade Tracker: Josh Brown buys more Netflix - Predicted Sentiment from RNN: positive\n",
            "Sentence: Hasbro's tariff battle could make playtime pricier - Predicted Sentiment from RNN: positive\n",
            "Sentence: Tech Triggers Market Turnaround as Nasdaq Pops Triple Digits - Predicted Sentiment from RNN: positive\n",
            "Sentence: Here's How Netflix (NFLX) Rewarded Patient Investors - Predicted Sentiment from RNN: positive\n",
            "Sentence: Hasbro tops Q3 estimates, CEO talks cheery outlook on toy sales - Predicted Sentiment from RNN: positive\n",
            "Sentence: Stock Market News for Oct 23, 2025 - Predicted Sentiment from RNN: positive\n",
            "Sentence: Netflix Lags Q3 Earnings Yet Ups Free Cash Flow View: ETFs in Spotlight - Predicted Sentiment from RNN: positive\n",
            "Sentence: Cathie Wood Goes Shopping: 3 Stocks She Just Bought - Predicted Sentiment from RNN: negative\n",
            "Sentence: Josh Brown Says Netflix (NFLX) 'Sat Out AI Mania' But 'It's About to Change' - Predicted Sentiment from RNN: positive\n",
            "Sentence: Meet the Monster Stock that Continues to Crush the Market - Predicted Sentiment from RNN: negative\n",
            "Sentence: Netflix Shares Drop 10% as Growth Outlook Disappoints - Predicted Sentiment from RNN: positive\n",
            "Sentence: Earnings live: Tesla stock falls after earnings miss, American Airlines climbs, IBM and Hasbro sink - Predicted Sentiment from RNN: neutral\n",
            "Sentence: Netflix (NFLX) Ends 3-Day Run After $620-Million Tax Blow - Predicted Sentiment from RNN: positive\n",
            "Sentence: Netflix Stock Drops. Time to Sell? - Predicted Sentiment from RNN: negative\n",
            "Sentence: UBS Keeps Bullish Stance on Netflix (NFLX), Cites Strong Direct-to-Consumer Streaming Position and Content Lineup - Predicted Sentiment from RNN: positive\n",
            "Sentence: Netflixs stock price sent reeling after Q3 earnings - Predicted Sentiment from RNN: negative\n",
            "Sentence: Analyst Report: Netflix, Inc. - Predicted Sentiment from RNN: positive\n",
            "Sentence: Netflix cashes in as 'KPop Demon Hunters' aims to win holiday season - Predicted Sentiment from RNN: positive\n",
            "Sentence: Buy the Dip in GE Aerospace or Netflix Stock After Q3 Earnings? - Predicted Sentiment from RNN: negative\n",
            "Sentence: Mattel & Hasbro: What investors need to know about toy stocks - Predicted Sentiment from RNN: negative\n",
            "Sentence: Toy stocks: Hasbro, Mattel partner on Netflix's KPop Demon Hunters - Predicted Sentiment from RNN: negative\n",
            "Sentence: Earnings live: Tesla stock falls after earnings miss, IBM sinks - Predicted Sentiment from RNN: neutral\n",
            "Sentence: U.S.-China Trade Drama Continues as Stocks Gap Lower - Predicted Sentiment from RNN: positive\n",
            "Sentence: These Stocks Moved the Most Today: Netflix, Tesla, Texas Instruments, AT&T, Intuitive Surgical, Winnebago, GE Vernova, and More - Predicted Sentiment from RNN: neutral\n",
            "Sentence: Netflix stock falls after Q3 earnings miss estimates, operating profit takes a hit - Predicted Sentiment from RNN: positive\n",
            "Sentence: Nasdaq Drops on More Tech Fears - Predicted Sentiment from RNN: positive\n",
            "Sentence: Stock market today: Dow, S&P 500, Nasdaq fall as Netflix sinks, Tesla earnings loom - Predicted Sentiment from RNN: negative\n",
            "Sentence: Netflix Doesn't Rule Out Bidding For Warner Bros. - Predicted Sentiment from RNN: positive\n",
            "Sentence: Netflix Has to Knock It Out of the Park: Wedbush's Reese - Predicted Sentiment from RNN: positive\n",
            "Sentence: Netflix Q3 Earnings Preview: Will 'KPop Demon Hunters' Help Streamer Beat Estimates? - Predicted Sentiment from RNN: positive\n",
            "Sentence: Netflix Earnings Hit by Brazil Tax Blow - Predicted Sentiment from RNN: positive\n",
            "Sentence: Squawk Pod: An NHL deal with Kalshi CEO & AI with Airbnb CEO - 10/22/25  Audio Only - Predicted Sentiment from RNN: positive\n",
            "Sentence: Netflix sinks on earnings: Here's what you need to know - Predicted Sentiment from RNN: negative\n",
            "Sentence: These Stocks Are Moving the Most Today: Netflix, Tesla, Texas Instruments, AT&T, Intuitive Surgical, Winnebago, GE Vernova, and More - Predicted Sentiment from RNN: neutral\n",
            "Sentence: Pricing & Ad Momentum Lift Netflix's Q4 View: Is Upside Sustainable? - Predicted Sentiment from RNN: positive\n",
            "Sentence: Why Netflix Stock Was Slumping Today - Predicted Sentiment from RNN: positive\n",
            "Sentence: Netflix's Earnings Came With a Jump Scare. Why the Stock is the S&P 500's Biggest Loser. - Predicted Sentiment from RNN: neutral\n",
            "Sentence: Top Stock Movers Now: Netflix, Texas Instruments, Intuitive Surgical, and More - Predicted Sentiment from RNN: neutral\n",
            "Sentence: How Netflix's revenue could double revenue by year's end - Predicted Sentiment from RNN: positive\n",
            "Sentence: Is Netflix stock's post-earnings slump 'overdone'? - Predicted Sentiment from RNN: positive\n",
            "Sentence: Risk appetite is fading on Wall Street as tech stocks, small caps and crypto are all under pressure - Predicted Sentiment from RNN: negative\n",
            "Sentence: Stocks Lower as Netflix Earnings Drag the Nasdaq - Predicted Sentiment from RNN: negative\n",
            "Sentence: Why Netflix (NFLX) Stock Is Falling Today - Predicted Sentiment from RNN: negative\n",
            "Sentence: NFLX Q3 Earnings Miss on Brazilian Tax Dispute, Posts Record Ad Sales - Predicted Sentiment from RNN: positive\n",
            "Sentence: Stock market today: Nasdaq leads S&P 500, Dow lower as Meta sinks after earnings with Apple, Amazon on deck - Predicted Sentiment from RNN: neutral\n",
            "Sentence: Apple's key to growth lies in AI devices - Predicted Sentiment from RNN: positive\n",
            "Sentence: Globalstar draws SpaceX interest in sale process, Bloomberg News reports - Predicted Sentiment from RNN: positive\n",
            "Sentence: Stock Market Today: Nasdaq Slammed As Meta Dives; Apple, Amazon To Report Next (Live Coverage) - Predicted Sentiment from RNN: neutral\n",
            "Sentence: Apple to report earnings as new iPhone lineup reignites worldwide demand - Predicted Sentiment from RNN: neutral\n",
            "Sentence: Globalstar shares climb 25% after report of potential SpaceX interest - Predicted Sentiment from RNN: positive\n",
            "Sentence: Apple Closes In On An All-Time High - Predicted Sentiment from RNN: positive\n",
            "Sentence: Stock market today: Dow, S&P 500, Nasdaq slide as Meta sinks after earnings with Apple, Amazon ahead - Predicted Sentiment from RNN: neutral\n",
            "Sentence: Could Apple's AI weakness actually turn into a winning strategy? - Predicted Sentiment from RNN: positive\n",
            "Sentence: Apple needs a pristine quarter to satisfy investors, says MoffettNathanson's Craig Moffett - Predicted Sentiment from RNN: positive\n",
            "Sentence: Apple, Amazon Earnings Follow Metas Tough Day: What to Watch - Predicted Sentiment from RNN: neutral\n",
            "Sentence: MVST vs. Arm Holdings: Which Tech Growth Stock is the Better Placed? - Predicted Sentiment from RNN: positive\n",
            "Sentence: 1 Reason Apple Stock Just Hit All-Time Highs - Predicted Sentiment from RNN: neutral\n",
            "Sentence: These Stocks Are Moving the Most Today: Meta, Microsoft, Alphabet, FMC, C.H. Robinson Worldwide, Roblox, Metsera, Chipotle, and More - Predicted Sentiment from RNN: neutral\n",
            "Sentence: Apple has zigged where rivals have zagged on AI spending - Predicted Sentiment from RNN: positive\n",
            "Sentence: Apple Is Set to Report Earnings Today. Here's What You Need to Know - Predicted Sentiment from RNN: neutral\n",
            "Sentence: Apple CEOs iPhone 17 pitch has clear message for users - Predicted Sentiment from RNN: positive\n",
            "Sentence: Stock market today: Dow rises, Nasdaq slides as Meta sinks after earnings with Apple, Amazon ahead - Predicted Sentiment from RNN: neutral\n",
            "Sentence: Apple's earnings report is shaping up to be a 'battleground' - Predicted Sentiment from RNN: neutral\n",
            "Sentence: Apple Looks To Keep A String of Earnings Beats Going - Predicted Sentiment from RNN: neutral\n",
            "Sentence: My Apple 4Q25 Estimates, Above Avalon Expectation Meter (4Q25 Edition) - Predicted Sentiment from RNN: negative\n",
            "Sentence: Apple Shares Are Rising Ahead of Earnings - Predicted Sentiment from RNN: negative\n",
            "Sentence: Thoughts Heading Into Apple's 4Q25 Earnings, iPhone's Supply/Demand Imbalance, Apple Hits $4 Trillion Market Cap - Predicted Sentiment from RNN: neutral\n",
            "Sentence: Amazons Coming AI Cash Burn: Bullish Signal or Time to Sell? - Predicted Sentiment from RNN: neutral\n",
            "Sentence: SCHD Isnt Your Only Option  2 Monthly ETFs With Better Long-Term Gains - Predicted Sentiment from RNN: positive\n",
            "Sentence: Why this Apple bear isn't sold on the iPhone's recent strength - Predicted Sentiment from RNN: negative\n",
            "Sentence: Need better understanding of Apple's AI strategy, says Maxim Group's Forte - Predicted Sentiment from RNN: positive\n",
            "Sentence: Some smartphones will soon see lock screen ads - Predicted Sentiment from RNN: positive\n",
            "Sentence: Amazon earnings: Why this strategist is 'a little nervous' - Predicted Sentiment from RNN: neutral\n",
            "Sentence: Earnings Data Deluge - Predicted Sentiment from RNN: positive\n",
            "Sentence: Apple Q4 Earnings Incoming -- Could an iPhone Surprise Shake Wall Street? - Predicted Sentiment from RNN: neutral\n",
            "Sentence: Early indications are for hot iPhone 17 demand. Can it last? - Predicted Sentiment from RNN: positive\n",
            "Sentence: Google, Microsoft, Meta earnings: Where does AI demand stand? - Predicted Sentiment from RNN: positive\n",
            "Sentence: Trump-Xi Trade Truce Leaves Questions; Rare Earth Stocks Fall - Predicted Sentiment from RNN: positive\n",
            "Sentence: Microsoft, Alphabet, Meta: Magnificent Seven Earnings Roundup - Predicted Sentiment from RNN: positive\n",
            "Sentence: Pre-markets Down on Questions: Fed, Jobs & Q3 Earnings - Predicted Sentiment from RNN: positive\n",
            "Sentence: BofA double-upgrades Teradyne on multiple growth drivers from AI chips to robotics - Predicted Sentiment from RNN: positive\n",
            "Sentence: Is OpenAI worth $1 trillion? Its possible IPO plans - Predicted Sentiment from RNN: positive\n",
            "Sentence: AI boom drives trillion-dollar tech valuations and record bets on chipmakers - Predicted Sentiment from RNN: positive\n",
            "Sentence: Magnificent Seven Stocks Fall After Latest Round of Earnings - Predicted Sentiment from RNN: negative\n",
            "Sentence: Why this analyst sees upside potential for Apple's earnings report - Predicted Sentiment from RNN: positive\n",
            "Sentence: Meta Platforms (NASDAQ: META) Stock Price Prediction for 2025: Where Will It Be in 1 Year (Oct 30) - Predicted Sentiment from RNN: negative\n",
            "Sentence: Meta, Microsoft, Alphabet go all in on AI spending: What to know - Predicted Sentiment from RNN: positive\n",
            "Sentence: Here are Thursdays Top Wall Street Analyst Research Calls: Coinbase Global, Meta Platforms, Boeing, Cisco Systems, and More - Predicted Sentiment from RNN: positive\n",
            "Sentence: Where Will Apple Stock Be in 1 Year? - Predicted Sentiment from RNN: negative\n",
            "Sentence: Stock market today: Dow, S&P 500, Nasdaq slide after Trump-Xi truce with Big Tech earnings ahead - Predicted Sentiment from RNN: positive\n",
            "Sentence: Analyst Explains Why He's Selling Apple (AAPL) Shares - 'Victim of Their Own Success' - Predicted Sentiment from RNN: positive\n",
            "Sentence: Analyst Says Apple (AAPL) iPhone 17 Will Not Result in Super Cycle, Thinks Stock Valuation Not Justified - Predicted Sentiment from RNN: negative\n",
            "Sentence: US-China trade truce, Alphabet earnings, Fed rate cut: 3 Things - Predicted Sentiment from RNN: positive\n",
            "Sentence: Apple Stock Rises in Premarket Trading - Predicted Sentiment from RNN: negative\n",
            "Sentence: Apple has added a new line to its resume ahead of earnings - Predicted Sentiment from RNN: neutral\n",
            "Sentence: Stock Market Today: Dow Falls On Trump-Xi Talks; Meta Plunges On Earnings (Live Coverage) - Predicted Sentiment from RNN: positive\n",
            "Sentence: 5 Things to Know Before the Stock Market Opens - Predicted Sentiment from RNN: negative\n",
            "Sentence: Alphabet vs. Meta, Boeing-Airbus, Chipotle: Trending Stocks - Predicted Sentiment from RNN: positive\n",
            "Sentence: Earnings live: Meta stock tumbles, Microsoft slides, and Alphabet jumps as Big Tech earnings pour in - Predicted Sentiment from RNN: positive\n",
            "Sentence: Investors still face a wall of worry despite positive U.S. trade meetings - Predicted Sentiment from RNN: positive\n",
            "Sentence: What time does Apple report earnings Thursday? Here's how to tune in. - Predicted Sentiment from RNN: neutral\n",
            "Sentence: Was Apple's strong iPhone performance a fluke last time? We'll soon find out. - Predicted Sentiment from RNN: positive\n",
            "Sentence: Unresolved: Why Big Tech, the Fed, and Trade Talks Provide Wall Street With Little Clarity - Predicted Sentiment from RNN: positive\n",
            "Sentence: Apple's earnings report is just hours away - and it all comes down to iPhone momentum - Predicted Sentiment from RNN: neutral\n",
            "Sentence: The key numbers to watch when Apple reports earnings - Predicted Sentiment from RNN: negative\n",
            "Sentence: Option traders primed for sizable move in Amazon shares, Apple not so much - Predicted Sentiment from RNN: neutral\n",
            "Sentence: Apple earnings on deck: iPhone 17 sales, China, & AI in focus - Predicted Sentiment from RNN: neutral\n",
            "Sentence: Amazon, Apple Earnings, ECB Rate Decision: Still to Come This Week - Predicted Sentiment from RNN: neutral\n",
            "Sentence: These Stocks Are Moving the Most Today: Microsoft, Alphabet, Meta, Nvidia, Chipotle, Carvana, FMC, and More - Predicted Sentiment from RNN: neutral\n",
            "Sentence: Stocks to Watch Thursday: Meta, Alphabet, Chipotle - Predicted Sentiment from RNN: negative\n",
            "Sentence: Apple and Amazon headline earnings slate - Predicted Sentiment from RNN: negative\n",
            "Sentence: Analysts Got A Lot People Out Of Apple (AAPL) Stock, Says Jim Cramer - Predicted Sentiment from RNN: negative\n",
            "Sentence: Zacks Investment Ideas feature highlights: Apple, Robinhood, Coinbase, DraftKings and Flutter - Predicted Sentiment from RNN: positive\n",
            "Sentence: My Top Value Stock to Buy for 2026 (and It's Not Even Close) - Predicted Sentiment from RNN: neutral\n",
            "Sentence: Stock Market Today: Dow, S&P 500 and Nasdaq hover near record highs after U.S.-China trade deal, while Meta stock dives but Alphabet pops on earnings; Apple and Amazon results on tap; Treasury yields up on December rate-cut pushback. - Predicted Sentiment from RNN: neutral\n",
            "Sentence: Apple Earnings: iPhone Sales, AI, Tim Cook, and What More to Watch - Predicted Sentiment from RNN: neutral\n",
            "Sentence: Apple's Earnings Are Almost Here. They're a Key Test Ahead of the Holidays. - Predicted Sentiment from RNN: neutral\n",
            "Sentence: Berkshire Likely Had a Stellar Quarter. Stock Buybacks Are a Wild Card. - Predicted Sentiment from RNN: negative\n",
            "Sentence: Meta, Microsoft Test Investors Patience With AI Spending Spree - Predicted Sentiment from RNN: positive\n",
            "Sentence: Dear Apple Stock Fans, Mark Your Calendars for October 30 - Predicted Sentiment from RNN: neutral\n",
            "Sentence: The CEOs of Apple, Airbnb, and PepsiCo agree on one thing: life as a business leader is incredibly lonely - Predicted Sentiment from RNN: positive\n",
            "Sentence: Apple & Amazon earnings, Fed, mortgage rates: What to Watch - Predicted Sentiment from RNN: neutral\n",
            "Sentence: Stock market today: Dow, S&P 500, Nasdaq futures hit pause after Trump-Xi meeting, Big Tech earnings - Predicted Sentiment from RNN: positive\n",
            "Sentence: Stock market today: Dow, S&P 500, Nasdaq futures fall following Trump-Xi meeting, mixed Big Tech earning - Predicted Sentiment from RNN: positive\n",
            "Sentence: Stock market today: Dow, S&P 500, Nasdaq futures fall after mixed Big Tech earnings, Trump-Xi meeting - Predicted Sentiment from RNN: positive\n",
            "Sentence: Stock market today: Dow, S&P 500, Nasdaq futures drop after mixed Big Tech earnings with Trump-Xi meet ahead - Predicted Sentiment from RNN: positive\n",
            "Sentence: Stock market today: Dow, S&P 500, Nasdaq futures climb following Trump-Xi meeting, mixed Big Tech earning - Predicted Sentiment from RNN: positive\n",
            "Sentence: Stock market today: Dow, S&P 500, Nasdaq futures climb after mixed Big Tech earnings with Trump-Xi meet underway - Predicted Sentiment from RNN: positive\n",
            "Sentence: Skyworks CEO sees chance to save power in AI-driven phones with Qorvo deal - Predicted Sentiment from RNN: positive\n",
            "Sentence: Why the AI bull market is raising diversification red flags - Predicted Sentiment from RNN: positive\n",
            "Sentence: Apple CEO Tim Cook on iPhone 17 launch: It's the most important day of the year for us - Predicted Sentiment from RNN: negative\n",
            "Sentence: Earnings live: Meta stock tumbles, Microsoft slides, and Alphabet rises as Big Tech earnings pour in - Predicted Sentiment from RNN: positive\n",
            "Sentence: Microsoft's quarterly sales and profit surge, beating Wall Street expectations - Predicted Sentiment from RNN: positive\n",
            "Sentence: Meta stock sinks after tax hit weighs on earnings, company touts 'notably larger' AI investments in year ahead - Predicted Sentiment from RNN: neutral\n",
            "Sentence: Meta Q3 earnings miss on EPS, stock plummets more than 6% - Predicted Sentiment from RNN: negative\n",
            "Sentence: Stock market today: Nasdaq clinches record, Dow, S&P 500 dip as Fed cuts rates, Powell downplays December cut - Predicted Sentiment from RNN: positive\n",
            "Sentence: Nvidia's Huang joins tech titans funding Trump's ballroom - Predicted Sentiment from RNN: positive\n",
            "Sentence: Nvidia Stock Is Still a Buy. Why $5 Trillion Isn't the Top. - Predicted Sentiment from RNN: neutral\n",
            "Sentence: Stock market today: Dow, S&P 500, Nasdaq waver as Fed cuts rates, Powell says December cut is 'far from' certain - Predicted Sentiment from RNN: positive\n",
            "Sentence: Stock market today: Dow, S&P 500, Nasdaq mixed as Fed cuts rates, Powell says December cut is 'far from' certain - Predicted Sentiment from RNN: positive\n",
            "Sentence: Stock market today: Dow, S&P 500, Nasdaq waver as Fed cuts rates for 2nd straight meeting, Nvidia surges - Predicted Sentiment from RNN: positive\n",
            "Sentence: Apple Q4 Preview: Can iPhone 17 and AI Keep the $4 Trillion Story Alive? - Predicted Sentiment from RNN: positive\n",
            "Sentence: The Rise of Integrated Financial Platforms - Predicted Sentiment from RNN: positive\n",
            "Sentence: Stock market today: Dow, S&P 500, Nasdaq rise as Fed cuts rates for 2nd straight meeting, Nvidia surges - Predicted Sentiment from RNN: positive\n"
          ]
        }
      ]
    },
    {
      "cell_type": "code",
      "source": [
        "sentiment_counts = pd.Series(predicted_sentiments).value_counts()\n",
        "\n",
        "plt.pie(sentiment_counts, labels=sentiment_counts.index, autopct='%1.1f%%')\n",
        "plt.title('Distribution of Predicted Sentiments')\n",
        "plt.show()\n"
      ],
      "metadata": {
        "colab": {
          "base_uri": "https://localhost:8080/",
          "height": 428
        },
        "id": "1O89uY7cgpfV",
        "outputId": "72db5a54-70cc-47cc-fe4c-539f0b2d3eb2"
      },
      "execution_count": 43,
      "outputs": [
        {
          "output_type": "display_data",
          "data": {
            "text/plain": [
              "<Figure size 640x480 with 1 Axes>"
            ],
            "image/png": "[encoded data removed]"
          },
          "metadata": {}
        }
      ]
    },
    {
      "cell_type": "markdown",
      "source": [
        "## Performace Divergence check between Both Models(RNN AND K-MEANS)"
      ],
      "metadata": {
        "id": "I125bnPtgvS8"
      }
    },
    {
      "cell_type": "code",
      "source": [
        "\n",
        "sentences = sent\n",
        "kmeans_predictions = sentiment_predictions\n",
        "rnn_predictions = predicted_sentiments\n",
        "\n",
        "# Create a DataFrame\n",
        "data = {\n",
        "    'Sentence': sentences,\n",
        "    'K-means Prediction': kmeans_predictions,\n",
        "    'RNN Prediction': rnn_predictions\n",
        "}\n",
        "\n",
        "df = pd.DataFrame(data)\n",
        "df['Predictions Match'] = df['K-means Prediction'] == df['RNN Prediction']\n",
        "# Display the DataFrame\n",
        "print(df)\n"
      ],
      "metadata": {
        "id": "_tzQe5r6g8pQ",
        "colab": {
          "base_uri": "https://localhost:8080/"
        },
        "outputId": "cfb6ccff-d550-4b1a-a9dd-68a25cd4f253"
      },
      "execution_count": 44,
      "outputs": [
        {
          "output_type": "stream",
          "name": "stdout",
          "text": [
            "                                              Sentence K-means Prediction  \\\n",
            "0    Amazon's guidance gives a glimpse of what's to...            neutral   \n",
            "1                  Amazon's AWS hits the golden number            neutral   \n",
            "2    Amazon's stock is zooming higher after a big r...           negative   \n",
            "3    Stock market today: Nasdaq leads S&P 500, Dow ...            neutral   \n",
            "4           Amazon.com Announces Third Quarter Results            neutral   \n",
            "..                                                 ...                ...   \n",
            "395  Stock market today: Dow, S&P 500, Nasdaq mixed...           positive   \n",
            "396  Stock market today: Dow, S&P 500, Nasdaq waver...           positive   \n",
            "397  Apple Q4 Preview: Can iPhone 17 and AI Keep th...           positive   \n",
            "398         The Rise of Integrated Financial Platforms           positive   \n",
            "399  Stock market today: Dow, S&P 500, Nasdaq rise ...           positive   \n",
            "\n",
            "    RNN Prediction  Predictions Match  \n",
            "0         positive              False  \n",
            "1         negative              False  \n",
            "2          neutral              False  \n",
            "3          neutral               True  \n",
            "4         negative              False  \n",
            "..             ...                ...  \n",
            "395       positive               True  \n",
            "396       positive               True  \n",
            "397       positive               True  \n",
            "398       positive               True  \n",
            "399       positive               True  \n",
            "\n",
            "[400 rows x 4 columns]\n"
          ]
        }
      ]
    },
    {
      "cell_type": "code",
      "source": [
        "mismatched_count = df['Predictions Match'].value_counts()\n",
        "print(mismatched_count)"
      ],
      "metadata": {
        "colab": {
          "base_uri": "https://localhost:8080/"
        },
        "id": "Ke2SHRLqME6A",
        "outputId": "b6e78508-1003-40e2-cacd-71afcd752029"
      },
      "execution_count": 45,
      "outputs": [
        {
          "output_type": "stream",
          "name": "stdout",
          "text": [
            "Predictions Match\n",
            "True     317\n",
            "False     83\n",
            "Name: count, dtype: int64\n"
          ]
        }
      ]
    },
    {
      "cell_type": "code",
      "source": [
        "\n",
        "mismatched_count.plot(kind='bar', color=['green', 'red'])\n",
        "\n",
        "# Customize the plot\n",
        "plt.title('Mismatched Predictions')\n",
        "plt.xlabel('Match')\n",
        "plt.ylabel('Count')\n",
        "\n",
        "# Show the plot\n",
        "plt.show()"
      ],
      "metadata": {
        "id": "p9dxSPNBja1Z",
        "colab": {
          "base_uri": "https://localhost:8080/",
          "height": 493
        },
        "outputId": "6b4c3da1-55a4-46f5-bd93-db376e2926e3"
      },
      "execution_count": 46,
      "outputs": [
        {
          "output_type": "display_data",
          "data": {
            "text/plain": [
              "<Figure size 640x480 with 1 Axes>"
            ],
            "image/png": "[encoded data removed]"
          },
          "metadata": {}
        }
      ]
    },
    {
      "cell_type": "code",
      "source": [],
      "metadata": {
        "id": "q2Juow4LNWX1"
      },
      "execution_count": 46,
      "outputs": []
    }
  ]
}